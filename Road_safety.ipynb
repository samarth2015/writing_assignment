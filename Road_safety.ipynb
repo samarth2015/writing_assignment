{
  "cells": [
    {
      "cell_type": "markdown",
      "metadata": {
        "colab_type": "text",
        "id": "view-in-github"
      },
      "source": [
        "<a href=\"https://colab.research.google.com/github/samarth2015/writing_assignment/blob/main/Road_safety.ipynb\" target=\"_parent\"><img src=\"https://colab.research.google.com/assets/colab-badge.svg\" alt=\"Open In Colab\"/></a>"
      ]
    },
    {
      "cell_type": "markdown",
      "id": "fbebcdb7",
      "metadata": {
        "id": "fbebcdb7"
      },
      "source": [
        "**Group members:**\n",
        "\n",
        "- Praanshu Patel (23110249)\n",
        "- Samarth Sonawane (23110317)\n",
        "- Akshat Shah (23110293)"
      ]
    },
    {
      "cell_type": "markdown",
      "id": "eb9af41c",
      "metadata": {
        "id": "eb9af41c"
      },
      "source": [
        "## Data Loading:"
      ]
    },
    {
      "cell_type": "code",
      "execution_count": 20,
      "id": "fbb56352",
      "metadata": {
        "id": "fbb56352"
      },
      "outputs": [],
      "source": [
        "# Loading the dataset (Making a pandas Dataframe with each row as a country)\n",
        "\n",
        "import pandas as pd\n",
        "import numpy as np\n",
        "import matplotlib.pyplot as plt\n",
        "import seaborn as sns\n",
        "\n",
        "# Important data in each file:\n",
        "# Type of data: (col 2)\n",
        "# - Global loctation (eg-Africa, East Mediterranean, etc.) (col 4: code and col 5: name)\n",
        "# - Country name (col 7: code and col 8: name)\n",
        "# Data value (col 30)\n",
        "# Extra data if present: (col 12: type of data, col 13: data)\n",
        "# Year of data (col 10)\n",
        "\n",
        "# Function to load and process the dataset\n",
        "def load_dataset(file_path):\n",
        "    # Read the dataset\n",
        "    df = pd.read_csv(file_path, encoding='UTF-8')\n",
        "\n",
        "    # Select relevant columns and rename them\n",
        "    df = df.iloc[:, [1, 3, 4, 6, 7, 9, 11, 12, 29]]\n",
        "    df.columns = ['Type', 'Global_Location_Code', 'Global_Location_Name',\n",
        "                  'Country_Code', 'Country_Name', 'Year', 'Data_Type', 'Data_Description', 'Value']\n",
        "\n",
        "\n",
        "    # Convert Data_Type and Data_Description to '-' if they are NaN\n",
        "    df['Data_Type'] = df['Data_Type'].fillna('-')\n",
        "    df['Data_Description'] = df['Data_Description'].fillna('-')\n",
        "\n",
        "    return df\n"
      ]
    },
    {
      "cell_type": "code",
      "execution_count": 21,
      "id": "aea52023",
      "metadata": {
        "id": "aea52023"
      },
      "outputs": [],
      "source": [
        "# Folder containing the dataset files\n",
        "folder_path = '/content/'\n",
        "\n",
        "# Loading all the datasets in the folder\n",
        "import os\n",
        "\n",
        "files = [f for f in os.listdir(folder_path) if f.endswith('.csv')]\n",
        "files.sort()\n",
        "dataframes = []\n",
        "for file in files:\n",
        "    file_path = os.path.join(folder_path, file)\n",
        "    df = load_dataset(file_path)\n",
        "    dataframes.append(df)\n",
        "    # display(df.head())  # Display the first few rows of each dataframe"
      ]
    },
    {
      "cell_type": "markdown",
      "id": "0a22329c",
      "metadata": {
        "id": "0a22329c"
      },
      "source": [
        "## Get summary of any country using"
      ]
    },
    {
      "cell_type": "code",
      "execution_count": 36,
      "id": "2845b550",
      "metadata": {
        "id": "2845b550"
      },
      "outputs": [],
      "source": [
        "# merge all the dfs\n",
        "df = pd.concat(dataframes, ignore_index=True)\n",
        "# save the data in csv file\n",
        "df.to_csv('merged_dataset.csv', index=False)"
      ]
    },
    {
      "cell_type": "code",
      "execution_count": 34,
      "id": "8OoxLdPDsaam",
      "metadata": {
        "colab": {
          "base_uri": "https://localhost:8080/"
        },
        "id": "8OoxLdPDsaam",
        "outputId": "7812bd01-0a92-4ae1-c9ef-e19219bfa10f"
      },
      "outputs": [
        {
          "name": "stdout",
          "output_type": "stream",
          "text": [
            "Collecting gradio\n",
            "  Downloading gradio-5.25.0-py3-none-any.whl.metadata (16 kB)\n",
            "Collecting aiofiles<25.0,>=22.0 (from gradio)\n",
            "  Downloading aiofiles-24.1.0-py3-none-any.whl.metadata (10 kB)\n",
            "Requirement already satisfied: anyio<5.0,>=3.0 in /usr/local/lib/python3.11/dist-packages (from gradio) (4.9.0)\n",
            "Collecting fastapi<1.0,>=0.115.2 (from gradio)\n",
            "  Downloading fastapi-0.115.12-py3-none-any.whl.metadata (27 kB)\n",
            "Collecting ffmpy (from gradio)\n",
            "  Downloading ffmpy-0.5.0-py3-none-any.whl.metadata (3.0 kB)\n",
            "Collecting gradio-client==1.8.0 (from gradio)\n",
            "  Downloading gradio_client-1.8.0-py3-none-any.whl.metadata (7.1 kB)\n",
            "Collecting groovy~=0.1 (from gradio)\n",
            "  Downloading groovy-0.1.2-py3-none-any.whl.metadata (6.1 kB)\n",
            "Requirement already satisfied: httpx>=0.24.1 in /usr/local/lib/python3.11/dist-packages (from gradio) (0.28.1)\n",
            "Requirement already satisfied: huggingface-hub>=0.28.1 in /usr/local/lib/python3.11/dist-packages (from gradio) (0.30.1)\n",
            "Requirement already satisfied: jinja2<4.0 in /usr/local/lib/python3.11/dist-packages (from gradio) (3.1.6)\n",
            "Requirement already satisfied: markupsafe<4.0,>=2.0 in /usr/local/lib/python3.11/dist-packages (from gradio) (3.0.2)\n",
            "Requirement already satisfied: numpy<3.0,>=1.0 in /usr/local/lib/python3.11/dist-packages (from gradio) (2.0.2)\n",
            "Requirement already satisfied: orjson~=3.0 in /usr/local/lib/python3.11/dist-packages (from gradio) (3.10.16)\n",
            "Requirement already satisfied: packaging in /usr/local/lib/python3.11/dist-packages (from gradio) (24.2)\n",
            "Requirement already satisfied: pandas<3.0,>=1.0 in /usr/local/lib/python3.11/dist-packages (from gradio) (2.2.2)\n",
            "Requirement already satisfied: pillow<12.0,>=8.0 in /usr/local/lib/python3.11/dist-packages (from gradio) (11.1.0)\n",
            "Requirement already satisfied: pydantic<2.12,>=2.0 in /usr/local/lib/python3.11/dist-packages (from gradio) (2.11.2)\n",
            "Collecting pydub (from gradio)\n",
            "  Downloading pydub-0.25.1-py2.py3-none-any.whl.metadata (1.4 kB)\n",
            "Collecting python-multipart>=0.0.18 (from gradio)\n",
            "  Downloading python_multipart-0.0.20-py3-none-any.whl.metadata (1.8 kB)\n",
            "Requirement already satisfied: pyyaml<7.0,>=5.0 in /usr/local/lib/python3.11/dist-packages (from gradio) (6.0.2)\n",
            "Collecting ruff>=0.9.3 (from gradio)\n",
            "  Downloading ruff-0.11.5-py3-none-manylinux_2_17_x86_64.manylinux2014_x86_64.whl.metadata (25 kB)\n",
            "Collecting safehttpx<0.2.0,>=0.1.6 (from gradio)\n",
            "  Downloading safehttpx-0.1.6-py3-none-any.whl.metadata (4.2 kB)\n",
            "Collecting semantic-version~=2.0 (from gradio)\n",
            "  Downloading semantic_version-2.10.0-py2.py3-none-any.whl.metadata (9.7 kB)\n",
            "Collecting starlette<1.0,>=0.40.0 (from gradio)\n",
            "  Downloading starlette-0.46.1-py3-none-any.whl.metadata (6.2 kB)\n",
            "Collecting tomlkit<0.14.0,>=0.12.0 (from gradio)\n",
            "  Downloading tomlkit-0.13.2-py3-none-any.whl.metadata (2.7 kB)\n",
            "Requirement already satisfied: typer<1.0,>=0.12 in /usr/local/lib/python3.11/dist-packages (from gradio) (0.15.2)\n",
            "Requirement already satisfied: typing-extensions~=4.0 in /usr/local/lib/python3.11/dist-packages (from gradio) (4.13.1)\n",
            "Collecting uvicorn>=0.14.0 (from gradio)\n",
            "  Downloading uvicorn-0.34.0-py3-none-any.whl.metadata (6.5 kB)\n",
            "Requirement already satisfied: fsspec in /usr/local/lib/python3.11/dist-packages (from gradio-client==1.8.0->gradio) (2025.3.2)\n",
            "Requirement already satisfied: websockets<16.0,>=10.0 in /usr/local/lib/python3.11/dist-packages (from gradio-client==1.8.0->gradio) (15.0.1)\n",
            "Requirement already satisfied: idna>=2.8 in /usr/local/lib/python3.11/dist-packages (from anyio<5.0,>=3.0->gradio) (3.10)\n",
            "Requirement already satisfied: sniffio>=1.1 in /usr/local/lib/python3.11/dist-packages (from anyio<5.0,>=3.0->gradio) (1.3.1)\n",
            "Requirement already satisfied: certifi in /usr/local/lib/python3.11/dist-packages (from httpx>=0.24.1->gradio) (2025.1.31)\n",
            "Requirement already satisfied: httpcore==1.* in /usr/local/lib/python3.11/dist-packages (from httpx>=0.24.1->gradio) (1.0.7)\n",
            "Requirement already satisfied: h11<0.15,>=0.13 in /usr/local/lib/python3.11/dist-packages (from httpcore==1.*->httpx>=0.24.1->gradio) (0.14.0)\n",
            "Requirement already satisfied: filelock in /usr/local/lib/python3.11/dist-packages (from huggingface-hub>=0.28.1->gradio) (3.18.0)\n",
            "Requirement already satisfied: requests in /usr/local/lib/python3.11/dist-packages (from huggingface-hub>=0.28.1->gradio) (2.32.3)\n",
            "Requirement already satisfied: tqdm>=4.42.1 in /usr/local/lib/python3.11/dist-packages (from huggingface-hub>=0.28.1->gradio) (4.67.1)\n",
            "Requirement already satisfied: python-dateutil>=2.8.2 in /usr/local/lib/python3.11/dist-packages (from pandas<3.0,>=1.0->gradio) (2.8.2)\n",
            "Requirement already satisfied: pytz>=2020.1 in /usr/local/lib/python3.11/dist-packages (from pandas<3.0,>=1.0->gradio) (2025.2)\n",
            "Requirement already satisfied: tzdata>=2022.7 in /usr/local/lib/python3.11/dist-packages (from pandas<3.0,>=1.0->gradio) (2025.2)\n",
            "Requirement already satisfied: annotated-types>=0.6.0 in /usr/local/lib/python3.11/dist-packages (from pydantic<2.12,>=2.0->gradio) (0.7.0)\n",
            "Requirement already satisfied: pydantic-core==2.33.1 in /usr/local/lib/python3.11/dist-packages (from pydantic<2.12,>=2.0->gradio) (2.33.1)\n",
            "Requirement already satisfied: typing-inspection>=0.4.0 in /usr/local/lib/python3.11/dist-packages (from pydantic<2.12,>=2.0->gradio) (0.4.0)\n",
            "Requirement already satisfied: click>=8.0.0 in /usr/local/lib/python3.11/dist-packages (from typer<1.0,>=0.12->gradio) (8.1.8)\n",
            "Requirement already satisfied: shellingham>=1.3.0 in /usr/local/lib/python3.11/dist-packages (from typer<1.0,>=0.12->gradio) (1.5.4)\n",
            "Requirement already satisfied: rich>=10.11.0 in /usr/local/lib/python3.11/dist-packages (from typer<1.0,>=0.12->gradio) (13.9.4)\n",
            "Requirement already satisfied: six>=1.5 in /usr/local/lib/python3.11/dist-packages (from python-dateutil>=2.8.2->pandas<3.0,>=1.0->gradio) (1.17.0)\n",
            "Requirement already satisfied: markdown-it-py>=2.2.0 in /usr/local/lib/python3.11/dist-packages (from rich>=10.11.0->typer<1.0,>=0.12->gradio) (3.0.0)\n",
            "Requirement already satisfied: pygments<3.0.0,>=2.13.0 in /usr/local/lib/python3.11/dist-packages (from rich>=10.11.0->typer<1.0,>=0.12->gradio) (2.18.0)\n",
            "Requirement already satisfied: charset-normalizer<4,>=2 in /usr/local/lib/python3.11/dist-packages (from requests->huggingface-hub>=0.28.1->gradio) (3.4.1)\n",
            "Requirement already satisfied: urllib3<3,>=1.21.1 in /usr/local/lib/python3.11/dist-packages (from requests->huggingface-hub>=0.28.1->gradio) (2.3.0)\n",
            "Requirement already satisfied: mdurl~=0.1 in /usr/local/lib/python3.11/dist-packages (from markdown-it-py>=2.2.0->rich>=10.11.0->typer<1.0,>=0.12->gradio) (0.1.2)\n",
            "Downloading gradio-5.25.0-py3-none-any.whl (46.9 MB)\n",
            "\u001b[2K   \u001b[90m━━━━━━━━━━━━━━━━━━━━━━━━━━━━━━━━━━━━━━━━\u001b[0m \u001b[32m46.9/46.9 MB\u001b[0m \u001b[31m15.3 MB/s\u001b[0m eta \u001b[36m0:00:00\u001b[0m\n",
            "\u001b[?25hDownloading gradio_client-1.8.0-py3-none-any.whl (322 kB)\n",
            "\u001b[2K   \u001b[90m━━━━━━━━━━━━━━━━━━━━━━━━━━━━━━━━━━━━━━━━\u001b[0m \u001b[32m322.2/322.2 kB\u001b[0m \u001b[31m21.5 MB/s\u001b[0m eta \u001b[36m0:00:00\u001b[0m\n",
            "\u001b[?25hDownloading aiofiles-24.1.0-py3-none-any.whl (15 kB)\n",
            "Downloading fastapi-0.115.12-py3-none-any.whl (95 kB)\n",
            "\u001b[2K   \u001b[90m━━━━━━━━━━━━━━━━━━━━━━━━━━━━━━━━━━━━━━━━\u001b[0m \u001b[32m95.2/95.2 kB\u001b[0m \u001b[31m7.1 MB/s\u001b[0m eta \u001b[36m0:00:00\u001b[0m\n",
            "\u001b[?25hDownloading groovy-0.1.2-py3-none-any.whl (14 kB)\n",
            "Downloading python_multipart-0.0.20-py3-none-any.whl (24 kB)\n",
            "Downloading ruff-0.11.5-py3-none-manylinux_2_17_x86_64.manylinux2014_x86_64.whl (11.4 MB)\n",
            "\u001b[2K   \u001b[90m━━━━━━━━━━━━━━━━━━━━━━━━━━━━━━━━━━━━━━━━\u001b[0m \u001b[32m11.4/11.4 MB\u001b[0m \u001b[31m81.0 MB/s\u001b[0m eta \u001b[36m0:00:00\u001b[0m\n",
            "\u001b[?25hDownloading safehttpx-0.1.6-py3-none-any.whl (8.7 kB)\n",
            "Downloading semantic_version-2.10.0-py2.py3-none-any.whl (15 kB)\n",
            "Downloading starlette-0.46.1-py3-none-any.whl (71 kB)\n",
            "\u001b[2K   \u001b[90m━━━━━━━━━━━━━━━━━━━━━━━━━━━━━━━━━━━━━━━━\u001b[0m \u001b[32m72.0/72.0 kB\u001b[0m \u001b[31m5.9 MB/s\u001b[0m eta \u001b[36m0:00:00\u001b[0m\n",
            "\u001b[?25hDownloading tomlkit-0.13.2-py3-none-any.whl (37 kB)\n",
            "Downloading uvicorn-0.34.0-py3-none-any.whl (62 kB)\n",
            "\u001b[2K   \u001b[90m━━━━━━━━━━━━━━━━━━━━━━━━━━━━━━━━━━━━━━━━\u001b[0m \u001b[32m62.3/62.3 kB\u001b[0m \u001b[31m5.1 MB/s\u001b[0m eta \u001b[36m0:00:00\u001b[0m\n",
            "\u001b[?25hDownloading ffmpy-0.5.0-py3-none-any.whl (6.0 kB)\n",
            "Downloading pydub-0.25.1-py2.py3-none-any.whl (32 kB)\n",
            "Installing collected packages: pydub, uvicorn, tomlkit, semantic-version, ruff, python-multipart, groovy, ffmpy, aiofiles, starlette, safehttpx, gradio-client, fastapi, gradio\n",
            "Successfully installed aiofiles-24.1.0 fastapi-0.115.12 ffmpy-0.5.0 gradio-5.25.0 gradio-client-1.8.0 groovy-0.1.2 pydub-0.25.1 python-multipart-0.0.20 ruff-0.11.5 safehttpx-0.1.6 semantic-version-2.10.0 starlette-0.46.1 tomlkit-0.13.2 uvicorn-0.34.0\n"
          ]
        }
      ],
      "source": [
        "!pip install gradio"
      ]
    },
    {
      "cell_type": "code",
      "execution_count": 37,
      "id": "k3ebtot5sWfW",
      "metadata": {
        "colab": {
          "base_uri": "https://localhost:8080/",
          "height": 649
        },
        "id": "k3ebtot5sWfW",
        "outputId": "df6b57e7-fb60-4273-fa74-ac186f0d9671"
      },
      "outputs": [
        {
          "name": "stdout",
          "output_type": "stream",
          "text": [
            "Running Gradio in a Colab notebook requires sharing enabled. Automatically setting `share=True` (you can turn this off by setting `share=False` in `launch()` explicitly).\n",
            "\n",
            "Colab notebook detected. To show errors in colab notebook, set debug=True in launch()\n",
            "* Running on public URL: https://0e126bce936010bafb.gradio.live\n",
            "\n",
            "This share link expires in 72 hours. For free permanent hosting and GPU upgrades, run `gradio deploy` from the terminal in the working directory to deploy to Hugging Face Spaces (https://huggingface.co/spaces)\n"
          ]
        },
        {
          "data": {
            "text/html": [
              "<div><iframe src=\"https://0e126bce936010bafb.gradio.live\" width=\"100%\" height=\"500\" allow=\"autoplay; camera; microphone; clipboard-read; clipboard-write;\" frameborder=\"0\" allowfullscreen></iframe></div>"
            ],
            "text/plain": [
              "<IPython.core.display.HTML object>"
            ]
          },
          "metadata": {},
          "output_type": "display_data"
        },
        {
          "data": {
            "text/plain": []
          },
          "execution_count": 37,
          "metadata": {},
          "output_type": "execute_result"
        }
      ],
      "source": [
        "import gradio as gr\n",
        "\n",
        "df = pd.read_csv(\"merged_dataset.csv\")\n",
        "\n",
        "def get_road_safety_profile(selected_country):\n",
        "    country_data = df[df['Country_Name'] == selected_country]\n",
        "\n",
        "    # === Section 1: Road Safety Snapshot ===\n",
        "    metrics_to_display = [\n",
        "        \"Existence of a national road safety strategy\",\n",
        "        \"Existence of a road safety lead agency\",\n",
        "        \"Availability of funding for national road safety strategy\",\n",
        "        \"Existence of national speed limits\",\n",
        "        \"Existence of a national seat-belt law\",\n",
        "        \"Existence of a national drink-driving law\",\n",
        "        \"Existence of a national child-restraint law\"\n",
        "    ]\n",
        "\n",
        "    snapshot = \"\"\n",
        "    for indicator in metrics_to_display:\n",
        "        val = country_data[country_data['Type'] == indicator]['Value'].values\n",
        "        val = val[0] if len(val) > 0 and val[0] != \"-\" else \"No data\"\n",
        "        snapshot += f\"**{indicator}**: {val}\\n\\n\"\n",
        "\n",
        "    # === Section 2: Seat-belt Wearing Rate ===\n",
        "    seatbelt_df = country_data[country_data['Type'] == 'Seat-belt wearing rate (%)']\n",
        "    seatbelt_str = \"\"\n",
        "    if not seatbelt_df.empty:\n",
        "        for i, row in seatbelt_df.iterrows():\n",
        "            seatbelt_str += f\"**{row['Data_Description']}**: {row['Value']}%\\n\\n\"\n",
        "    else:\n",
        "        seatbelt_str = \"No seat-belt wearing data available.\"\n",
        "\n",
        "    # === Section 3: Road User Death Distribution ===\n",
        "    death_dist = country_data[country_data['Type'] ==\n",
        "        \"Distribution of road traffic deaths by type of road user (%)\"]\n",
        "\n",
        "    fig = None\n",
        "    if not death_dist.empty:\n",
        "        pie_df = death_dist[['Data_Description', 'Value']].copy()\n",
        "        pie_df.columns = ['Road User Type', 'Percentage']\n",
        "        pie_df['Percentage'] = pie_df['Percentage'].str.replace('%', '').astype(float) / 100\n",
        "        fig = px.pie(pie_df, names='Road User Type', values='Percentage',\n",
        "                     title='Road Traffic Deaths by Road User Type')\n",
        "\n",
        "    # === Section 4: Speed & BAC Limits ===\n",
        "    speed_limits = country_data[country_data['Type'] == \"Maximum speed limits\"]\n",
        "    bac_limits = country_data[country_data['Type'] == \"Blood Alcohol Concentration (BAC) limit for drivers\"]\n",
        "\n",
        "    speed_str = \"\"\n",
        "    for _, row in speed_limits.iterrows():\n",
        "        val = row['Value'] if row['Value'] != '?' else \"No Data\"\n",
        "        speed_str += f\"**{row['Data_Description']}**: {val} km/h\\n\\n\"\n",
        "\n",
        "    bac_str = \"\"\n",
        "    for _, row in bac_limits.iterrows():\n",
        "        val = row['Value'] if row['Value'] != '-' else \"No Data\"\n",
        "        bac_str += f\"**{row['Data_Description']}**: {val}\\n\\n\"\n",
        "\n",
        "    # === Section 5: Estimated Deaths ===\n",
        "    death_est = country_data[country_data['Type'].str.contains(\"Estimated number of road traffic deaths\")]\n",
        "    death_rate = country_data[country_data['Type'].str.contains(\"death rate\")]\n",
        "\n",
        "    est_deaths = death_est['Value'].values[0] if not death_est.empty else \"No data\"\n",
        "    est_rate = death_rate['Value'].values[0] if not death_rate.empty else \"No data\"\n",
        "\n",
        "    deaths_summary = f\"**Estimated Deaths**: {est_deaths}\\n\\n**Death Rate (per 100,000)**: {est_rate}\"\n",
        "\n",
        "    # === Final Display ===\n",
        "    final_display = f\"\"\"\n",
        "# 🛣️ Road Safety Profile: {selected_country}\n",
        "\n",
        "### 📊 Snapshot\n",
        "{snapshot}\n",
        "\n",
        "### 🚗 Seatbelt Wearing Rate\n",
        "{seatbelt_str}\n",
        "\n",
        "### 🧪 Speed & Alcohol Limits\n",
        "#### Speed Limits\n",
        "{speed_str}\n",
        "#### BAC Limits\n",
        "{bac_str}\n",
        "\n",
        "### ☠️ Estimated Deaths\n",
        "{deaths_summary}\n",
        "\n",
        "---\n",
        "_Data Source: WHO Road Safety Global Status Report_\n",
        "    \"\"\"\n",
        "\n",
        "    return final_display, fig\n",
        "\n",
        "# Set up Gradio interface\n",
        "demo = gr.Interface(\n",
        "    fn=get_road_safety_profile,\n",
        "    inputs=gr.Dropdown(choices=sorted(df['Country_Name'].unique()), label=\"Select Country\"),\n",
        "    outputs=[\n",
        "        gr.Markdown(label=\"Country Road Safety Summary\"),\n",
        "        gr.Plot(label=\"Death Distribution Pie Chart\")\n",
        "    ],\n",
        "    title=\"🌍 WHO Road Safety Dashboard\",\n",
        "    description=\"Select a country to see road safety profile and key metrics.\",\n",
        "    theme=\"default\"\n",
        ")\n",
        "\n",
        "demo.launch()\n"
      ]
    },
    {
      "cell_type": "code",
      "execution_count": null,
      "id": "66da8f74",
      "metadata": {
        "colab": {
          "base_uri": "https://localhost:8080/",
          "height": 17
        },
        "id": "66da8f74",
        "outputId": "b5f83cdc-b0c9-457e-e0ea-7c83cc367b48"
      },
      "outputs": [
        {
          "data": {
            "text/html": [
              "\n",
              "        <iframe\n",
              "            width=\"1200\"\n",
              "            height=\"720\"\n",
              "            src=\"http://localhost:8501\"\n",
              "            frameborder=\"0\"\n",
              "            allowfullscreen\n",
              "            \n",
              "        ></iframe>\n",
              "        "
            ],
            "text/plain": [
              "<IPython.lib.display.IFrame at 0x7d40bf4bb090>"
            ]
          },
          "execution_count": 21,
          "metadata": {},
          "output_type": "execute_result"
        }
      ],
      "source": [
        "from IPython.display import IFrame\n",
        "import subprocess\n",
        "import time\n",
        "\n",
        "# Run the Streamlit app\n",
        "subprocess.Popen([\"streamlit\", \"run\", \"app.py\"])\n",
        "\n",
        "# Give Streamlit a few seconds to start\n",
        "time.sleep(5)\n",
        "\n",
        "# Display inside notebook (port must match the one Streamlit uses)\n",
        "IFrame(src='http://localhost:8501', width=1200, height=720)\n"
      ]
    },
    {
      "cell_type": "code",
      "execution_count": 4,
      "id": "3054c463",
      "metadata": {
        "id": "3054c463"
      },
      "outputs": [],
      "source": [
        "import plotly.express as px"
      ]
    },
    {
      "cell_type": "code",
      "execution_count": 26,
      "id": "mjzcjbe9otj5",
      "metadata": {
        "colab": {
          "base_uri": "https://localhost:8080/"
        },
        "id": "mjzcjbe9otj5",
        "outputId": "ad61ce31-f053-40af-e13b-c8d64deae111"
      },
      "outputs": [
        {
          "data": {
            "text/plain": [
              "numpy.float64"
            ]
          },
          "execution_count": 26,
          "metadata": {},
          "output_type": "execute_result"
        }
      ],
      "source": [
        "df_death_rate = dataframes[8]\n",
        "type(df_death_rate[\"Value\"][0])"
      ]
    },
    {
      "cell_type": "code",
      "execution_count": 27,
      "id": "xkbcxflel9nJ",
      "metadata": {
        "id": "xkbcxflel9nJ"
      },
      "outputs": [],
      "source": [
        "# Drop NaNs and reset index\n",
        "df_death_rate.dropna(subset=['Value'], inplace=True)\n",
        "df_death_rate.reset_index(drop=True, inplace=True)\n"
      ]
    },
    {
      "cell_type": "code",
      "execution_count": 29,
      "id": "uvrgZ_ZfqiU6",
      "metadata": {
        "colab": {
          "base_uri": "https://localhost:8080/",
          "height": 542
        },
        "id": "uvrgZ_ZfqiU6",
        "outputId": "bebf1cde-337a-48dd-e56f-64e871a0fd58"
      },
      "outputs": [
        {
          "data": {
            "text/html": [
              "<html>\n",
              "<head><meta charset=\"utf-8\" /></head>\n",
              "<body>\n",
              "    <div>            <script src=\"https://cdnjs.cloudflare.com/ajax/libs/mathjax/2.7.5/MathJax.js?config=TeX-AMS-MML_SVG\"></script><script type=\"text/javascript\">if (window.MathJax && window.MathJax.Hub && window.MathJax.Hub.Config) {window.MathJax.Hub.Config({SVG: {font: \"STIX-Web\"}});}</script>                <script type=\"text/javascript\">window.PlotlyConfig = {MathJaxConfig: 'local'};</script>\n",
              "        <script charset=\"utf-8\" src=\"https://cdn.plot.ly/plotly-2.35.2.min.js\"></script>                <div id=\"0fea531f-e948-48e6-b399-59bc8b28d808\" class=\"plotly-graph-div\" style=\"height:525px; width:100%;\"></div>            <script type=\"text/javascript\">                                    window.PLOTLYENV=window.PLOTLYENV || {};                                    if (document.getElementById(\"0fea531f-e948-48e6-b399-59bc8b28d808\")) {                    Plotly.newPlot(                        \"0fea531f-e948-48e6-b399-59bc8b28d808\",                        [{\"coloraxis\":\"coloraxis\",\"geo\":\"geo\",\"hovertemplate\":\"\\u003cb\\u003e%{hovertext}\\u003c\\u002fb\\u003e\\u003cbr\\u003e\\u003cbr\\u003eCountry_Code=%{location}\\u003cbr\\u003eDeath Rate=%{z}\\u003cextra\\u003e\\u003c\\u002fextra\\u003e\",\"hovertext\":[\"Afghanistan\",\"Angola\",\"Albania\",\"Andorra\",\"United Arab Emirates\",\"Argentina\",\"Armenia\",\"Antigua and Barbuda\",\"Australia\",\"Austria\",\"Azerbaijan\",\"Burundi\",\"Belgium\",\"Benin\",\"Burkina Faso\",\"Bangladesh\",\"Bulgaria\",\"Bahrain\",\"Bahamas\",\"Bosnia and Herzegovina\",\"Belarus\",\"Belize\",\"Bolivia (Plurinational State of)\",\"Brazil\",\"Barbados\",\"Brunei Darussalam\",\"Bhutan\",\"Botswana\",\"Central African Republic\",\"Canada\",\"Switzerland\",\"Chile\",\"China\",\"Cote d'Ivoire\",\"Cameroon\",\"Democratic Republic of the Congo\",\"Congo\",\"Cook Islands\",\"Colombia\",\"Comoros\",\"Cabo Verde\",\"Costa Rica\",\"Cuba\",\"Cyprus\",\"Czechia\",\"Germany\",\"Djibouti\",\"Dominica\",\"Denmark\",\"Dominican Republic\",\"Algeria\",\"Ecuador\",\"Egypt\",\"Eritrea\",\"Spain\",\"Estonia\",\"Ethiopia\",\"Finland\",\"Fiji\",\"France\",\"Micronesia (Federated States of)\",\"Gabon\",\"United Kingdom of Great Britain and Northern Ireland\",\"Georgia\",\"Ghana\",\"Guinea\",\"Gambia\",\"Guinea-Bissau\",\"Equatorial Guinea\",\"Greece\",\"Grenada\",\"Guatemala\",\"Guyana\",\"China, Hong Kong Special Administrative Region\",\"Honduras\",\"Croatia\",\"Haiti\",\"Hungary\",\"Indonesia\",\"India\",\"Ireland\",\"Iran (Islamic Republic of)\",\"Iraq\",\"Iceland\",\"Israel\",\"Italy\",\"Jamaica\",\"Jordan\",\"Japan\",\"Kazakhstan\",\"Kenya\",\"Kyrgyzstan\",\"Cambodia\",\"Kiribati\",\"Saint Kitts and Nevis\",\"Republic of Korea\",\"Kuwait\",\"Lao People's Democratic Republic\",\"Lebanon\",\"Liberia\",\"Libya\",\"Saint Lucia\",\"Sri Lanka\",\"Lesotho\",\"Lithuania\",\"Luxembourg\",\"Latvia\",\"China, Macao Special Administrative Region\",\"Morocco\",\"Monaco\",\"Republic of Moldova\",\"Madagascar\",\"Maldives\",\"Mexico\",\"Marshall Islands\",\"North Macedonia\",\"Mali\",\"Malta\",\"Myanmar\",\"Montenegro\",\"Mongolia\",\"Mozambique\",\"Mauritania\",\"Mauritius\",\"Malawi\",\"Malaysia\",\"Namibia\",\"Niger\",\"Nigeria\",\"Nicaragua\",\"Niue\",\"Netherlands (Kingdom of the)\",\"Norway\",\"Nepal\",\"Nauru\",\"New Zealand\",\"Oman\",\"Pakistan\",\"Panama\",\"Peru\",\"Philippines\",\"Palau\",\"Papua New Guinea\",\"Poland\",\"Puerto Rico\",\"Portugal\",\"Paraguay\",\"occupied Palestinian territory, including east Jerusalem\",\"Qatar\",\"Romania\",\"Russian Federation\",\"Rwanda\",\"Saudi Arabia\",\"Sudan\",\"Senegal\",\"Singapore\",\"Solomon Islands\",\"Sierra Leone\",\"El Salvador\",\"San Marino\",\"Somalia\",\"Serbia\",\"South Sudan\",\"Sao Tome and Principe\",\"Suriname\",\"Slovakia\",\"Slovenia\",\"Sweden\",\"Eswatini\",\"Seychelles\",\"Syrian Arab Republic\",\"Chad\",\"Togo\",\"Thailand\",\"Tajikistan\",\"Turkmenistan\",\"Timor-Leste\",\"Tonga\",\"Trinidad and Tobago\",\"Tunisia\",\"Türkiye\",\"Tuvalu\",\"United Republic of Tanzania\",\"Uganda\",\"Ukraine\",\"Uruguay\",\"United States of America\",\"Uzbekistan\",\"Saint Vincent and the Grenadines\",\"Venezuela (Bolivarian Republic of)\",\"Viet Nam\",\"Vanuatu\",\"Samoa\",\"Yemen\",\"South Africa\",\"Zambia\",\"Zimbabwe\"],\"locationmode\":\"ISO-3\",\"locations\":[\"AFG\",\"AGO\",\"ALB\",\"AND\",\"ARE\",\"ARG\",\"ARM\",\"ATG\",\"AUS\",\"AUT\",\"AZE\",\"BDI\",\"BEL\",\"BEN\",\"BFA\",\"BGD\",\"BGR\",\"BHR\",\"BHS\",\"BIH\",\"BLR\",\"BLZ\",\"BOL\",\"BRA\",\"BRB\",\"BRN\",\"BTN\",\"BWA\",\"CAF\",\"CAN\",\"CHE\",\"CHL\",\"CHN\",\"CIV\",\"CMR\",\"COD\",\"COG\",\"COK\",\"COL\",\"COM\",\"CPV\",\"CRI\",\"CUB\",\"CYP\",\"CZE\",\"DEU\",\"DJI\",\"DMA\",\"DNK\",\"DOM\",\"DZA\",\"ECU\",\"EGY\",\"ERI\",\"ESP\",\"EST\",\"ETH\",\"FIN\",\"FJI\",\"FRA\",\"FSM\",\"GAB\",\"GBR\",\"GEO\",\"GHA\",\"GIN\",\"GMB\",\"GNB\",\"GNQ\",\"GRC\",\"GRD\",\"GTM\",\"GUY\",\"HKG\",\"HND\",\"HRV\",\"HTI\",\"HUN\",\"IDN\",\"IND\",\"IRL\",\"IRN\",\"IRQ\",\"ISL\",\"ISR\",\"ITA\",\"JAM\",\"JOR\",\"JPN\",\"KAZ\",\"KEN\",\"KGZ\",\"KHM\",\"KIR\",\"KNA\",\"KOR\",\"KWT\",\"LAO\",\"LBN\",\"LBR\",\"LBY\",\"LCA\",\"LKA\",\"LSO\",\"LTU\",\"LUX\",\"LVA\",\"MAC\",\"MAR\",\"MCO\",\"MDA\",\"MDG\",\"MDV\",\"MEX\",\"MHL\",\"MKD\",\"MLI\",\"MLT\",\"MMR\",\"MNE\",\"MNG\",\"MOZ\",\"MRT\",\"MUS\",\"MWI\",\"MYS\",\"NAM\",\"NER\",\"NGA\",\"NIC\",\"NIU\",\"NLD\",\"NOR\",\"NPL\",\"NRU\",\"NZL\",\"OMN\",\"PAK\",\"PAN\",\"PER\",\"PHL\",\"PLW\",\"PNG\",\"POL\",\"PRI\",\"PRT\",\"PRY\",\"PSE\",\"QAT\",\"ROU\",\"RUS\",\"RWA\",\"SAU\",\"SDN\",\"SEN\",\"SGP\",\"SLB\",\"SLE\",\"SLV\",\"SMR\",\"SOM\",\"SRB\",\"SSD\",\"STP\",\"SUR\",\"SVK\",\"SVN\",\"SWE\",\"SWZ\",\"SYC\",\"SYR\",\"TCD\",\"TGO\",\"THA\",\"TJK\",\"TKM\",\"TLS\",\"TON\",\"TTO\",\"TUN\",\"TUR\",\"TUV\",\"TZA\",\"UGA\",\"UKR\",\"URY\",\"USA\",\"UZB\",\"VCT\",\"VEN\",\"VNM\",\"VUT\",\"WSM\",\"YEM\",\"ZAF\",\"ZMB\",\"ZWE\"],\"name\":\"\",\"z\":[24.1,15.0,10.8,2.5,5.9,8.8,13.6,7.5,4.5,4.6,17.2,12.3,4.6,24.8,27.8,18.6,8.4,8.1,16.2,13.7,7.4,17.5,17.6,15.7,10.0,3.6,12.2,16.5,25.9,4.7,2.4,10.3,17.4,20.6,10.6,16.3,8.4,17.6,16.2,29.0,16.5,15.5,5.4,3.9,5.2,3.3,23.3,11.0,2.3,27.4,18.3,23.4,9.4,17.7,3.5,4.4,17.7,4.2,5.3,4.7,14.1,12.5,2.4,12.7,25.9,37.4,22.0,30.5,11.7,7.3,6.4,12.6,15.2,0.0,18.5,8.1,31.3,7.4,11.3,14.6,2.8,20.6,21.5,2.4,4.2,5.0,17.8,13.6,2.7,12.2,28.2,13.3,18.8,6.2,23.1,6.9,9.2,16.4,9.7,15.3,34.0,8.9,11.5,21.6,6.3,3.9,9.8,0.0,18.6,0.0,9.1,22.5,1.3,12.0,11.9,5.7,20.2,1.9,19.3,9.1,12.4,20.1,9.5,9.7,20.2,13.9,22.0,24.9,17.2,13.6,0.0,3.4,1.5,28.2,8.0,6.6,11.0,11.9,7.3,12.7,9.7,22.2,14.9,6.5,12.5,7.2,21.0,4.7,7.3,9.6,10.6,11.6,18.5,19.6,20.8,1.9,11.2,13.8,21.5,5.9,20.2,7.4,23.3,11.7,16.2,6.4,5.8,2.1,24.7,6.6,29.9,26.4,22.7,25.4,13.9,8.0,12.0,8.5,5.0,16.3,6.5,17.9,15.8,16.0,10.5,13.0,14.2,9.3,4.8,13.2,17.7,12.5,9.6,29.8,24.5,17.1,29.9],\"type\":\"choropleth\"}],                        {\"template\":{\"data\":{\"histogram2dcontour\":[{\"type\":\"histogram2dcontour\",\"colorbar\":{\"outlinewidth\":0,\"ticks\":\"\"},\"colorscale\":[[0.0,\"#0d0887\"],[0.1111111111111111,\"#46039f\"],[0.2222222222222222,\"#7201a8\"],[0.3333333333333333,\"#9c179e\"],[0.4444444444444444,\"#bd3786\"],[0.5555555555555556,\"#d8576b\"],[0.6666666666666666,\"#ed7953\"],[0.7777777777777778,\"#fb9f3a\"],[0.8888888888888888,\"#fdca26\"],[1.0,\"#f0f921\"]]}],\"choropleth\":[{\"type\":\"choropleth\",\"colorbar\":{\"outlinewidth\":0,\"ticks\":\"\"}}],\"histogram2d\":[{\"type\":\"histogram2d\",\"colorbar\":{\"outlinewidth\":0,\"ticks\":\"\"},\"colorscale\":[[0.0,\"#0d0887\"],[0.1111111111111111,\"#46039f\"],[0.2222222222222222,\"#7201a8\"],[0.3333333333333333,\"#9c179e\"],[0.4444444444444444,\"#bd3786\"],[0.5555555555555556,\"#d8576b\"],[0.6666666666666666,\"#ed7953\"],[0.7777777777777778,\"#fb9f3a\"],[0.8888888888888888,\"#fdca26\"],[1.0,\"#f0f921\"]]}],\"heatmap\":[{\"type\":\"heatmap\",\"colorbar\":{\"outlinewidth\":0,\"ticks\":\"\"},\"colorscale\":[[0.0,\"#0d0887\"],[0.1111111111111111,\"#46039f\"],[0.2222222222222222,\"#7201a8\"],[0.3333333333333333,\"#9c179e\"],[0.4444444444444444,\"#bd3786\"],[0.5555555555555556,\"#d8576b\"],[0.6666666666666666,\"#ed7953\"],[0.7777777777777778,\"#fb9f3a\"],[0.8888888888888888,\"#fdca26\"],[1.0,\"#f0f921\"]]}],\"heatmapgl\":[{\"type\":\"heatmapgl\",\"colorbar\":{\"outlinewidth\":0,\"ticks\":\"\"},\"colorscale\":[[0.0,\"#0d0887\"],[0.1111111111111111,\"#46039f\"],[0.2222222222222222,\"#7201a8\"],[0.3333333333333333,\"#9c179e\"],[0.4444444444444444,\"#bd3786\"],[0.5555555555555556,\"#d8576b\"],[0.6666666666666666,\"#ed7953\"],[0.7777777777777778,\"#fb9f3a\"],[0.8888888888888888,\"#fdca26\"],[1.0,\"#f0f921\"]]}],\"contourcarpet\":[{\"type\":\"contourcarpet\",\"colorbar\":{\"outlinewidth\":0,\"ticks\":\"\"}}],\"contour\":[{\"type\":\"contour\",\"colorbar\":{\"outlinewidth\":0,\"ticks\":\"\"},\"colorscale\":[[0.0,\"#0d0887\"],[0.1111111111111111,\"#46039f\"],[0.2222222222222222,\"#7201a8\"],[0.3333333333333333,\"#9c179e\"],[0.4444444444444444,\"#bd3786\"],[0.5555555555555556,\"#d8576b\"],[0.6666666666666666,\"#ed7953\"],[0.7777777777777778,\"#fb9f3a\"],[0.8888888888888888,\"#fdca26\"],[1.0,\"#f0f921\"]]}],\"surface\":[{\"type\":\"surface\",\"colorbar\":{\"outlinewidth\":0,\"ticks\":\"\"},\"colorscale\":[[0.0,\"#0d0887\"],[0.1111111111111111,\"#46039f\"],[0.2222222222222222,\"#7201a8\"],[0.3333333333333333,\"#9c179e\"],[0.4444444444444444,\"#bd3786\"],[0.5555555555555556,\"#d8576b\"],[0.6666666666666666,\"#ed7953\"],[0.7777777777777778,\"#fb9f3a\"],[0.8888888888888888,\"#fdca26\"],[1.0,\"#f0f921\"]]}],\"mesh3d\":[{\"type\":\"mesh3d\",\"colorbar\":{\"outlinewidth\":0,\"ticks\":\"\"}}],\"scatter\":[{\"fillpattern\":{\"fillmode\":\"overlay\",\"size\":10,\"solidity\":0.2},\"type\":\"scatter\"}],\"parcoords\":[{\"type\":\"parcoords\",\"line\":{\"colorbar\":{\"outlinewidth\":0,\"ticks\":\"\"}}}],\"scatterpolargl\":[{\"type\":\"scatterpolargl\",\"marker\":{\"colorbar\":{\"outlinewidth\":0,\"ticks\":\"\"}}}],\"bar\":[{\"error_x\":{\"color\":\"#2a3f5f\"},\"error_y\":{\"color\":\"#2a3f5f\"},\"marker\":{\"line\":{\"color\":\"#E5ECF6\",\"width\":0.5},\"pattern\":{\"fillmode\":\"overlay\",\"size\":10,\"solidity\":0.2}},\"type\":\"bar\"}],\"scattergeo\":[{\"type\":\"scattergeo\",\"marker\":{\"colorbar\":{\"outlinewidth\":0,\"ticks\":\"\"}}}],\"scatterpolar\":[{\"type\":\"scatterpolar\",\"marker\":{\"colorbar\":{\"outlinewidth\":0,\"ticks\":\"\"}}}],\"histogram\":[{\"marker\":{\"pattern\":{\"fillmode\":\"overlay\",\"size\":10,\"solidity\":0.2}},\"type\":\"histogram\"}],\"scattergl\":[{\"type\":\"scattergl\",\"marker\":{\"colorbar\":{\"outlinewidth\":0,\"ticks\":\"\"}}}],\"scatter3d\":[{\"type\":\"scatter3d\",\"line\":{\"colorbar\":{\"outlinewidth\":0,\"ticks\":\"\"}},\"marker\":{\"colorbar\":{\"outlinewidth\":0,\"ticks\":\"\"}}}],\"scattermapbox\":[{\"type\":\"scattermapbox\",\"marker\":{\"colorbar\":{\"outlinewidth\":0,\"ticks\":\"\"}}}],\"scatterternary\":[{\"type\":\"scatterternary\",\"marker\":{\"colorbar\":{\"outlinewidth\":0,\"ticks\":\"\"}}}],\"scattercarpet\":[{\"type\":\"scattercarpet\",\"marker\":{\"colorbar\":{\"outlinewidth\":0,\"ticks\":\"\"}}}],\"carpet\":[{\"aaxis\":{\"endlinecolor\":\"#2a3f5f\",\"gridcolor\":\"white\",\"linecolor\":\"white\",\"minorgridcolor\":\"white\",\"startlinecolor\":\"#2a3f5f\"},\"baxis\":{\"endlinecolor\":\"#2a3f5f\",\"gridcolor\":\"white\",\"linecolor\":\"white\",\"minorgridcolor\":\"white\",\"startlinecolor\":\"#2a3f5f\"},\"type\":\"carpet\"}],\"table\":[{\"cells\":{\"fill\":{\"color\":\"#EBF0F8\"},\"line\":{\"color\":\"white\"}},\"header\":{\"fill\":{\"color\":\"#C8D4E3\"},\"line\":{\"color\":\"white\"}},\"type\":\"table\"}],\"barpolar\":[{\"marker\":{\"line\":{\"color\":\"#E5ECF6\",\"width\":0.5},\"pattern\":{\"fillmode\":\"overlay\",\"size\":10,\"solidity\":0.2}},\"type\":\"barpolar\"}],\"pie\":[{\"automargin\":true,\"type\":\"pie\"}]},\"layout\":{\"autotypenumbers\":\"strict\",\"colorway\":[\"#636efa\",\"#EF553B\",\"#00cc96\",\"#ab63fa\",\"#FFA15A\",\"#19d3f3\",\"#FF6692\",\"#B6E880\",\"#FF97FF\",\"#FECB52\"],\"font\":{\"color\":\"#2a3f5f\"},\"hovermode\":\"closest\",\"hoverlabel\":{\"align\":\"left\"},\"paper_bgcolor\":\"white\",\"plot_bgcolor\":\"#E5ECF6\",\"polar\":{\"bgcolor\":\"#E5ECF6\",\"angularaxis\":{\"gridcolor\":\"white\",\"linecolor\":\"white\",\"ticks\":\"\"},\"radialaxis\":{\"gridcolor\":\"white\",\"linecolor\":\"white\",\"ticks\":\"\"}},\"ternary\":{\"bgcolor\":\"#E5ECF6\",\"aaxis\":{\"gridcolor\":\"white\",\"linecolor\":\"white\",\"ticks\":\"\"},\"baxis\":{\"gridcolor\":\"white\",\"linecolor\":\"white\",\"ticks\":\"\"},\"caxis\":{\"gridcolor\":\"white\",\"linecolor\":\"white\",\"ticks\":\"\"}},\"coloraxis\":{\"colorbar\":{\"outlinewidth\":0,\"ticks\":\"\"}},\"colorscale\":{\"sequential\":[[0.0,\"#0d0887\"],[0.1111111111111111,\"#46039f\"],[0.2222222222222222,\"#7201a8\"],[0.3333333333333333,\"#9c179e\"],[0.4444444444444444,\"#bd3786\"],[0.5555555555555556,\"#d8576b\"],[0.6666666666666666,\"#ed7953\"],[0.7777777777777778,\"#fb9f3a\"],[0.8888888888888888,\"#fdca26\"],[1.0,\"#f0f921\"]],\"sequentialminus\":[[0.0,\"#0d0887\"],[0.1111111111111111,\"#46039f\"],[0.2222222222222222,\"#7201a8\"],[0.3333333333333333,\"#9c179e\"],[0.4444444444444444,\"#bd3786\"],[0.5555555555555556,\"#d8576b\"],[0.6666666666666666,\"#ed7953\"],[0.7777777777777778,\"#fb9f3a\"],[0.8888888888888888,\"#fdca26\"],[1.0,\"#f0f921\"]],\"diverging\":[[0,\"#8e0152\"],[0.1,\"#c51b7d\"],[0.2,\"#de77ae\"],[0.3,\"#f1b6da\"],[0.4,\"#fde0ef\"],[0.5,\"#f7f7f7\"],[0.6,\"#e6f5d0\"],[0.7,\"#b8e186\"],[0.8,\"#7fbc41\"],[0.9,\"#4d9221\"],[1,\"#276419\"]]},\"xaxis\":{\"gridcolor\":\"white\",\"linecolor\":\"white\",\"ticks\":\"\",\"title\":{\"standoff\":15},\"zerolinecolor\":\"white\",\"automargin\":true,\"zerolinewidth\":2},\"yaxis\":{\"gridcolor\":\"white\",\"linecolor\":\"white\",\"ticks\":\"\",\"title\":{\"standoff\":15},\"zerolinecolor\":\"white\",\"automargin\":true,\"zerolinewidth\":2},\"scene\":{\"xaxis\":{\"backgroundcolor\":\"#E5ECF6\",\"gridcolor\":\"white\",\"linecolor\":\"white\",\"showbackground\":true,\"ticks\":\"\",\"zerolinecolor\":\"white\",\"gridwidth\":2},\"yaxis\":{\"backgroundcolor\":\"#E5ECF6\",\"gridcolor\":\"white\",\"linecolor\":\"white\",\"showbackground\":true,\"ticks\":\"\",\"zerolinecolor\":\"white\",\"gridwidth\":2},\"zaxis\":{\"backgroundcolor\":\"#E5ECF6\",\"gridcolor\":\"white\",\"linecolor\":\"white\",\"showbackground\":true,\"ticks\":\"\",\"zerolinecolor\":\"white\",\"gridwidth\":2}},\"shapedefaults\":{\"line\":{\"color\":\"#2a3f5f\"}},\"annotationdefaults\":{\"arrowcolor\":\"#2a3f5f\",\"arrowhead\":0,\"arrowwidth\":1},\"geo\":{\"bgcolor\":\"white\",\"landcolor\":\"#E5ECF6\",\"subunitcolor\":\"white\",\"showland\":true,\"showlakes\":true,\"lakecolor\":\"white\"},\"title\":{\"x\":0.05},\"mapbox\":{\"style\":\"light\"}}},\"geo\":{\"domain\":{\"x\":[0.0,1.0],\"y\":[0.0,1.0]},\"center\":{},\"projection\":{\"type\":\"natural earth\"}},\"coloraxis\":{\"colorbar\":{\"title\":{\"text\":\"Death Rate\"}},\"colorscale\":[[0.0,\"#0d0887\"],[0.1111111111111111,\"#46039f\"],[0.2222222222222222,\"#7201a8\"],[0.3333333333333333,\"#9c179e\"],[0.4444444444444444,\"#bd3786\"],[0.5555555555555556,\"#d8576b\"],[0.6666666666666666,\"#ed7953\"],[0.7777777777777778,\"#fb9f3a\"],[0.8888888888888888,\"#fdca26\"],[1.0,\"#f0f921\"]]},\"legend\":{\"tracegroupgap\":0},\"title\":{\"text\":\"Estimated Road Traffic Death Rate (per 100,000 population)\",\"x\":0.5}},                        {\"responsive\": true}                    ).then(function(){\n",
              "                            \n",
              "var gd = document.getElementById('0fea531f-e948-48e6-b399-59bc8b28d808');\n",
              "var x = new MutationObserver(function (mutations, observer) {{\n",
              "        var display = window.getComputedStyle(gd).display;\n",
              "        if (!display || display === 'none') {{\n",
              "            console.log([gd, 'removed!']);\n",
              "            Plotly.purge(gd);\n",
              "            observer.disconnect();\n",
              "        }}\n",
              "}});\n",
              "\n",
              "// Listen for the removal of the full notebook cells\n",
              "var notebookContainer = gd.closest('#notebook-container');\n",
              "if (notebookContainer) {{\n",
              "    x.observe(notebookContainer, {childList: true});\n",
              "}}\n",
              "\n",
              "// Listen for the clearing of the current output cell\n",
              "var outputEl = gd.closest('.output');\n",
              "if (outputEl) {{\n",
              "    x.observe(outputEl, {childList: true});\n",
              "}}\n",
              "\n",
              "                        })                };                            </script>        </div>\n",
              "</body>\n",
              "</html>"
            ]
          },
          "metadata": {},
          "output_type": "display_data"
        }
      ],
      "source": [
        "pivot_table = df_death_rate.pivot_table(\n",
        "    index=['Country_Code', 'Country_Name'],\n",
        "    values='Value',\n",
        "    aggfunc='mean'\n",
        ").reset_index()\n",
        "\n",
        "fig = px.choropleth(\n",
        "    pivot_table,\n",
        "    locations='Country_Code',\n",
        "    locationmode='ISO-3',\n",
        "    color='Value',\n",
        "    hover_name='Country_Name',\n",
        "    title='Estimated Road Traffic Death Rate (per 100,000 population)',\n",
        "    color_continuous_scale=px.colors.sequential.Plasma,\n",
        "    labels={'Value': 'Death Rate'}\n",
        ")\n",
        "\n",
        "fig.update_geos(projection_type='natural earth')\n",
        "fig.update_layout(title_x=0.5)\n",
        "fig.show()"
      ]
    },
    {
      "cell_type": "markdown",
      "id": "564fa57f",
      "metadata": {
        "id": "564fa57f"
      },
      "source": [
        "## Helmet and seatbelt laws (and their enforcement) with motorcycle-related road traffic deaths."
      ]
    },
    {
      "cell_type": "markdown",
      "id": "d1212102",
      "metadata": {
        "id": "d1212102"
      },
      "source": [
        "### Are Road Safety Laws strictly implemented?\n",
        "\n",
        "Every year, over a million lives are lost due to road crashes. But behind these numbers lies a critical question:\n",
        "\n",
        "**Do laws actually save lives, or are they just ink on paper?**\n",
        "\n",
        "In this notebook, we explore two key questions:\n",
        "1. How strict are helmet and seatbelt laws across countries?\n",
        "2. Are stronger laws associated with fewer deaths among motorcyclists?\n",
        "\n",
        "Let's find out.\n"
      ]
    },
    {
      "cell_type": "code",
      "execution_count": 4,
      "id": "e360115c",
      "metadata": {
        "id": "e360115c"
      },
      "outputs": [],
      "source": [
        "\n",
        "helmet_laws = dataframes[0]\n",
        "helmet_fastened = dataframes[-4]\n",
        "seatbelt_laws = dataframes[1]\n",
        "national_seatbelt_law = dataframes[-6]\n",
        "death_distribution = dataframes[6]\n"
      ]
    },
    {
      "cell_type": "markdown",
      "id": "526895fa",
      "metadata": {
        "id": "526895fa"
      },
      "source": [
        "To begin, we explore the legal landscape:\n",
        "\n",
        "- Which countries require helmets for all motorcycle users?\n",
        "- Are helmets legally required to be fastened?\n",
        "- What about rear seatbelt laws?"
      ]
    },
    {
      "cell_type": "code",
      "execution_count": 5,
      "id": "a0d0fb99",
      "metadata": {
        "colab": {
          "base_uri": "https://localhost:8080/",
          "height": 206
        },
        "id": "a0d0fb99",
        "outputId": "8150e4e6-547e-4888-8911-4eeaea332c8c"
      },
      "outputs": [
        {
          "data": {
            "application/vnd.google.colaboratory.intrinsic+json": {
              "summary": "{\n  \"name\": \"helmet_status\",\n  \"rows\": 175,\n  \"fields\": [\n    {\n      \"column\": \"Country_Code\",\n      \"properties\": {\n        \"dtype\": \"string\",\n        \"num_unique_values\": 175,\n        \"samples\": [\n          \"TJK\",\n          \"STP\",\n          \"MDV\"\n        ],\n        \"semantic_type\": \"\",\n        \"description\": \"\"\n      }\n    },\n    {\n      \"column\": \"Helmet_Law_All_Occupants\",\n      \"properties\": {\n        \"dtype\": \"number\",\n        \"std\": 0,\n        \"min\": 0,\n        \"max\": 1,\n        \"num_unique_values\": 2,\n        \"samples\": [\n          1,\n          0\n        ],\n        \"semantic_type\": \"\",\n        \"description\": \"\"\n      }\n    }\n  ]\n}",
              "type": "dataframe",
              "variable_name": "helmet_status"
            },
            "text/html": [
              "\n",
              "  <div id=\"df-521411c9-bb71-421d-981e-8dc9e5ddea34\" class=\"colab-df-container\">\n",
              "    <div>\n",
              "<style scoped>\n",
              "    .dataframe tbody tr th:only-of-type {\n",
              "        vertical-align: middle;\n",
              "    }\n",
              "\n",
              "    .dataframe tbody tr th {\n",
              "        vertical-align: top;\n",
              "    }\n",
              "\n",
              "    .dataframe thead th {\n",
              "        text-align: right;\n",
              "    }\n",
              "</style>\n",
              "<table border=\"1\" class=\"dataframe\">\n",
              "  <thead>\n",
              "    <tr style=\"text-align: right;\">\n",
              "      <th></th>\n",
              "      <th>Country_Code</th>\n",
              "      <th>Helmet_Law_All_Occupants</th>\n",
              "    </tr>\n",
              "  </thead>\n",
              "  <tbody>\n",
              "    <tr>\n",
              "      <th>0</th>\n",
              "      <td>AFG</td>\n",
              "      <td>0</td>\n",
              "    </tr>\n",
              "    <tr>\n",
              "      <th>1</th>\n",
              "      <td>AGO</td>\n",
              "      <td>1</td>\n",
              "    </tr>\n",
              "    <tr>\n",
              "      <th>2</th>\n",
              "      <td>ALB</td>\n",
              "      <td>1</td>\n",
              "    </tr>\n",
              "    <tr>\n",
              "      <th>3</th>\n",
              "      <td>ARE</td>\n",
              "      <td>1</td>\n",
              "    </tr>\n",
              "    <tr>\n",
              "      <th>4</th>\n",
              "      <td>ARG</td>\n",
              "      <td>1</td>\n",
              "    </tr>\n",
              "  </tbody>\n",
              "</table>\n",
              "</div>\n",
              "    <div class=\"colab-df-buttons\">\n",
              "\n",
              "  <div class=\"colab-df-container\">\n",
              "    <button class=\"colab-df-convert\" onclick=\"convertToInteractive('df-521411c9-bb71-421d-981e-8dc9e5ddea34')\"\n",
              "            title=\"Convert this dataframe to an interactive table.\"\n",
              "            style=\"display:none;\">\n",
              "\n",
              "  <svg xmlns=\"http://www.w3.org/2000/svg\" height=\"24px\" viewBox=\"0 -960 960 960\">\n",
              "    <path d=\"M120-120v-720h720v720H120Zm60-500h600v-160H180v160Zm220 220h160v-160H400v160Zm0 220h160v-160H400v160ZM180-400h160v-160H180v160Zm440 0h160v-160H620v160ZM180-180h160v-160H180v160Zm440 0h160v-160H620v160Z\"/>\n",
              "  </svg>\n",
              "    </button>\n",
              "\n",
              "  <style>\n",
              "    .colab-df-container {\n",
              "      display:flex;\n",
              "      gap: 12px;\n",
              "    }\n",
              "\n",
              "    .colab-df-convert {\n",
              "      background-color: #E8F0FE;\n",
              "      border: none;\n",
              "      border-radius: 50%;\n",
              "      cursor: pointer;\n",
              "      display: none;\n",
              "      fill: #1967D2;\n",
              "      height: 32px;\n",
              "      padding: 0 0 0 0;\n",
              "      width: 32px;\n",
              "    }\n",
              "\n",
              "    .colab-df-convert:hover {\n",
              "      background-color: #E2EBFA;\n",
              "      box-shadow: 0px 1px 2px rgba(60, 64, 67, 0.3), 0px 1px 3px 1px rgba(60, 64, 67, 0.15);\n",
              "      fill: #174EA6;\n",
              "    }\n",
              "\n",
              "    .colab-df-buttons div {\n",
              "      margin-bottom: 4px;\n",
              "    }\n",
              "\n",
              "    [theme=dark] .colab-df-convert {\n",
              "      background-color: #3B4455;\n",
              "      fill: #D2E3FC;\n",
              "    }\n",
              "\n",
              "    [theme=dark] .colab-df-convert:hover {\n",
              "      background-color: #434B5C;\n",
              "      box-shadow: 0px 1px 3px 1px rgba(0, 0, 0, 0.15);\n",
              "      filter: drop-shadow(0px 1px 2px rgba(0, 0, 0, 0.3));\n",
              "      fill: #FFFFFF;\n",
              "    }\n",
              "  </style>\n",
              "\n",
              "    <script>\n",
              "      const buttonEl =\n",
              "        document.querySelector('#df-521411c9-bb71-421d-981e-8dc9e5ddea34 button.colab-df-convert');\n",
              "      buttonEl.style.display =\n",
              "        google.colab.kernel.accessAllowed ? 'block' : 'none';\n",
              "\n",
              "      async function convertToInteractive(key) {\n",
              "        const element = document.querySelector('#df-521411c9-bb71-421d-981e-8dc9e5ddea34');\n",
              "        const dataTable =\n",
              "          await google.colab.kernel.invokeFunction('convertToInteractive',\n",
              "                                                    [key], {});\n",
              "        if (!dataTable) return;\n",
              "\n",
              "        const docLinkHtml = 'Like what you see? Visit the ' +\n",
              "          '<a target=\"_blank\" href=https://colab.research.google.com/notebooks/data_table.ipynb>data table notebook</a>'\n",
              "          + ' to learn more about interactive tables.';\n",
              "        element.innerHTML = '';\n",
              "        dataTable['output_type'] = 'display_data';\n",
              "        await google.colab.output.renderOutput(dataTable, element);\n",
              "        const docLink = document.createElement('div');\n",
              "        docLink.innerHTML = docLinkHtml;\n",
              "        element.appendChild(docLink);\n",
              "      }\n",
              "    </script>\n",
              "  </div>\n",
              "\n",
              "\n",
              "<div id=\"df-a4cdd9c9-9dd1-4ffc-987c-473bbb79f8dd\">\n",
              "  <button class=\"colab-df-quickchart\" onclick=\"quickchart('df-a4cdd9c9-9dd1-4ffc-987c-473bbb79f8dd')\"\n",
              "            title=\"Suggest charts\"\n",
              "            style=\"display:none;\">\n",
              "\n",
              "<svg xmlns=\"http://www.w3.org/2000/svg\" height=\"24px\"viewBox=\"0 0 24 24\"\n",
              "     width=\"24px\">\n",
              "    <g>\n",
              "        <path d=\"M19 3H5c-1.1 0-2 .9-2 2v14c0 1.1.9 2 2 2h14c1.1 0 2-.9 2-2V5c0-1.1-.9-2-2-2zM9 17H7v-7h2v7zm4 0h-2V7h2v10zm4 0h-2v-4h2v4z\"/>\n",
              "    </g>\n",
              "</svg>\n",
              "  </button>\n",
              "\n",
              "<style>\n",
              "  .colab-df-quickchart {\n",
              "      --bg-color: #E8F0FE;\n",
              "      --fill-color: #1967D2;\n",
              "      --hover-bg-color: #E2EBFA;\n",
              "      --hover-fill-color: #174EA6;\n",
              "      --disabled-fill-color: #AAA;\n",
              "      --disabled-bg-color: #DDD;\n",
              "  }\n",
              "\n",
              "  [theme=dark] .colab-df-quickchart {\n",
              "      --bg-color: #3B4455;\n",
              "      --fill-color: #D2E3FC;\n",
              "      --hover-bg-color: #434B5C;\n",
              "      --hover-fill-color: #FFFFFF;\n",
              "      --disabled-bg-color: #3B4455;\n",
              "      --disabled-fill-color: #666;\n",
              "  }\n",
              "\n",
              "  .colab-df-quickchart {\n",
              "    background-color: var(--bg-color);\n",
              "    border: none;\n",
              "    border-radius: 50%;\n",
              "    cursor: pointer;\n",
              "    display: none;\n",
              "    fill: var(--fill-color);\n",
              "    height: 32px;\n",
              "    padding: 0;\n",
              "    width: 32px;\n",
              "  }\n",
              "\n",
              "  .colab-df-quickchart:hover {\n",
              "    background-color: var(--hover-bg-color);\n",
              "    box-shadow: 0 1px 2px rgba(60, 64, 67, 0.3), 0 1px 3px 1px rgba(60, 64, 67, 0.15);\n",
              "    fill: var(--button-hover-fill-color);\n",
              "  }\n",
              "\n",
              "  .colab-df-quickchart-complete:disabled,\n",
              "  .colab-df-quickchart-complete:disabled:hover {\n",
              "    background-color: var(--disabled-bg-color);\n",
              "    fill: var(--disabled-fill-color);\n",
              "    box-shadow: none;\n",
              "  }\n",
              "\n",
              "  .colab-df-spinner {\n",
              "    border: 2px solid var(--fill-color);\n",
              "    border-color: transparent;\n",
              "    border-bottom-color: var(--fill-color);\n",
              "    animation:\n",
              "      spin 1s steps(1) infinite;\n",
              "  }\n",
              "\n",
              "  @keyframes spin {\n",
              "    0% {\n",
              "      border-color: transparent;\n",
              "      border-bottom-color: var(--fill-color);\n",
              "      border-left-color: var(--fill-color);\n",
              "    }\n",
              "    20% {\n",
              "      border-color: transparent;\n",
              "      border-left-color: var(--fill-color);\n",
              "      border-top-color: var(--fill-color);\n",
              "    }\n",
              "    30% {\n",
              "      border-color: transparent;\n",
              "      border-left-color: var(--fill-color);\n",
              "      border-top-color: var(--fill-color);\n",
              "      border-right-color: var(--fill-color);\n",
              "    }\n",
              "    40% {\n",
              "      border-color: transparent;\n",
              "      border-right-color: var(--fill-color);\n",
              "      border-top-color: var(--fill-color);\n",
              "    }\n",
              "    60% {\n",
              "      border-color: transparent;\n",
              "      border-right-color: var(--fill-color);\n",
              "    }\n",
              "    80% {\n",
              "      border-color: transparent;\n",
              "      border-right-color: var(--fill-color);\n",
              "      border-bottom-color: var(--fill-color);\n",
              "    }\n",
              "    90% {\n",
              "      border-color: transparent;\n",
              "      border-bottom-color: var(--fill-color);\n",
              "    }\n",
              "  }\n",
              "</style>\n",
              "\n",
              "  <script>\n",
              "    async function quickchart(key) {\n",
              "      const quickchartButtonEl =\n",
              "        document.querySelector('#' + key + ' button');\n",
              "      quickchartButtonEl.disabled = true;  // To prevent multiple clicks.\n",
              "      quickchartButtonEl.classList.add('colab-df-spinner');\n",
              "      try {\n",
              "        const charts = await google.colab.kernel.invokeFunction(\n",
              "            'suggestCharts', [key], {});\n",
              "      } catch (error) {\n",
              "        console.error('Error during call to suggestCharts:', error);\n",
              "      }\n",
              "      quickchartButtonEl.classList.remove('colab-df-spinner');\n",
              "      quickchartButtonEl.classList.add('colab-df-quickchart-complete');\n",
              "    }\n",
              "    (() => {\n",
              "      let quickchartButtonEl =\n",
              "        document.querySelector('#df-a4cdd9c9-9dd1-4ffc-987c-473bbb79f8dd button');\n",
              "      quickchartButtonEl.style.display =\n",
              "        google.colab.kernel.accessAllowed ? 'block' : 'none';\n",
              "    })();\n",
              "  </script>\n",
              "</div>\n",
              "\n",
              "    </div>\n",
              "  </div>\n"
            ],
            "text/plain": [
              "  Country_Code  Helmet_Law_All_Occupants\n",
              "0          AFG                         0\n",
              "1          AGO                         1\n",
              "2          ALB                         1\n",
              "3          ARE                         1\n",
              "4          ARG                         1"
            ]
          },
          "execution_count": 5,
          "metadata": {},
          "output_type": "execute_result"
        }
      ],
      "source": [
        "# Filter for adult passengers and drivers\n",
        "helmet_all = helmet_laws[helmet_laws['Data_Description'].isin(['Drivers', 'Adult passengers'])]\n",
        "\n",
        "# Count countries that have helmet laws for both\n",
        "helmet_status = helmet_all.groupby('Country_Code')['Value'].apply(lambda x: all(val == 'Yes' for val in x)).reset_index()\n",
        "helmet_status.columns = ['Country_Code', 'Helmet_Law_All_Occupants']\n",
        "helmet_status['Helmet_Law_All_Occupants'] = helmet_status['Helmet_Law_All_Occupants'].astype(int)  # 1 = Yes, 0 = No\n",
        "\n",
        "helmet_status.head()\n"
      ]
    },
    {
      "cell_type": "code",
      "execution_count": 6,
      "id": "35a3bcb9",
      "metadata": {
        "colab": {
          "base_uri": "https://localhost:8080/",
          "height": 206
        },
        "id": "35a3bcb9",
        "outputId": "720b3441-73ae-46a8-fbb4-6bc53a988095"
      },
      "outputs": [
        {
          "data": {
            "application/vnd.google.colaboratory.intrinsic+json": {
              "summary": "{\n  \"name\": \"helmet_fastened\",\n  \"rows\": 175,\n  \"fields\": [\n    {\n      \"column\": \"Country_Code\",\n      \"properties\": {\n        \"dtype\": \"string\",\n        \"num_unique_values\": 175,\n        \"samples\": [\n          \"SAU\",\n          \"NGA\",\n          \"BWA\"\n        ],\n        \"semantic_type\": \"\",\n        \"description\": \"\"\n      }\n    },\n    {\n      \"column\": \"Helmet_Fastened\",\n      \"properties\": {\n        \"dtype\": \"number\",\n        \"std\": 0,\n        \"min\": 0,\n        \"max\": 1,\n        \"num_unique_values\": 2,\n        \"samples\": [\n          1,\n          0\n        ],\n        \"semantic_type\": \"\",\n        \"description\": \"\"\n      }\n    }\n  ]\n}",
              "type": "dataframe",
              "variable_name": "helmet_fastened"
            },
            "text/html": [
              "\n",
              "  <div id=\"df-630816e3-ab35-4b8f-b59a-d2c989b97c3b\" class=\"colab-df-container\">\n",
              "    <div>\n",
              "<style scoped>\n",
              "    .dataframe tbody tr th:only-of-type {\n",
              "        vertical-align: middle;\n",
              "    }\n",
              "\n",
              "    .dataframe tbody tr th {\n",
              "        vertical-align: top;\n",
              "    }\n",
              "\n",
              "    .dataframe thead th {\n",
              "        text-align: right;\n",
              "    }\n",
              "</style>\n",
              "<table border=\"1\" class=\"dataframe\">\n",
              "  <thead>\n",
              "    <tr style=\"text-align: right;\">\n",
              "      <th></th>\n",
              "      <th>Country_Code</th>\n",
              "      <th>Helmet_Fastened</th>\n",
              "    </tr>\n",
              "  </thead>\n",
              "  <tbody>\n",
              "    <tr>\n",
              "      <th>0</th>\n",
              "      <td>AFG</td>\n",
              "      <td>0</td>\n",
              "    </tr>\n",
              "    <tr>\n",
              "      <th>1</th>\n",
              "      <td>ATG</td>\n",
              "      <td>0</td>\n",
              "    </tr>\n",
              "    <tr>\n",
              "      <th>2</th>\n",
              "      <td>COM</td>\n",
              "      <td>0</td>\n",
              "    </tr>\n",
              "    <tr>\n",
              "      <th>3</th>\n",
              "      <td>DMA</td>\n",
              "      <td>0</td>\n",
              "    </tr>\n",
              "    <tr>\n",
              "      <th>4</th>\n",
              "      <td>GUY</td>\n",
              "      <td>0</td>\n",
              "    </tr>\n",
              "  </tbody>\n",
              "</table>\n",
              "</div>\n",
              "    <div class=\"colab-df-buttons\">\n",
              "\n",
              "  <div class=\"colab-df-container\">\n",
              "    <button class=\"colab-df-convert\" onclick=\"convertToInteractive('df-630816e3-ab35-4b8f-b59a-d2c989b97c3b')\"\n",
              "            title=\"Convert this dataframe to an interactive table.\"\n",
              "            style=\"display:none;\">\n",
              "\n",
              "  <svg xmlns=\"http://www.w3.org/2000/svg\" height=\"24px\" viewBox=\"0 -960 960 960\">\n",
              "    <path d=\"M120-120v-720h720v720H120Zm60-500h600v-160H180v160Zm220 220h160v-160H400v160Zm0 220h160v-160H400v160ZM180-400h160v-160H180v160Zm440 0h160v-160H620v160ZM180-180h160v-160H180v160Zm440 0h160v-160H620v160Z\"/>\n",
              "  </svg>\n",
              "    </button>\n",
              "\n",
              "  <style>\n",
              "    .colab-df-container {\n",
              "      display:flex;\n",
              "      gap: 12px;\n",
              "    }\n",
              "\n",
              "    .colab-df-convert {\n",
              "      background-color: #E8F0FE;\n",
              "      border: none;\n",
              "      border-radius: 50%;\n",
              "      cursor: pointer;\n",
              "      display: none;\n",
              "      fill: #1967D2;\n",
              "      height: 32px;\n",
              "      padding: 0 0 0 0;\n",
              "      width: 32px;\n",
              "    }\n",
              "\n",
              "    .colab-df-convert:hover {\n",
              "      background-color: #E2EBFA;\n",
              "      box-shadow: 0px 1px 2px rgba(60, 64, 67, 0.3), 0px 1px 3px 1px rgba(60, 64, 67, 0.15);\n",
              "      fill: #174EA6;\n",
              "    }\n",
              "\n",
              "    .colab-df-buttons div {\n",
              "      margin-bottom: 4px;\n",
              "    }\n",
              "\n",
              "    [theme=dark] .colab-df-convert {\n",
              "      background-color: #3B4455;\n",
              "      fill: #D2E3FC;\n",
              "    }\n",
              "\n",
              "    [theme=dark] .colab-df-convert:hover {\n",
              "      background-color: #434B5C;\n",
              "      box-shadow: 0px 1px 3px 1px rgba(0, 0, 0, 0.15);\n",
              "      filter: drop-shadow(0px 1px 2px rgba(0, 0, 0, 0.3));\n",
              "      fill: #FFFFFF;\n",
              "    }\n",
              "  </style>\n",
              "\n",
              "    <script>\n",
              "      const buttonEl =\n",
              "        document.querySelector('#df-630816e3-ab35-4b8f-b59a-d2c989b97c3b button.colab-df-convert');\n",
              "      buttonEl.style.display =\n",
              "        google.colab.kernel.accessAllowed ? 'block' : 'none';\n",
              "\n",
              "      async function convertToInteractive(key) {\n",
              "        const element = document.querySelector('#df-630816e3-ab35-4b8f-b59a-d2c989b97c3b');\n",
              "        const dataTable =\n",
              "          await google.colab.kernel.invokeFunction('convertToInteractive',\n",
              "                                                    [key], {});\n",
              "        if (!dataTable) return;\n",
              "\n",
              "        const docLinkHtml = 'Like what you see? Visit the ' +\n",
              "          '<a target=\"_blank\" href=https://colab.research.google.com/notebooks/data_table.ipynb>data table notebook</a>'\n",
              "          + ' to learn more about interactive tables.';\n",
              "        element.innerHTML = '';\n",
              "        dataTable['output_type'] = 'display_data';\n",
              "        await google.colab.output.renderOutput(dataTable, element);\n",
              "        const docLink = document.createElement('div');\n",
              "        docLink.innerHTML = docLinkHtml;\n",
              "        element.appendChild(docLink);\n",
              "      }\n",
              "    </script>\n",
              "  </div>\n",
              "\n",
              "\n",
              "<div id=\"df-4f68109f-17ab-4adc-adff-0e1a98575da9\">\n",
              "  <button class=\"colab-df-quickchart\" onclick=\"quickchart('df-4f68109f-17ab-4adc-adff-0e1a98575da9')\"\n",
              "            title=\"Suggest charts\"\n",
              "            style=\"display:none;\">\n",
              "\n",
              "<svg xmlns=\"http://www.w3.org/2000/svg\" height=\"24px\"viewBox=\"0 0 24 24\"\n",
              "     width=\"24px\">\n",
              "    <g>\n",
              "        <path d=\"M19 3H5c-1.1 0-2 .9-2 2v14c0 1.1.9 2 2 2h14c1.1 0 2-.9 2-2V5c0-1.1-.9-2-2-2zM9 17H7v-7h2v7zm4 0h-2V7h2v10zm4 0h-2v-4h2v4z\"/>\n",
              "    </g>\n",
              "</svg>\n",
              "  </button>\n",
              "\n",
              "<style>\n",
              "  .colab-df-quickchart {\n",
              "      --bg-color: #E8F0FE;\n",
              "      --fill-color: #1967D2;\n",
              "      --hover-bg-color: #E2EBFA;\n",
              "      --hover-fill-color: #174EA6;\n",
              "      --disabled-fill-color: #AAA;\n",
              "      --disabled-bg-color: #DDD;\n",
              "  }\n",
              "\n",
              "  [theme=dark] .colab-df-quickchart {\n",
              "      --bg-color: #3B4455;\n",
              "      --fill-color: #D2E3FC;\n",
              "      --hover-bg-color: #434B5C;\n",
              "      --hover-fill-color: #FFFFFF;\n",
              "      --disabled-bg-color: #3B4455;\n",
              "      --disabled-fill-color: #666;\n",
              "  }\n",
              "\n",
              "  .colab-df-quickchart {\n",
              "    background-color: var(--bg-color);\n",
              "    border: none;\n",
              "    border-radius: 50%;\n",
              "    cursor: pointer;\n",
              "    display: none;\n",
              "    fill: var(--fill-color);\n",
              "    height: 32px;\n",
              "    padding: 0;\n",
              "    width: 32px;\n",
              "  }\n",
              "\n",
              "  .colab-df-quickchart:hover {\n",
              "    background-color: var(--hover-bg-color);\n",
              "    box-shadow: 0 1px 2px rgba(60, 64, 67, 0.3), 0 1px 3px 1px rgba(60, 64, 67, 0.15);\n",
              "    fill: var(--button-hover-fill-color);\n",
              "  }\n",
              "\n",
              "  .colab-df-quickchart-complete:disabled,\n",
              "  .colab-df-quickchart-complete:disabled:hover {\n",
              "    background-color: var(--disabled-bg-color);\n",
              "    fill: var(--disabled-fill-color);\n",
              "    box-shadow: none;\n",
              "  }\n",
              "\n",
              "  .colab-df-spinner {\n",
              "    border: 2px solid var(--fill-color);\n",
              "    border-color: transparent;\n",
              "    border-bottom-color: var(--fill-color);\n",
              "    animation:\n",
              "      spin 1s steps(1) infinite;\n",
              "  }\n",
              "\n",
              "  @keyframes spin {\n",
              "    0% {\n",
              "      border-color: transparent;\n",
              "      border-bottom-color: var(--fill-color);\n",
              "      border-left-color: var(--fill-color);\n",
              "    }\n",
              "    20% {\n",
              "      border-color: transparent;\n",
              "      border-left-color: var(--fill-color);\n",
              "      border-top-color: var(--fill-color);\n",
              "    }\n",
              "    30% {\n",
              "      border-color: transparent;\n",
              "      border-left-color: var(--fill-color);\n",
              "      border-top-color: var(--fill-color);\n",
              "      border-right-color: var(--fill-color);\n",
              "    }\n",
              "    40% {\n",
              "      border-color: transparent;\n",
              "      border-right-color: var(--fill-color);\n",
              "      border-top-color: var(--fill-color);\n",
              "    }\n",
              "    60% {\n",
              "      border-color: transparent;\n",
              "      border-right-color: var(--fill-color);\n",
              "    }\n",
              "    80% {\n",
              "      border-color: transparent;\n",
              "      border-right-color: var(--fill-color);\n",
              "      border-bottom-color: var(--fill-color);\n",
              "    }\n",
              "    90% {\n",
              "      border-color: transparent;\n",
              "      border-bottom-color: var(--fill-color);\n",
              "    }\n",
              "  }\n",
              "</style>\n",
              "\n",
              "  <script>\n",
              "    async function quickchart(key) {\n",
              "      const quickchartButtonEl =\n",
              "        document.querySelector('#' + key + ' button');\n",
              "      quickchartButtonEl.disabled = true;  // To prevent multiple clicks.\n",
              "      quickchartButtonEl.classList.add('colab-df-spinner');\n",
              "      try {\n",
              "        const charts = await google.colab.kernel.invokeFunction(\n",
              "            'suggestCharts', [key], {});\n",
              "      } catch (error) {\n",
              "        console.error('Error during call to suggestCharts:', error);\n",
              "      }\n",
              "      quickchartButtonEl.classList.remove('colab-df-spinner');\n",
              "      quickchartButtonEl.classList.add('colab-df-quickchart-complete');\n",
              "    }\n",
              "    (() => {\n",
              "      let quickchartButtonEl =\n",
              "        document.querySelector('#df-4f68109f-17ab-4adc-adff-0e1a98575da9 button');\n",
              "      quickchartButtonEl.style.display =\n",
              "        google.colab.kernel.accessAllowed ? 'block' : 'none';\n",
              "    })();\n",
              "  </script>\n",
              "</div>\n",
              "\n",
              "    </div>\n",
              "  </div>\n"
            ],
            "text/plain": [
              "  Country_Code  Helmet_Fastened\n",
              "0          AFG                0\n",
              "1          ATG                0\n",
              "2          COM                0\n",
              "3          DMA                0\n",
              "4          GUY                0"
            ]
          },
          "execution_count": 6,
          "metadata": {},
          "output_type": "execute_result"
        }
      ],
      "source": [
        "helmet_fastened['Helmet_Fastened'] = helmet_fastened['Value'].apply(lambda x: 1 if x.strip().lower() == 'yes' else 0)\n",
        "helmet_fastened = helmet_fastened[['Country_Code', 'Helmet_Fastened']]\n",
        "helmet_fastened.head()\n"
      ]
    },
    {
      "cell_type": "code",
      "execution_count": 7,
      "id": "47e4d298",
      "metadata": {
        "colab": {
          "base_uri": "https://localhost:8080/",
          "height": 428
        },
        "id": "47e4d298",
        "outputId": "0803453d-e0a1-4bc6-c7aa-b3519cfafc79"
      },
      "outputs": [
        {
          "data": {
            "image/png": "[encoded data removed]",
            "text/plain": [
              "<Figure size 640x480 with 1 Axes>"
            ]
          },
          "metadata": {},
          "output_type": "display_data"
        }
      ],
      "source": [
        "plt.pie(helmet_fastened['Helmet_Fastened'].value_counts(), labels=['No', 'Yes'], autopct='%1.1f%%')\n",
        "plt.title('Helmet Fastened')\n",
        "plt.show()"
      ]
    },
    {
      "cell_type": "code",
      "execution_count": 8,
      "id": "e94a68cd",
      "metadata": {
        "colab": {
          "base_uri": "https://localhost:8080/",
          "height": 206
        },
        "id": "e94a68cd",
        "outputId": "db2606da-7996-4ddb-a840-c7dc0e211e88"
      },
      "outputs": [
        {
          "data": {
            "application/vnd.google.colaboratory.intrinsic+json": {
              "summary": "{\n  \"name\": \"helmet_data\",\n  \"rows\": 175,\n  \"fields\": [\n    {\n      \"column\": \"Country_Code\",\n      \"properties\": {\n        \"dtype\": \"string\",\n        \"num_unique_values\": 175,\n        \"samples\": [\n          \"TJK\",\n          \"STP\",\n          \"MDV\"\n        ],\n        \"semantic_type\": \"\",\n        \"description\": \"\"\n      }\n    },\n    {\n      \"column\": \"Helmet_Law_All_Occupants\",\n      \"properties\": {\n        \"dtype\": \"number\",\n        \"std\": 0,\n        \"min\": 0,\n        \"max\": 1,\n        \"num_unique_values\": 2,\n        \"samples\": [\n          1,\n          0\n        ],\n        \"semantic_type\": \"\",\n        \"description\": \"\"\n      }\n    },\n    {\n      \"column\": \"Helmet_Fastened\",\n      \"properties\": {\n        \"dtype\": \"number\",\n        \"std\": 0,\n        \"min\": 0,\n        \"max\": 1,\n        \"num_unique_values\": 2,\n        \"samples\": [\n          1,\n          0\n        ],\n        \"semantic_type\": \"\",\n        \"description\": \"\"\n      }\n    }\n  ]\n}",
              "type": "dataframe",
              "variable_name": "helmet_data"
            },
            "text/html": [
              "\n",
              "  <div id=\"df-3ccf8ef2-f4d3-4ca4-85a5-ff82ed213d0b\" class=\"colab-df-container\">\n",
              "    <div>\n",
              "<style scoped>\n",
              "    .dataframe tbody tr th:only-of-type {\n",
              "        vertical-align: middle;\n",
              "    }\n",
              "\n",
              "    .dataframe tbody tr th {\n",
              "        vertical-align: top;\n",
              "    }\n",
              "\n",
              "    .dataframe thead th {\n",
              "        text-align: right;\n",
              "    }\n",
              "</style>\n",
              "<table border=\"1\" class=\"dataframe\">\n",
              "  <thead>\n",
              "    <tr style=\"text-align: right;\">\n",
              "      <th></th>\n",
              "      <th>Country_Code</th>\n",
              "      <th>Helmet_Law_All_Occupants</th>\n",
              "      <th>Helmet_Fastened</th>\n",
              "    </tr>\n",
              "  </thead>\n",
              "  <tbody>\n",
              "    <tr>\n",
              "      <th>0</th>\n",
              "      <td>AFG</td>\n",
              "      <td>0</td>\n",
              "      <td>0</td>\n",
              "    </tr>\n",
              "    <tr>\n",
              "      <th>1</th>\n",
              "      <td>AGO</td>\n",
              "      <td>1</td>\n",
              "      <td>1</td>\n",
              "    </tr>\n",
              "    <tr>\n",
              "      <th>2</th>\n",
              "      <td>ALB</td>\n",
              "      <td>1</td>\n",
              "      <td>0</td>\n",
              "    </tr>\n",
              "    <tr>\n",
              "      <th>3</th>\n",
              "      <td>ARE</td>\n",
              "      <td>1</td>\n",
              "      <td>0</td>\n",
              "    </tr>\n",
              "    <tr>\n",
              "      <th>4</th>\n",
              "      <td>ARG</td>\n",
              "      <td>1</td>\n",
              "      <td>1</td>\n",
              "    </tr>\n",
              "  </tbody>\n",
              "</table>\n",
              "</div>\n",
              "    <div class=\"colab-df-buttons\">\n",
              "\n",
              "  <div class=\"colab-df-container\">\n",
              "    <button class=\"colab-df-convert\" onclick=\"convertToInteractive('df-3ccf8ef2-f4d3-4ca4-85a5-ff82ed213d0b')\"\n",
              "            title=\"Convert this dataframe to an interactive table.\"\n",
              "            style=\"display:none;\">\n",
              "\n",
              "  <svg xmlns=\"http://www.w3.org/2000/svg\" height=\"24px\" viewBox=\"0 -960 960 960\">\n",
              "    <path d=\"M120-120v-720h720v720H120Zm60-500h600v-160H180v160Zm220 220h160v-160H400v160Zm0 220h160v-160H400v160ZM180-400h160v-160H180v160Zm440 0h160v-160H620v160ZM180-180h160v-160H180v160Zm440 0h160v-160H620v160Z\"/>\n",
              "  </svg>\n",
              "    </button>\n",
              "\n",
              "  <style>\n",
              "    .colab-df-container {\n",
              "      display:flex;\n",
              "      gap: 12px;\n",
              "    }\n",
              "\n",
              "    .colab-df-convert {\n",
              "      background-color: #E8F0FE;\n",
              "      border: none;\n",
              "      border-radius: 50%;\n",
              "      cursor: pointer;\n",
              "      display: none;\n",
              "      fill: #1967D2;\n",
              "      height: 32px;\n",
              "      padding: 0 0 0 0;\n",
              "      width: 32px;\n",
              "    }\n",
              "\n",
              "    .colab-df-convert:hover {\n",
              "      background-color: #E2EBFA;\n",
              "      box-shadow: 0px 1px 2px rgba(60, 64, 67, 0.3), 0px 1px 3px 1px rgba(60, 64, 67, 0.15);\n",
              "      fill: #174EA6;\n",
              "    }\n",
              "\n",
              "    .colab-df-buttons div {\n",
              "      margin-bottom: 4px;\n",
              "    }\n",
              "\n",
              "    [theme=dark] .colab-df-convert {\n",
              "      background-color: #3B4455;\n",
              "      fill: #D2E3FC;\n",
              "    }\n",
              "\n",
              "    [theme=dark] .colab-df-convert:hover {\n",
              "      background-color: #434B5C;\n",
              "      box-shadow: 0px 1px 3px 1px rgba(0, 0, 0, 0.15);\n",
              "      filter: drop-shadow(0px 1px 2px rgba(0, 0, 0, 0.3));\n",
              "      fill: #FFFFFF;\n",
              "    }\n",
              "  </style>\n",
              "\n",
              "    <script>\n",
              "      const buttonEl =\n",
              "        document.querySelector('#df-3ccf8ef2-f4d3-4ca4-85a5-ff82ed213d0b button.colab-df-convert');\n",
              "      buttonEl.style.display =\n",
              "        google.colab.kernel.accessAllowed ? 'block' : 'none';\n",
              "\n",
              "      async function convertToInteractive(key) {\n",
              "        const element = document.querySelector('#df-3ccf8ef2-f4d3-4ca4-85a5-ff82ed213d0b');\n",
              "        const dataTable =\n",
              "          await google.colab.kernel.invokeFunction('convertToInteractive',\n",
              "                                                    [key], {});\n",
              "        if (!dataTable) return;\n",
              "\n",
              "        const docLinkHtml = 'Like what you see? Visit the ' +\n",
              "          '<a target=\"_blank\" href=https://colab.research.google.com/notebooks/data_table.ipynb>data table notebook</a>'\n",
              "          + ' to learn more about interactive tables.';\n",
              "        element.innerHTML = '';\n",
              "        dataTable['output_type'] = 'display_data';\n",
              "        await google.colab.output.renderOutput(dataTable, element);\n",
              "        const docLink = document.createElement('div');\n",
              "        docLink.innerHTML = docLinkHtml;\n",
              "        element.appendChild(docLink);\n",
              "      }\n",
              "    </script>\n",
              "  </div>\n",
              "\n",
              "\n",
              "<div id=\"df-5e99acf8-05c8-4090-b77e-950aa2b01d4e\">\n",
              "  <button class=\"colab-df-quickchart\" onclick=\"quickchart('df-5e99acf8-05c8-4090-b77e-950aa2b01d4e')\"\n",
              "            title=\"Suggest charts\"\n",
              "            style=\"display:none;\">\n",
              "\n",
              "<svg xmlns=\"http://www.w3.org/2000/svg\" height=\"24px\"viewBox=\"0 0 24 24\"\n",
              "     width=\"24px\">\n",
              "    <g>\n",
              "        <path d=\"M19 3H5c-1.1 0-2 .9-2 2v14c0 1.1.9 2 2 2h14c1.1 0 2-.9 2-2V5c0-1.1-.9-2-2-2zM9 17H7v-7h2v7zm4 0h-2V7h2v10zm4 0h-2v-4h2v4z\"/>\n",
              "    </g>\n",
              "</svg>\n",
              "  </button>\n",
              "\n",
              "<style>\n",
              "  .colab-df-quickchart {\n",
              "      --bg-color: #E8F0FE;\n",
              "      --fill-color: #1967D2;\n",
              "      --hover-bg-color: #E2EBFA;\n",
              "      --hover-fill-color: #174EA6;\n",
              "      --disabled-fill-color: #AAA;\n",
              "      --disabled-bg-color: #DDD;\n",
              "  }\n",
              "\n",
              "  [theme=dark] .colab-df-quickchart {\n",
              "      --bg-color: #3B4455;\n",
              "      --fill-color: #D2E3FC;\n",
              "      --hover-bg-color: #434B5C;\n",
              "      --hover-fill-color: #FFFFFF;\n",
              "      --disabled-bg-color: #3B4455;\n",
              "      --disabled-fill-color: #666;\n",
              "  }\n",
              "\n",
              "  .colab-df-quickchart {\n",
              "    background-color: var(--bg-color);\n",
              "    border: none;\n",
              "    border-radius: 50%;\n",
              "    cursor: pointer;\n",
              "    display: none;\n",
              "    fill: var(--fill-color);\n",
              "    height: 32px;\n",
              "    padding: 0;\n",
              "    width: 32px;\n",
              "  }\n",
              "\n",
              "  .colab-df-quickchart:hover {\n",
              "    background-color: var(--hover-bg-color);\n",
              "    box-shadow: 0 1px 2px rgba(60, 64, 67, 0.3), 0 1px 3px 1px rgba(60, 64, 67, 0.15);\n",
              "    fill: var(--button-hover-fill-color);\n",
              "  }\n",
              "\n",
              "  .colab-df-quickchart-complete:disabled,\n",
              "  .colab-df-quickchart-complete:disabled:hover {\n",
              "    background-color: var(--disabled-bg-color);\n",
              "    fill: var(--disabled-fill-color);\n",
              "    box-shadow: none;\n",
              "  }\n",
              "\n",
              "  .colab-df-spinner {\n",
              "    border: 2px solid var(--fill-color);\n",
              "    border-color: transparent;\n",
              "    border-bottom-color: var(--fill-color);\n",
              "    animation:\n",
              "      spin 1s steps(1) infinite;\n",
              "  }\n",
              "\n",
              "  @keyframes spin {\n",
              "    0% {\n",
              "      border-color: transparent;\n",
              "      border-bottom-color: var(--fill-color);\n",
              "      border-left-color: var(--fill-color);\n",
              "    }\n",
              "    20% {\n",
              "      border-color: transparent;\n",
              "      border-left-color: var(--fill-color);\n",
              "      border-top-color: var(--fill-color);\n",
              "    }\n",
              "    30% {\n",
              "      border-color: transparent;\n",
              "      border-left-color: var(--fill-color);\n",
              "      border-top-color: var(--fill-color);\n",
              "      border-right-color: var(--fill-color);\n",
              "    }\n",
              "    40% {\n",
              "      border-color: transparent;\n",
              "      border-right-color: var(--fill-color);\n",
              "      border-top-color: var(--fill-color);\n",
              "    }\n",
              "    60% {\n",
              "      border-color: transparent;\n",
              "      border-right-color: var(--fill-color);\n",
              "    }\n",
              "    80% {\n",
              "      border-color: transparent;\n",
              "      border-right-color: var(--fill-color);\n",
              "      border-bottom-color: var(--fill-color);\n",
              "    }\n",
              "    90% {\n",
              "      border-color: transparent;\n",
              "      border-bottom-color: var(--fill-color);\n",
              "    }\n",
              "  }\n",
              "</style>\n",
              "\n",
              "  <script>\n",
              "    async function quickchart(key) {\n",
              "      const quickchartButtonEl =\n",
              "        document.querySelector('#' + key + ' button');\n",
              "      quickchartButtonEl.disabled = true;  // To prevent multiple clicks.\n",
              "      quickchartButtonEl.classList.add('colab-df-spinner');\n",
              "      try {\n",
              "        const charts = await google.colab.kernel.invokeFunction(\n",
              "            'suggestCharts', [key], {});\n",
              "      } catch (error) {\n",
              "        console.error('Error during call to suggestCharts:', error);\n",
              "      }\n",
              "      quickchartButtonEl.classList.remove('colab-df-spinner');\n",
              "      quickchartButtonEl.classList.add('colab-df-quickchart-complete');\n",
              "    }\n",
              "    (() => {\n",
              "      let quickchartButtonEl =\n",
              "        document.querySelector('#df-5e99acf8-05c8-4090-b77e-950aa2b01d4e button');\n",
              "      quickchartButtonEl.style.display =\n",
              "        google.colab.kernel.accessAllowed ? 'block' : 'none';\n",
              "    })();\n",
              "  </script>\n",
              "</div>\n",
              "\n",
              "    </div>\n",
              "  </div>\n"
            ],
            "text/plain": [
              "  Country_Code  Helmet_Law_All_Occupants  Helmet_Fastened\n",
              "0          AFG                         0                0\n",
              "1          AGO                         1                1\n",
              "2          ALB                         1                0\n",
              "3          ARE                         1                0\n",
              "4          ARG                         1                1"
            ]
          },
          "execution_count": 8,
          "metadata": {},
          "output_type": "execute_result"
        }
      ],
      "source": [
        "helmet_data = pd.merge(helmet_status, helmet_fastened, on='Country_Code', how='inner')\n",
        "helmet_data.head()\n"
      ]
    },
    {
      "cell_type": "markdown",
      "id": "a8b6f03f",
      "metadata": {
        "id": "a8b6f03f"
      },
      "source": [
        "#### Insight: Strictness of Helmet Laws\n",
        "\n",
        "We define a country as having a **strict helmet law** if it:\n",
        "- Applies to both drivers and adult passengers, AND\n",
        "- Requires helmets to be fastened.\n"
      ]
    },
    {
      "cell_type": "code",
      "execution_count": 9,
      "id": "cESHe9Q1Fvvs",
      "metadata": {
        "colab": {
          "base_uri": "https://localhost:8080/",
          "height": 206
        },
        "id": "cESHe9Q1Fvvs",
        "outputId": "719bcdd6-01fe-49e8-ac35-89bca87b275b"
      },
      "outputs": [
        {
          "data": {
            "application/vnd.google.colaboratory.intrinsic+json": {
              "summary": "{\n  \"name\": \"helmet_data\",\n  \"rows\": 175,\n  \"fields\": [\n    {\n      \"column\": \"Country_Code\",\n      \"properties\": {\n        \"dtype\": \"string\",\n        \"num_unique_values\": 175,\n        \"samples\": [\n          \"TJK\",\n          \"STP\",\n          \"MDV\"\n        ],\n        \"semantic_type\": \"\",\n        \"description\": \"\"\n      }\n    },\n    {\n      \"column\": \"Helmet_Law_All_Occupants\",\n      \"properties\": {\n        \"dtype\": \"number\",\n        \"std\": 0,\n        \"min\": 0,\n        \"max\": 1,\n        \"num_unique_values\": 2,\n        \"samples\": [\n          1,\n          0\n        ],\n        \"semantic_type\": \"\",\n        \"description\": \"\"\n      }\n    },\n    {\n      \"column\": \"Helmet_Fastened\",\n      \"properties\": {\n        \"dtype\": \"number\",\n        \"std\": 0,\n        \"min\": 0,\n        \"max\": 1,\n        \"num_unique_values\": 2,\n        \"samples\": [\n          1,\n          0\n        ],\n        \"semantic_type\": \"\",\n        \"description\": \"\"\n      }\n    },\n    {\n      \"column\": \"Strict_Helmet_Law\",\n      \"properties\": {\n        \"dtype\": \"number\",\n        \"std\": 0,\n        \"min\": 0,\n        \"max\": 1,\n        \"num_unique_values\": 2,\n        \"samples\": [\n          1,\n          0\n        ],\n        \"semantic_type\": \"\",\n        \"description\": \"\"\n      }\n    }\n  ]\n}",
              "type": "dataframe",
              "variable_name": "helmet_data"
            },
            "text/html": [
              "\n",
              "  <div id=\"df-64b2a360-d2cb-4b91-a6bf-9e3a7a1352a9\" class=\"colab-df-container\">\n",
              "    <div>\n",
              "<style scoped>\n",
              "    .dataframe tbody tr th:only-of-type {\n",
              "        vertical-align: middle;\n",
              "    }\n",
              "\n",
              "    .dataframe tbody tr th {\n",
              "        vertical-align: top;\n",
              "    }\n",
              "\n",
              "    .dataframe thead th {\n",
              "        text-align: right;\n",
              "    }\n",
              "</style>\n",
              "<table border=\"1\" class=\"dataframe\">\n",
              "  <thead>\n",
              "    <tr style=\"text-align: right;\">\n",
              "      <th></th>\n",
              "      <th>Country_Code</th>\n",
              "      <th>Helmet_Law_All_Occupants</th>\n",
              "      <th>Helmet_Fastened</th>\n",
              "      <th>Strict_Helmet_Law</th>\n",
              "    </tr>\n",
              "  </thead>\n",
              "  <tbody>\n",
              "    <tr>\n",
              "      <th>0</th>\n",
              "      <td>AFG</td>\n",
              "      <td>0</td>\n",
              "      <td>0</td>\n",
              "      <td>0</td>\n",
              "    </tr>\n",
              "    <tr>\n",
              "      <th>1</th>\n",
              "      <td>AGO</td>\n",
              "      <td>1</td>\n",
              "      <td>1</td>\n",
              "      <td>1</td>\n",
              "    </tr>\n",
              "    <tr>\n",
              "      <th>2</th>\n",
              "      <td>ALB</td>\n",
              "      <td>1</td>\n",
              "      <td>0</td>\n",
              "      <td>0</td>\n",
              "    </tr>\n",
              "    <tr>\n",
              "      <th>3</th>\n",
              "      <td>ARE</td>\n",
              "      <td>1</td>\n",
              "      <td>0</td>\n",
              "      <td>0</td>\n",
              "    </tr>\n",
              "    <tr>\n",
              "      <th>4</th>\n",
              "      <td>ARG</td>\n",
              "      <td>1</td>\n",
              "      <td>1</td>\n",
              "      <td>1</td>\n",
              "    </tr>\n",
              "  </tbody>\n",
              "</table>\n",
              "</div>\n",
              "    <div class=\"colab-df-buttons\">\n",
              "\n",
              "  <div class=\"colab-df-container\">\n",
              "    <button class=\"colab-df-convert\" onclick=\"convertToInteractive('df-64b2a360-d2cb-4b91-a6bf-9e3a7a1352a9')\"\n",
              "            title=\"Convert this dataframe to an interactive table.\"\n",
              "            style=\"display:none;\">\n",
              "\n",
              "  <svg xmlns=\"http://www.w3.org/2000/svg\" height=\"24px\" viewBox=\"0 -960 960 960\">\n",
              "    <path d=\"M120-120v-720h720v720H120Zm60-500h600v-160H180v160Zm220 220h160v-160H400v160Zm0 220h160v-160H400v160ZM180-400h160v-160H180v160Zm440 0h160v-160H620v160ZM180-180h160v-160H180v160Zm440 0h160v-160H620v160Z\"/>\n",
              "  </svg>\n",
              "    </button>\n",
              "\n",
              "  <style>\n",
              "    .colab-df-container {\n",
              "      display:flex;\n",
              "      gap: 12px;\n",
              "    }\n",
              "\n",
              "    .colab-df-convert {\n",
              "      background-color: #E8F0FE;\n",
              "      border: none;\n",
              "      border-radius: 50%;\n",
              "      cursor: pointer;\n",
              "      display: none;\n",
              "      fill: #1967D2;\n",
              "      height: 32px;\n",
              "      padding: 0 0 0 0;\n",
              "      width: 32px;\n",
              "    }\n",
              "\n",
              "    .colab-df-convert:hover {\n",
              "      background-color: #E2EBFA;\n",
              "      box-shadow: 0px 1px 2px rgba(60, 64, 67, 0.3), 0px 1px 3px 1px rgba(60, 64, 67, 0.15);\n",
              "      fill: #174EA6;\n",
              "    }\n",
              "\n",
              "    .colab-df-buttons div {\n",
              "      margin-bottom: 4px;\n",
              "    }\n",
              "\n",
              "    [theme=dark] .colab-df-convert {\n",
              "      background-color: #3B4455;\n",
              "      fill: #D2E3FC;\n",
              "    }\n",
              "\n",
              "    [theme=dark] .colab-df-convert:hover {\n",
              "      background-color: #434B5C;\n",
              "      box-shadow: 0px 1px 3px 1px rgba(0, 0, 0, 0.15);\n",
              "      filter: drop-shadow(0px 1px 2px rgba(0, 0, 0, 0.3));\n",
              "      fill: #FFFFFF;\n",
              "    }\n",
              "  </style>\n",
              "\n",
              "    <script>\n",
              "      const buttonEl =\n",
              "        document.querySelector('#df-64b2a360-d2cb-4b91-a6bf-9e3a7a1352a9 button.colab-df-convert');\n",
              "      buttonEl.style.display =\n",
              "        google.colab.kernel.accessAllowed ? 'block' : 'none';\n",
              "\n",
              "      async function convertToInteractive(key) {\n",
              "        const element = document.querySelector('#df-64b2a360-d2cb-4b91-a6bf-9e3a7a1352a9');\n",
              "        const dataTable =\n",
              "          await google.colab.kernel.invokeFunction('convertToInteractive',\n",
              "                                                    [key], {});\n",
              "        if (!dataTable) return;\n",
              "\n",
              "        const docLinkHtml = 'Like what you see? Visit the ' +\n",
              "          '<a target=\"_blank\" href=https://colab.research.google.com/notebooks/data_table.ipynb>data table notebook</a>'\n",
              "          + ' to learn more about interactive tables.';\n",
              "        element.innerHTML = '';\n",
              "        dataTable['output_type'] = 'display_data';\n",
              "        await google.colab.output.renderOutput(dataTable, element);\n",
              "        const docLink = document.createElement('div');\n",
              "        docLink.innerHTML = docLinkHtml;\n",
              "        element.appendChild(docLink);\n",
              "      }\n",
              "    </script>\n",
              "  </div>\n",
              "\n",
              "\n",
              "<div id=\"df-a3a8bc97-bf6e-4312-92df-cffd47ba13e2\">\n",
              "  <button class=\"colab-df-quickchart\" onclick=\"quickchart('df-a3a8bc97-bf6e-4312-92df-cffd47ba13e2')\"\n",
              "            title=\"Suggest charts\"\n",
              "            style=\"display:none;\">\n",
              "\n",
              "<svg xmlns=\"http://www.w3.org/2000/svg\" height=\"24px\"viewBox=\"0 0 24 24\"\n",
              "     width=\"24px\">\n",
              "    <g>\n",
              "        <path d=\"M19 3H5c-1.1 0-2 .9-2 2v14c0 1.1.9 2 2 2h14c1.1 0 2-.9 2-2V5c0-1.1-.9-2-2-2zM9 17H7v-7h2v7zm4 0h-2V7h2v10zm4 0h-2v-4h2v4z\"/>\n",
              "    </g>\n",
              "</svg>\n",
              "  </button>\n",
              "\n",
              "<style>\n",
              "  .colab-df-quickchart {\n",
              "      --bg-color: #E8F0FE;\n",
              "      --fill-color: #1967D2;\n",
              "      --hover-bg-color: #E2EBFA;\n",
              "      --hover-fill-color: #174EA6;\n",
              "      --disabled-fill-color: #AAA;\n",
              "      --disabled-bg-color: #DDD;\n",
              "  }\n",
              "\n",
              "  [theme=dark] .colab-df-quickchart {\n",
              "      --bg-color: #3B4455;\n",
              "      --fill-color: #D2E3FC;\n",
              "      --hover-bg-color: #434B5C;\n",
              "      --hover-fill-color: #FFFFFF;\n",
              "      --disabled-bg-color: #3B4455;\n",
              "      --disabled-fill-color: #666;\n",
              "  }\n",
              "\n",
              "  .colab-df-quickchart {\n",
              "    background-color: var(--bg-color);\n",
              "    border: none;\n",
              "    border-radius: 50%;\n",
              "    cursor: pointer;\n",
              "    display: none;\n",
              "    fill: var(--fill-color);\n",
              "    height: 32px;\n",
              "    padding: 0;\n",
              "    width: 32px;\n",
              "  }\n",
              "\n",
              "  .colab-df-quickchart:hover {\n",
              "    background-color: var(--hover-bg-color);\n",
              "    box-shadow: 0 1px 2px rgba(60, 64, 67, 0.3), 0 1px 3px 1px rgba(60, 64, 67, 0.15);\n",
              "    fill: var(--button-hover-fill-color);\n",
              "  }\n",
              "\n",
              "  .colab-df-quickchart-complete:disabled,\n",
              "  .colab-df-quickchart-complete:disabled:hover {\n",
              "    background-color: var(--disabled-bg-color);\n",
              "    fill: var(--disabled-fill-color);\n",
              "    box-shadow: none;\n",
              "  }\n",
              "\n",
              "  .colab-df-spinner {\n",
              "    border: 2px solid var(--fill-color);\n",
              "    border-color: transparent;\n",
              "    border-bottom-color: var(--fill-color);\n",
              "    animation:\n",
              "      spin 1s steps(1) infinite;\n",
              "  }\n",
              "\n",
              "  @keyframes spin {\n",
              "    0% {\n",
              "      border-color: transparent;\n",
              "      border-bottom-color: var(--fill-color);\n",
              "      border-left-color: var(--fill-color);\n",
              "    }\n",
              "    20% {\n",
              "      border-color: transparent;\n",
              "      border-left-color: var(--fill-color);\n",
              "      border-top-color: var(--fill-color);\n",
              "    }\n",
              "    30% {\n",
              "      border-color: transparent;\n",
              "      border-left-color: var(--fill-color);\n",
              "      border-top-color: var(--fill-color);\n",
              "      border-right-color: var(--fill-color);\n",
              "    }\n",
              "    40% {\n",
              "      border-color: transparent;\n",
              "      border-right-color: var(--fill-color);\n",
              "      border-top-color: var(--fill-color);\n",
              "    }\n",
              "    60% {\n",
              "      border-color: transparent;\n",
              "      border-right-color: var(--fill-color);\n",
              "    }\n",
              "    80% {\n",
              "      border-color: transparent;\n",
              "      border-right-color: var(--fill-color);\n",
              "      border-bottom-color: var(--fill-color);\n",
              "    }\n",
              "    90% {\n",
              "      border-color: transparent;\n",
              "      border-bottom-color: var(--fill-color);\n",
              "    }\n",
              "  }\n",
              "</style>\n",
              "\n",
              "  <script>\n",
              "    async function quickchart(key) {\n",
              "      const quickchartButtonEl =\n",
              "        document.querySelector('#' + key + ' button');\n",
              "      quickchartButtonEl.disabled = true;  // To prevent multiple clicks.\n",
              "      quickchartButtonEl.classList.add('colab-df-spinner');\n",
              "      try {\n",
              "        const charts = await google.colab.kernel.invokeFunction(\n",
              "            'suggestCharts', [key], {});\n",
              "      } catch (error) {\n",
              "        console.error('Error during call to suggestCharts:', error);\n",
              "      }\n",
              "      quickchartButtonEl.classList.remove('colab-df-spinner');\n",
              "      quickchartButtonEl.classList.add('colab-df-quickchart-complete');\n",
              "    }\n",
              "    (() => {\n",
              "      let quickchartButtonEl =\n",
              "        document.querySelector('#df-a3a8bc97-bf6e-4312-92df-cffd47ba13e2 button');\n",
              "      quickchartButtonEl.style.display =\n",
              "        google.colab.kernel.accessAllowed ? 'block' : 'none';\n",
              "    })();\n",
              "  </script>\n",
              "</div>\n",
              "\n",
              "    </div>\n",
              "  </div>\n"
            ],
            "text/plain": [
              "  Country_Code  Helmet_Law_All_Occupants  Helmet_Fastened  Strict_Helmet_Law\n",
              "0          AFG                         0                0                  0\n",
              "1          AGO                         1                1                  1\n",
              "2          ALB                         1                0                  0\n",
              "3          ARE                         1                0                  0\n",
              "4          ARG                         1                1                  1"
            ]
          },
          "execution_count": 9,
          "metadata": {},
          "output_type": "execute_result"
        }
      ],
      "source": [
        "helmet_data[\"Strict_Helmet_Law\"] = helmet_data.apply(\n",
        "    lambda row: 1 if row[\"Helmet_Law_All_Occupants\"] == 1 and row[\"Helmet_Fastened\"] == 1 else 0, axis=1\n",
        ")\n",
        "helmet_data.head()"
      ]
    },
    {
      "cell_type": "code",
      "execution_count": 10,
      "id": "6192bd5f",
      "metadata": {
        "colab": {
          "base_uri": "https://localhost:8080/",
          "height": 522
        },
        "id": "6192bd5f",
        "outputId": "b646c505-16b8-4220-a988-2dd9b1cf1837"
      },
      "outputs": [
        {
          "data": {
            "image/png": "[encoded data removed]",
            "text/plain": [
              "<Figure size 600x600 with 1 Axes>"
            ]
          },
          "metadata": {},
          "output_type": "display_data"
        }
      ],
      "source": [
        "# Optional: apply seaborn style\n",
        "sns.set_theme(style=\"whitegrid\")\n",
        "\n",
        "# Count values\n",
        "helmet_counts = helmet_data['Strict_Helmet_Law'].value_counts().sort_index()\n",
        "\n",
        "# Labels and colors\n",
        "labels = ['No', 'Yes']\n",
        "colors = ['#ff9999', '#66b3ff']\n",
        "\n",
        "# Plot\n",
        "plt.figure(figsize=(6, 6))\n",
        "plt.pie(\n",
        "    helmet_counts,\n",
        "    labels=labels,\n",
        "    autopct='%1.1f%%',\n",
        "    startangle=140,\n",
        "    colors=colors,\n",
        "    textprops={'fontsize': 12}\n",
        ")\n",
        "\n",
        "plt.title(\"Countries with Strict Helmet Laws\", fontsize=14)\n",
        "plt.axis('equal')  # Equal aspect ratio ensures pie is circular\n",
        "plt.show()\n"
      ]
    },
    {
      "cell_type": "markdown",
      "id": "2069153a",
      "metadata": {
        "id": "2069153a"
      },
      "source": [
        "### Do Laws Work?\n",
        "\n",
        "Let’s now explore the link between the laws and actual motorcycle-related fatalities.\n",
        "\n",
        "We'll use the % of road traffic deaths that are motorcyclists as a proxy for vulnerability.\n"
      ]
    },
    {
      "cell_type": "code",
      "execution_count": 11,
      "id": "a87f27f7",
      "metadata": {
        "id": "a87f27f7"
      },
      "outputs": [],
      "source": [
        "moto_deaths = death_distribution[death_distribution['Data_Description'] == 'Drivers/passengers of motorized 2- or 3-wheelers']\n",
        "moto_deaths = moto_deaths[['Country_Code', 'Value']]\n",
        "moto_deaths.columns = ['Country_Code', 'Motorcyclist_Death_Percentage']\n",
        "moto_deaths['Motorcyclist_Death_Percentage'] = pd.to_numeric(moto_deaths['Motorcyclist_Death_Percentage'], errors='coerce')\n"
      ]
    },
    {
      "cell_type": "code",
      "execution_count": 12,
      "id": "c6287042",
      "metadata": {
        "colab": {
          "base_uri": "https://localhost:8080/",
          "height": 424
        },
        "id": "c6287042",
        "outputId": "4aa03246-b7be-4142-da8e-99629d9fe0d7"
      },
      "outputs": [
        {
          "data": {
            "application/vnd.google.colaboratory.intrinsic+json": {
              "summary": "{\n  \"name\": \"moto_deaths\",\n  \"rows\": 128,\n  \"fields\": [\n    {\n      \"column\": \"Country_Code\",\n      \"properties\": {\n        \"dtype\": \"string\",\n        \"num_unique_values\": 127,\n        \"samples\": [\n          \"ISR\",\n          \"THA\",\n          \"UGA\"\n        ],\n        \"semantic_type\": \"\",\n        \"description\": \"\"\n      }\n    },\n    {\n      \"column\": \"Motorcyclist_Death_Percentage\",\n      \"properties\": {\n        \"dtype\": \"number\",\n        \"std\": 19.434569952210474,\n        \"min\": 0.0,\n        \"max\": 80.0,\n        \"num_unique_values\": 105,\n        \"samples\": [\n          17.9,\n          33.4,\n          33.3\n        ],\n        \"semantic_type\": \"\",\n        \"description\": \"\"\n      }\n    }\n  ]\n}",
              "type": "dataframe",
              "variable_name": "moto_deaths"
            },
            "text/html": [
              "\n",
              "  <div id=\"df-0d6a88dd-4f02-480e-814a-8e6c7779b5e0\" class=\"colab-df-container\">\n",
              "    <div>\n",
              "<style scoped>\n",
              "    .dataframe tbody tr th:only-of-type {\n",
              "        vertical-align: middle;\n",
              "    }\n",
              "\n",
              "    .dataframe tbody tr th {\n",
              "        vertical-align: top;\n",
              "    }\n",
              "\n",
              "    .dataframe thead th {\n",
              "        text-align: right;\n",
              "    }\n",
              "</style>\n",
              "<table border=\"1\" class=\"dataframe\">\n",
              "  <thead>\n",
              "    <tr style=\"text-align: right;\">\n",
              "      <th></th>\n",
              "      <th>Country_Code</th>\n",
              "      <th>Motorcyclist_Death_Percentage</th>\n",
              "    </tr>\n",
              "  </thead>\n",
              "  <tbody>\n",
              "    <tr>\n",
              "      <th>1</th>\n",
              "      <td>ATG</td>\n",
              "      <td>0.0</td>\n",
              "    </tr>\n",
              "    <tr>\n",
              "      <th>4</th>\n",
              "      <td>BWA</td>\n",
              "      <td>0.0</td>\n",
              "    </tr>\n",
              "    <tr>\n",
              "      <th>11</th>\n",
              "      <td>DMA</td>\n",
              "      <td>0.0</td>\n",
              "    </tr>\n",
              "    <tr>\n",
              "      <th>16</th>\n",
              "      <td>JOR</td>\n",
              "      <td>0.0</td>\n",
              "    </tr>\n",
              "    <tr>\n",
              "      <th>30</th>\n",
              "      <td>FSM</td>\n",
              "      <td>0.0</td>\n",
              "    </tr>\n",
              "    <tr>\n",
              "      <th>...</th>\n",
              "      <td>...</td>\n",
              "      <td>...</td>\n",
              "    </tr>\n",
              "    <tr>\n",
              "      <th>633</th>\n",
              "      <td>SWZ</td>\n",
              "      <td>2.0</td>\n",
              "    </tr>\n",
              "    <tr>\n",
              "      <th>637</th>\n",
              "      <td>NIC</td>\n",
              "      <td>26.0</td>\n",
              "    </tr>\n",
              "    <tr>\n",
              "      <th>648</th>\n",
              "      <td>AND</td>\n",
              "      <td>50.0</td>\n",
              "    </tr>\n",
              "    <tr>\n",
              "      <th>653</th>\n",
              "      <td>MHL</td>\n",
              "      <td>66.7</td>\n",
              "    </tr>\n",
              "    <tr>\n",
              "      <th>654</th>\n",
              "      <td>BHR</td>\n",
              "      <td>9.1</td>\n",
              "    </tr>\n",
              "  </tbody>\n",
              "</table>\n",
              "<p>128 rows × 2 columns</p>\n",
              "</div>\n",
              "    <div class=\"colab-df-buttons\">\n",
              "\n",
              "  <div class=\"colab-df-container\">\n",
              "    <button class=\"colab-df-convert\" onclick=\"convertToInteractive('df-0d6a88dd-4f02-480e-814a-8e6c7779b5e0')\"\n",
              "            title=\"Convert this dataframe to an interactive table.\"\n",
              "            style=\"display:none;\">\n",
              "\n",
              "  <svg xmlns=\"http://www.w3.org/2000/svg\" height=\"24px\" viewBox=\"0 -960 960 960\">\n",
              "    <path d=\"M120-120v-720h720v720H120Zm60-500h600v-160H180v160Zm220 220h160v-160H400v160Zm0 220h160v-160H400v160ZM180-400h160v-160H180v160Zm440 0h160v-160H620v160ZM180-180h160v-160H180v160Zm440 0h160v-160H620v160Z\"/>\n",
              "  </svg>\n",
              "    </button>\n",
              "\n",
              "  <style>\n",
              "    .colab-df-container {\n",
              "      display:flex;\n",
              "      gap: 12px;\n",
              "    }\n",
              "\n",
              "    .colab-df-convert {\n",
              "      background-color: #E8F0FE;\n",
              "      border: none;\n",
              "      border-radius: 50%;\n",
              "      cursor: pointer;\n",
              "      display: none;\n",
              "      fill: #1967D2;\n",
              "      height: 32px;\n",
              "      padding: 0 0 0 0;\n",
              "      width: 32px;\n",
              "    }\n",
              "\n",
              "    .colab-df-convert:hover {\n",
              "      background-color: #E2EBFA;\n",
              "      box-shadow: 0px 1px 2px rgba(60, 64, 67, 0.3), 0px 1px 3px 1px rgba(60, 64, 67, 0.15);\n",
              "      fill: #174EA6;\n",
              "    }\n",
              "\n",
              "    .colab-df-buttons div {\n",
              "      margin-bottom: 4px;\n",
              "    }\n",
              "\n",
              "    [theme=dark] .colab-df-convert {\n",
              "      background-color: #3B4455;\n",
              "      fill: #D2E3FC;\n",
              "    }\n",
              "\n",
              "    [theme=dark] .colab-df-convert:hover {\n",
              "      background-color: #434B5C;\n",
              "      box-shadow: 0px 1px 3px 1px rgba(0, 0, 0, 0.15);\n",
              "      filter: drop-shadow(0px 1px 2px rgba(0, 0, 0, 0.3));\n",
              "      fill: #FFFFFF;\n",
              "    }\n",
              "  </style>\n",
              "\n",
              "    <script>\n",
              "      const buttonEl =\n",
              "        document.querySelector('#df-0d6a88dd-4f02-480e-814a-8e6c7779b5e0 button.colab-df-convert');\n",
              "      buttonEl.style.display =\n",
              "        google.colab.kernel.accessAllowed ? 'block' : 'none';\n",
              "\n",
              "      async function convertToInteractive(key) {\n",
              "        const element = document.querySelector('#df-0d6a88dd-4f02-480e-814a-8e6c7779b5e0');\n",
              "        const dataTable =\n",
              "          await google.colab.kernel.invokeFunction('convertToInteractive',\n",
              "                                                    [key], {});\n",
              "        if (!dataTable) return;\n",
              "\n",
              "        const docLinkHtml = 'Like what you see? Visit the ' +\n",
              "          '<a target=\"_blank\" href=https://colab.research.google.com/notebooks/data_table.ipynb>data table notebook</a>'\n",
              "          + ' to learn more about interactive tables.';\n",
              "        element.innerHTML = '';\n",
              "        dataTable['output_type'] = 'display_data';\n",
              "        await google.colab.output.renderOutput(dataTable, element);\n",
              "        const docLink = document.createElement('div');\n",
              "        docLink.innerHTML = docLinkHtml;\n",
              "        element.appendChild(docLink);\n",
              "      }\n",
              "    </script>\n",
              "  </div>\n",
              "\n",
              "\n",
              "<div id=\"df-e3144ee0-2c2e-489e-ae01-367b853e7247\">\n",
              "  <button class=\"colab-df-quickchart\" onclick=\"quickchart('df-e3144ee0-2c2e-489e-ae01-367b853e7247')\"\n",
              "            title=\"Suggest charts\"\n",
              "            style=\"display:none;\">\n",
              "\n",
              "<svg xmlns=\"http://www.w3.org/2000/svg\" height=\"24px\"viewBox=\"0 0 24 24\"\n",
              "     width=\"24px\">\n",
              "    <g>\n",
              "        <path d=\"M19 3H5c-1.1 0-2 .9-2 2v14c0 1.1.9 2 2 2h14c1.1 0 2-.9 2-2V5c0-1.1-.9-2-2-2zM9 17H7v-7h2v7zm4 0h-2V7h2v10zm4 0h-2v-4h2v4z\"/>\n",
              "    </g>\n",
              "</svg>\n",
              "  </button>\n",
              "\n",
              "<style>\n",
              "  .colab-df-quickchart {\n",
              "      --bg-color: #E8F0FE;\n",
              "      --fill-color: #1967D2;\n",
              "      --hover-bg-color: #E2EBFA;\n",
              "      --hover-fill-color: #174EA6;\n",
              "      --disabled-fill-color: #AAA;\n",
              "      --disabled-bg-color: #DDD;\n",
              "  }\n",
              "\n",
              "  [theme=dark] .colab-df-quickchart {\n",
              "      --bg-color: #3B4455;\n",
              "      --fill-color: #D2E3FC;\n",
              "      --hover-bg-color: #434B5C;\n",
              "      --hover-fill-color: #FFFFFF;\n",
              "      --disabled-bg-color: #3B4455;\n",
              "      --disabled-fill-color: #666;\n",
              "  }\n",
              "\n",
              "  .colab-df-quickchart {\n",
              "    background-color: var(--bg-color);\n",
              "    border: none;\n",
              "    border-radius: 50%;\n",
              "    cursor: pointer;\n",
              "    display: none;\n",
              "    fill: var(--fill-color);\n",
              "    height: 32px;\n",
              "    padding: 0;\n",
              "    width: 32px;\n",
              "  }\n",
              "\n",
              "  .colab-df-quickchart:hover {\n",
              "    background-color: var(--hover-bg-color);\n",
              "    box-shadow: 0 1px 2px rgba(60, 64, 67, 0.3), 0 1px 3px 1px rgba(60, 64, 67, 0.15);\n",
              "    fill: var(--button-hover-fill-color);\n",
              "  }\n",
              "\n",
              "  .colab-df-quickchart-complete:disabled,\n",
              "  .colab-df-quickchart-complete:disabled:hover {\n",
              "    background-color: var(--disabled-bg-color);\n",
              "    fill: var(--disabled-fill-color);\n",
              "    box-shadow: none;\n",
              "  }\n",
              "\n",
              "  .colab-df-spinner {\n",
              "    border: 2px solid var(--fill-color);\n",
              "    border-color: transparent;\n",
              "    border-bottom-color: var(--fill-color);\n",
              "    animation:\n",
              "      spin 1s steps(1) infinite;\n",
              "  }\n",
              "\n",
              "  @keyframes spin {\n",
              "    0% {\n",
              "      border-color: transparent;\n",
              "      border-bottom-color: var(--fill-color);\n",
              "      border-left-color: var(--fill-color);\n",
              "    }\n",
              "    20% {\n",
              "      border-color: transparent;\n",
              "      border-left-color: var(--fill-color);\n",
              "      border-top-color: var(--fill-color);\n",
              "    }\n",
              "    30% {\n",
              "      border-color: transparent;\n",
              "      border-left-color: var(--fill-color);\n",
              "      border-top-color: var(--fill-color);\n",
              "      border-right-color: var(--fill-color);\n",
              "    }\n",
              "    40% {\n",
              "      border-color: transparent;\n",
              "      border-right-color: var(--fill-color);\n",
              "      border-top-color: var(--fill-color);\n",
              "    }\n",
              "    60% {\n",
              "      border-color: transparent;\n",
              "      border-right-color: var(--fill-color);\n",
              "    }\n",
              "    80% {\n",
              "      border-color: transparent;\n",
              "      border-right-color: var(--fill-color);\n",
              "      border-bottom-color: var(--fill-color);\n",
              "    }\n",
              "    90% {\n",
              "      border-color: transparent;\n",
              "      border-bottom-color: var(--fill-color);\n",
              "    }\n",
              "  }\n",
              "</style>\n",
              "\n",
              "  <script>\n",
              "    async function quickchart(key) {\n",
              "      const quickchartButtonEl =\n",
              "        document.querySelector('#' + key + ' button');\n",
              "      quickchartButtonEl.disabled = true;  // To prevent multiple clicks.\n",
              "      quickchartButtonEl.classList.add('colab-df-spinner');\n",
              "      try {\n",
              "        const charts = await google.colab.kernel.invokeFunction(\n",
              "            'suggestCharts', [key], {});\n",
              "      } catch (error) {\n",
              "        console.error('Error during call to suggestCharts:', error);\n",
              "      }\n",
              "      quickchartButtonEl.classList.remove('colab-df-spinner');\n",
              "      quickchartButtonEl.classList.add('colab-df-quickchart-complete');\n",
              "    }\n",
              "    (() => {\n",
              "      let quickchartButtonEl =\n",
              "        document.querySelector('#df-e3144ee0-2c2e-489e-ae01-367b853e7247 button');\n",
              "      quickchartButtonEl.style.display =\n",
              "        google.colab.kernel.accessAllowed ? 'block' : 'none';\n",
              "    })();\n",
              "  </script>\n",
              "</div>\n",
              "\n",
              "  <div id=\"id_688f5fb2-7e6b-4976-9f3e-419f8fd25bc5\">\n",
              "    <style>\n",
              "      .colab-df-generate {\n",
              "        background-color: #E8F0FE;\n",
              "        border: none;\n",
              "        border-radius: 50%;\n",
              "        cursor: pointer;\n",
              "        display: none;\n",
              "        fill: #1967D2;\n",
              "        height: 32px;\n",
              "        padding: 0 0 0 0;\n",
              "        width: 32px;\n",
              "      }\n",
              "\n",
              "      .colab-df-generate:hover {\n",
              "        background-color: #E2EBFA;\n",
              "        box-shadow: 0px 1px 2px rgba(60, 64, 67, 0.3), 0px 1px 3px 1px rgba(60, 64, 67, 0.15);\n",
              "        fill: #174EA6;\n",
              "      }\n",
              "\n",
              "      [theme=dark] .colab-df-generate {\n",
              "        background-color: #3B4455;\n",
              "        fill: #D2E3FC;\n",
              "      }\n",
              "\n",
              "      [theme=dark] .colab-df-generate:hover {\n",
              "        background-color: #434B5C;\n",
              "        box-shadow: 0px 1px 3px 1px rgba(0, 0, 0, 0.15);\n",
              "        filter: drop-shadow(0px 1px 2px rgba(0, 0, 0, 0.3));\n",
              "        fill: #FFFFFF;\n",
              "      }\n",
              "    </style>\n",
              "    <button class=\"colab-df-generate\" onclick=\"generateWithVariable('moto_deaths')\"\n",
              "            title=\"Generate code using this dataframe.\"\n",
              "            style=\"display:none;\">\n",
              "\n",
              "  <svg xmlns=\"http://www.w3.org/2000/svg\" height=\"24px\"viewBox=\"0 0 24 24\"\n",
              "       width=\"24px\">\n",
              "    <path d=\"M7,19H8.4L18.45,9,17,7.55,7,17.6ZM5,21V16.75L18.45,3.32a2,2,0,0,1,2.83,0l1.4,1.43a1.91,1.91,0,0,1,.58,1.4,1.91,1.91,0,0,1-.58,1.4L9.25,21ZM18.45,9,17,7.55Zm-12,3A5.31,5.31,0,0,0,4.9,8.1,5.31,5.31,0,0,0,1,6.5,5.31,5.31,0,0,0,4.9,4.9,5.31,5.31,0,0,0,6.5,1,5.31,5.31,0,0,0,8.1,4.9,5.31,5.31,0,0,0,12,6.5,5.46,5.46,0,0,0,6.5,12Z\"/>\n",
              "  </svg>\n",
              "    </button>\n",
              "    <script>\n",
              "      (() => {\n",
              "      const buttonEl =\n",
              "        document.querySelector('#id_688f5fb2-7e6b-4976-9f3e-419f8fd25bc5 button.colab-df-generate');\n",
              "      buttonEl.style.display =\n",
              "        google.colab.kernel.accessAllowed ? 'block' : 'none';\n",
              "\n",
              "      buttonEl.onclick = () => {\n",
              "        google.colab.notebook.generateWithVariable('moto_deaths');\n",
              "      }\n",
              "      })();\n",
              "    </script>\n",
              "  </div>\n",
              "\n",
              "    </div>\n",
              "  </div>\n"
            ],
            "text/plain": [
              "    Country_Code  Motorcyclist_Death_Percentage\n",
              "1            ATG                            0.0\n",
              "4            BWA                            0.0\n",
              "11           DMA                            0.0\n",
              "16           JOR                            0.0\n",
              "30           FSM                            0.0\n",
              "..           ...                            ...\n",
              "633          SWZ                            2.0\n",
              "637          NIC                           26.0\n",
              "648          AND                           50.0\n",
              "653          MHL                           66.7\n",
              "654          BHR                            9.1\n",
              "\n",
              "[128 rows x 2 columns]"
            ]
          },
          "execution_count": 12,
          "metadata": {},
          "output_type": "execute_result"
        }
      ],
      "source": [
        "moto_deaths"
      ]
    },
    {
      "cell_type": "code",
      "execution_count": 13,
      "id": "e535e2a2",
      "metadata": {
        "colab": {
          "base_uri": "https://localhost:8080/",
          "height": 206
        },
        "id": "e535e2a2",
        "outputId": "d75a6a84-cdb6-412f-d829-3dec99216cde"
      },
      "outputs": [
        {
          "data": {
            "application/vnd.google.colaboratory.intrinsic+json": {
              "summary": "{\n  \"name\": \"law_vs_deaths\",\n  \"rows\": 123,\n  \"fields\": [\n    {\n      \"column\": \"Country_Code\",\n      \"properties\": {\n        \"dtype\": \"string\",\n        \"num_unique_values\": 122,\n        \"samples\": [\n          \"CHL\",\n          \"GUY\",\n          \"HRV\"\n        ],\n        \"semantic_type\": \"\",\n        \"description\": \"\"\n      }\n    },\n    {\n      \"column\": \"Helmet_Law_All_Occupants\",\n      \"properties\": {\n        \"dtype\": \"number\",\n        \"std\": 0,\n        \"min\": 0,\n        \"max\": 1,\n        \"num_unique_values\": 2,\n        \"samples\": [\n          0,\n          1\n        ],\n        \"semantic_type\": \"\",\n        \"description\": \"\"\n      }\n    },\n    {\n      \"column\": \"Helmet_Fastened\",\n      \"properties\": {\n        \"dtype\": \"number\",\n        \"std\": 0,\n        \"min\": 0,\n        \"max\": 1,\n        \"num_unique_values\": 2,\n        \"samples\": [\n          1,\n          0\n        ],\n        \"semantic_type\": \"\",\n        \"description\": \"\"\n      }\n    },\n    {\n      \"column\": \"Strict_Helmet_Law\",\n      \"properties\": {\n        \"dtype\": \"number\",\n        \"std\": 0,\n        \"min\": 0,\n        \"max\": 1,\n        \"num_unique_values\": 2,\n        \"samples\": [\n          1,\n          0\n        ],\n        \"semantic_type\": \"\",\n        \"description\": \"\"\n      }\n    },\n    {\n      \"column\": \"Motorcyclist_Death_Percentage\",\n      \"properties\": {\n        \"dtype\": \"number\",\n        \"std\": 19.161476886053205,\n        \"min\": 0.0,\n        \"max\": 80.0,\n        \"num_unique_values\": 100,\n        \"samples\": [\n          2.2,\n          73.5\n        ],\n        \"semantic_type\": \"\",\n        \"description\": \"\"\n      }\n    }\n  ]\n}",
              "type": "dataframe",
              "variable_name": "law_vs_deaths"
            },
            "text/html": [
              "\n",
              "  <div id=\"df-a2ff87f8-6d82-47ec-ba26-39f6da31e805\" class=\"colab-df-container\">\n",
              "    <div>\n",
              "<style scoped>\n",
              "    .dataframe tbody tr th:only-of-type {\n",
              "        vertical-align: middle;\n",
              "    }\n",
              "\n",
              "    .dataframe tbody tr th {\n",
              "        vertical-align: top;\n",
              "    }\n",
              "\n",
              "    .dataframe thead th {\n",
              "        text-align: right;\n",
              "    }\n",
              "</style>\n",
              "<table border=\"1\" class=\"dataframe\">\n",
              "  <thead>\n",
              "    <tr style=\"text-align: right;\">\n",
              "      <th></th>\n",
              "      <th>Country_Code</th>\n",
              "      <th>Helmet_Law_All_Occupants</th>\n",
              "      <th>Helmet_Fastened</th>\n",
              "      <th>Strict_Helmet_Law</th>\n",
              "      <th>Motorcyclist_Death_Percentage</th>\n",
              "    </tr>\n",
              "  </thead>\n",
              "  <tbody>\n",
              "    <tr>\n",
              "      <th>0</th>\n",
              "      <td>ALB</td>\n",
              "      <td>1</td>\n",
              "      <td>0</td>\n",
              "      <td>0</td>\n",
              "      <td>11.9</td>\n",
              "    </tr>\n",
              "    <tr>\n",
              "      <th>1</th>\n",
              "      <td>ARE</td>\n",
              "      <td>1</td>\n",
              "      <td>0</td>\n",
              "      <td>0</td>\n",
              "      <td>5.5</td>\n",
              "    </tr>\n",
              "    <tr>\n",
              "      <th>2</th>\n",
              "      <td>ARG</td>\n",
              "      <td>1</td>\n",
              "      <td>1</td>\n",
              "      <td>1</td>\n",
              "      <td>22.2</td>\n",
              "    </tr>\n",
              "    <tr>\n",
              "      <th>3</th>\n",
              "      <td>ARM</td>\n",
              "      <td>1</td>\n",
              "      <td>1</td>\n",
              "      <td>1</td>\n",
              "      <td>1.5</td>\n",
              "    </tr>\n",
              "    <tr>\n",
              "      <th>4</th>\n",
              "      <td>ATG</td>\n",
              "      <td>0</td>\n",
              "      <td>0</td>\n",
              "      <td>0</td>\n",
              "      <td>0.0</td>\n",
              "    </tr>\n",
              "  </tbody>\n",
              "</table>\n",
              "</div>\n",
              "    <div class=\"colab-df-buttons\">\n",
              "\n",
              "  <div class=\"colab-df-container\">\n",
              "    <button class=\"colab-df-convert\" onclick=\"convertToInteractive('df-a2ff87f8-6d82-47ec-ba26-39f6da31e805')\"\n",
              "            title=\"Convert this dataframe to an interactive table.\"\n",
              "            style=\"display:none;\">\n",
              "\n",
              "  <svg xmlns=\"http://www.w3.org/2000/svg\" height=\"24px\" viewBox=\"0 -960 960 960\">\n",
              "    <path d=\"M120-120v-720h720v720H120Zm60-500h600v-160H180v160Zm220 220h160v-160H400v160Zm0 220h160v-160H400v160ZM180-400h160v-160H180v160Zm440 0h160v-160H620v160ZM180-180h160v-160H180v160Zm440 0h160v-160H620v160Z\"/>\n",
              "  </svg>\n",
              "    </button>\n",
              "\n",
              "  <style>\n",
              "    .colab-df-container {\n",
              "      display:flex;\n",
              "      gap: 12px;\n",
              "    }\n",
              "\n",
              "    .colab-df-convert {\n",
              "      background-color: #E8F0FE;\n",
              "      border: none;\n",
              "      border-radius: 50%;\n",
              "      cursor: pointer;\n",
              "      display: none;\n",
              "      fill: #1967D2;\n",
              "      height: 32px;\n",
              "      padding: 0 0 0 0;\n",
              "      width: 32px;\n",
              "    }\n",
              "\n",
              "    .colab-df-convert:hover {\n",
              "      background-color: #E2EBFA;\n",
              "      box-shadow: 0px 1px 2px rgba(60, 64, 67, 0.3), 0px 1px 3px 1px rgba(60, 64, 67, 0.15);\n",
              "      fill: #174EA6;\n",
              "    }\n",
              "\n",
              "    .colab-df-buttons div {\n",
              "      margin-bottom: 4px;\n",
              "    }\n",
              "\n",
              "    [theme=dark] .colab-df-convert {\n",
              "      background-color: #3B4455;\n",
              "      fill: #D2E3FC;\n",
              "    }\n",
              "\n",
              "    [theme=dark] .colab-df-convert:hover {\n",
              "      background-color: #434B5C;\n",
              "      box-shadow: 0px 1px 3px 1px rgba(0, 0, 0, 0.15);\n",
              "      filter: drop-shadow(0px 1px 2px rgba(0, 0, 0, 0.3));\n",
              "      fill: #FFFFFF;\n",
              "    }\n",
              "  </style>\n",
              "\n",
              "    <script>\n",
              "      const buttonEl =\n",
              "        document.querySelector('#df-a2ff87f8-6d82-47ec-ba26-39f6da31e805 button.colab-df-convert');\n",
              "      buttonEl.style.display =\n",
              "        google.colab.kernel.accessAllowed ? 'block' : 'none';\n",
              "\n",
              "      async function convertToInteractive(key) {\n",
              "        const element = document.querySelector('#df-a2ff87f8-6d82-47ec-ba26-39f6da31e805');\n",
              "        const dataTable =\n",
              "          await google.colab.kernel.invokeFunction('convertToInteractive',\n",
              "                                                    [key], {});\n",
              "        if (!dataTable) return;\n",
              "\n",
              "        const docLinkHtml = 'Like what you see? Visit the ' +\n",
              "          '<a target=\"_blank\" href=https://colab.research.google.com/notebooks/data_table.ipynb>data table notebook</a>'\n",
              "          + ' to learn more about interactive tables.';\n",
              "        element.innerHTML = '';\n",
              "        dataTable['output_type'] = 'display_data';\n",
              "        await google.colab.output.renderOutput(dataTable, element);\n",
              "        const docLink = document.createElement('div');\n",
              "        docLink.innerHTML = docLinkHtml;\n",
              "        element.appendChild(docLink);\n",
              "      }\n",
              "    </script>\n",
              "  </div>\n",
              "\n",
              "\n",
              "<div id=\"df-dbf85f19-d480-4a9b-a0c6-8b6c6bc53193\">\n",
              "  <button class=\"colab-df-quickchart\" onclick=\"quickchart('df-dbf85f19-d480-4a9b-a0c6-8b6c6bc53193')\"\n",
              "            title=\"Suggest charts\"\n",
              "            style=\"display:none;\">\n",
              "\n",
              "<svg xmlns=\"http://www.w3.org/2000/svg\" height=\"24px\"viewBox=\"0 0 24 24\"\n",
              "     width=\"24px\">\n",
              "    <g>\n",
              "        <path d=\"M19 3H5c-1.1 0-2 .9-2 2v14c0 1.1.9 2 2 2h14c1.1 0 2-.9 2-2V5c0-1.1-.9-2-2-2zM9 17H7v-7h2v7zm4 0h-2V7h2v10zm4 0h-2v-4h2v4z\"/>\n",
              "    </g>\n",
              "</svg>\n",
              "  </button>\n",
              "\n",
              "<style>\n",
              "  .colab-df-quickchart {\n",
              "      --bg-color: #E8F0FE;\n",
              "      --fill-color: #1967D2;\n",
              "      --hover-bg-color: #E2EBFA;\n",
              "      --hover-fill-color: #174EA6;\n",
              "      --disabled-fill-color: #AAA;\n",
              "      --disabled-bg-color: #DDD;\n",
              "  }\n",
              "\n",
              "  [theme=dark] .colab-df-quickchart {\n",
              "      --bg-color: #3B4455;\n",
              "      --fill-color: #D2E3FC;\n",
              "      --hover-bg-color: #434B5C;\n",
              "      --hover-fill-color: #FFFFFF;\n",
              "      --disabled-bg-color: #3B4455;\n",
              "      --disabled-fill-color: #666;\n",
              "  }\n",
              "\n",
              "  .colab-df-quickchart {\n",
              "    background-color: var(--bg-color);\n",
              "    border: none;\n",
              "    border-radius: 50%;\n",
              "    cursor: pointer;\n",
              "    display: none;\n",
              "    fill: var(--fill-color);\n",
              "    height: 32px;\n",
              "    padding: 0;\n",
              "    width: 32px;\n",
              "  }\n",
              "\n",
              "  .colab-df-quickchart:hover {\n",
              "    background-color: var(--hover-bg-color);\n",
              "    box-shadow: 0 1px 2px rgba(60, 64, 67, 0.3), 0 1px 3px 1px rgba(60, 64, 67, 0.15);\n",
              "    fill: var(--button-hover-fill-color);\n",
              "  }\n",
              "\n",
              "  .colab-df-quickchart-complete:disabled,\n",
              "  .colab-df-quickchart-complete:disabled:hover {\n",
              "    background-color: var(--disabled-bg-color);\n",
              "    fill: var(--disabled-fill-color);\n",
              "    box-shadow: none;\n",
              "  }\n",
              "\n",
              "  .colab-df-spinner {\n",
              "    border: 2px solid var(--fill-color);\n",
              "    border-color: transparent;\n",
              "    border-bottom-color: var(--fill-color);\n",
              "    animation:\n",
              "      spin 1s steps(1) infinite;\n",
              "  }\n",
              "\n",
              "  @keyframes spin {\n",
              "    0% {\n",
              "      border-color: transparent;\n",
              "      border-bottom-color: var(--fill-color);\n",
              "      border-left-color: var(--fill-color);\n",
              "    }\n",
              "    20% {\n",
              "      border-color: transparent;\n",
              "      border-left-color: var(--fill-color);\n",
              "      border-top-color: var(--fill-color);\n",
              "    }\n",
              "    30% {\n",
              "      border-color: transparent;\n",
              "      border-left-color: var(--fill-color);\n",
              "      border-top-color: var(--fill-color);\n",
              "      border-right-color: var(--fill-color);\n",
              "    }\n",
              "    40% {\n",
              "      border-color: transparent;\n",
              "      border-right-color: var(--fill-color);\n",
              "      border-top-color: var(--fill-color);\n",
              "    }\n",
              "    60% {\n",
              "      border-color: transparent;\n",
              "      border-right-color: var(--fill-color);\n",
              "    }\n",
              "    80% {\n",
              "      border-color: transparent;\n",
              "      border-right-color: var(--fill-color);\n",
              "      border-bottom-color: var(--fill-color);\n",
              "    }\n",
              "    90% {\n",
              "      border-color: transparent;\n",
              "      border-bottom-color: var(--fill-color);\n",
              "    }\n",
              "  }\n",
              "</style>\n",
              "\n",
              "  <script>\n",
              "    async function quickchart(key) {\n",
              "      const quickchartButtonEl =\n",
              "        document.querySelector('#' + key + ' button');\n",
              "      quickchartButtonEl.disabled = true;  // To prevent multiple clicks.\n",
              "      quickchartButtonEl.classList.add('colab-df-spinner');\n",
              "      try {\n",
              "        const charts = await google.colab.kernel.invokeFunction(\n",
              "            'suggestCharts', [key], {});\n",
              "      } catch (error) {\n",
              "        console.error('Error during call to suggestCharts:', error);\n",
              "      }\n",
              "      quickchartButtonEl.classList.remove('colab-df-spinner');\n",
              "      quickchartButtonEl.classList.add('colab-df-quickchart-complete');\n",
              "    }\n",
              "    (() => {\n",
              "      let quickchartButtonEl =\n",
              "        document.querySelector('#df-dbf85f19-d480-4a9b-a0c6-8b6c6bc53193 button');\n",
              "      quickchartButtonEl.style.display =\n",
              "        google.colab.kernel.accessAllowed ? 'block' : 'none';\n",
              "    })();\n",
              "  </script>\n",
              "</div>\n",
              "\n",
              "    </div>\n",
              "  </div>\n"
            ],
            "text/plain": [
              "  Country_Code  Helmet_Law_All_Occupants  Helmet_Fastened  Strict_Helmet_Law  \\\n",
              "0          ALB                         1                0                  0   \n",
              "1          ARE                         1                0                  0   \n",
              "2          ARG                         1                1                  1   \n",
              "3          ARM                         1                1                  1   \n",
              "4          ATG                         0                0                  0   \n",
              "\n",
              "   Motorcyclist_Death_Percentage  \n",
              "0                           11.9  \n",
              "1                            5.5  \n",
              "2                           22.2  \n",
              "3                            1.5  \n",
              "4                            0.0  "
            ]
          },
          "execution_count": 13,
          "metadata": {},
          "output_type": "execute_result"
        }
      ],
      "source": [
        "law_vs_deaths = pd.merge(helmet_data, moto_deaths, on='Country_Code', how='inner')\n",
        "law_vs_deaths.dropna(inplace=True)\n",
        "\n",
        "law_vs_deaths.head()\n"
      ]
    },
    {
      "cell_type": "code",
      "execution_count": 15,
      "id": "fed6ae74",
      "metadata": {
        "colab": {
          "base_uri": "https://localhost:8080/",
          "height": 542
        },
        "id": "fed6ae74",
        "outputId": "5f0e39fb-b347-45cd-db37-e60b0674d950"
      },
      "outputs": [
        {
          "data": {
            "text/html": [
              "<html>\n",
              "<head><meta charset=\"utf-8\" /></head>\n",
              "<body>\n",
              "    <div>            <script src=\"https://cdnjs.cloudflare.com/ajax/libs/mathjax/2.7.5/MathJax.js?config=TeX-AMS-MML_SVG\"></script><script type=\"text/javascript\">if (window.MathJax && window.MathJax.Hub && window.MathJax.Hub.Config) {window.MathJax.Hub.Config({SVG: {font: \"STIX-Web\"}});}</script>                <script type=\"text/javascript\">window.PlotlyConfig = {MathJaxConfig: 'local'};</script>\n",
              "        <script charset=\"utf-8\" src=\"https://cdn.plot.ly/plotly-2.35.2.min.js\"></script>                <div id=\"c7450768-a18d-4d56-acde-795ae388802f\" class=\"plotly-graph-div\" style=\"height:525px; width:100%;\"></div>            <script type=\"text/javascript\">                                    window.PLOTLYENV=window.PLOTLYENV || {};                                    if (document.getElementById(\"c7450768-a18d-4d56-acde-795ae388802f\")) {                    Plotly.newPlot(                        \"c7450768-a18d-4d56-acde-795ae388802f\",                        [{\"alignmentgroup\":\"True\",\"boxpoints\":\"all\",\"customdata\":[[\"ALB\"],[\"ARE\"],[\"ATG\"],[\"AUT\"],[\"AZE\"],[\"BEL\"],[\"BGR\"],[\"BOL\"],[\"BRB\"],[\"CHE\"],[\"CIV\"],[\"COD\"],[\"COK\"],[\"COL\"],[\"COM\"],[\"CRI\"],[\"DEU\"],[\"DMA\"],[\"DOM\"],[\"EGY\"],[\"ERI\"],[\"ESP\"],[\"FIN\"],[\"FSM\"],[\"GTM\"],[\"GUY\"],[\"HND\"],[\"IDN\"],[\"IRL\"],[\"IRN\"],[\"ISL\"],[\"JOR\"],[\"JPN\"],[\"KHM\"],[\"KIR\"],[\"KOR\"],[\"LBY\"],[\"LCA\"],[\"LKA\"],[\"MDV\"],[\"MEX\"],[\"MKD\"],[\"MLT\"],[\"MNG\"],[\"MUS\"],[\"NOR\"],[\"OMN\"],[\"PAN\"],[\"PER\"],[\"PHL\"],[\"POL\"],[\"QAT\"],[\"ROU\"],[\"SYC\"],[\"SYR\"],[\"TGO\"],[\"TTO\"],[\"TUN\"],[\"TUR\"],[\"TZA\"],[\"UGA\"],[\"URY\"],[\"USA\"]],\"hovertemplate\":\"Strict_Helmet_Law_Label=%{x}\\u003cbr\\u003eMotorcyclist_Death_Percentage=%{y}\\u003cbr\\u003eCountry_Code=%{customdata[0]}\\u003cextra\\u003e\\u003c\\u002fextra\\u003e\",\"legendgroup\":\"No Strict Law\",\"marker\":{\"color\":\"#ff9999\"},\"name\":\"No Strict Law\",\"notched\":false,\"offsetgroup\":\"No Strict Law\",\"orientation\":\"v\",\"showlegend\":true,\"x\":[\"No Strict Law\",\"No Strict Law\",\"No Strict Law\",\"No Strict Law\",\"No Strict Law\",\"No Strict Law\",\"No Strict Law\",\"No Strict Law\",\"No Strict Law\",\"No Strict Law\",\"No Strict Law\",\"No Strict Law\",\"No Strict Law\",\"No Strict Law\",\"No Strict Law\",\"No Strict Law\",\"No Strict Law\",\"No Strict Law\",\"No Strict Law\",\"No Strict Law\",\"No Strict Law\",\"No Strict Law\",\"No Strict Law\",\"No Strict Law\",\"No Strict Law\",\"No Strict Law\",\"No Strict Law\",\"No Strict Law\",\"No Strict Law\",\"No Strict Law\",\"No Strict Law\",\"No Strict Law\",\"No Strict Law\",\"No Strict Law\",\"No Strict Law\",\"No Strict Law\",\"No Strict Law\",\"No Strict Law\",\"No Strict Law\",\"No Strict Law\",\"No Strict Law\",\"No Strict Law\",\"No Strict Law\",\"No Strict Law\",\"No Strict Law\",\"No Strict Law\",\"No Strict Law\",\"No Strict Law\",\"No Strict Law\",\"No Strict Law\",\"No Strict Law\",\"No Strict Law\",\"No Strict Law\",\"No Strict Law\",\"No Strict Law\",\"No Strict Law\",\"No Strict Law\",\"No Strict Law\",\"No Strict Law\",\"No Strict Law\",\"No Strict Law\",\"No Strict Law\",\"No Strict Law\"],\"x0\":\" \",\"xaxis\":\"x\",\"y\":[11.9,5.5,0.0,22.0,0.9,14.4,7.8,19.7,33.3,22.7,35.0,11.7,80.0,52.5,17.4,40.0,18.8,0.0,67.0,5.5,1.5,21.9,8.7,0.0,32.7,21.9,24.3,73.6,11.7,24.1,11.1,0.0,17.2,73.5,20.0,20.5,1.9,20.0,50.8,75.0,9.6,9.5,40.9,18.6,45.8,17.0,3.9,4.4,0.6,4.7,11.2,2.2,4.4,20.0,6.4,71.6,2.2,22.9,14.9,22.7,33.4,45.7,14.2],\"y0\":\" \",\"yaxis\":\"y\",\"type\":\"box\"},{\"alignmentgroup\":\"True\",\"boxpoints\":\"all\",\"customdata\":[[\"ARG\"],[\"ARM\"],[\"AUS\"],[\"BEN\"],[\"BLZ\"],[\"BRA\"],[\"BWA\"],[\"CAN\"],[\"CHL\"],[\"CUB\"],[\"CYP\"],[\"CZE\"],[\"DNK\"],[\"ECU\"],[\"EST\"],[\"FRA\"],[\"GBR\"],[\"GEO\"],[\"GHA\"],[\"GRC\"],[\"HRV\"],[\"HUN\"],[\"IND\"],[\"ISR\"],[\"ITA\"],[\"JAM\"],[\"KAZ\"],[\"KEN\"],[\"KGZ\"],[\"LBN\"],[\"LTU\"],[\"LUX\"],[\"LVA\"],[\"MAR\"],[\"MDA\"],[\"MLI\"],[\"MMR\"],[\"MNE\"],[\"MWI\"],[\"NLD\"],[\"NZL\"],[\"PRT\"],[\"PRY\"],[\"PSE\"],[\"RUS\"],[\"SGP\"],[\"SLV\"],[\"SRB\"],[\"SUR\"],[\"SVK\"],[\"SVN\"],[\"SWE\"],[\"SWZ\"],[\"SWZ\"],[\"THA\"],[\"TON\"],[\"UKR\"],[\"WSM\"],[\"ZAF\"],[\"ZWE\"]],\"hovertemplate\":\"Strict_Helmet_Law_Label=%{x}\\u003cbr\\u003eMotorcyclist_Death_Percentage=%{y}\\u003cbr\\u003eCountry_Code=%{customdata[0]}\\u003cextra\\u003e\\u003c\\u002fextra\\u003e\",\"legendgroup\":\"Strict Law\",\"marker\":{\"color\":\"#66b3ff\"},\"name\":\"Strict Law\",\"notched\":false,\"offsetgroup\":\"Strict Law\",\"orientation\":\"v\",\"showlegend\":true,\"x\":[\"Strict Law\",\"Strict Law\",\"Strict Law\",\"Strict Law\",\"Strict Law\",\"Strict Law\",\"Strict Law\",\"Strict Law\",\"Strict Law\",\"Strict Law\",\"Strict Law\",\"Strict Law\",\"Strict Law\",\"Strict Law\",\"Strict Law\",\"Strict Law\",\"Strict Law\",\"Strict Law\",\"Strict Law\",\"Strict Law\",\"Strict Law\",\"Strict Law\",\"Strict Law\",\"Strict Law\",\"Strict Law\",\"Strict Law\",\"Strict Law\",\"Strict Law\",\"Strict Law\",\"Strict Law\",\"Strict Law\",\"Strict Law\",\"Strict Law\",\"Strict Law\",\"Strict Law\",\"Strict Law\",\"Strict Law\",\"Strict Law\",\"Strict Law\",\"Strict Law\",\"Strict Law\",\"Strict Law\",\"Strict Law\",\"Strict Law\",\"Strict Law\",\"Strict Law\",\"Strict Law\",\"Strict Law\",\"Strict Law\",\"Strict Law\",\"Strict Law\",\"Strict Law\",\"Strict Law\",\"Strict Law\",\"Strict Law\",\"Strict Law\",\"Strict Law\",\"Strict Law\",\"Strict Law\",\"Strict Law\"],\"x0\":\" \",\"xaxis\":\"x\",\"y\":[22.2,1.5,19.3,56.5,19.8,31.4,0.0,10.8,8.7,15.6,21.7,10.3,16.1,19.1,1.4,21.1,20.5,0.5,17.9,32.4,16.0,10.5,39.6,12.2,25.6,28.8,4.3,24.2,2.1,20.7,5.7,9.4,12.0,28.7,4.3,42.3,64.8,15.4,3.2,21.4,15.9,18.3,52.2,2.5,5.9,44.0,14.2,8.7,45.9,8.7,19.2,16.3,0.5,2.0,74.4,0.0,8.7,0.0,0.3,10.2],\"y0\":\" \",\"yaxis\":\"y\",\"type\":\"box\"}],                        {\"template\":{\"data\":{\"barpolar\":[{\"marker\":{\"line\":{\"color\":\"white\",\"width\":0.5},\"pattern\":{\"fillmode\":\"overlay\",\"size\":10,\"solidity\":0.2}},\"type\":\"barpolar\"}],\"bar\":[{\"error_x\":{\"color\":\"#2a3f5f\"},\"error_y\":{\"color\":\"#2a3f5f\"},\"marker\":{\"line\":{\"color\":\"white\",\"width\":0.5},\"pattern\":{\"fillmode\":\"overlay\",\"size\":10,\"solidity\":0.2}},\"type\":\"bar\"}],\"carpet\":[{\"aaxis\":{\"endlinecolor\":\"#2a3f5f\",\"gridcolor\":\"#C8D4E3\",\"linecolor\":\"#C8D4E3\",\"minorgridcolor\":\"#C8D4E3\",\"startlinecolor\":\"#2a3f5f\"},\"baxis\":{\"endlinecolor\":\"#2a3f5f\",\"gridcolor\":\"#C8D4E3\",\"linecolor\":\"#C8D4E3\",\"minorgridcolor\":\"#C8D4E3\",\"startlinecolor\":\"#2a3f5f\"},\"type\":\"carpet\"}],\"choropleth\":[{\"colorbar\":{\"outlinewidth\":0,\"ticks\":\"\"},\"type\":\"choropleth\"}],\"contourcarpet\":[{\"colorbar\":{\"outlinewidth\":0,\"ticks\":\"\"},\"type\":\"contourcarpet\"}],\"contour\":[{\"colorbar\":{\"outlinewidth\":0,\"ticks\":\"\"},\"colorscale\":[[0.0,\"#0d0887\"],[0.1111111111111111,\"#46039f\"],[0.2222222222222222,\"#7201a8\"],[0.3333333333333333,\"#9c179e\"],[0.4444444444444444,\"#bd3786\"],[0.5555555555555556,\"#d8576b\"],[0.6666666666666666,\"#ed7953\"],[0.7777777777777778,\"#fb9f3a\"],[0.8888888888888888,\"#fdca26\"],[1.0,\"#f0f921\"]],\"type\":\"contour\"}],\"heatmapgl\":[{\"colorbar\":{\"outlinewidth\":0,\"ticks\":\"\"},\"colorscale\":[[0.0,\"#0d0887\"],[0.1111111111111111,\"#46039f\"],[0.2222222222222222,\"#7201a8\"],[0.3333333333333333,\"#9c179e\"],[0.4444444444444444,\"#bd3786\"],[0.5555555555555556,\"#d8576b\"],[0.6666666666666666,\"#ed7953\"],[0.7777777777777778,\"#fb9f3a\"],[0.8888888888888888,\"#fdca26\"],[1.0,\"#f0f921\"]],\"type\":\"heatmapgl\"}],\"heatmap\":[{\"colorbar\":{\"outlinewidth\":0,\"ticks\":\"\"},\"colorscale\":[[0.0,\"#0d0887\"],[0.1111111111111111,\"#46039f\"],[0.2222222222222222,\"#7201a8\"],[0.3333333333333333,\"#9c179e\"],[0.4444444444444444,\"#bd3786\"],[0.5555555555555556,\"#d8576b\"],[0.6666666666666666,\"#ed7953\"],[0.7777777777777778,\"#fb9f3a\"],[0.8888888888888888,\"#fdca26\"],[1.0,\"#f0f921\"]],\"type\":\"heatmap\"}],\"histogram2dcontour\":[{\"colorbar\":{\"outlinewidth\":0,\"ticks\":\"\"},\"colorscale\":[[0.0,\"#0d0887\"],[0.1111111111111111,\"#46039f\"],[0.2222222222222222,\"#7201a8\"],[0.3333333333333333,\"#9c179e\"],[0.4444444444444444,\"#bd3786\"],[0.5555555555555556,\"#d8576b\"],[0.6666666666666666,\"#ed7953\"],[0.7777777777777778,\"#fb9f3a\"],[0.8888888888888888,\"#fdca26\"],[1.0,\"#f0f921\"]],\"type\":\"histogram2dcontour\"}],\"histogram2d\":[{\"colorbar\":{\"outlinewidth\":0,\"ticks\":\"\"},\"colorscale\":[[0.0,\"#0d0887\"],[0.1111111111111111,\"#46039f\"],[0.2222222222222222,\"#7201a8\"],[0.3333333333333333,\"#9c179e\"],[0.4444444444444444,\"#bd3786\"],[0.5555555555555556,\"#d8576b\"],[0.6666666666666666,\"#ed7953\"],[0.7777777777777778,\"#fb9f3a\"],[0.8888888888888888,\"#fdca26\"],[1.0,\"#f0f921\"]],\"type\":\"histogram2d\"}],\"histogram\":[{\"marker\":{\"pattern\":{\"fillmode\":\"overlay\",\"size\":10,\"solidity\":0.2}},\"type\":\"histogram\"}],\"mesh3d\":[{\"colorbar\":{\"outlinewidth\":0,\"ticks\":\"\"},\"type\":\"mesh3d\"}],\"parcoords\":[{\"line\":{\"colorbar\":{\"outlinewidth\":0,\"ticks\":\"\"}},\"type\":\"parcoords\"}],\"pie\":[{\"automargin\":true,\"type\":\"pie\"}],\"scatter3d\":[{\"line\":{\"colorbar\":{\"outlinewidth\":0,\"ticks\":\"\"}},\"marker\":{\"colorbar\":{\"outlinewidth\":0,\"ticks\":\"\"}},\"type\":\"scatter3d\"}],\"scattercarpet\":[{\"marker\":{\"colorbar\":{\"outlinewidth\":0,\"ticks\":\"\"}},\"type\":\"scattercarpet\"}],\"scattergeo\":[{\"marker\":{\"colorbar\":{\"outlinewidth\":0,\"ticks\":\"\"}},\"type\":\"scattergeo\"}],\"scattergl\":[{\"marker\":{\"colorbar\":{\"outlinewidth\":0,\"ticks\":\"\"}},\"type\":\"scattergl\"}],\"scattermapbox\":[{\"marker\":{\"colorbar\":{\"outlinewidth\":0,\"ticks\":\"\"}},\"type\":\"scattermapbox\"}],\"scatterpolargl\":[{\"marker\":{\"colorbar\":{\"outlinewidth\":0,\"ticks\":\"\"}},\"type\":\"scatterpolargl\"}],\"scatterpolar\":[{\"marker\":{\"colorbar\":{\"outlinewidth\":0,\"ticks\":\"\"}},\"type\":\"scatterpolar\"}],\"scatter\":[{\"fillpattern\":{\"fillmode\":\"overlay\",\"size\":10,\"solidity\":0.2},\"type\":\"scatter\"}],\"scatterternary\":[{\"marker\":{\"colorbar\":{\"outlinewidth\":0,\"ticks\":\"\"}},\"type\":\"scatterternary\"}],\"surface\":[{\"colorbar\":{\"outlinewidth\":0,\"ticks\":\"\"},\"colorscale\":[[0.0,\"#0d0887\"],[0.1111111111111111,\"#46039f\"],[0.2222222222222222,\"#7201a8\"],[0.3333333333333333,\"#9c179e\"],[0.4444444444444444,\"#bd3786\"],[0.5555555555555556,\"#d8576b\"],[0.6666666666666666,\"#ed7953\"],[0.7777777777777778,\"#fb9f3a\"],[0.8888888888888888,\"#fdca26\"],[1.0,\"#f0f921\"]],\"type\":\"surface\"}],\"table\":[{\"cells\":{\"fill\":{\"color\":\"#EBF0F8\"},\"line\":{\"color\":\"white\"}},\"header\":{\"fill\":{\"color\":\"#C8D4E3\"},\"line\":{\"color\":\"white\"}},\"type\":\"table\"}]},\"layout\":{\"annotationdefaults\":{\"arrowcolor\":\"#2a3f5f\",\"arrowhead\":0,\"arrowwidth\":1},\"autotypenumbers\":\"strict\",\"coloraxis\":{\"colorbar\":{\"outlinewidth\":0,\"ticks\":\"\"}},\"colorscale\":{\"diverging\":[[0,\"#8e0152\"],[0.1,\"#c51b7d\"],[0.2,\"#de77ae\"],[0.3,\"#f1b6da\"],[0.4,\"#fde0ef\"],[0.5,\"#f7f7f7\"],[0.6,\"#e6f5d0\"],[0.7,\"#b8e186\"],[0.8,\"#7fbc41\"],[0.9,\"#4d9221\"],[1,\"#276419\"]],\"sequential\":[[0.0,\"#0d0887\"],[0.1111111111111111,\"#46039f\"],[0.2222222222222222,\"#7201a8\"],[0.3333333333333333,\"#9c179e\"],[0.4444444444444444,\"#bd3786\"],[0.5555555555555556,\"#d8576b\"],[0.6666666666666666,\"#ed7953\"],[0.7777777777777778,\"#fb9f3a\"],[0.8888888888888888,\"#fdca26\"],[1.0,\"#f0f921\"]],\"sequentialminus\":[[0.0,\"#0d0887\"],[0.1111111111111111,\"#46039f\"],[0.2222222222222222,\"#7201a8\"],[0.3333333333333333,\"#9c179e\"],[0.4444444444444444,\"#bd3786\"],[0.5555555555555556,\"#d8576b\"],[0.6666666666666666,\"#ed7953\"],[0.7777777777777778,\"#fb9f3a\"],[0.8888888888888888,\"#fdca26\"],[1.0,\"#f0f921\"]]},\"colorway\":[\"#636efa\",\"#EF553B\",\"#00cc96\",\"#ab63fa\",\"#FFA15A\",\"#19d3f3\",\"#FF6692\",\"#B6E880\",\"#FF97FF\",\"#FECB52\"],\"font\":{\"color\":\"#2a3f5f\"},\"geo\":{\"bgcolor\":\"white\",\"lakecolor\":\"white\",\"landcolor\":\"white\",\"showlakes\":true,\"showland\":true,\"subunitcolor\":\"#C8D4E3\"},\"hoverlabel\":{\"align\":\"left\"},\"hovermode\":\"closest\",\"mapbox\":{\"style\":\"light\"},\"paper_bgcolor\":\"white\",\"plot_bgcolor\":\"white\",\"polar\":{\"angularaxis\":{\"gridcolor\":\"#EBF0F8\",\"linecolor\":\"#EBF0F8\",\"ticks\":\"\"},\"bgcolor\":\"white\",\"radialaxis\":{\"gridcolor\":\"#EBF0F8\",\"linecolor\":\"#EBF0F8\",\"ticks\":\"\"}},\"scene\":{\"xaxis\":{\"backgroundcolor\":\"white\",\"gridcolor\":\"#DFE8F3\",\"gridwidth\":2,\"linecolor\":\"#EBF0F8\",\"showbackground\":true,\"ticks\":\"\",\"zerolinecolor\":\"#EBF0F8\"},\"yaxis\":{\"backgroundcolor\":\"white\",\"gridcolor\":\"#DFE8F3\",\"gridwidth\":2,\"linecolor\":\"#EBF0F8\",\"showbackground\":true,\"ticks\":\"\",\"zerolinecolor\":\"#EBF0F8\"},\"zaxis\":{\"backgroundcolor\":\"white\",\"gridcolor\":\"#DFE8F3\",\"gridwidth\":2,\"linecolor\":\"#EBF0F8\",\"showbackground\":true,\"ticks\":\"\",\"zerolinecolor\":\"#EBF0F8\"}},\"shapedefaults\":{\"line\":{\"color\":\"#2a3f5f\"}},\"ternary\":{\"aaxis\":{\"gridcolor\":\"#DFE8F3\",\"linecolor\":\"#A2B1C6\",\"ticks\":\"\"},\"baxis\":{\"gridcolor\":\"#DFE8F3\",\"linecolor\":\"#A2B1C6\",\"ticks\":\"\"},\"bgcolor\":\"white\",\"caxis\":{\"gridcolor\":\"#DFE8F3\",\"linecolor\":\"#A2B1C6\",\"ticks\":\"\"}},\"title\":{\"x\":0.05},\"xaxis\":{\"automargin\":true,\"gridcolor\":\"#EBF0F8\",\"linecolor\":\"#EBF0F8\",\"ticks\":\"\",\"title\":{\"standoff\":15},\"zerolinecolor\":\"#EBF0F8\",\"zerolinewidth\":2},\"yaxis\":{\"automargin\":true,\"gridcolor\":\"#EBF0F8\",\"linecolor\":\"#EBF0F8\",\"ticks\":\"\",\"title\":{\"standoff\":15},\"zerolinecolor\":\"#EBF0F8\",\"zerolinewidth\":2}}},\"xaxis\":{\"anchor\":\"y\",\"domain\":[0.0,1.0],\"title\":{\"text\":\"Strict Helmet Law\"},\"categoryorder\":\"array\",\"categoryarray\":[\"No Strict Law\",\"Strict Law\"]},\"yaxis\":{\"anchor\":\"x\",\"domain\":[0.0,1.0],\"title\":{\"text\":\"Motorcyclist Deaths (% of total)\"}},\"legend\":{\"title\":{\"text\":\"Strict_Helmet_Law_Label\"},\"tracegroupgap\":0},\"margin\":{\"t\":60},\"boxmode\":\"overlay\",\"title\":{\"text\":\"Motorcyclist Deaths vs. Strict Helmet Laws\"},\"showlegend\":false},                        {\"responsive\": true}                    ).then(function(){\n",
              "                            \n",
              "var gd = document.getElementById('c7450768-a18d-4d56-acde-795ae388802f');\n",
              "var x = new MutationObserver(function (mutations, observer) {{\n",
              "        var display = window.getComputedStyle(gd).display;\n",
              "        if (!display || display === 'none') {{\n",
              "            console.log([gd, 'removed!']);\n",
              "            Plotly.purge(gd);\n",
              "            observer.disconnect();\n",
              "        }}\n",
              "}});\n",
              "\n",
              "// Listen for the removal of the full notebook cells\n",
              "var notebookContainer = gd.closest('#notebook-container');\n",
              "if (notebookContainer) {{\n",
              "    x.observe(notebookContainer, {childList: true});\n",
              "}}\n",
              "\n",
              "// Listen for the clearing of the current output cell\n",
              "var outputEl = gd.closest('.output');\n",
              "if (outputEl) {{\n",
              "    x.observe(outputEl, {childList: true});\n",
              "}}\n",
              "\n",
              "                        })                };                            </script>        </div>\n",
              "</body>\n",
              "</html>"
            ]
          },
          "metadata": {},
          "output_type": "display_data"
        }
      ],
      "source": [
        "law_vs_deaths['Strict_Helmet_Law_Label'] = law_vs_deaths['Strict_Helmet_Law'].map({0: 'No Strict Law', 1: 'Strict Law'})\n",
        "\n",
        "fig = px.box(\n",
        "    law_vs_deaths,\n",
        "    x='Strict_Helmet_Law_Label',\n",
        "    y='Motorcyclist_Death_Percentage',\n",
        "    color='Strict_Helmet_Law_Label',\n",
        "    color_discrete_map={'No Strict Law': '#ff9999', 'Strict Law': '#66b3ff'},\n",
        "    points=\"all\",\n",
        "    hover_data=['Country_Code']\n",
        ")\n",
        "\n",
        "fig.update_layout(\n",
        "    title=\"Motorcyclist Deaths vs. Strict Helmet Laws\",\n",
        "    xaxis_title=\"Strict Helmet Law\",\n",
        "    yaxis_title=\"Motorcyclist Deaths (% of total)\",\n",
        "    showlegend=False,\n",
        "    template=\"plotly_white\"\n",
        ")\n",
        "\n",
        "fig.show()\n"
      ]
    },
    {
      "cell_type": "code",
      "execution_count": 16,
      "id": "ce5a5f91",
      "metadata": {
        "colab": {
          "base_uri": "https://localhost:8080/",
          "height": 617
        },
        "id": "ce5a5f91",
        "outputId": "6d56dcbb-6f61-48bb-9f2d-d9a6e7efad3e"
      },
      "outputs": [
        {
          "data": {
            "text/html": [
              "<html>\n",
              "<head><meta charset=\"utf-8\" /></head>\n",
              "<body>\n",
              "    <div>            <script src=\"https://cdnjs.cloudflare.com/ajax/libs/mathjax/2.7.5/MathJax.js?config=TeX-AMS-MML_SVG\"></script><script type=\"text/javascript\">if (window.MathJax && window.MathJax.Hub && window.MathJax.Hub.Config) {window.MathJax.Hub.Config({SVG: {font: \"STIX-Web\"}});}</script>                <script type=\"text/javascript\">window.PlotlyConfig = {MathJaxConfig: 'local'};</script>\n",
              "        <script charset=\"utf-8\" src=\"https://cdn.plot.ly/plotly-2.35.2.min.js\"></script>                <div id=\"5b02f3f5-ca66-42f1-9102-958aa7250af8\" class=\"plotly-graph-div\" style=\"height:600px; width:700px;\"></div>            <script type=\"text/javascript\">                                    window.PLOTLYENV=window.PLOTLYENV || {};                                    if (document.getElementById(\"5b02f3f5-ca66-42f1-9102-958aa7250af8\")) {                    Plotly.newPlot(                        \"5b02f3f5-ca66-42f1-9102-958aa7250af8\",                        [{\"branchvalues\":\"total\",\"customdata\":[[\"No Strict Law\"],[\"No Strict Law\"],[\"No Strict Law\"],[\"No Strict Law\"],[\"No Strict Law\"],[\"No Strict Law\"],[\"No Strict Law\"],[\"No Strict Law\"],[\"No Strict Law\"],[\"No Strict Law\"],[\"No Strict Law\"],[\"No Strict Law\"],[\"No Strict Law\"],[\"No Strict Law\"],[\"No Strict Law\"],[\"No Strict Law\"],[\"No Strict Law\"],[\"No Strict Law\"],[\"No Strict Law\"],[\"No Strict Law\"],[\"No Strict Law\"],[\"No Strict Law\"],[\"No Strict Law\"],[\"No Strict Law\"],[\"No Strict Law\"],[\"No Strict Law\"],[\"No Strict Law\"],[\"No Strict Law\"],[\"No Strict Law\"],[\"No Strict Law\"],[\"No Strict Law\"],[\"No Strict Law\"],[\"No Strict Law\"],[\"No Strict Law\"],[\"No Strict Law\"],[\"No Strict Law\"],[\"No Strict Law\"],[\"No Strict Law\"],[\"No Strict Law\"],[\"No Strict Law\"],[\"No Strict Law\"],[\"No Strict Law\"],[\"No Strict Law\"],[\"No Strict Law\"],[\"No Strict Law\"],[\"No Strict Law\"],[\"No Strict Law\"],[\"No Strict Law\"],[\"No Strict Law\"],[\"No Strict Law\"],[\"No Strict Law\"],[\"No Strict Law\"],[\"No Strict Law\"],[\"No Strict Law\"],[\"No Strict Law\"],[\"No Strict Law\"],[\"No Strict Law\"],[\"No Strict Law\"],[\"No Strict Law\"],[\"No Strict Law\"],[\"No Strict Law\"],[\"No Strict Law\"],[\"No Strict Law\"],[\"No Strict Law\"],[\"No Strict Law\"],[\"No Strict Law\"],[\"No Strict Law\"],[\"No Strict Law\"],[\"No Strict Law\"],[\"No Strict Law\"],[\"No Strict Law\"],[\"No Strict Law\"],[\"No Strict Law\"],[\"No Strict Law\"],[\"No Strict Law\"],[\"No Strict Law\"],[\"No Strict Law\"],[\"No Strict Law\"],[\"No Strict Law\"],[\"No Strict Law\"],[\"No Strict Law\"],[\"No Strict Law\"],[\"No Strict Law\"],[\"No Strict Law\"],[\"No Strict Law\"],[\"No Strict Law\"],[\"No Strict Law\"],[\"No Strict Law\"],[\"No Strict Law\"],[\"No Strict Law\"],[\"No Strict Law\"],[\"No Strict Law\"],[\"No Strict Law\"],[\"Strict Law\"],[\"Strict Law\"],[\"Strict Law\"],[\"Strict Law\"],[\"Strict Law\"],[\"Strict Law\"],[\"Strict Law\"],[\"Strict Law\"],[\"Strict Law\"],[\"Strict Law\"],[\"Strict Law\"],[\"Strict Law\"],[\"Strict Law\"],[\"Strict Law\"],[\"Strict Law\"],[\"Strict Law\"],[\"Strict Law\"],[\"Strict Law\"],[\"Strict Law\"],[\"Strict Law\"],[\"Strict Law\"],[\"Strict Law\"],[\"Strict Law\"],[\"Strict Law\"],[\"Strict Law\"],[\"Strict Law\"],[\"Strict Law\"],[\"Strict Law\"],[\"Strict Law\"],[\"Strict Law\"],[\"Strict Law\"],[\"Strict Law\"],[\"Strict Law\"],[\"Strict Law\"],[\"Strict Law\"],[\"Strict Law\"],[\"Strict Law\"],[\"Strict Law\"],[\"Strict Law\"],[\"Strict Law\"],[\"Strict Law\"],[\"Strict Law\"],[\"Strict Law\"],[\"Strict Law\"],[\"Strict Law\"],[\"Strict Law\"],[\"Strict Law\"],[\"Strict Law\"],[\"Strict Law\"],[\"Strict Law\"],[\"Strict Law\"],[\"Strict Law\"],[\"Strict Law\"],[\"Strict Law\"],[\"Strict Law\"],[\"Strict Law\"],[\"Strict Law\"],[\"Strict Law\"],[\"Strict Law\"],[\"Strict Law\"],[\"Strict Law\"],[\"Strict Law\"],[\"Strict Law\"],[\"Strict Law\"],[\"Strict Law\"],[\"Strict Law\"],[\"Strict Law\"],[\"Strict Law\"],[\"Strict Law\"],[\"Strict Law\"],[\"Strict Law\"],[\"Strict Law\"],[\"Strict Law\"],[\"Strict Law\"],[\"Strict Law\"],[\"Strict Law\"],[\"Strict Law\"],[\"Strict Law\"],[\"Strict Law\"],[\"Strict Law\"],[\"Strict Law\"],[\"Strict Law\"],[\"No Strict Law\"],[\"Strict Law\"],[\"No Strict Law\"],[\"Strict Law\"]],\"domain\":{\"x\":[0.0,1.0],\"y\":[0.0,1.0]},\"hovertemplate\":\"labels=%{label}\\u003cbr\\u003ecount=%{value}\\u003cbr\\u003eparent=%{parent}\\u003cbr\\u003eid=%{id}\\u003cbr\\u003eStrict_Helmet_Law_Label=%{customdata[0]}\\u003cextra\\u003e\\u003c\\u002fextra\\u003e\",\"ids\":[\"No Strict Law\\u002f0\\u002fAFG\",\"No Strict Law\\u002f0\\u002fMNG\",\"No Strict Law\\u002f0\\u002fMLT\",\"No Strict Law\\u002f0\\u002fMKD\",\"No Strict Law\\u002f0\\u002fMEX\",\"No Strict Law\\u002f0\\u002fMDV\",\"No Strict Law\\u002f0\\u002fLSO\",\"No Strict Law\\u002f0\\u002fLKA\",\"No Strict Law\\u002f0\\u002fLCA\",\"No Strict Law\\u002f0\\u002fLBY\",\"No Strict Law\\u002f0\\u002fLBR\",\"No Strict Law\\u002f0\\u002fLAO\",\"No Strict Law\\u002f0\\u002fKOR\",\"No Strict Law\\u002f0\\u002fMRT\",\"No Strict Law\\u002f0\\u002fKIR\",\"No Strict Law\\u002f0\\u002fJPN\",\"No Strict Law\\u002f0\\u002fJOR\",\"No Strict Law\\u002f0\\u002fISL\",\"No Strict Law\\u002f0\\u002fIRQ\",\"No Strict Law\\u002f0\\u002fIRN\",\"No Strict Law\\u002f0\\u002fIRL\",\"No Strict Law\\u002f0\\u002fIDN\",\"No Strict Law\\u002f0\\u002fHND\",\"No Strict Law\\u002f0\\u002fGUY\",\"No Strict Law\\u002f0\\u002fGTM\",\"No Strict Law\\u002f0\\u002fGRD\",\"No Strict Law\\u002f0\\u002fGNQ\",\"No Strict Law\\u002f0\\u002fKHM\",\"No Strict Law\\u002f0\\u002fGMB\",\"No Strict Law\\u002f0\\u002fMUS\",\"No Strict Law\\u002f0\\u002fNOR\",\"No Strict Law\\u002f0\\u002fVEN\",\"No Strict Law\\u002f0\\u002fUSA\",\"No Strict Law\\u002f0\\u002fURY\",\"No Strict Law\\u002f0\\u002fUGA\",\"No Strict Law\\u002f0\\u002fTZA\",\"No Strict Law\\u002f0\\u002fTUR\",\"No Strict Law\\u002f0\\u002fTUN\",\"No Strict Law\\u002f0\\u002fTTO\",\"No Strict Law\\u002f0\\u002fTKM\",\"No Strict Law\\u002f0\\u002fTGO\",\"No Strict Law\\u002f0\\u002fTCD\",\"No Strict Law\\u002f0\\u002fSYR\",\"No Strict Law\\u002f0\\u002fNER\",\"No Strict Law\\u002f0\\u002fSYC\",\"No Strict Law\\u002f0\\u002fSOM\",\"No Strict Law\\u002f0\\u002fSEN\",\"No Strict Law\\u002f0\\u002fSDN\",\"No Strict Law\\u002f0\\u002fROU\",\"No Strict Law\\u002f0\\u002fQAT\",\"No Strict Law\\u002f0\\u002fPOL\",\"No Strict Law\\u002f0\\u002fPHL\",\"No Strict Law\\u002f0\\u002fPER\",\"No Strict Law\\u002f0\\u002fPAN\",\"No Strict Law\\u002f0\\u002fPAK\",\"No Strict Law\\u002f0\\u002fOMN\",\"No Strict Law\\u002f0\\u002fNPL\",\"No Strict Law\\u002f0\\u002fSSD\",\"No Strict Law\\u002f0\\u002fGIN\",\"No Strict Law\\u002f0\\u002fKWT\",\"No Strict Law\\u002f0\\u002fCRI\",\"No Strict Law\\u002f0\\u002fBIH\",\"No Strict Law\\u002f0\\u002fAZE\",\"No Strict Law\\u002f0\\u002fDOM\",\"No Strict Law\\u002f0\\u002fDMA\",\"No Strict Law\\u002f0\\u002fDEU\",\"No Strict Law\\u002f0\\u002fBDI\",\"No Strict Law\\u002f0\\u002fBEL\",\"No Strict Law\\u002f0\\u002fCOL\",\"No Strict Law\\u002f0\\u002fCIV\",\"No Strict Law\\u002f0\\u002fBRB\",\"No Strict Law\\u002f0\\u002fCMR\",\"No Strict Law\\u002f0\\u002fCOD\",\"No Strict Law\\u002f0\\u002fBGR\",\"No Strict Law\\u002f0\\u002fCOG\",\"No Strict Law\\u002f0\\u002fBGD\",\"No Strict Law\\u002f0\\u002fCOM\",\"No Strict Law\\u002f0\\u002fBFA\",\"No Strict Law\\u002f0\\u002fAUT\",\"No Strict Law\\u002f0\\u002fCHN\",\"No Strict Law\\u002f0\\u002fARE\",\"No Strict Law\\u002f0\\u002fBOL\",\"No Strict Law\\u002f0\\u002fGAB\",\"No Strict Law\\u002f0\\u002fFSM\",\"No Strict Law\\u002f0\\u002fALB\",\"No Strict Law\\u002f0\\u002fEGY\",\"No Strict Law\\u002f0\\u002fFIN\",\"No Strict Law\\u002f0\\u002fCHE\",\"No Strict Law\\u002f0\\u002fCOK\",\"No Strict Law\\u002f0\\u002fESP\",\"No Strict Law\\u002f0\\u002fERI\",\"No Strict Law\\u002f0\\u002fATG\",\"No Strict Law\\u002f0\\u002fETH\",\"Strict Law\\u002f1\\u002fSLB\",\"Strict Law\\u002f1\\u002fRWA\",\"Strict Law\\u002f1\\u002fSGP\",\"Strict Law\\u002f1\\u002fRUS\",\"Strict Law\\u002f1\\u002fBLZ\",\"Strict Law\\u002f1\\u002fSLV\",\"Strict Law\\u002f1\\u002fSMR\",\"Strict Law\\u002f1\\u002fSAU\",\"Strict Law\\u002f1\\u002fPSE\",\"Strict Law\\u002f1\\u002fPRY\",\"Strict Law\\u002f1\\u002fBLR\",\"Strict Law\\u002f1\\u002fGEO\",\"Strict Law\\u002f1\\u002fSTP\",\"Strict Law\\u002f1\\u002fWSM\",\"Strict Law\\u002f1\\u002fVUT\",\"Strict Law\\u002f1\\u002fVNM\",\"Strict Law\\u002f1\\u002fAGO\",\"Strict Law\\u002f1\\u002fUZB\",\"Strict Law\\u002f1\\u002fUKR\",\"Strict Law\\u002f1\\u002fARG\",\"Strict Law\\u002f1\\u002fARM\",\"Strict Law\\u002f1\\u002fAUS\",\"Strict Law\\u002f1\\u002fTON\",\"Strict Law\\u002f1\\u002fTLS\",\"Strict Law\\u002f1\\u002fTJK\",\"Strict Law\\u002f1\\u002fTHA\",\"Strict Law\\u002f1\\u002fBEN\",\"Strict Law\\u002f1\\u002fSWZ\",\"Strict Law\\u002f1\\u002fSWE\",\"Strict Law\\u002f1\\u002fSVN\",\"Strict Law\\u002f1\\u002fSVK\",\"Strict Law\\u002f1\\u002fSUR\",\"Strict Law\\u002f1\\u002fSRB\",\"Strict Law\\u002f1\\u002fPRT\",\"Strict Law\\u002f1\\u002fNLD\",\"Strict Law\\u002f1\\u002fPNG\",\"Strict Law\\u002f1\\u002fCZE\",\"Strict Law\\u002f1\\u002fLBN\",\"Strict Law\\u002f1\\u002fZAF\",\"Strict Law\\u002f1\\u002fDNK\",\"Strict Law\\u002f1\\u002fKGZ\",\"Strict Law\\u002f1\\u002fKEN\",\"Strict Law\\u002f1\\u002fKAZ\",\"Strict Law\\u002f1\\u002fECU\",\"Strict Law\\u002f1\\u002fJAM\",\"Strict Law\\u002f1\\u002fCYP\",\"Strict Law\\u002f1\\u002fITA\",\"Strict Law\\u002f1\\u002fEST\",\"Strict Law\\u002f1\\u002fIND\",\"Strict Law\\u002f1\\u002fHUN\",\"Strict Law\\u002f1\\u002fHRV\",\"Strict Law\\u002f1\\u002fFJI\",\"Strict Law\\u002f1\\u002fFRA\",\"Strict Law\\u002f1\\u002fGRC\",\"Strict Law\\u002f1\\u002fGBR\",\"Strict Law\\u002f1\\u002fGNB\",\"Strict Law\\u002f1\\u002fISR\",\"Strict Law\\u002f1\\u002fBRA\",\"Strict Law\\u002f1\\u002fCUB\",\"Strict Law\\u002f1\\u002fLTU\",\"Strict Law\\u002f1\\u002fBTN\",\"Strict Law\\u002f1\\u002fBWA\",\"Strict Law\\u002f1\\u002fCAF\",\"Strict Law\\u002f1\\u002fCAN\",\"Strict Law\\u002f1\\u002fNZL\",\"Strict Law\\u002f1\\u002fCHL\",\"Strict Law\\u002f1\\u002fGHA\",\"Strict Law\\u002f1\\u002fNGA\",\"Strict Law\\u002f1\\u002fNAM\",\"Strict Law\\u002f1\\u002fCPV\",\"Strict Law\\u002f1\\u002fMYS\",\"Strict Law\\u002f1\\u002fMOZ\",\"Strict Law\\u002f1\\u002fMNE\",\"Strict Law\\u002f1\\u002fMMR\",\"Strict Law\\u002f1\\u002fMLI\",\"Strict Law\\u002f1\\u002fMDG\",\"Strict Law\\u002f1\\u002fMDA\",\"Strict Law\\u002f1\\u002fMAR\",\"Strict Law\\u002f1\\u002fLVA\",\"Strict Law\\u002f1\\u002fLUX\",\"Strict Law\\u002f1\\u002fMWI\",\"Strict Law\\u002f1\\u002fZWE\",\"No Strict Law\\u002f0\",\"Strict Law\\u002f1\",\"No Strict Law\",\"Strict Law\"],\"labels\":[\"AFG\",\"MNG\",\"MLT\",\"MKD\",\"MEX\",\"MDV\",\"LSO\",\"LKA\",\"LCA\",\"LBY\",\"LBR\",\"LAO\",\"KOR\",\"MRT\",\"KIR\",\"JPN\",\"JOR\",\"ISL\",\"IRQ\",\"IRN\",\"IRL\",\"IDN\",\"HND\",\"GUY\",\"GTM\",\"GRD\",\"GNQ\",\"KHM\",\"GMB\",\"MUS\",\"NOR\",\"VEN\",\"USA\",\"URY\",\"UGA\",\"TZA\",\"TUR\",\"TUN\",\"TTO\",\"TKM\",\"TGO\",\"TCD\",\"SYR\",\"NER\",\"SYC\",\"SOM\",\"SEN\",\"SDN\",\"ROU\",\"QAT\",\"POL\",\"PHL\",\"PER\",\"PAN\",\"PAK\",\"OMN\",\"NPL\",\"SSD\",\"GIN\",\"KWT\",\"CRI\",\"BIH\",\"AZE\",\"DOM\",\"DMA\",\"DEU\",\"BDI\",\"BEL\",\"COL\",\"CIV\",\"BRB\",\"CMR\",\"COD\",\"BGR\",\"COG\",\"BGD\",\"COM\",\"BFA\",\"AUT\",\"CHN\",\"ARE\",\"BOL\",\"GAB\",\"FSM\",\"ALB\",\"EGY\",\"FIN\",\"CHE\",\"COK\",\"ESP\",\"ERI\",\"ATG\",\"ETH\",\"SLB\",\"RWA\",\"SGP\",\"RUS\",\"BLZ\",\"SLV\",\"SMR\",\"SAU\",\"PSE\",\"PRY\",\"BLR\",\"GEO\",\"STP\",\"WSM\",\"VUT\",\"VNM\",\"AGO\",\"UZB\",\"UKR\",\"ARG\",\"ARM\",\"AUS\",\"TON\",\"TLS\",\"TJK\",\"THA\",\"BEN\",\"SWZ\",\"SWE\",\"SVN\",\"SVK\",\"SUR\",\"SRB\",\"PRT\",\"NLD\",\"PNG\",\"CZE\",\"LBN\",\"ZAF\",\"DNK\",\"KGZ\",\"KEN\",\"KAZ\",\"ECU\",\"JAM\",\"CYP\",\"ITA\",\"EST\",\"IND\",\"HUN\",\"HRV\",\"FJI\",\"FRA\",\"GRC\",\"GBR\",\"GNB\",\"ISR\",\"BRA\",\"CUB\",\"LTU\",\"BTN\",\"BWA\",\"CAF\",\"CAN\",\"NZL\",\"CHL\",\"GHA\",\"NGA\",\"NAM\",\"CPV\",\"MYS\",\"MOZ\",\"MNE\",\"MMR\",\"MLI\",\"MDG\",\"MDA\",\"MAR\",\"LVA\",\"LUX\",\"MWI\",\"ZWE\",\"0\",\"1\",\"No Strict Law\",\"Strict Law\"],\"marker\":{\"colors\":[\"#ff9999\",\"#ff9999\",\"#ff9999\",\"#ff9999\",\"#ff9999\",\"#ff9999\",\"#ff9999\",\"#ff9999\",\"#ff9999\",\"#ff9999\",\"#ff9999\",\"#ff9999\",\"#ff9999\",\"#ff9999\",\"#ff9999\",\"#ff9999\",\"#ff9999\",\"#ff9999\",\"#ff9999\",\"#ff9999\",\"#ff9999\",\"#ff9999\",\"#ff9999\",\"#ff9999\",\"#ff9999\",\"#ff9999\",\"#ff9999\",\"#ff9999\",\"#ff9999\",\"#ff9999\",\"#ff9999\",\"#ff9999\",\"#ff9999\",\"#ff9999\",\"#ff9999\",\"#ff9999\",\"#ff9999\",\"#ff9999\",\"#ff9999\",\"#ff9999\",\"#ff9999\",\"#ff9999\",\"#ff9999\",\"#ff9999\",\"#ff9999\",\"#ff9999\",\"#ff9999\",\"#ff9999\",\"#ff9999\",\"#ff9999\",\"#ff9999\",\"#ff9999\",\"#ff9999\",\"#ff9999\",\"#ff9999\",\"#ff9999\",\"#ff9999\",\"#ff9999\",\"#ff9999\",\"#ff9999\",\"#ff9999\",\"#ff9999\",\"#ff9999\",\"#ff9999\",\"#ff9999\",\"#ff9999\",\"#ff9999\",\"#ff9999\",\"#ff9999\",\"#ff9999\",\"#ff9999\",\"#ff9999\",\"#ff9999\",\"#ff9999\",\"#ff9999\",\"#ff9999\",\"#ff9999\",\"#ff9999\",\"#ff9999\",\"#ff9999\",\"#ff9999\",\"#ff9999\",\"#ff9999\",\"#ff9999\",\"#ff9999\",\"#ff9999\",\"#ff9999\",\"#ff9999\",\"#ff9999\",\"#ff9999\",\"#ff9999\",\"#ff9999\",\"#ff9999\",\"#66b3ff\",\"#66b3ff\",\"#66b3ff\",\"#66b3ff\",\"#66b3ff\",\"#66b3ff\",\"#66b3ff\",\"#66b3ff\",\"#66b3ff\",\"#66b3ff\",\"#66b3ff\",\"#66b3ff\",\"#66b3ff\",\"#66b3ff\",\"#66b3ff\",\"#66b3ff\",\"#66b3ff\",\"#66b3ff\",\"#66b3ff\",\"#66b3ff\",\"#66b3ff\",\"#66b3ff\",\"#66b3ff\",\"#66b3ff\",\"#66b3ff\",\"#66b3ff\",\"#66b3ff\",\"#66b3ff\",\"#66b3ff\",\"#66b3ff\",\"#66b3ff\",\"#66b3ff\",\"#66b3ff\",\"#66b3ff\",\"#66b3ff\",\"#66b3ff\",\"#66b3ff\",\"#66b3ff\",\"#66b3ff\",\"#66b3ff\",\"#66b3ff\",\"#66b3ff\",\"#66b3ff\",\"#66b3ff\",\"#66b3ff\",\"#66b3ff\",\"#66b3ff\",\"#66b3ff\",\"#66b3ff\",\"#66b3ff\",\"#66b3ff\",\"#66b3ff\",\"#66b3ff\",\"#66b3ff\",\"#66b3ff\",\"#66b3ff\",\"#66b3ff\",\"#66b3ff\",\"#66b3ff\",\"#66b3ff\",\"#66b3ff\",\"#66b3ff\",\"#66b3ff\",\"#66b3ff\",\"#66b3ff\",\"#66b3ff\",\"#66b3ff\",\"#66b3ff\",\"#66b3ff\",\"#66b3ff\",\"#66b3ff\",\"#66b3ff\",\"#66b3ff\",\"#66b3ff\",\"#66b3ff\",\"#66b3ff\",\"#66b3ff\",\"#66b3ff\",\"#66b3ff\",\"#66b3ff\",\"#66b3ff\",\"#66b3ff\",\"#ff9999\",\"#66b3ff\",\"#ff9999\",\"#66b3ff\"]},\"name\":\"\",\"parents\":[\"No Strict Law\\u002f0\",\"No Strict Law\\u002f0\",\"No Strict Law\\u002f0\",\"No Strict Law\\u002f0\",\"No Strict Law\\u002f0\",\"No Strict Law\\u002f0\",\"No Strict Law\\u002f0\",\"No Strict Law\\u002f0\",\"No Strict Law\\u002f0\",\"No Strict Law\\u002f0\",\"No Strict Law\\u002f0\",\"No Strict Law\\u002f0\",\"No Strict Law\\u002f0\",\"No Strict Law\\u002f0\",\"No Strict Law\\u002f0\",\"No Strict Law\\u002f0\",\"No Strict Law\\u002f0\",\"No Strict Law\\u002f0\",\"No Strict Law\\u002f0\",\"No Strict Law\\u002f0\",\"No Strict Law\\u002f0\",\"No Strict Law\\u002f0\",\"No Strict Law\\u002f0\",\"No Strict Law\\u002f0\",\"No Strict Law\\u002f0\",\"No Strict Law\\u002f0\",\"No Strict Law\\u002f0\",\"No Strict Law\\u002f0\",\"No Strict Law\\u002f0\",\"No Strict Law\\u002f0\",\"No Strict Law\\u002f0\",\"No Strict Law\\u002f0\",\"No Strict Law\\u002f0\",\"No Strict Law\\u002f0\",\"No Strict Law\\u002f0\",\"No Strict Law\\u002f0\",\"No Strict Law\\u002f0\",\"No Strict Law\\u002f0\",\"No Strict Law\\u002f0\",\"No Strict Law\\u002f0\",\"No Strict Law\\u002f0\",\"No Strict Law\\u002f0\",\"No Strict Law\\u002f0\",\"No Strict Law\\u002f0\",\"No Strict Law\\u002f0\",\"No Strict Law\\u002f0\",\"No Strict Law\\u002f0\",\"No Strict Law\\u002f0\",\"No Strict Law\\u002f0\",\"No Strict Law\\u002f0\",\"No Strict Law\\u002f0\",\"No Strict Law\\u002f0\",\"No Strict Law\\u002f0\",\"No Strict Law\\u002f0\",\"No Strict Law\\u002f0\",\"No Strict Law\\u002f0\",\"No Strict Law\\u002f0\",\"No Strict Law\\u002f0\",\"No Strict Law\\u002f0\",\"No Strict Law\\u002f0\",\"No Strict Law\\u002f0\",\"No Strict Law\\u002f0\",\"No Strict Law\\u002f0\",\"No Strict Law\\u002f0\",\"No Strict Law\\u002f0\",\"No Strict Law\\u002f0\",\"No Strict Law\\u002f0\",\"No Strict Law\\u002f0\",\"No Strict Law\\u002f0\",\"No Strict Law\\u002f0\",\"No Strict Law\\u002f0\",\"No Strict Law\\u002f0\",\"No Strict Law\\u002f0\",\"No Strict Law\\u002f0\",\"No Strict Law\\u002f0\",\"No Strict Law\\u002f0\",\"No Strict Law\\u002f0\",\"No Strict Law\\u002f0\",\"No Strict Law\\u002f0\",\"No Strict Law\\u002f0\",\"No Strict Law\\u002f0\",\"No Strict Law\\u002f0\",\"No Strict Law\\u002f0\",\"No Strict Law\\u002f0\",\"No Strict Law\\u002f0\",\"No Strict Law\\u002f0\",\"No Strict Law\\u002f0\",\"No Strict Law\\u002f0\",\"No Strict Law\\u002f0\",\"No Strict Law\\u002f0\",\"No Strict Law\\u002f0\",\"No Strict Law\\u002f0\",\"No Strict Law\\u002f0\",\"Strict Law\\u002f1\",\"Strict Law\\u002f1\",\"Strict Law\\u002f1\",\"Strict Law\\u002f1\",\"Strict Law\\u002f1\",\"Strict Law\\u002f1\",\"Strict Law\\u002f1\",\"Strict Law\\u002f1\",\"Strict Law\\u002f1\",\"Strict Law\\u002f1\",\"Strict Law\\u002f1\",\"Strict Law\\u002f1\",\"Strict Law\\u002f1\",\"Strict Law\\u002f1\",\"Strict Law\\u002f1\",\"Strict Law\\u002f1\",\"Strict Law\\u002f1\",\"Strict Law\\u002f1\",\"Strict Law\\u002f1\",\"Strict Law\\u002f1\",\"Strict Law\\u002f1\",\"Strict Law\\u002f1\",\"Strict Law\\u002f1\",\"Strict Law\\u002f1\",\"Strict Law\\u002f1\",\"Strict Law\\u002f1\",\"Strict Law\\u002f1\",\"Strict Law\\u002f1\",\"Strict Law\\u002f1\",\"Strict Law\\u002f1\",\"Strict Law\\u002f1\",\"Strict Law\\u002f1\",\"Strict Law\\u002f1\",\"Strict Law\\u002f1\",\"Strict Law\\u002f1\",\"Strict Law\\u002f1\",\"Strict Law\\u002f1\",\"Strict Law\\u002f1\",\"Strict Law\\u002f1\",\"Strict Law\\u002f1\",\"Strict Law\\u002f1\",\"Strict Law\\u002f1\",\"Strict Law\\u002f1\",\"Strict Law\\u002f1\",\"Strict Law\\u002f1\",\"Strict Law\\u002f1\",\"Strict Law\\u002f1\",\"Strict Law\\u002f1\",\"Strict Law\\u002f1\",\"Strict Law\\u002f1\",\"Strict Law\\u002f1\",\"Strict Law\\u002f1\",\"Strict Law\\u002f1\",\"Strict Law\\u002f1\",\"Strict Law\\u002f1\",\"Strict Law\\u002f1\",\"Strict Law\\u002f1\",\"Strict Law\\u002f1\",\"Strict Law\\u002f1\",\"Strict Law\\u002f1\",\"Strict Law\\u002f1\",\"Strict Law\\u002f1\",\"Strict Law\\u002f1\",\"Strict Law\\u002f1\",\"Strict Law\\u002f1\",\"Strict Law\\u002f1\",\"Strict Law\\u002f1\",\"Strict Law\\u002f1\",\"Strict Law\\u002f1\",\"Strict Law\\u002f1\",\"Strict Law\\u002f1\",\"Strict Law\\u002f1\",\"Strict Law\\u002f1\",\"Strict Law\\u002f1\",\"Strict Law\\u002f1\",\"Strict Law\\u002f1\",\"Strict Law\\u002f1\",\"Strict Law\\u002f1\",\"Strict Law\\u002f1\",\"Strict Law\\u002f1\",\"Strict Law\\u002f1\",\"Strict Law\\u002f1\",\"No Strict Law\",\"Strict Law\",\"\",\"\"],\"values\":[1,1,1,1,1,1,1,1,1,1,1,1,1,1,1,1,1,1,1,1,1,1,1,1,1,1,1,1,1,1,1,1,1,1,1,1,1,1,1,1,1,1,1,1,1,1,1,1,1,1,1,1,1,1,1,1,1,1,1,1,1,1,1,1,1,1,1,1,1,1,1,1,1,1,1,1,1,1,1,1,1,1,1,1,1,1,1,1,1,1,1,1,1,1,1,1,1,1,1,1,1,1,1,1,1,1,1,1,1,1,1,1,1,1,1,1,1,1,1,1,1,1,1,1,1,1,1,1,1,1,1,1,1,1,1,1,1,1,1,1,1,1,1,1,1,1,1,1,1,1,1,1,1,1,1,1,1,1,1,1,1,1,1,1,1,1,1,1,1,1,1,1,1,1,1,93,82,93,82],\"type\":\"sunburst\",\"textinfo\":\"label+percent entry\"}],                        {\"template\":{\"data\":{\"histogram2dcontour\":[{\"type\":\"histogram2dcontour\",\"colorbar\":{\"outlinewidth\":0,\"ticks\":\"\"},\"colorscale\":[[0.0,\"#0d0887\"],[0.1111111111111111,\"#46039f\"],[0.2222222222222222,\"#7201a8\"],[0.3333333333333333,\"#9c179e\"],[0.4444444444444444,\"#bd3786\"],[0.5555555555555556,\"#d8576b\"],[0.6666666666666666,\"#ed7953\"],[0.7777777777777778,\"#fb9f3a\"],[0.8888888888888888,\"#fdca26\"],[1.0,\"#f0f921\"]]}],\"choropleth\":[{\"type\":\"choropleth\",\"colorbar\":{\"outlinewidth\":0,\"ticks\":\"\"}}],\"histogram2d\":[{\"type\":\"histogram2d\",\"colorbar\":{\"outlinewidth\":0,\"ticks\":\"\"},\"colorscale\":[[0.0,\"#0d0887\"],[0.1111111111111111,\"#46039f\"],[0.2222222222222222,\"#7201a8\"],[0.3333333333333333,\"#9c179e\"],[0.4444444444444444,\"#bd3786\"],[0.5555555555555556,\"#d8576b\"],[0.6666666666666666,\"#ed7953\"],[0.7777777777777778,\"#fb9f3a\"],[0.8888888888888888,\"#fdca26\"],[1.0,\"#f0f921\"]]}],\"heatmap\":[{\"type\":\"heatmap\",\"colorbar\":{\"outlinewidth\":0,\"ticks\":\"\"},\"colorscale\":[[0.0,\"#0d0887\"],[0.1111111111111111,\"#46039f\"],[0.2222222222222222,\"#7201a8\"],[0.3333333333333333,\"#9c179e\"],[0.4444444444444444,\"#bd3786\"],[0.5555555555555556,\"#d8576b\"],[0.6666666666666666,\"#ed7953\"],[0.7777777777777778,\"#fb9f3a\"],[0.8888888888888888,\"#fdca26\"],[1.0,\"#f0f921\"]]}],\"heatmapgl\":[{\"type\":\"heatmapgl\",\"colorbar\":{\"outlinewidth\":0,\"ticks\":\"\"},\"colorscale\":[[0.0,\"#0d0887\"],[0.1111111111111111,\"#46039f\"],[0.2222222222222222,\"#7201a8\"],[0.3333333333333333,\"#9c179e\"],[0.4444444444444444,\"#bd3786\"],[0.5555555555555556,\"#d8576b\"],[0.6666666666666666,\"#ed7953\"],[0.7777777777777778,\"#fb9f3a\"],[0.8888888888888888,\"#fdca26\"],[1.0,\"#f0f921\"]]}],\"contourcarpet\":[{\"type\":\"contourcarpet\",\"colorbar\":{\"outlinewidth\":0,\"ticks\":\"\"}}],\"contour\":[{\"type\":\"contour\",\"colorbar\":{\"outlinewidth\":0,\"ticks\":\"\"},\"colorscale\":[[0.0,\"#0d0887\"],[0.1111111111111111,\"#46039f\"],[0.2222222222222222,\"#7201a8\"],[0.3333333333333333,\"#9c179e\"],[0.4444444444444444,\"#bd3786\"],[0.5555555555555556,\"#d8576b\"],[0.6666666666666666,\"#ed7953\"],[0.7777777777777778,\"#fb9f3a\"],[0.8888888888888888,\"#fdca26\"],[1.0,\"#f0f921\"]]}],\"surface\":[{\"type\":\"surface\",\"colorbar\":{\"outlinewidth\":0,\"ticks\":\"\"},\"colorscale\":[[0.0,\"#0d0887\"],[0.1111111111111111,\"#46039f\"],[0.2222222222222222,\"#7201a8\"],[0.3333333333333333,\"#9c179e\"],[0.4444444444444444,\"#bd3786\"],[0.5555555555555556,\"#d8576b\"],[0.6666666666666666,\"#ed7953\"],[0.7777777777777778,\"#fb9f3a\"],[0.8888888888888888,\"#fdca26\"],[1.0,\"#f0f921\"]]}],\"mesh3d\":[{\"type\":\"mesh3d\",\"colorbar\":{\"outlinewidth\":0,\"ticks\":\"\"}}],\"scatter\":[{\"fillpattern\":{\"fillmode\":\"overlay\",\"size\":10,\"solidity\":0.2},\"type\":\"scatter\"}],\"parcoords\":[{\"type\":\"parcoords\",\"line\":{\"colorbar\":{\"outlinewidth\":0,\"ticks\":\"\"}}}],\"scatterpolargl\":[{\"type\":\"scatterpolargl\",\"marker\":{\"colorbar\":{\"outlinewidth\":0,\"ticks\":\"\"}}}],\"bar\":[{\"error_x\":{\"color\":\"#2a3f5f\"},\"error_y\":{\"color\":\"#2a3f5f\"},\"marker\":{\"line\":{\"color\":\"#E5ECF6\",\"width\":0.5},\"pattern\":{\"fillmode\":\"overlay\",\"size\":10,\"solidity\":0.2}},\"type\":\"bar\"}],\"scattergeo\":[{\"type\":\"scattergeo\",\"marker\":{\"colorbar\":{\"outlinewidth\":0,\"ticks\":\"\"}}}],\"scatterpolar\":[{\"type\":\"scatterpolar\",\"marker\":{\"colorbar\":{\"outlinewidth\":0,\"ticks\":\"\"}}}],\"histogram\":[{\"marker\":{\"pattern\":{\"fillmode\":\"overlay\",\"size\":10,\"solidity\":0.2}},\"type\":\"histogram\"}],\"scattergl\":[{\"type\":\"scattergl\",\"marker\":{\"colorbar\":{\"outlinewidth\":0,\"ticks\":\"\"}}}],\"scatter3d\":[{\"type\":\"scatter3d\",\"line\":{\"colorbar\":{\"outlinewidth\":0,\"ticks\":\"\"}},\"marker\":{\"colorbar\":{\"outlinewidth\":0,\"ticks\":\"\"}}}],\"scattermapbox\":[{\"type\":\"scattermapbox\",\"marker\":{\"colorbar\":{\"outlinewidth\":0,\"ticks\":\"\"}}}],\"scatterternary\":[{\"type\":\"scatterternary\",\"marker\":{\"colorbar\":{\"outlinewidth\":0,\"ticks\":\"\"}}}],\"scattercarpet\":[{\"type\":\"scattercarpet\",\"marker\":{\"colorbar\":{\"outlinewidth\":0,\"ticks\":\"\"}}}],\"carpet\":[{\"aaxis\":{\"endlinecolor\":\"#2a3f5f\",\"gridcolor\":\"white\",\"linecolor\":\"white\",\"minorgridcolor\":\"white\",\"startlinecolor\":\"#2a3f5f\"},\"baxis\":{\"endlinecolor\":\"#2a3f5f\",\"gridcolor\":\"white\",\"linecolor\":\"white\",\"minorgridcolor\":\"white\",\"startlinecolor\":\"#2a3f5f\"},\"type\":\"carpet\"}],\"table\":[{\"cells\":{\"fill\":{\"color\":\"#EBF0F8\"},\"line\":{\"color\":\"white\"}},\"header\":{\"fill\":{\"color\":\"#C8D4E3\"},\"line\":{\"color\":\"white\"}},\"type\":\"table\"}],\"barpolar\":[{\"marker\":{\"line\":{\"color\":\"#E5ECF6\",\"width\":0.5},\"pattern\":{\"fillmode\":\"overlay\",\"size\":10,\"solidity\":0.2}},\"type\":\"barpolar\"}],\"pie\":[{\"automargin\":true,\"type\":\"pie\"}]},\"layout\":{\"autotypenumbers\":\"strict\",\"colorway\":[\"#636efa\",\"#EF553B\",\"#00cc96\",\"#ab63fa\",\"#FFA15A\",\"#19d3f3\",\"#FF6692\",\"#B6E880\",\"#FF97FF\",\"#FECB52\"],\"font\":{\"color\":\"#2a3f5f\"},\"hovermode\":\"closest\",\"hoverlabel\":{\"align\":\"left\"},\"paper_bgcolor\":\"white\",\"plot_bgcolor\":\"#E5ECF6\",\"polar\":{\"bgcolor\":\"#E5ECF6\",\"angularaxis\":{\"gridcolor\":\"white\",\"linecolor\":\"white\",\"ticks\":\"\"},\"radialaxis\":{\"gridcolor\":\"white\",\"linecolor\":\"white\",\"ticks\":\"\"}},\"ternary\":{\"bgcolor\":\"#E5ECF6\",\"aaxis\":{\"gridcolor\":\"white\",\"linecolor\":\"white\",\"ticks\":\"\"},\"baxis\":{\"gridcolor\":\"white\",\"linecolor\":\"white\",\"ticks\":\"\"},\"caxis\":{\"gridcolor\":\"white\",\"linecolor\":\"white\",\"ticks\":\"\"}},\"coloraxis\":{\"colorbar\":{\"outlinewidth\":0,\"ticks\":\"\"}},\"colorscale\":{\"sequential\":[[0.0,\"#0d0887\"],[0.1111111111111111,\"#46039f\"],[0.2222222222222222,\"#7201a8\"],[0.3333333333333333,\"#9c179e\"],[0.4444444444444444,\"#bd3786\"],[0.5555555555555556,\"#d8576b\"],[0.6666666666666666,\"#ed7953\"],[0.7777777777777778,\"#fb9f3a\"],[0.8888888888888888,\"#fdca26\"],[1.0,\"#f0f921\"]],\"sequentialminus\":[[0.0,\"#0d0887\"],[0.1111111111111111,\"#46039f\"],[0.2222222222222222,\"#7201a8\"],[0.3333333333333333,\"#9c179e\"],[0.4444444444444444,\"#bd3786\"],[0.5555555555555556,\"#d8576b\"],[0.6666666666666666,\"#ed7953\"],[0.7777777777777778,\"#fb9f3a\"],[0.8888888888888888,\"#fdca26\"],[1.0,\"#f0f921\"]],\"diverging\":[[0,\"#8e0152\"],[0.1,\"#c51b7d\"],[0.2,\"#de77ae\"],[0.3,\"#f1b6da\"],[0.4,\"#fde0ef\"],[0.5,\"#f7f7f7\"],[0.6,\"#e6f5d0\"],[0.7,\"#b8e186\"],[0.8,\"#7fbc41\"],[0.9,\"#4d9221\"],[1,\"#276419\"]]},\"xaxis\":{\"gridcolor\":\"white\",\"linecolor\":\"white\",\"ticks\":\"\",\"title\":{\"standoff\":15},\"zerolinecolor\":\"white\",\"automargin\":true,\"zerolinewidth\":2},\"yaxis\":{\"gridcolor\":\"white\",\"linecolor\":\"white\",\"ticks\":\"\",\"title\":{\"standoff\":15},\"zerolinecolor\":\"white\",\"automargin\":true,\"zerolinewidth\":2},\"scene\":{\"xaxis\":{\"backgroundcolor\":\"#E5ECF6\",\"gridcolor\":\"white\",\"linecolor\":\"white\",\"showbackground\":true,\"ticks\":\"\",\"zerolinecolor\":\"white\",\"gridwidth\":2},\"yaxis\":{\"backgroundcolor\":\"#E5ECF6\",\"gridcolor\":\"white\",\"linecolor\":\"white\",\"showbackground\":true,\"ticks\":\"\",\"zerolinecolor\":\"white\",\"gridwidth\":2},\"zaxis\":{\"backgroundcolor\":\"#E5ECF6\",\"gridcolor\":\"white\",\"linecolor\":\"white\",\"showbackground\":true,\"ticks\":\"\",\"zerolinecolor\":\"white\",\"gridwidth\":2}},\"shapedefaults\":{\"line\":{\"color\":\"#2a3f5f\"}},\"annotationdefaults\":{\"arrowcolor\":\"#2a3f5f\",\"arrowhead\":0,\"arrowwidth\":1},\"geo\":{\"bgcolor\":\"white\",\"landcolor\":\"#E5ECF6\",\"subunitcolor\":\"white\",\"showland\":true,\"showlakes\":true,\"lakecolor\":\"white\"},\"title\":{\"x\":0.05},\"mapbox\":{\"style\":\"light\"}}},\"legend\":{\"tracegroupgap\":0},\"title\":{\"text\":\"Layers of Helmet Safety Laws Across Regions\"},\"height\":600,\"width\":700},                        {\"responsive\": true}                    ).then(function(){\n",
              "                            \n",
              "var gd = document.getElementById('5b02f3f5-ca66-42f1-9102-958aa7250af8');\n",
              "var x = new MutationObserver(function (mutations, observer) {{\n",
              "        var display = window.getComputedStyle(gd).display;\n",
              "        if (!display || display === 'none') {{\n",
              "            console.log([gd, 'removed!']);\n",
              "            Plotly.purge(gd);\n",
              "            observer.disconnect();\n",
              "        }}\n",
              "}});\n",
              "\n",
              "// Listen for the removal of the full notebook cells\n",
              "var notebookContainer = gd.closest('#notebook-container');\n",
              "if (notebookContainer) {{\n",
              "    x.observe(notebookContainer, {childList: true});\n",
              "}}\n",
              "\n",
              "// Listen for the clearing of the current output cell\n",
              "var outputEl = gd.closest('.output');\n",
              "if (outputEl) {{\n",
              "    x.observe(outputEl, {childList: true});\n",
              "}}\n",
              "\n",
              "                        })                };                            </script>        </div>\n",
              "</body>\n",
              "</html>"
            ]
          },
          "metadata": {},
          "output_type": "display_data"
        }
      ],
      "source": [
        "# Prepare data\n",
        "sunburst_df = helmet_data.copy()\n",
        "sunburst_df['Strict_Helmet_Law_Label'] = sunburst_df['Strict_Helmet_Law'].map({1: 'Strict Law', 0: 'No Strict Law'})\n",
        "\n",
        "# Fill missing region if needed\n",
        "sunburst_df = sunburst_df.dropna(subset=['Country_Code'])\n",
        "\n",
        "# Plot sunburst\n",
        "fig = px.sunburst(\n",
        "    sunburst_df,\n",
        "    path=['Strict_Helmet_Law_Label', 'Helmet_Fastened', 'Country_Code'],\n",
        "    values=None,\n",
        "    color='Strict_Helmet_Law_Label',\n",
        "    color_discrete_map={'Strict Law': '#66b3ff', 'No Strict Law': '#ff9999'},\n",
        "    title=\"Layers of Helmet Safety Laws Across Regions\",\n",
        "    width=700,\n",
        "    height=600\n",
        ")\n",
        "\n",
        "fig.update_traces(textinfo='label+percent entry')\n",
        "fig.show()\n"
      ]
    },
    {
      "cell_type": "code",
      "execution_count": 17,
      "id": "6d07cb0d",
      "metadata": {
        "colab": {
          "base_uri": "https://localhost:8080/",
          "height": 542
        },
        "id": "6d07cb0d",
        "outputId": "61bc90e4-814d-423b-9212-ed7b764cee29"
      },
      "outputs": [
        {
          "data": {
            "text/html": [
              "<html>\n",
              "<head><meta charset=\"utf-8\" /></head>\n",
              "<body>\n",
              "    <div>            <script src=\"https://cdnjs.cloudflare.com/ajax/libs/mathjax/2.7.5/MathJax.js?config=TeX-AMS-MML_SVG\"></script><script type=\"text/javascript\">if (window.MathJax && window.MathJax.Hub && window.MathJax.Hub.Config) {window.MathJax.Hub.Config({SVG: {font: \"STIX-Web\"}});}</script>                <script type=\"text/javascript\">window.PlotlyConfig = {MathJaxConfig: 'local'};</script>\n",
              "        <script charset=\"utf-8\" src=\"https://cdn.plot.ly/plotly-2.35.2.min.js\"></script>                <div id=\"969a60d3-dd88-4559-86d4-f37b3caeaa5c\" class=\"plotly-graph-div\" style=\"height:525px; width:100%;\"></div>            <script type=\"text/javascript\">                                    window.PLOTLYENV=window.PLOTLYENV || {};                                    if (document.getElementById(\"969a60d3-dd88-4559-86d4-f37b3caeaa5c\")) {                    Plotly.newPlot(                        \"969a60d3-dd88-4559-86d4-f37b3caeaa5c\",                        [{\"hovertemplate\":\"Strict_Helmet_Law=%{marker.color}\\u003cbr\\u003eMotorcyclist_Death_Percentage=%{y}\\u003cbr\\u003eCountry_Code=%{text}\\u003cextra\\u003e\\u003c\\u002fextra\\u003e\",\"legendgroup\":\"\",\"marker\":{\"color\":[0,0,1,1,0,1,0,0,0,1,0,1,0,1,0,1,1,0,1,0,0,0,0,0,0,1,1,1,0,0,1,0,1,0,0,0,1,0,1,0,1,1,1,1,0,0,0,1,1,0,1,0,0,0,1,1,1,0,0,1,1,1,0,0,0,1,0,0,0,1,1,1,1,1,0,0,0,1,0,1,1,0,0,1,1,0,1,0,0,0,0,0,1,1,1,0,0,1,1,1,1,1,1,1,1,1,1,0,0,0,1,1,0,0,0,0,0,1,0,0,1,1,1],\"coloraxis\":\"coloraxis\",\"symbol\":\"circle\"},\"mode\":\"markers+text\",\"name\":\"\",\"orientation\":\"v\",\"showlegend\":false,\"text\":[\"ALB\",\"ARE\",\"ARG\",\"ARM\",\"ATG\",\"AUS\",\"AUT\",\"AZE\",\"BEL\",\"BEN\",\"BGR\",\"BLZ\",\"BOL\",\"BRA\",\"BRB\",\"BWA\",\"CAN\",\"CHE\",\"CHL\",\"CIV\",\"COD\",\"COK\",\"COL\",\"COM\",\"CRI\",\"CUB\",\"CYP\",\"CZE\",\"DEU\",\"DMA\",\"DNK\",\"DOM\",\"ECU\",\"EGY\",\"ERI\",\"ESP\",\"EST\",\"FIN\",\"FRA\",\"FSM\",\"GBR\",\"GEO\",\"GHA\",\"GRC\",\"GTM\",\"GUY\",\"HND\",\"HRV\",\"HUN\",\"IDN\",\"IND\",\"IRL\",\"IRN\",\"ISL\",\"ISR\",\"ITA\",\"JAM\",\"JOR\",\"JPN\",\"KAZ\",\"KEN\",\"KGZ\",\"KHM\",\"KIR\",\"KOR\",\"LBN\",\"LBY\",\"LCA\",\"LKA\",\"LTU\",\"LUX\",\"LVA\",\"MAR\",\"MDA\",\"MDV\",\"MEX\",\"MKD\",\"MLI\",\"MLT\",\"MMR\",\"MNE\",\"MNG\",\"MUS\",\"MWI\",\"NLD\",\"NOR\",\"NZL\",\"OMN\",\"PAN\",\"PER\",\"PHL\",\"POL\",\"PRT\",\"PRY\",\"PSE\",\"QAT\",\"ROU\",\"RUS\",\"SGP\",\"SLV\",\"SRB\",\"SUR\",\"SVK\",\"SVN\",\"SWE\",\"SWZ\",\"SWZ\",\"SYC\",\"SYR\",\"TGO\",\"THA\",\"TON\",\"TTO\",\"TUN\",\"TUR\",\"TZA\",\"UGA\",\"UKR\",\"URY\",\"USA\",\"WSM\",\"ZAF\",\"ZWE\"],\"x\":[0,0,1,1,0,1,0,0,0,1,0,1,0,1,0,1,1,0,1,0,0,0,0,0,0,1,1,1,0,0,1,0,1,0,0,0,1,0,1,0,1,1,1,1,0,0,0,1,1,0,1,0,0,0,1,1,1,0,0,1,1,1,0,0,0,1,0,0,0,1,1,1,1,1,0,0,0,1,0,1,1,0,0,1,1,0,1,0,0,0,0,0,1,1,1,0,0,1,1,1,1,1,1,1,1,1,1,0,0,0,1,1,0,0,0,0,0,1,0,0,1,1,1],\"xaxis\":\"x\",\"y\":[11.9,5.5,22.2,1.5,0.0,19.3,22.0,0.9,14.4,56.5,7.8,19.8,19.7,31.4,33.3,0.0,10.8,22.7,8.7,35.0,11.7,80.0,52.5,17.4,40.0,15.6,21.7,10.3,18.8,0.0,16.1,67.0,19.1,5.5,1.5,21.9,1.4,8.7,21.1,0.0,20.5,0.5,17.9,32.4,32.7,21.9,24.3,16.0,10.5,73.6,39.6,11.7,24.1,11.1,12.2,25.6,28.8,0.0,17.2,4.3,24.2,2.1,73.5,20.0,20.5,20.7,1.9,20.0,50.8,5.7,9.4,12.0,28.7,4.3,75.0,9.6,9.5,42.3,40.9,64.8,15.4,18.6,45.8,3.2,21.4,17.0,15.9,3.9,4.4,0.6,4.7,11.2,18.3,52.2,2.5,2.2,4.4,5.9,44.0,14.2,8.7,45.9,8.7,19.2,16.3,0.5,2.0,20.0,6.4,71.6,74.4,0.0,2.2,22.9,14.9,22.7,33.4,8.7,45.7,14.2,0.0,0.3,10.2],\"yaxis\":\"y\",\"type\":\"scatter\",\"textposition\":\"top center\"}],                        {\"template\":{\"data\":{\"histogram2dcontour\":[{\"type\":\"histogram2dcontour\",\"colorbar\":{\"outlinewidth\":0,\"ticks\":\"\"},\"colorscale\":[[0.0,\"#0d0887\"],[0.1111111111111111,\"#46039f\"],[0.2222222222222222,\"#7201a8\"],[0.3333333333333333,\"#9c179e\"],[0.4444444444444444,\"#bd3786\"],[0.5555555555555556,\"#d8576b\"],[0.6666666666666666,\"#ed7953\"],[0.7777777777777778,\"#fb9f3a\"],[0.8888888888888888,\"#fdca26\"],[1.0,\"#f0f921\"]]}],\"choropleth\":[{\"type\":\"choropleth\",\"colorbar\":{\"outlinewidth\":0,\"ticks\":\"\"}}],\"histogram2d\":[{\"type\":\"histogram2d\",\"colorbar\":{\"outlinewidth\":0,\"ticks\":\"\"},\"colorscale\":[[0.0,\"#0d0887\"],[0.1111111111111111,\"#46039f\"],[0.2222222222222222,\"#7201a8\"],[0.3333333333333333,\"#9c179e\"],[0.4444444444444444,\"#bd3786\"],[0.5555555555555556,\"#d8576b\"],[0.6666666666666666,\"#ed7953\"],[0.7777777777777778,\"#fb9f3a\"],[0.8888888888888888,\"#fdca26\"],[1.0,\"#f0f921\"]]}],\"heatmap\":[{\"type\":\"heatmap\",\"colorbar\":{\"outlinewidth\":0,\"ticks\":\"\"},\"colorscale\":[[0.0,\"#0d0887\"],[0.1111111111111111,\"#46039f\"],[0.2222222222222222,\"#7201a8\"],[0.3333333333333333,\"#9c179e\"],[0.4444444444444444,\"#bd3786\"],[0.5555555555555556,\"#d8576b\"],[0.6666666666666666,\"#ed7953\"],[0.7777777777777778,\"#fb9f3a\"],[0.8888888888888888,\"#fdca26\"],[1.0,\"#f0f921\"]]}],\"heatmapgl\":[{\"type\":\"heatmapgl\",\"colorbar\":{\"outlinewidth\":0,\"ticks\":\"\"},\"colorscale\":[[0.0,\"#0d0887\"],[0.1111111111111111,\"#46039f\"],[0.2222222222222222,\"#7201a8\"],[0.3333333333333333,\"#9c179e\"],[0.4444444444444444,\"#bd3786\"],[0.5555555555555556,\"#d8576b\"],[0.6666666666666666,\"#ed7953\"],[0.7777777777777778,\"#fb9f3a\"],[0.8888888888888888,\"#fdca26\"],[1.0,\"#f0f921\"]]}],\"contourcarpet\":[{\"type\":\"contourcarpet\",\"colorbar\":{\"outlinewidth\":0,\"ticks\":\"\"}}],\"contour\":[{\"type\":\"contour\",\"colorbar\":{\"outlinewidth\":0,\"ticks\":\"\"},\"colorscale\":[[0.0,\"#0d0887\"],[0.1111111111111111,\"#46039f\"],[0.2222222222222222,\"#7201a8\"],[0.3333333333333333,\"#9c179e\"],[0.4444444444444444,\"#bd3786\"],[0.5555555555555556,\"#d8576b\"],[0.6666666666666666,\"#ed7953\"],[0.7777777777777778,\"#fb9f3a\"],[0.8888888888888888,\"#fdca26\"],[1.0,\"#f0f921\"]]}],\"surface\":[{\"type\":\"surface\",\"colorbar\":{\"outlinewidth\":0,\"ticks\":\"\"},\"colorscale\":[[0.0,\"#0d0887\"],[0.1111111111111111,\"#46039f\"],[0.2222222222222222,\"#7201a8\"],[0.3333333333333333,\"#9c179e\"],[0.4444444444444444,\"#bd3786\"],[0.5555555555555556,\"#d8576b\"],[0.6666666666666666,\"#ed7953\"],[0.7777777777777778,\"#fb9f3a\"],[0.8888888888888888,\"#fdca26\"],[1.0,\"#f0f921\"]]}],\"mesh3d\":[{\"type\":\"mesh3d\",\"colorbar\":{\"outlinewidth\":0,\"ticks\":\"\"}}],\"scatter\":[{\"fillpattern\":{\"fillmode\":\"overlay\",\"size\":10,\"solidity\":0.2},\"type\":\"scatter\"}],\"parcoords\":[{\"type\":\"parcoords\",\"line\":{\"colorbar\":{\"outlinewidth\":0,\"ticks\":\"\"}}}],\"scatterpolargl\":[{\"type\":\"scatterpolargl\",\"marker\":{\"colorbar\":{\"outlinewidth\":0,\"ticks\":\"\"}}}],\"bar\":[{\"error_x\":{\"color\":\"#2a3f5f\"},\"error_y\":{\"color\":\"#2a3f5f\"},\"marker\":{\"line\":{\"color\":\"#E5ECF6\",\"width\":0.5},\"pattern\":{\"fillmode\":\"overlay\",\"size\":10,\"solidity\":0.2}},\"type\":\"bar\"}],\"scattergeo\":[{\"type\":\"scattergeo\",\"marker\":{\"colorbar\":{\"outlinewidth\":0,\"ticks\":\"\"}}}],\"scatterpolar\":[{\"type\":\"scatterpolar\",\"marker\":{\"colorbar\":{\"outlinewidth\":0,\"ticks\":\"\"}}}],\"histogram\":[{\"marker\":{\"pattern\":{\"fillmode\":\"overlay\",\"size\":10,\"solidity\":0.2}},\"type\":\"histogram\"}],\"scattergl\":[{\"type\":\"scattergl\",\"marker\":{\"colorbar\":{\"outlinewidth\":0,\"ticks\":\"\"}}}],\"scatter3d\":[{\"type\":\"scatter3d\",\"line\":{\"colorbar\":{\"outlinewidth\":0,\"ticks\":\"\"}},\"marker\":{\"colorbar\":{\"outlinewidth\":0,\"ticks\":\"\"}}}],\"scattermapbox\":[{\"type\":\"scattermapbox\",\"marker\":{\"colorbar\":{\"outlinewidth\":0,\"ticks\":\"\"}}}],\"scatterternary\":[{\"type\":\"scatterternary\",\"marker\":{\"colorbar\":{\"outlinewidth\":0,\"ticks\":\"\"}}}],\"scattercarpet\":[{\"type\":\"scattercarpet\",\"marker\":{\"colorbar\":{\"outlinewidth\":0,\"ticks\":\"\"}}}],\"carpet\":[{\"aaxis\":{\"endlinecolor\":\"#2a3f5f\",\"gridcolor\":\"white\",\"linecolor\":\"white\",\"minorgridcolor\":\"white\",\"startlinecolor\":\"#2a3f5f\"},\"baxis\":{\"endlinecolor\":\"#2a3f5f\",\"gridcolor\":\"white\",\"linecolor\":\"white\",\"minorgridcolor\":\"white\",\"startlinecolor\":\"#2a3f5f\"},\"type\":\"carpet\"}],\"table\":[{\"cells\":{\"fill\":{\"color\":\"#EBF0F8\"},\"line\":{\"color\":\"white\"}},\"header\":{\"fill\":{\"color\":\"#C8D4E3\"},\"line\":{\"color\":\"white\"}},\"type\":\"table\"}],\"barpolar\":[{\"marker\":{\"line\":{\"color\":\"#E5ECF6\",\"width\":0.5},\"pattern\":{\"fillmode\":\"overlay\",\"size\":10,\"solidity\":0.2}},\"type\":\"barpolar\"}],\"pie\":[{\"automargin\":true,\"type\":\"pie\"}]},\"layout\":{\"autotypenumbers\":\"strict\",\"colorway\":[\"#636efa\",\"#EF553B\",\"#00cc96\",\"#ab63fa\",\"#FFA15A\",\"#19d3f3\",\"#FF6692\",\"#B6E880\",\"#FF97FF\",\"#FECB52\"],\"font\":{\"color\":\"#2a3f5f\"},\"hovermode\":\"closest\",\"hoverlabel\":{\"align\":\"left\"},\"paper_bgcolor\":\"white\",\"plot_bgcolor\":\"#E5ECF6\",\"polar\":{\"bgcolor\":\"#E5ECF6\",\"angularaxis\":{\"gridcolor\":\"white\",\"linecolor\":\"white\",\"ticks\":\"\"},\"radialaxis\":{\"gridcolor\":\"white\",\"linecolor\":\"white\",\"ticks\":\"\"}},\"ternary\":{\"bgcolor\":\"#E5ECF6\",\"aaxis\":{\"gridcolor\":\"white\",\"linecolor\":\"white\",\"ticks\":\"\"},\"baxis\":{\"gridcolor\":\"white\",\"linecolor\":\"white\",\"ticks\":\"\"},\"caxis\":{\"gridcolor\":\"white\",\"linecolor\":\"white\",\"ticks\":\"\"}},\"coloraxis\":{\"colorbar\":{\"outlinewidth\":0,\"ticks\":\"\"}},\"colorscale\":{\"sequential\":[[0.0,\"#0d0887\"],[0.1111111111111111,\"#46039f\"],[0.2222222222222222,\"#7201a8\"],[0.3333333333333333,\"#9c179e\"],[0.4444444444444444,\"#bd3786\"],[0.5555555555555556,\"#d8576b\"],[0.6666666666666666,\"#ed7953\"],[0.7777777777777778,\"#fb9f3a\"],[0.8888888888888888,\"#fdca26\"],[1.0,\"#f0f921\"]],\"sequentialminus\":[[0.0,\"#0d0887\"],[0.1111111111111111,\"#46039f\"],[0.2222222222222222,\"#7201a8\"],[0.3333333333333333,\"#9c179e\"],[0.4444444444444444,\"#bd3786\"],[0.5555555555555556,\"#d8576b\"],[0.6666666666666666,\"#ed7953\"],[0.7777777777777778,\"#fb9f3a\"],[0.8888888888888888,\"#fdca26\"],[1.0,\"#f0f921\"]],\"diverging\":[[0,\"#8e0152\"],[0.1,\"#c51b7d\"],[0.2,\"#de77ae\"],[0.3,\"#f1b6da\"],[0.4,\"#fde0ef\"],[0.5,\"#f7f7f7\"],[0.6,\"#e6f5d0\"],[0.7,\"#b8e186\"],[0.8,\"#7fbc41\"],[0.9,\"#4d9221\"],[1,\"#276419\"]]},\"xaxis\":{\"gridcolor\":\"white\",\"linecolor\":\"white\",\"ticks\":\"\",\"title\":{\"standoff\":15},\"zerolinecolor\":\"white\",\"automargin\":true,\"zerolinewidth\":2},\"yaxis\":{\"gridcolor\":\"white\",\"linecolor\":\"white\",\"ticks\":\"\",\"title\":{\"standoff\":15},\"zerolinecolor\":\"white\",\"automargin\":true,\"zerolinewidth\":2},\"scene\":{\"xaxis\":{\"backgroundcolor\":\"#E5ECF6\",\"gridcolor\":\"white\",\"linecolor\":\"white\",\"showbackground\":true,\"ticks\":\"\",\"zerolinecolor\":\"white\",\"gridwidth\":2},\"yaxis\":{\"backgroundcolor\":\"#E5ECF6\",\"gridcolor\":\"white\",\"linecolor\":\"white\",\"showbackground\":true,\"ticks\":\"\",\"zerolinecolor\":\"white\",\"gridwidth\":2},\"zaxis\":{\"backgroundcolor\":\"#E5ECF6\",\"gridcolor\":\"white\",\"linecolor\":\"white\",\"showbackground\":true,\"ticks\":\"\",\"zerolinecolor\":\"white\",\"gridwidth\":2}},\"shapedefaults\":{\"line\":{\"color\":\"#2a3f5f\"}},\"annotationdefaults\":{\"arrowcolor\":\"#2a3f5f\",\"arrowhead\":0,\"arrowwidth\":1},\"geo\":{\"bgcolor\":\"white\",\"landcolor\":\"#E5ECF6\",\"subunitcolor\":\"white\",\"showland\":true,\"showlakes\":true,\"lakecolor\":\"white\"},\"title\":{\"x\":0.05},\"mapbox\":{\"style\":\"light\"}}},\"xaxis\":{\"anchor\":\"y\",\"domain\":[0.0,1.0],\"title\":{\"text\":\"Strict_Helmet_Law\"},\"tickvals\":[0,1],\"ticktext\":[\"No Strict Law\",\"Strict Law\"]},\"yaxis\":{\"anchor\":\"x\",\"domain\":[0.0,1.0],\"title\":{\"text\":\"Motorcyclist Death Percentage\"}},\"coloraxis\":{\"colorbar\":{\"title\":{\"text\":\"Strict_Helmet_Law\"}},\"colorscale\":[[0.0,\"#0d0887\"],[0.1111111111111111,\"#46039f\"],[0.2222222222222222,\"#7201a8\"],[0.3333333333333333,\"#9c179e\"],[0.4444444444444444,\"#bd3786\"],[0.5555555555555556,\"#d8576b\"],[0.6666666666666666,\"#ed7953\"],[0.7777777777777778,\"#fb9f3a\"],[0.8888888888888888,\"#fdca26\"],[1.0,\"#f0f921\"]]},\"legend\":{\"tracegroupgap\":0},\"title\":{\"text\":\"Motorcyclist Death % vs Helmet Law Strictness\"}},                        {\"responsive\": true}                    ).then(function(){\n",
              "                            \n",
              "var gd = document.getElementById('969a60d3-dd88-4559-86d4-f37b3caeaa5c');\n",
              "var x = new MutationObserver(function (mutations, observer) {{\n",
              "        var display = window.getComputedStyle(gd).display;\n",
              "        if (!display || display === 'none') {{\n",
              "            console.log([gd, 'removed!']);\n",
              "            Plotly.purge(gd);\n",
              "            observer.disconnect();\n",
              "        }}\n",
              "}});\n",
              "\n",
              "// Listen for the removal of the full notebook cells\n",
              "var notebookContainer = gd.closest('#notebook-container');\n",
              "if (notebookContainer) {{\n",
              "    x.observe(notebookContainer, {childList: true});\n",
              "}}\n",
              "\n",
              "// Listen for the clearing of the current output cell\n",
              "var outputEl = gd.closest('.output');\n",
              "if (outputEl) {{\n",
              "    x.observe(outputEl, {childList: true});\n",
              "}}\n",
              "\n",
              "                        })                };                            </script>        </div>\n",
              "</body>\n",
              "</html>"
            ]
          },
          "metadata": {},
          "output_type": "display_data"
        }
      ],
      "source": [
        "fig = px.scatter(\n",
        "    law_vs_deaths,\n",
        "    x='Strict_Helmet_Law',\n",
        "    y='Motorcyclist_Death_Percentage',\n",
        "    color='Strict_Helmet_Law',\n",
        "    text='Country_Code',\n",
        "    color_discrete_map={1: '#66b3ff', 0: '#ff9999'},\n",
        "    title='Motorcyclist Death % vs Helmet Law Strictness'\n",
        ")\n",
        "\n",
        "fig.update_traces(textposition='top center')\n",
        "fig.update_layout(\n",
        "    xaxis=dict(tickvals=[0, 1], ticktext=[\"No Strict Law\", \"Strict Law\"]),\n",
        "    yaxis_title=\"Motorcyclist Death Percentage\"\n",
        ")\n",
        "fig.show()\n"
      ]
    },
    {
      "cell_type": "markdown",
      "id": "3d59a8b9",
      "metadata": {
        "id": "3d59a8b9"
      },
      "source": [
        "#### Poor enforcement of laws\n",
        "\n",
        "**Countries below have the more than 40% of motorcyclist deaths despite of having strict laws**\n",
        "- THA - Thailand\n",
        "- MMR - Myanmar\n",
        "- BEN - Benin\n",
        "- PRY - Paraguay\n",
        "- SUR - Suriname\n",
        "- SGP - Singapore\n",
        "- MLI - Mali\n",
        "- IND - India"
      ]
    },
    {
      "cell_type": "code",
      "execution_count": 22,
      "id": "86734e48",
      "metadata": {
        "id": "86734e48"
      },
      "outputs": [],
      "source": [
        "import warnings\n",
        "warnings.filterwarnings(\"ignore\")"
      ]
    },
    {
      "cell_type": "markdown",
      "id": "d1a1ed6e",
      "metadata": {
        "id": "d1a1ed6e"
      },
      "source": [
        "## Death Rate and Drunk Driving:\n"
      ]
    },
    {
      "cell_type": "markdown",
      "id": "fb517268",
      "metadata": {},
      "source": [
        "### Introduction: A World on Wheels and Wine?\n",
        "Every year, road traffic claims over a million lives — a silent epidemic rushing past us on highways, city roads, and rural dirt tracks. Among the major culprits: alcohol. Drunk driving is a leading cause of road traffic deaths, and its impact varies significantly across countries.\n",
        "\n",
        "Let’s dive into the data and take a ride across the globe — powered not by fuel, but by data."
      ]
    },
    {
      "cell_type": "code",
      "execution_count": 23,
      "id": "41be015a",
      "metadata": {
        "colab": {
          "base_uri": "https://localhost:8080/",
          "height": 206
        },
        "id": "41be015a",
        "outputId": "86b095ff-1467-4ee3-acf1-c866202fef71"
      },
      "outputs": [
        {
          "data": {
            "text/html": [
              "<div>\n",
              "<style scoped>\n",
              "    .dataframe tbody tr th:only-of-type {\n",
              "        vertical-align: middle;\n",
              "    }\n",
              "\n",
              "    .dataframe tbody tr th {\n",
              "        vertical-align: top;\n",
              "    }\n",
              "\n",
              "    .dataframe thead th {\n",
              "        text-align: right;\n",
              "    }\n",
              "</style>\n",
              "<table border=\"1\" class=\"dataframe\">\n",
              "  <thead>\n",
              "    <tr style=\"text-align: right;\">\n",
              "      <th>Type</th>\n",
              "      <th>Country_Code</th>\n",
              "      <th>Country_Name</th>\n",
              "      <th>Estimated number of road traffic deaths</th>\n",
              "    </tr>\n",
              "  </thead>\n",
              "  <tbody>\n",
              "    <tr>\n",
              "      <th>0</th>\n",
              "      <td>AFG</td>\n",
              "      <td>Afghanistan</td>\n",
              "      <td>9684.0</td>\n",
              "    </tr>\n",
              "    <tr>\n",
              "      <th>1</th>\n",
              "      <td>AGO</td>\n",
              "      <td>Angola</td>\n",
              "      <td>5188.0</td>\n",
              "    </tr>\n",
              "    <tr>\n",
              "      <th>2</th>\n",
              "      <td>ALB</td>\n",
              "      <td>Albania</td>\n",
              "      <td>309.0</td>\n",
              "    </tr>\n",
              "    <tr>\n",
              "      <th>3</th>\n",
              "      <td>AND</td>\n",
              "      <td>Andorra</td>\n",
              "      <td>2.0</td>\n",
              "    </tr>\n",
              "    <tr>\n",
              "      <th>4</th>\n",
              "      <td>ARE</td>\n",
              "      <td>United Arab Emirates</td>\n",
              "      <td>557.0</td>\n",
              "    </tr>\n",
              "  </tbody>\n",
              "</table>\n",
              "</div>"
            ],
            "text/plain": [
              "Type Country_Code          Country_Name  \\\n",
              "0             AFG           Afghanistan   \n",
              "1             AGO                Angola   \n",
              "2             ALB               Albania   \n",
              "3             AND               Andorra   \n",
              "4             ARE  United Arab Emirates   \n",
              "\n",
              "Type  Estimated number of road traffic deaths  \n",
              "0                                      9684.0  \n",
              "1                                      5188.0  \n",
              "2                                       309.0  \n",
              "3                                         2.0  \n",
              "4                                       557.0  "
            ]
          },
          "metadata": {},
          "output_type": "display_data"
        }
      ],
      "source": [
        "# World map using chloropleth for % deaths due to alcohol in each country/region\n",
        "\n",
        "import plotly.express as px\n",
        "import pandas as pd\n",
        "\n",
        "# Load the dataset\n",
        "df = pd.read_csv('merged_dataset.csv')\n",
        "\n",
        "# Relevant values in 'Type' column:\n",
        "# Attribution of deaths to alcohol\n",
        "# Estimated number of road traffic deaths\n",
        "# We will use only the rows with both and calculate the percentage of deaths due to alcohol for each country/region\n",
        "\n",
        "# Filter the dataset for relevant types\n",
        "dfe = df[df['Type'].isin(['Estimated number of road traffic deaths'])]\n",
        "dfe.reset_index(drop=True, inplace=True)\n",
        "\n",
        "# The data in 'Value' for Estimated number of road traffic deaths is in the form 10 [8-12] i.e. average [low-high]\n",
        "# We need to convert this to a numeric value for calculations\n",
        "def extract_value(value):\n",
        "    if '[' in value:\n",
        "        # Extract the average value from the range\n",
        "        if \"[\" in value:\n",
        "            avg_value = value.split('[')[0].strip()\n",
        "            # Remove any spaces or commas\n",
        "            avg_value = avg_value.replace(' ', '').replace(',', '')\n",
        "            # Convert to float\n",
        "            avg_value = float(avg_value)\n",
        "        else:\n",
        "            avg_value = float(value)\n",
        "        return avg_value\n",
        "    else:\n",
        "        return float(value)\n",
        "\n",
        "# Apply the function to the 'Estimated number of road traffic deaths' values\n",
        "dfe['Value'] = dfe['Value'].apply(extract_value)\n",
        "#display(dfe.head())\n",
        "\n",
        "# Create a pivot table to get the values for each country/region\n",
        "pivot_table_e = dfe.pivot_table(index=['Country_Code', 'Country_Name'], columns='Type', values='Value', aggfunc='mean').reset_index()\n",
        "\n",
        "display(pivot_table_e.head())  # Display the first few rows of the pivot table"
      ]
    },
    {
      "cell_type": "markdown",
      "id": "05d7011a",
      "metadata": {},
      "source": [
        "### Mapping the Tragedy\n",
        "\n",
        "We begin with a world map of alcohol-related road deaths — the lighter the colour, the greater the percentage of deaths due to drinking and driving (The gradient is also shown on the plot itself)."
      ]
    },
    {
      "cell_type": "code",
      "execution_count": 24,
      "id": "44365176",
      "metadata": {
        "colab": {
          "base_uri": "https://localhost:8080/",
          "height": 542
        },
        "id": "44365176",
        "outputId": "b7fa2bc8-2161-40a7-9844-10fd70aa5e60"
      },
      "outputs": [
        {
          "data": {
            "application/vnd.plotly.v1+json": {
              "config": {
                "plotlyServerURL": "https://plot.ly"
              },
              "data": [
                {
                  "coloraxis": "coloraxis",
                  "geo": "geo",
                  "hovertemplate": "<b>%{hovertext}</b><br><br>Country_Code=%{location}<br>Percentage of Deaths Due to Alcohol=%{z}<extra></extra>",
                  "hovertext": [
                    "Albania",
                    "United Arab Emirates",
                    "Argentina",
                    "Armenia",
                    "Antigua and Barbuda",
                    "Australia",
                    "Austria",
                    "Azerbaijan",
                    "Bulgaria",
                    "Bosnia and Herzegovina",
                    "Belarus",
                    "Bolivia (Plurinational State of)",
                    "Botswana",
                    "Canada",
                    "Switzerland",
                    "Chile",
                    "China",
                    "Cook Islands",
                    "Costa Rica",
                    "Cuba",
                    "Cyprus",
                    "Czechia",
                    "Germany",
                    "Ecuador",
                    "Spain",
                    "Estonia",
                    "Ethiopia",
                    "Finland",
                    "Fiji",
                    "France",
                    "Micronesia (Federated States of)",
                    "United Kingdom of Great Britain and Northern Ireland",
                    "Georgia",
                    "Gambia",
                    "Greece",
                    "Guyana",
                    "Honduras",
                    "Croatia",
                    "Hungary",
                    "India",
                    "Ireland",
                    "Iran (Islamic Republic of)",
                    "Iceland",
                    "Israel",
                    "Italy",
                    "Japan",
                    "Kazakhstan",
                    "Cambodia",
                    "Republic of Korea",
                    "Libya",
                    "Lesotho",
                    "Lithuania",
                    "Luxembourg",
                    "Latvia",
                    "Morocco",
                    "Republic of Moldova",
                    "Mexico",
                    "North Macedonia",
                    "Mali",
                    "Myanmar",
                    "Mongolia",
                    "Mauritius",
                    "Malaysia",
                    "Namibia",
                    "Nigeria",
                    "Netherlands (Kingdom of the)",
                    "Norway",
                    "New Zealand",
                    "Oman",
                    "Peru",
                    "Papua New Guinea",
                    "Poland",
                    "Portugal",
                    "Qatar",
                    "Romania",
                    "Russian Federation",
                    "Sudan",
                    "Singapore",
                    "Serbia",
                    "Slovakia",
                    "Slovenia",
                    "Sweden",
                    "Thailand",
                    "Tajikistan",
                    "Tonga",
                    "Tunisia",
                    "Türkiye",
                    "United Republic of Tanzania",
                    "Uganda",
                    "Ukraine",
                    "United States of America",
                    "Uzbekistan",
                    "Vanuatu",
                    "South Africa"
                  ],
                  "locationmode": "ISO-3",
                  "locations": [
                    "ALB",
                    "ARE",
                    "ARG",
                    "ARM",
                    "ATG",
                    "AUS",
                    "AUT",
                    "AZE",
                    "BGR",
                    "BIH",
                    "BLR",
                    "BOL",
                    "BWA",
                    "CAN",
                    "CHE",
                    "CHL",
                    "CHN",
                    "COK",
                    "CRI",
                    "CUB",
                    "CYP",
                    "CZE",
                    "DEU",
                    "ECU",
                    "ESP",
                    "EST",
                    "ETH",
                    "FIN",
                    "FJI",
                    "FRA",
                    "FSM",
                    "GBR",
                    "GEO",
                    "GMB",
                    "GRC",
                    "GUY",
                    "HND",
                    "HRV",
                    "HUN",
                    "IND",
                    "IRL",
                    "IRN",
                    "ISL",
                    "ISR",
                    "ITA",
                    "JPN",
                    "KAZ",
                    "KHM",
                    "KOR",
                    "LBY",
                    "LSO",
                    "LTU",
                    "LUX",
                    "LVA",
                    "MAR",
                    "MDA",
                    "MEX",
                    "MKD",
                    "MLI",
                    "MMR",
                    "MNG",
                    "MUS",
                    "MYS",
                    "NAM",
                    "NGA",
                    "NLD",
                    "NOR",
                    "NZL",
                    "OMN",
                    "PER",
                    "PNG",
                    "POL",
                    "PRT",
                    "QAT",
                    "ROU",
                    "RUS",
                    "SDN",
                    "SGP",
                    "SRB",
                    "SVK",
                    "SVN",
                    "SWE",
                    "THA",
                    "TJK",
                    "TON",
                    "TUN",
                    "TUR",
                    "TZA",
                    "UGA",
                    "UKR",
                    "USA",
                    "UZB",
                    "VUT",
                    "ZAF"
                  ],
                  "name": "",
                  "type": "choropleth",
                  "z": {
                    "bdata": "zczMzMzMFEDNzMzMzMz8PwAAAAAAADFAZmZmZmZm/j/NzMzMzMzsPwAAAAAAADFAZmZmZmZmFEAAAAAAAAAuQM3MzMzMzOw/zczMzMzMNECamZmZmZksQJqZmZmZmRlAZmZmZmZmDkCamZmZmZk9QAAAAAAAACpAAAAAAAAAKkCamZmZmZnZPwAAAAAAgENAMzMzMzMzP0BmZmZmZqZAQGZmZmZmZjFAAAAAAAAAI0AAAAAAAAAcQDMzMzMzMxtAAAAAAAAAMUAAAAAAAAAkQDMzMzMzMxFAAAAAAAAAOEAAAAAAAAAUQAAAAAAAAD1AAAAAAAAAWUAAAAAAAAAqQAAAAAAAACJAzczMzMzMAEDNzMzMzEw5QAAAAAAAADFAMzMzMzMzG0DNzMzMzMw3QGZmZmZmZhxAZmZmZmZmEEAAAAAAAEBDQDMzMzMzM/s/AAAAAAAALEDNzMzMzMwMQAAAAAAAADRAZmZmZmZmFkAzMzMzMzPTPwAAAAAAACpAZmZmZmZmJkAzMzMzMzPzPwAAAAAAAE5AMzMzMzMzI0AAAAAAAAAsQJqZmZmZmSVAmpmZmZmZDUDNzMzMzMwiQAAAAAAAgDNAZmZmZmZm9j+amZmZmZnZP2ZmZmZmZjVAAAAAAAAAOUCamZmZmZk3QJqZmZmZmbk/MzMzMzMzD0AAAAAAAADgPwAAAAAAACZAAAAAAAAAKkAAAAAAAAA7QGZmZmZmZuY/mpmZmZmZIkAAAAAAAABMQGZmZmZmZilAMzMzMzMzPUCamZmZmZkBQGZmZmZmZhZAZmZmZmbmNkAzMzMzMzPTP5qZmZmZmRlAAAAAAAAAMUBmZmZmZmYYQAAAAAAAAEBAAAAAAAAAOEAzMzMzMzMsQM3MzMzMzBBAAAAAAABAU0CamZmZmZn5P2ZmZmZmZgpAAAAAAAAA8D+amZmZmZnpP83MzMzMzBpAAAAAAAAAPUDNzMzMzMwMQAAAAAAAwFBAAAAAAADATEA=",
                    "dtype": "f8"
                  }
                }
              ],
              "layout": {
                "coloraxis": {
                  "colorbar": {
                    "title": {
                      "text": "Percentage of Deaths Due to Alcohol"
                    }
                  },
                  "colorscale": [
                    [
                      0,
                      "#0d0887"
                    ],
                    [
                      0.1111111111111111,
                      "#46039f"
                    ],
                    [
                      0.2222222222222222,
                      "#7201a8"
                    ],
                    [
                      0.3333333333333333,
                      "#9c179e"
                    ],
                    [
                      0.4444444444444444,
                      "#bd3786"
                    ],
                    [
                      0.5555555555555556,
                      "#d8576b"
                    ],
                    [
                      0.6666666666666666,
                      "#ed7953"
                    ],
                    [
                      0.7777777777777778,
                      "#fb9f3a"
                    ],
                    [
                      0.8888888888888888,
                      "#fdca26"
                    ],
                    [
                      1,
                      "#f0f921"
                    ]
                  ]
                },
                "geo": {
                  "center": {},
                  "domain": {
                    "x": [
                      0,
                      1
                    ],
                    "y": [
                      0,
                      1
                    ]
                  },
                  "projection": {
                    "type": "natural earth"
                  }
                },
                "legend": {
                  "tracegroupgap": 0
                },
                "template": {
                  "data": {
                    "bar": [
                      {
                        "error_x": {
                          "color": "#2a3f5f"
                        },
                        "error_y": {
                          "color": "#2a3f5f"
                        },
                        "marker": {
                          "line": {
                            "color": "#E5ECF6",
                            "width": 0.5
                          },
                          "pattern": {
                            "fillmode": "overlay",
                            "size": 10,
                            "solidity": 0.2
                          }
                        },
                        "type": "bar"
                      }
                    ],
                    "barpolar": [
                      {
                        "marker": {
                          "line": {
                            "color": "#E5ECF6",
                            "width": 0.5
                          },
                          "pattern": {
                            "fillmode": "overlay",
                            "size": 10,
                            "solidity": 0.2
                          }
                        },
                        "type": "barpolar"
                      }
                    ],
                    "carpet": [
                      {
                        "aaxis": {
                          "endlinecolor": "#2a3f5f",
                          "gridcolor": "white",
                          "linecolor": "white",
                          "minorgridcolor": "white",
                          "startlinecolor": "#2a3f5f"
                        },
                        "baxis": {
                          "endlinecolor": "#2a3f5f",
                          "gridcolor": "white",
                          "linecolor": "white",
                          "minorgridcolor": "white",
                          "startlinecolor": "#2a3f5f"
                        },
                        "type": "carpet"
                      }
                    ],
                    "choropleth": [
                      {
                        "colorbar": {
                          "outlinewidth": 0,
                          "ticks": ""
                        },
                        "type": "choropleth"
                      }
                    ],
                    "contour": [
                      {
                        "colorbar": {
                          "outlinewidth": 0,
                          "ticks": ""
                        },
                        "colorscale": [
                          [
                            0,
                            "#0d0887"
                          ],
                          [
                            0.1111111111111111,
                            "#46039f"
                          ],
                          [
                            0.2222222222222222,
                            "#7201a8"
                          ],
                          [
                            0.3333333333333333,
                            "#9c179e"
                          ],
                          [
                            0.4444444444444444,
                            "#bd3786"
                          ],
                          [
                            0.5555555555555556,
                            "#d8576b"
                          ],
                          [
                            0.6666666666666666,
                            "#ed7953"
                          ],
                          [
                            0.7777777777777778,
                            "#fb9f3a"
                          ],
                          [
                            0.8888888888888888,
                            "#fdca26"
                          ],
                          [
                            1,
                            "#f0f921"
                          ]
                        ],
                        "type": "contour"
                      }
                    ],
                    "contourcarpet": [
                      {
                        "colorbar": {
                          "outlinewidth": 0,
                          "ticks": ""
                        },
                        "type": "contourcarpet"
                      }
                    ],
                    "heatmap": [
                      {
                        "colorbar": {
                          "outlinewidth": 0,
                          "ticks": ""
                        },
                        "colorscale": [
                          [
                            0,
                            "#0d0887"
                          ],
                          [
                            0.1111111111111111,
                            "#46039f"
                          ],
                          [
                            0.2222222222222222,
                            "#7201a8"
                          ],
                          [
                            0.3333333333333333,
                            "#9c179e"
                          ],
                          [
                            0.4444444444444444,
                            "#bd3786"
                          ],
                          [
                            0.5555555555555556,
                            "#d8576b"
                          ],
                          [
                            0.6666666666666666,
                            "#ed7953"
                          ],
                          [
                            0.7777777777777778,
                            "#fb9f3a"
                          ],
                          [
                            0.8888888888888888,
                            "#fdca26"
                          ],
                          [
                            1,
                            "#f0f921"
                          ]
                        ],
                        "type": "heatmap"
                      }
                    ],
                    "histogram": [
                      {
                        "marker": {
                          "pattern": {
                            "fillmode": "overlay",
                            "size": 10,
                            "solidity": 0.2
                          }
                        },
                        "type": "histogram"
                      }
                    ],
                    "histogram2d": [
                      {
                        "colorbar": {
                          "outlinewidth": 0,
                          "ticks": ""
                        },
                        "colorscale": [
                          [
                            0,
                            "#0d0887"
                          ],
                          [
                            0.1111111111111111,
                            "#46039f"
                          ],
                          [
                            0.2222222222222222,
                            "#7201a8"
                          ],
                          [
                            0.3333333333333333,
                            "#9c179e"
                          ],
                          [
                            0.4444444444444444,
                            "#bd3786"
                          ],
                          [
                            0.5555555555555556,
                            "#d8576b"
                          ],
                          [
                            0.6666666666666666,
                            "#ed7953"
                          ],
                          [
                            0.7777777777777778,
                            "#fb9f3a"
                          ],
                          [
                            0.8888888888888888,
                            "#fdca26"
                          ],
                          [
                            1,
                            "#f0f921"
                          ]
                        ],
                        "type": "histogram2d"
                      }
                    ],
                    "histogram2dcontour": [
                      {
                        "colorbar": {
                          "outlinewidth": 0,
                          "ticks": ""
                        },
                        "colorscale": [
                          [
                            0,
                            "#0d0887"
                          ],
                          [
                            0.1111111111111111,
                            "#46039f"
                          ],
                          [
                            0.2222222222222222,
                            "#7201a8"
                          ],
                          [
                            0.3333333333333333,
                            "#9c179e"
                          ],
                          [
                            0.4444444444444444,
                            "#bd3786"
                          ],
                          [
                            0.5555555555555556,
                            "#d8576b"
                          ],
                          [
                            0.6666666666666666,
                            "#ed7953"
                          ],
                          [
                            0.7777777777777778,
                            "#fb9f3a"
                          ],
                          [
                            0.8888888888888888,
                            "#fdca26"
                          ],
                          [
                            1,
                            "#f0f921"
                          ]
                        ],
                        "type": "histogram2dcontour"
                      }
                    ],
                    "mesh3d": [
                      {
                        "colorbar": {
                          "outlinewidth": 0,
                          "ticks": ""
                        },
                        "type": "mesh3d"
                      }
                    ],
                    "parcoords": [
                      {
                        "line": {
                          "colorbar": {
                            "outlinewidth": 0,
                            "ticks": ""
                          }
                        },
                        "type": "parcoords"
                      }
                    ],
                    "pie": [
                      {
                        "automargin": true,
                        "type": "pie"
                      }
                    ],
                    "scatter": [
                      {
                        "fillpattern": {
                          "fillmode": "overlay",
                          "size": 10,
                          "solidity": 0.2
                        },
                        "type": "scatter"
                      }
                    ],
                    "scatter3d": [
                      {
                        "line": {
                          "colorbar": {
                            "outlinewidth": 0,
                            "ticks": ""
                          }
                        },
                        "marker": {
                          "colorbar": {
                            "outlinewidth": 0,
                            "ticks": ""
                          }
                        },
                        "type": "scatter3d"
                      }
                    ],
                    "scattercarpet": [
                      {
                        "marker": {
                          "colorbar": {
                            "outlinewidth": 0,
                            "ticks": ""
                          }
                        },
                        "type": "scattercarpet"
                      }
                    ],
                    "scattergeo": [
                      {
                        "marker": {
                          "colorbar": {
                            "outlinewidth": 0,
                            "ticks": ""
                          }
                        },
                        "type": "scattergeo"
                      }
                    ],
                    "scattergl": [
                      {
                        "marker": {
                          "colorbar": {
                            "outlinewidth": 0,
                            "ticks": ""
                          }
                        },
                        "type": "scattergl"
                      }
                    ],
                    "scattermap": [
                      {
                        "marker": {
                          "colorbar": {
                            "outlinewidth": 0,
                            "ticks": ""
                          }
                        },
                        "type": "scattermap"
                      }
                    ],
                    "scattermapbox": [
                      {
                        "marker": {
                          "colorbar": {
                            "outlinewidth": 0,
                            "ticks": ""
                          }
                        },
                        "type": "scattermapbox"
                      }
                    ],
                    "scatterpolar": [
                      {
                        "marker": {
                          "colorbar": {
                            "outlinewidth": 0,
                            "ticks": ""
                          }
                        },
                        "type": "scatterpolar"
                      }
                    ],
                    "scatterpolargl": [
                      {
                        "marker": {
                          "colorbar": {
                            "outlinewidth": 0,
                            "ticks": ""
                          }
                        },
                        "type": "scatterpolargl"
                      }
                    ],
                    "scatterternary": [
                      {
                        "marker": {
                          "colorbar": {
                            "outlinewidth": 0,
                            "ticks": ""
                          }
                        },
                        "type": "scatterternary"
                      }
                    ],
                    "surface": [
                      {
                        "colorbar": {
                          "outlinewidth": 0,
                          "ticks": ""
                        },
                        "colorscale": [
                          [
                            0,
                            "#0d0887"
                          ],
                          [
                            0.1111111111111111,
                            "#46039f"
                          ],
                          [
                            0.2222222222222222,
                            "#7201a8"
                          ],
                          [
                            0.3333333333333333,
                            "#9c179e"
                          ],
                          [
                            0.4444444444444444,
                            "#bd3786"
                          ],
                          [
                            0.5555555555555556,
                            "#d8576b"
                          ],
                          [
                            0.6666666666666666,
                            "#ed7953"
                          ],
                          [
                            0.7777777777777778,
                            "#fb9f3a"
                          ],
                          [
                            0.8888888888888888,
                            "#fdca26"
                          ],
                          [
                            1,
                            "#f0f921"
                          ]
                        ],
                        "type": "surface"
                      }
                    ],
                    "table": [
                      {
                        "cells": {
                          "fill": {
                            "color": "#EBF0F8"
                          },
                          "line": {
                            "color": "white"
                          }
                        },
                        "header": {
                          "fill": {
                            "color": "#C8D4E3"
                          },
                          "line": {
                            "color": "white"
                          }
                        },
                        "type": "table"
                      }
                    ]
                  },
                  "layout": {
                    "annotationdefaults": {
                      "arrowcolor": "#2a3f5f",
                      "arrowhead": 0,
                      "arrowwidth": 1
                    },
                    "autotypenumbers": "strict",
                    "coloraxis": {
                      "colorbar": {
                        "outlinewidth": 0,
                        "ticks": ""
                      }
                    },
                    "colorscale": {
                      "diverging": [
                        [
                          0,
                          "#8e0152"
                        ],
                        [
                          0.1,
                          "#c51b7d"
                        ],
                        [
                          0.2,
                          "#de77ae"
                        ],
                        [
                          0.3,
                          "#f1b6da"
                        ],
                        [
                          0.4,
                          "#fde0ef"
                        ],
                        [
                          0.5,
                          "#f7f7f7"
                        ],
                        [
                          0.6,
                          "#e6f5d0"
                        ],
                        [
                          0.7,
                          "#b8e186"
                        ],
                        [
                          0.8,
                          "#7fbc41"
                        ],
                        [
                          0.9,
                          "#4d9221"
                        ],
                        [
                          1,
                          "#276419"
                        ]
                      ],
                      "sequential": [
                        [
                          0,
                          "#0d0887"
                        ],
                        [
                          0.1111111111111111,
                          "#46039f"
                        ],
                        [
                          0.2222222222222222,
                          "#7201a8"
                        ],
                        [
                          0.3333333333333333,
                          "#9c179e"
                        ],
                        [
                          0.4444444444444444,
                          "#bd3786"
                        ],
                        [
                          0.5555555555555556,
                          "#d8576b"
                        ],
                        [
                          0.6666666666666666,
                          "#ed7953"
                        ],
                        [
                          0.7777777777777778,
                          "#fb9f3a"
                        ],
                        [
                          0.8888888888888888,
                          "#fdca26"
                        ],
                        [
                          1,
                          "#f0f921"
                        ]
                      ],
                      "sequentialminus": [
                        [
                          0,
                          "#0d0887"
                        ],
                        [
                          0.1111111111111111,
                          "#46039f"
                        ],
                        [
                          0.2222222222222222,
                          "#7201a8"
                        ],
                        [
                          0.3333333333333333,
                          "#9c179e"
                        ],
                        [
                          0.4444444444444444,
                          "#bd3786"
                        ],
                        [
                          0.5555555555555556,
                          "#d8576b"
                        ],
                        [
                          0.6666666666666666,
                          "#ed7953"
                        ],
                        [
                          0.7777777777777778,
                          "#fb9f3a"
                        ],
                        [
                          0.8888888888888888,
                          "#fdca26"
                        ],
                        [
                          1,
                          "#f0f921"
                        ]
                      ]
                    },
                    "colorway": [
                      "#636efa",
                      "#EF553B",
                      "#00cc96",
                      "#ab63fa",
                      "#FFA15A",
                      "#19d3f3",
                      "#FF6692",
                      "#B6E880",
                      "#FF97FF",
                      "#FECB52"
                    ],
                    "font": {
                      "color": "#2a3f5f"
                    },
                    "geo": {
                      "bgcolor": "white",
                      "lakecolor": "white",
                      "landcolor": "#E5ECF6",
                      "showlakes": true,
                      "showland": true,
                      "subunitcolor": "white"
                    },
                    "hoverlabel": {
                      "align": "left"
                    },
                    "hovermode": "closest",
                    "mapbox": {
                      "style": "light"
                    },
                    "paper_bgcolor": "white",
                    "plot_bgcolor": "#E5ECF6",
                    "polar": {
                      "angularaxis": {
                        "gridcolor": "white",
                        "linecolor": "white",
                        "ticks": ""
                      },
                      "bgcolor": "#E5ECF6",
                      "radialaxis": {
                        "gridcolor": "white",
                        "linecolor": "white",
                        "ticks": ""
                      }
                    },
                    "scene": {
                      "xaxis": {
                        "backgroundcolor": "#E5ECF6",
                        "gridcolor": "white",
                        "gridwidth": 2,
                        "linecolor": "white",
                        "showbackground": true,
                        "ticks": "",
                        "zerolinecolor": "white"
                      },
                      "yaxis": {
                        "backgroundcolor": "#E5ECF6",
                        "gridcolor": "white",
                        "gridwidth": 2,
                        "linecolor": "white",
                        "showbackground": true,
                        "ticks": "",
                        "zerolinecolor": "white"
                      },
                      "zaxis": {
                        "backgroundcolor": "#E5ECF6",
                        "gridcolor": "white",
                        "gridwidth": 2,
                        "linecolor": "white",
                        "showbackground": true,
                        "ticks": "",
                        "zerolinecolor": "white"
                      }
                    },
                    "shapedefaults": {
                      "line": {
                        "color": "#2a3f5f"
                      }
                    },
                    "ternary": {
                      "aaxis": {
                        "gridcolor": "white",
                        "linecolor": "white",
                        "ticks": ""
                      },
                      "baxis": {
                        "gridcolor": "white",
                        "linecolor": "white",
                        "ticks": ""
                      },
                      "bgcolor": "#E5ECF6",
                      "caxis": {
                        "gridcolor": "white",
                        "linecolor": "white",
                        "ticks": ""
                      }
                    },
                    "title": {
                      "x": 0.05
                    },
                    "xaxis": {
                      "automargin": true,
                      "gridcolor": "white",
                      "linecolor": "white",
                      "ticks": "",
                      "title": {
                        "standoff": 15
                      },
                      "zerolinecolor": "white",
                      "zerolinewidth": 2
                    },
                    "yaxis": {
                      "automargin": true,
                      "gridcolor": "white",
                      "linecolor": "white",
                      "ticks": "",
                      "title": {
                        "standoff": 15
                      },
                      "zerolinecolor": "white",
                      "zerolinewidth": 2
                    }
                  }
                },
                "title": {
                  "text": "Percentage of Road Traffic Deaths Attributed to Alcohol by Country/Region",
                  "x": 0.5
                }
              }
            }
          },
          "metadata": {},
          "output_type": "display_data"
        }
      ],
      "source": [
        "# The percentage of deaths due to alcohol is given in the 'Attribution of deaths to alcohol' column\n",
        "# We will use this to calculate the percentage of deaths due to alcohol for each country/region\n",
        "import numpy as np\n",
        "\n",
        "# Filter the dataset for relevant types\n",
        "dfap = df[df['Type'].isin(['Attribution of road traffic deaths to alcohol (%)'])]\n",
        "\n",
        "# Convert the 'Value' column to numeric values and handling exceptions that contain some letters\n",
        "# The rest of the data is a float value in a string format (there is no range like previously)\n",
        "\n",
        "def extract_value(value):\n",
        "    if value=='–':\n",
        "        value = np.nan\n",
        "    else:\n",
        "        value = float(value.split(' ')[0])\n",
        "    return value\n",
        "\n",
        "dfap['Value'] = dfap['Value'].apply(extract_value)\n",
        "# Drop nan\n",
        "dfap.dropna(subset=['Value'], inplace=True)\n",
        "# reset index\n",
        "dfap.reset_index(drop=True, inplace=True)\n",
        "#display(dfap.head())\n",
        "\n",
        "# Create a pivot table to get the values for each country/region\n",
        "pivot_table_ap = dfap.pivot_table(index=['Country_Code', 'Country_Name'], columns='Type', values='Value', aggfunc='mean').reset_index()\n",
        "#display(pivot_table_ap.head())  # Display the first few rows of the pivot table\n",
        "\n",
        "# Make the world map using plotly express\n",
        "fig = px.choropleth(pivot_table_ap,\n",
        "                    locations='Country_Code',\n",
        "                    locationmode='ISO-3',\n",
        "                    color='Attribution of road traffic deaths to alcohol (%)',\n",
        "                    hover_name='Country_Name',\n",
        "                    title='Percentage of Road Traffic Deaths Attributed to Alcohol by Country/Region',\n",
        "                    color_continuous_scale=px.colors.sequential.Plasma,\n",
        "                    labels={'Attribution of road traffic deaths to alcohol (%)': 'Percentage of Deaths Due to Alcohol'}\n",
        "                   )\n",
        "fig.update_geos(projection_type='natural earth')\n",
        "fig.update_layout(title_x=0.5)  # Center the title\n",
        "\n",
        "fig.show()"
      ]
    },
    {
      "cell_type": "markdown",
      "id": "20ce7587",
      "metadata": {},
      "source": [
        "Some countries show staggering numbers (like South Africa, Lesotho, Papua New Guinea). Most Countries in Africa and South Asia do not have a large chunk attributed to alcohol. Other regions like the American Subcontinent, Northen Europe and Asia have a decent amount of deaths attributed to alcohol.\n",
        "\n",
        "But what is the cause of this variation? Is this due to strong laws (Like BAC limit)? More funding for road safety strategies?\n",
        "\n",
        "Let’s dig deeper."
      ]
    },
    {
      "cell_type": "markdown",
      "id": "9fe67b94",
      "metadata": {},
      "source": [
        "### BAC vs Deaths\n",
        "\n",
        "We now turn our attention to the **Blood Alcohol Concentration (BAC)** legal limit in each country. This is a key factor in drunk driving laws and can significantly impact road safety. The BAC legal limit is the maximum amount of alcohol a driver can have in their bloodstream while operating a vehicle. The lower the limit, the stricter the law.\n",
        "\n",
        "One would expect that countries with lower BAC limits would have fewer deaths due to alcohol-related accidents. But is this the case?\n",
        "\n",
        "We thus plotted each country as a bubble:\n",
        "- X-axis: BAC legal limit in g/dl (lower = stricter?)\n",
        "- Y-axis: % of deaths due to alcohol\n",
        "- Bubble size: Same for one plot and Total traffic deaths for the other plot\n",
        "- Bubble colour: Country name"
      ]
    },
    {
      "cell_type": "code",
      "execution_count": 25,
      "id": "063aa130",
      "metadata": {
        "colab": {
          "base_uri": "https://localhost:8080/",
          "height": 1000
        },
        "id": "063aa130",
        "outputId": "1dac8688-37fa-4f94-d7f6-b3607684da30"
      },
      "outputs": [
        {
          "data": {
            "text/html": [
              "<div>\n",
              "<style scoped>\n",
              "    .dataframe tbody tr th:only-of-type {\n",
              "        vertical-align: middle;\n",
              "    }\n",
              "\n",
              "    .dataframe tbody tr th {\n",
              "        vertical-align: top;\n",
              "    }\n",
              "\n",
              "    .dataframe thead th {\n",
              "        text-align: right;\n",
              "    }\n",
              "</style>\n",
              "<table border=\"1\" class=\"dataframe\">\n",
              "  <thead>\n",
              "    <tr style=\"text-align: right;\">\n",
              "      <th>Type</th>\n",
              "      <th>Country_Code</th>\n",
              "      <th>Country_Name</th>\n",
              "      <th>Attribution of road traffic deaths to alcohol (%)</th>\n",
              "      <th>Blood Alcohol Concentration (BAC) limit for drivers</th>\n",
              "      <th>Estimated number of road traffic deaths</th>\n",
              "    </tr>\n",
              "  </thead>\n",
              "  <tbody>\n",
              "    <tr>\n",
              "      <th>0</th>\n",
              "      <td>ALB</td>\n",
              "      <td>Albania</td>\n",
              "      <td>5.2</td>\n",
              "      <td>0.050</td>\n",
              "      <td>309.0</td>\n",
              "    </tr>\n",
              "    <tr>\n",
              "      <th>1</th>\n",
              "      <td>ARE</td>\n",
              "      <td>United Arab Emirates</td>\n",
              "      <td>1.8</td>\n",
              "      <td>0.010</td>\n",
              "      <td>557.0</td>\n",
              "    </tr>\n",
              "    <tr>\n",
              "      <th>2</th>\n",
              "      <td>ARG</td>\n",
              "      <td>Argentina</td>\n",
              "      <td>17.0</td>\n",
              "      <td>0.050</td>\n",
              "      <td>3983.0</td>\n",
              "    </tr>\n",
              "    <tr>\n",
              "      <th>3</th>\n",
              "      <td>ARM</td>\n",
              "      <td>Armenia</td>\n",
              "      <td>1.9</td>\n",
              "      <td>0.040</td>\n",
              "      <td>379.0</td>\n",
              "    </tr>\n",
              "    <tr>\n",
              "      <th>4</th>\n",
              "      <td>AUS</td>\n",
              "      <td>Australia</td>\n",
              "      <td>17.0</td>\n",
              "      <td>0.025</td>\n",
              "      <td>1163.0</td>\n",
              "    </tr>\n",
              "  </tbody>\n",
              "</table>\n",
              "</div>"
            ],
            "text/plain": [
              "Type Country_Code          Country_Name  \\\n",
              "0             ALB               Albania   \n",
              "1             ARE  United Arab Emirates   \n",
              "2             ARG             Argentina   \n",
              "3             ARM               Armenia   \n",
              "4             AUS             Australia   \n",
              "\n",
              "Type  Attribution of road traffic deaths to alcohol (%)  \\\n",
              "0                                                   5.2   \n",
              "1                                                   1.8   \n",
              "2                                                  17.0   \n",
              "3                                                   1.9   \n",
              "4                                                  17.0   \n",
              "\n",
              "Type  Blood Alcohol Concentration (BAC) limit for drivers  \\\n",
              "0                                                 0.050     \n",
              "1                                                 0.010     \n",
              "2                                                 0.050     \n",
              "3                                                 0.040     \n",
              "4                                                 0.025     \n",
              "\n",
              "Type  Estimated number of road traffic deaths  \n",
              "0                                       309.0  \n",
              "1                                       557.0  \n",
              "2                                      3983.0  \n",
              "3                                       379.0  \n",
              "4                                      1163.0  "
            ]
          },
          "metadata": {},
          "output_type": "display_data"
        },
        {
          "data": {
            "application/vnd.plotly.v1+json": {
              "config": {
                "plotlyServerURL": "https://plot.ly"
              },
              "data": [
                {
                  "hovertemplate": "<b>%{hovertext}</b><br><br>Country_Name=China<br>BAC Limit (g/dl)=%{x}<br>Percentage of Deaths Due to Alcohol=%{y}<extra></extra>",
                  "hovertext": [
                    "China"
                  ],
                  "legendgroup": "China",
                  "marker": {
                    "color": "#636efa",
                    "line": {
                      "width": 1
                    },
                    "opacity": 0.7,
                    "sizemode": "diameter",
                    "symbol": "circle"
                  },
                  "mode": "markers",
                  "name": "China",
                  "orientation": "v",
                  "showlegend": true,
                  "type": "scatter",
                  "x": {
                    "bdata": "exSuR+F6lD8=",
                    "dtype": "f8"
                  },
                  "xaxis": "x",
                  "y": {
                    "bdata": "mpmZmZmZ2T8=",
                    "dtype": "f8"
                  },
                  "yaxis": "y"
                },
                {
                  "hovertemplate": "<b>%{hovertext}</b><br><br>Country_Name=India<br>BAC Limit (g/dl)=%{x}<br>Percentage of Deaths Due to Alcohol=%{y}<extra></extra>",
                  "hovertext": [
                    "India"
                  ],
                  "legendgroup": "India",
                  "marker": {
                    "color": "#EF553B",
                    "line": {
                      "width": 1
                    },
                    "opacity": 0.7,
                    "sizemode": "diameter",
                    "symbol": "circle"
                  },
                  "mode": "markers",
                  "name": "India",
                  "orientation": "v",
                  "showlegend": true,
                  "type": "scatter",
                  "x": {
                    "bdata": "uB6F61G4nj8=",
                    "dtype": "f8"
                  },
                  "xaxis": "x",
                  "y": {
                    "bdata": "ZmZmZmZmEEA=",
                    "dtype": "f8"
                  },
                  "yaxis": "y"
                },
                {
                  "hovertemplate": "<b>%{hovertext}</b><br><br>Country_Name=United States of America<br>BAC Limit (g/dl)=%{x}<br>Percentage of Deaths Due to Alcohol=%{y}<extra></extra>",
                  "hovertext": [
                    "United States of America"
                  ],
                  "legendgroup": "United States of America",
                  "marker": {
                    "color": "#00cc96",
                    "line": {
                      "width": 1
                    },
                    "opacity": 0.7,
                    "sizemode": "diameter",
                    "symbol": "circle"
                  },
                  "mode": "markers",
                  "name": "United States of America",
                  "orientation": "v",
                  "showlegend": true,
                  "type": "scatter",
                  "x": {
                    "bdata": "exSuR+F6tD8=",
                    "dtype": "f8"
                  },
                  "xaxis": "x",
                  "y": {
                    "bdata": "AAAAAAAAPUA=",
                    "dtype": "f8"
                  },
                  "yaxis": "y"
                },
                {
                  "hovertemplate": "<b>%{hovertext}</b><br><br>Country_Name=Nigeria<br>BAC Limit (g/dl)=%{x}<br>Percentage of Deaths Due to Alcohol=%{y}<extra></extra>",
                  "hovertext": [
                    "Nigeria"
                  ],
                  "legendgroup": "Nigeria",
                  "marker": {
                    "color": "#ab63fa",
                    "line": {
                      "width": 1
                    },
                    "opacity": 0.7,
                    "sizemode": "diameter",
                    "symbol": "circle"
                  },
                  "mode": "markers",
                  "name": "Nigeria",
                  "orientation": "v",
                  "showlegend": true,
                  "type": "scatter",
                  "x": {
                    "bdata": "OrTIdr6fmj8=",
                    "dtype": "f8"
                  },
                  "xaxis": "x",
                  "y": {
                    "bdata": "AAAAAAAA4D8=",
                    "dtype": "f8"
                  },
                  "yaxis": "y"
                },
                {
                  "hovertemplate": "<b>%{hovertext}</b><br><br>Country_Name=Ethiopia<br>BAC Limit (g/dl)=%{x}<br>Percentage of Deaths Due to Alcohol=%{y}<extra></extra>",
                  "hovertext": [
                    "Ethiopia"
                  ],
                  "legendgroup": "Ethiopia",
                  "marker": {
                    "color": "#FFA15A",
                    "line": {
                      "width": 1
                    },
                    "opacity": 0.7,
                    "sizemode": "diameter",
                    "symbol": "circle"
                  },
                  "mode": "markers",
                  "name": "Ethiopia",
                  "orientation": "v",
                  "showlegend": true,
                  "type": "scatter",
                  "x": {
                    "bdata": "exSuR+F6tD8=",
                    "dtype": "f8"
                  },
                  "xaxis": "x",
                  "y": {
                    "bdata": "MzMzMzMzEUA=",
                    "dtype": "f8"
                  },
                  "yaxis": "y"
                },
                {
                  "hovertemplate": "<b>%{hovertext}</b><br><br>Country_Name=Thailand<br>BAC Limit (g/dl)=%{x}<br>Percentage of Deaths Due to Alcohol=%{y}<extra></extra>",
                  "hovertext": [
                    "Thailand"
                  ],
                  "legendgroup": "Thailand",
                  "marker": {
                    "color": "#19d3f3",
                    "line": {
                      "width": 1
                    },
                    "opacity": 0.7,
                    "sizemode": "diameter",
                    "symbol": "circle"
                  },
                  "mode": "markers",
                  "name": "Thailand",
                  "orientation": "v",
                  "showlegend": true,
                  "type": "scatter",
                  "x": {
                    "bdata": "7FG4HoXroT8=",
                    "dtype": "f8"
                  },
                  "xaxis": "x",
                  "y": {
                    "bdata": "MzMzMzMzLEA=",
                    "dtype": "f8"
                  },
                  "yaxis": "y"
                },
                {
                  "hovertemplate": "<b>%{hovertext}</b><br><br>Country_Name=Russian Federation<br>BAC Limit (g/dl)=%{x}<br>Percentage of Deaths Due to Alcohol=%{y}<extra></extra>",
                  "hovertext": [
                    "Russian Federation"
                  ],
                  "legendgroup": "Russian Federation",
                  "marker": {
                    "color": "#FF6692",
                    "line": {
                      "width": 1
                    },
                    "opacity": 0.7,
                    "sizemode": "diameter",
                    "symbol": "circle"
                  },
                  "mode": "markers",
                  "name": "Russian Federation",
                  "orientation": "v",
                  "showlegend": true,
                  "type": "scatter",
                  "x": {
                    "bdata": "uB6F61G4nj8=",
                    "dtype": "f8"
                  },
                  "xaxis": "x",
                  "y": {
                    "bdata": "ZmZmZmbmNkA=",
                    "dtype": "f8"
                  },
                  "yaxis": "y"
                },
                {
                  "hovertemplate": "<b>%{hovertext}</b><br><br>Country_Name=South Africa<br>BAC Limit (g/dl)=%{x}<br>Percentage of Deaths Due to Alcohol=%{y}<extra></extra>",
                  "hovertext": [
                    "South Africa"
                  ],
                  "legendgroup": "South Africa",
                  "marker": {
                    "color": "#B6E880",
                    "line": {
                      "width": 1
                    },
                    "opacity": 0.7,
                    "sizemode": "diameter",
                    "symbol": "circle"
                  },
                  "mode": "markers",
                  "name": "South Africa",
                  "orientation": "v",
                  "showlegend": true,
                  "type": "scatter",
                  "x": {
                    "bdata": "mpmZmZmZqT8=",
                    "dtype": "f8"
                  },
                  "xaxis": "x",
                  "y": {
                    "bdata": "AAAAAADATEA=",
                    "dtype": "f8"
                  },
                  "yaxis": "y"
                },
                {
                  "hovertemplate": "<b>%{hovertext}</b><br><br>Country_Name=United Republic of Tanzania<br>BAC Limit (g/dl)=%{x}<br>Percentage of Deaths Due to Alcohol=%{y}<extra></extra>",
                  "hovertext": [
                    "United Republic of Tanzania"
                  ],
                  "legendgroup": "United Republic of Tanzania",
                  "marker": {
                    "color": "#FF97FF",
                    "line": {
                      "width": 1
                    },
                    "opacity": 0.7,
                    "sizemode": "diameter",
                    "symbol": "circle"
                  },
                  "mode": "markers",
                  "name": "United Republic of Tanzania",
                  "orientation": "v",
                  "showlegend": true,
                  "type": "scatter",
                  "x": {
                    "bdata": "exSuR+F6tD8=",
                    "dtype": "f8"
                  },
                  "xaxis": "x",
                  "y": {
                    "bdata": "AAAAAAAA8D8=",
                    "dtype": "f8"
                  },
                  "yaxis": "y"
                },
                {
                  "hovertemplate": "<b>%{hovertext}</b><br><br>Country_Name=Uganda<br>BAC Limit (g/dl)=%{x}<br>Percentage of Deaths Due to Alcohol=%{y}<extra></extra>",
                  "hovertext": [
                    "Uganda"
                  ],
                  "legendgroup": "Uganda",
                  "marker": {
                    "color": "#FECB52",
                    "line": {
                      "width": 1
                    },
                    "opacity": 0.7,
                    "sizemode": "diameter",
                    "symbol": "circle"
                  },
                  "mode": "markers",
                  "name": "Uganda",
                  "orientation": "v",
                  "showlegend": true,
                  "type": "scatter",
                  "x": {
                    "bdata": "exSuR+F6tD8=",
                    "dtype": "f8"
                  },
                  "xaxis": "x",
                  "y": {
                    "bdata": "mpmZmZmZ6T8=",
                    "dtype": "f8"
                  },
                  "yaxis": "y"
                },
                {
                  "hovertemplate": "<b>%{hovertext}</b><br><br>Country_Name=Morocco<br>BAC Limit (g/dl)=%{x}<br>Percentage of Deaths Due to Alcohol=%{y}<extra></extra>",
                  "hovertext": [
                    "Morocco"
                  ],
                  "legendgroup": "Morocco",
                  "marker": {
                    "color": "#636efa",
                    "line": {
                      "width": 1
                    },
                    "opacity": 0.7,
                    "sizemode": "diameter",
                    "symbol": "circle"
                  },
                  "mode": "markers",
                  "name": "Morocco",
                  "orientation": "v",
                  "showlegend": true,
                  "type": "scatter",
                  "x": {
                    "bdata": "exSuR+F6lD8=",
                    "dtype": "f8"
                  },
                  "xaxis": "x",
                  "y": {
                    "bdata": "mpmZmZmZDUA=",
                    "dtype": "f8"
                  },
                  "yaxis": "y"
                },
                {
                  "hovertemplate": "<b>%{hovertext}</b><br><br>Country_Name=Türkiye<br>BAC Limit (g/dl)=%{x}<br>Percentage of Deaths Due to Alcohol=%{y}<extra></extra>",
                  "hovertext": [
                    "Türkiye"
                  ],
                  "legendgroup": "Türkiye",
                  "marker": {
                    "color": "#EF553B",
                    "line": {
                      "width": 1
                    },
                    "opacity": 0.7,
                    "sizemode": "diameter",
                    "symbol": "circle"
                  },
                  "mode": "markers",
                  "name": "Türkiye",
                  "orientation": "v",
                  "showlegend": true,
                  "type": "scatter",
                  "x": {
                    "bdata": "mpmZmZmZqT8=",
                    "dtype": "f8"
                  },
                  "xaxis": "x",
                  "y": {
                    "bdata": "ZmZmZmZmCkA=",
                    "dtype": "f8"
                  },
                  "yaxis": "y"
                },
                {
                  "hovertemplate": "<b>%{hovertext}</b><br><br>Country_Name=Malaysia<br>BAC Limit (g/dl)=%{x}<br>Percentage of Deaths Due to Alcohol=%{y}<extra></extra>",
                  "hovertext": [
                    "Malaysia"
                  ],
                  "legendgroup": "Malaysia",
                  "marker": {
                    "color": "#00cc96",
                    "line": {
                      "width": 1
                    },
                    "opacity": 0.7,
                    "sizemode": "diameter",
                    "symbol": "circle"
                  },
                  "mode": "markers",
                  "name": "Malaysia",
                  "orientation": "v",
                  "showlegend": true,
                  "type": "scatter",
                  "x": {
                    "bdata": "exSuR+F6tD8=",
                    "dtype": "f8"
                  },
                  "xaxis": "x",
                  "y": {
                    "bdata": "mpmZmZmZuT8=",
                    "dtype": "f8"
                  },
                  "yaxis": "y"
                },
                {
                  "hovertemplate": "<b>%{hovertext}</b><br><br>Country_Name=Ukraine<br>BAC Limit (g/dl)=%{x}<br>Percentage of Deaths Due to Alcohol=%{y}<extra></extra>",
                  "hovertext": [
                    "Ukraine"
                  ],
                  "legendgroup": "Ukraine",
                  "marker": {
                    "color": "#ab63fa",
                    "line": {
                      "width": 1
                    },
                    "opacity": 0.7,
                    "sizemode": "diameter",
                    "symbol": "circle"
                  },
                  "mode": "markers",
                  "name": "Ukraine",
                  "orientation": "v",
                  "showlegend": true,
                  "type": "scatter",
                  "x": {
                    "bdata": "exSuR+F6lD8=",
                    "dtype": "f8"
                  },
                  "xaxis": "x",
                  "y": {
                    "bdata": "zczMzMzMGkA=",
                    "dtype": "f8"
                  },
                  "yaxis": "y"
                },
                {
                  "hovertemplate": "<b>%{hovertext}</b><br><br>Country_Name=Mali<br>BAC Limit (g/dl)=%{x}<br>Percentage of Deaths Due to Alcohol=%{y}<extra></extra>",
                  "hovertext": [
                    "Mali"
                  ],
                  "legendgroup": "Mali",
                  "marker": {
                    "color": "#FFA15A",
                    "line": {
                      "width": 1
                    },
                    "opacity": 0.7,
                    "sizemode": "diameter",
                    "symbol": "circle"
                  },
                  "mode": "markers",
                  "name": "Mali",
                  "orientation": "v",
                  "showlegend": true,
                  "type": "scatter",
                  "x": {
                    "bdata": "uB6F61G4nj8=",
                    "dtype": "f8"
                  },
                  "xaxis": "x",
                  "y": {
                    "bdata": "mpmZmZmZ2T8=",
                    "dtype": "f8"
                  },
                  "yaxis": "y"
                },
                {
                  "hovertemplate": "<b>%{hovertext}</b><br><br>Country_Name=Peru<br>BAC Limit (g/dl)=%{x}<br>Percentage of Deaths Due to Alcohol=%{y}<extra></extra>",
                  "hovertext": [
                    "Peru"
                  ],
                  "legendgroup": "Peru",
                  "marker": {
                    "color": "#19d3f3",
                    "line": {
                      "width": 1
                    },
                    "opacity": 0.7,
                    "sizemode": "diameter",
                    "symbol": "circle"
                  },
                  "mode": "markers",
                  "name": "Peru",
                  "orientation": "v",
                  "showlegend": true,
                  "type": "scatter",
                  "x": {
                    "bdata": "mpmZmZmZqT8=",
                    "dtype": "f8"
                  },
                  "xaxis": "x",
                  "y": {
                    "bdata": "mpmZmZmZIkA=",
                    "dtype": "f8"
                  },
                  "yaxis": "y"
                },
                {
                  "hovertemplate": "<b>%{hovertext}</b><br><br>Country_Name=Ecuador<br>BAC Limit (g/dl)=%{x}<br>Percentage of Deaths Due to Alcohol=%{y}<extra></extra>",
                  "hovertext": [
                    "Ecuador"
                  ],
                  "legendgroup": "Ecuador",
                  "marker": {
                    "color": "#FF6692",
                    "line": {
                      "width": 1
                    },
                    "opacity": 0.7,
                    "sizemode": "diameter",
                    "symbol": "circle"
                  },
                  "mode": "markers",
                  "name": "Ecuador",
                  "orientation": "v",
                  "showlegend": true,
                  "type": "scatter",
                  "x": {
                    "bdata": "uB6F61G4nj8=",
                    "dtype": "f8"
                  },
                  "xaxis": "x",
                  "y": {
                    "bdata": "MzMzMzMzG0A=",
                    "dtype": "f8"
                  },
                  "yaxis": "y"
                },
                {
                  "hovertemplate": "<b>%{hovertext}</b><br><br>Country_Name=Argentina<br>BAC Limit (g/dl)=%{x}<br>Percentage of Deaths Due to Alcohol=%{y}<extra></extra>",
                  "hovertext": [
                    "Argentina"
                  ],
                  "legendgroup": "Argentina",
                  "marker": {
                    "color": "#B6E880",
                    "line": {
                      "width": 1
                    },
                    "opacity": 0.7,
                    "sizemode": "diameter",
                    "symbol": "circle"
                  },
                  "mode": "markers",
                  "name": "Argentina",
                  "orientation": "v",
                  "showlegend": true,
                  "type": "scatter",
                  "x": {
                    "bdata": "mpmZmZmZqT8=",
                    "dtype": "f8"
                  },
                  "xaxis": "x",
                  "y": {
                    "bdata": "AAAAAAAAMUA=",
                    "dtype": "f8"
                  },
                  "yaxis": "y"
                },
                {
                  "hovertemplate": "<b>%{hovertext}</b><br><br>Country_Name=Republic of Korea<br>BAC Limit (g/dl)=%{x}<br>Percentage of Deaths Due to Alcohol=%{y}<extra></extra>",
                  "hovertext": [
                    "Republic of Korea"
                  ],
                  "legendgroup": "Republic of Korea",
                  "marker": {
                    "color": "#FF97FF",
                    "line": {
                      "width": 1
                    },
                    "opacity": 0.7,
                    "sizemode": "diameter",
                    "symbol": "circle"
                  },
                  "mode": "markers",
                  "name": "Republic of Korea",
                  "orientation": "v",
                  "showlegend": true,
                  "type": "scatter",
                  "x": {
                    "bdata": "mpmZmZmZqT8=",
                    "dtype": "f8"
                  },
                  "xaxis": "x",
                  "y": {
                    "bdata": "ZmZmZmZmJkA=",
                    "dtype": "f8"
                  },
                  "yaxis": "y"
                },
                {
                  "hovertemplate": "<b>%{hovertext}</b><br><br>Country_Name=Japan<br>BAC Limit (g/dl)=%{x}<br>Percentage of Deaths Due to Alcohol=%{y}<extra></extra>",
                  "hovertext": [
                    "Japan"
                  ],
                  "legendgroup": "Japan",
                  "marker": {
                    "color": "#FECB52",
                    "line": {
                      "width": 1
                    },
                    "opacity": 0.7,
                    "sizemode": "diameter",
                    "symbol": "circle"
                  },
                  "mode": "markers",
                  "name": "Japan",
                  "orientation": "v",
                  "showlegend": true,
                  "type": "scatter",
                  "x": {
                    "bdata": "uB6F61G4nj8=",
                    "dtype": "f8"
                  },
                  "xaxis": "x",
                  "y": {
                    "bdata": "ZmZmZmZmFkA=",
                    "dtype": "f8"
                  },
                  "yaxis": "y"
                },
                {
                  "hovertemplate": "<b>%{hovertext}</b><br><br>Country_Name=Cambodia<br>BAC Limit (g/dl)=%{x}<br>Percentage of Deaths Due to Alcohol=%{y}<extra></extra>",
                  "hovertext": [
                    "Cambodia"
                  ],
                  "legendgroup": "Cambodia",
                  "marker": {
                    "color": "#636efa",
                    "line": {
                      "width": 1
                    },
                    "opacity": 0.7,
                    "sizemode": "diameter",
                    "symbol": "circle"
                  },
                  "mode": "markers",
                  "name": "Cambodia",
                  "orientation": "v",
                  "showlegend": true,
                  "type": "scatter",
                  "x": {
                    "bdata": "mpmZmZmZqT8=",
                    "dtype": "f8"
                  },
                  "xaxis": "x",
                  "y": {
                    "bdata": "AAAAAAAAKkA=",
                    "dtype": "f8"
                  },
                  "yaxis": "y"
                },
                {
                  "hovertemplate": "<b>%{hovertext}</b><br><br>Country_Name=France<br>BAC Limit (g/dl)=%{x}<br>Percentage of Deaths Due to Alcohol=%{y}<extra></extra>",
                  "hovertext": [
                    "France"
                  ],
                  "legendgroup": "France",
                  "marker": {
                    "color": "#EF553B",
                    "line": {
                      "width": 1
                    },
                    "opacity": 0.7,
                    "sizemode": "diameter",
                    "symbol": "circle"
                  },
                  "mode": "markers",
                  "name": "France",
                  "orientation": "v",
                  "showlegend": true,
                  "type": "scatter",
                  "x": {
                    "bdata": "7FG4HoXroT8=",
                    "dtype": "f8"
                  },
                  "xaxis": "x",
                  "y": {
                    "bdata": "AAAAAAAAPUA=",
                    "dtype": "f8"
                  },
                  "yaxis": "y"
                },
                {
                  "hovertemplate": "<b>%{hovertext}</b><br><br>Country_Name=Italy<br>BAC Limit (g/dl)=%{x}<br>Percentage of Deaths Due to Alcohol=%{y}<extra></extra>",
                  "hovertext": [
                    "Italy"
                  ],
                  "legendgroup": "Italy",
                  "marker": {
                    "color": "#00cc96",
                    "line": {
                      "width": 1
                    },
                    "opacity": 0.7,
                    "sizemode": "diameter",
                    "symbol": "circle"
                  },
                  "mode": "markers",
                  "name": "Italy",
                  "orientation": "v",
                  "showlegend": true,
                  "type": "scatter",
                  "x": {
                    "bdata": "mpmZmZmZmT8=",
                    "dtype": "f8"
                  },
                  "xaxis": "x",
                  "y": {
                    "bdata": "AAAAAAAANEA=",
                    "dtype": "f8"
                  },
                  "yaxis": "y"
                },
                {
                  "hovertemplate": "<b>%{hovertext}</b><br><br>Country_Name=Germany<br>BAC Limit (g/dl)=%{x}<br>Percentage of Deaths Due to Alcohol=%{y}<extra></extra>",
                  "hovertext": [
                    "Germany"
                  ],
                  "legendgroup": "Germany",
                  "marker": {
                    "color": "#ab63fa",
                    "line": {
                      "width": 1
                    },
                    "opacity": 0.7,
                    "sizemode": "diameter",
                    "symbol": "circle"
                  },
                  "mode": "markers",
                  "name": "Germany",
                  "orientation": "v",
                  "showlegend": true,
                  "type": "scatter",
                  "x": {
                    "bdata": "mpmZmZmZmT8=",
                    "dtype": "f8"
                  },
                  "xaxis": "x",
                  "y": {
                    "bdata": "AAAAAAAAHEA=",
                    "dtype": "f8"
                  },
                  "yaxis": "y"
                },
                {
                  "hovertemplate": "<b>%{hovertext}</b><br><br>Country_Name=Poland<br>BAC Limit (g/dl)=%{x}<br>Percentage of Deaths Due to Alcohol=%{y}<extra></extra>",
                  "hovertext": [
                    "Poland"
                  ],
                  "legendgroup": "Poland",
                  "marker": {
                    "color": "#FFA15A",
                    "line": {
                      "width": 1
                    },
                    "opacity": 0.7,
                    "sizemode": "diameter",
                    "symbol": "circle"
                  },
                  "mode": "markers",
                  "name": "Poland",
                  "orientation": "v",
                  "showlegend": true,
                  "type": "scatter",
                  "x": {
                    "bdata": "exSuR+F6lD8=",
                    "dtype": "f8"
                  },
                  "xaxis": "x",
                  "y": {
                    "bdata": "ZmZmZmZmKUA=",
                    "dtype": "f8"
                  },
                  "yaxis": "y"
                },
                {
                  "hovertemplate": "<b>%{hovertext}</b><br><br>Country_Name=Kazakhstan<br>BAC Limit (g/dl)=%{x}<br>Percentage of Deaths Due to Alcohol=%{y}<extra></extra>",
                  "hovertext": [
                    "Kazakhstan"
                  ],
                  "legendgroup": "Kazakhstan",
                  "marker": {
                    "color": "#19d3f3",
                    "line": {
                      "width": 1
                    },
                    "opacity": 0.7,
                    "sizemode": "diameter",
                    "symbol": "circle"
                  },
                  "mode": "markers",
                  "name": "Kazakhstan",
                  "orientation": "v",
                  "showlegend": true,
                  "type": "scatter",
                  "x": {
                    "bdata": "mpmZmZmZqT8=",
                    "dtype": "f8"
                  },
                  "xaxis": "x",
                  "y": {
                    "bdata": "MzMzMzMz0z8=",
                    "dtype": "f8"
                  },
                  "yaxis": "y"
                },
                {
                  "hovertemplate": "<b>%{hovertext}</b><br><br>Country_Name=Bolivia (Plurinational State of)<br>BAC Limit (g/dl)=%{x}<br>Percentage of Deaths Due to Alcohol=%{y}<extra></extra>",
                  "hovertext": [
                    "Bolivia (Plurinational State of)"
                  ],
                  "legendgroup": "Bolivia (Plurinational State of)",
                  "marker": {
                    "color": "#FF6692",
                    "line": {
                      "width": 1
                    },
                    "opacity": 0.7,
                    "sizemode": "diameter",
                    "symbol": "circle"
                  },
                  "mode": "markers",
                  "name": "Bolivia (Plurinational State of)",
                  "orientation": "v",
                  "showlegend": true,
                  "type": "scatter",
                  "x": {
                    "bdata": "mpmZmZmZqT8=",
                    "dtype": "f8"
                  },
                  "xaxis": "x",
                  "y": {
                    "bdata": "mpmZmZmZGUA=",
                    "dtype": "f8"
                  },
                  "yaxis": "y"
                },
                {
                  "hovertemplate": "<b>%{hovertext}</b><br><br>Country_Name=Chile<br>BAC Limit (g/dl)=%{x}<br>Percentage of Deaths Due to Alcohol=%{y}<extra></extra>",
                  "hovertext": [
                    "Chile"
                  ],
                  "legendgroup": "Chile",
                  "marker": {
                    "color": "#B6E880",
                    "line": {
                      "width": 1
                    },
                    "opacity": 0.7,
                    "sizemode": "diameter",
                    "symbol": "circle"
                  },
                  "mode": "markers",
                  "name": "Chile",
                  "orientation": "v",
                  "showlegend": true,
                  "type": "scatter",
                  "x": {
                    "bdata": "uB6F61G4nj8=",
                    "dtype": "f8"
                  },
                  "xaxis": "x",
                  "y": {
                    "bdata": "AAAAAAAAKkA=",
                    "dtype": "f8"
                  },
                  "yaxis": "y"
                },
                {
                  "hovertemplate": "<b>%{hovertext}</b><br><br>Country_Name=Tunisia<br>BAC Limit (g/dl)=%{x}<br>Percentage of Deaths Due to Alcohol=%{y}<extra></extra>",
                  "hovertext": [
                    "Tunisia"
                  ],
                  "legendgroup": "Tunisia",
                  "marker": {
                    "color": "#FF97FF",
                    "line": {
                      "width": 1
                    },
                    "opacity": 0.7,
                    "sizemode": "diameter",
                    "symbol": "circle"
                  },
                  "mode": "markers",
                  "name": "Tunisia",
                  "orientation": "v",
                  "showlegend": true,
                  "type": "scatter",
                  "x": {
                    "bdata": "uB6F61G4jj8=",
                    "dtype": "f8"
                  },
                  "xaxis": "x",
                  "y": {
                    "bdata": "mpmZmZmZ+T8=",
                    "dtype": "f8"
                  },
                  "yaxis": "y"
                },
                {
                  "hovertemplate": "<b>%{hovertext}</b><br><br>Country_Name=Honduras<br>BAC Limit (g/dl)=%{x}<br>Percentage of Deaths Due to Alcohol=%{y}<extra></extra>",
                  "hovertext": [
                    "Honduras"
                  ],
                  "legendgroup": "Honduras",
                  "marker": {
                    "color": "#FECB52",
                    "line": {
                      "width": 1
                    },
                    "opacity": 0.7,
                    "sizemode": "diameter",
                    "symbol": "circle"
                  },
                  "mode": "markers",
                  "name": "Honduras",
                  "orientation": "v",
                  "showlegend": true,
                  "type": "scatter",
                  "x": {
                    "bdata": "7FG4HoXrsT8=",
                    "dtype": "f8"
                  },
                  "xaxis": "x",
                  "y": {
                    "bdata": "MzMzMzMzG0A=",
                    "dtype": "f8"
                  },
                  "yaxis": "y"
                },
                {
                  "hovertemplate": "<b>%{hovertext}</b><br><br>Country_Name=Romania<br>BAC Limit (g/dl)=%{x}<br>Percentage of Deaths Due to Alcohol=%{y}<extra></extra>",
                  "hovertext": [
                    "Romania"
                  ],
                  "legendgroup": "Romania",
                  "marker": {
                    "color": "#636efa",
                    "line": {
                      "width": 1
                    },
                    "opacity": 0.7,
                    "sizemode": "diameter",
                    "symbol": "circle"
                  },
                  "mode": "markers",
                  "name": "Romania",
                  "orientation": "v",
                  "showlegend": true,
                  "type": "scatter",
                  "x": {
                    "bdata": "exSuR+F6tD8=",
                    "dtype": "f8"
                  },
                  "xaxis": "x",
                  "y": {
                    "bdata": "ZmZmZmZmFkA=",
                    "dtype": "f8"
                  },
                  "yaxis": "y"
                },
                {
                  "hovertemplate": "<b>%{hovertext}</b><br><br>Country_Name=Canada<br>BAC Limit (g/dl)=%{x}<br>Percentage of Deaths Due to Alcohol=%{y}<extra></extra>",
                  "hovertext": [
                    "Canada"
                  ],
                  "legendgroup": "Canada",
                  "marker": {
                    "color": "#EF553B",
                    "line": {
                      "width": 1
                    },
                    "opacity": 0.7,
                    "sizemode": "diameter",
                    "symbol": "circle"
                  },
                  "mode": "markers",
                  "name": "Canada",
                  "orientation": "v",
                  "showlegend": true,
                  "type": "scatter",
                  "x": {
                    "bdata": "exSuR+F6tD8=",
                    "dtype": "f8"
                  },
                  "xaxis": "x",
                  "y": {
                    "bdata": "mpmZmZmZPUA=",
                    "dtype": "f8"
                  },
                  "yaxis": "y"
                },
                {
                  "hovertemplate": "<b>%{hovertext}</b><br><br>Country_Name=Spain<br>BAC Limit (g/dl)=%{x}<br>Percentage of Deaths Due to Alcohol=%{y}<extra></extra>",
                  "hovertext": [
                    "Spain"
                  ],
                  "legendgroup": "Spain",
                  "marker": {
                    "color": "#00cc96",
                    "line": {
                      "width": 1
                    },
                    "opacity": 0.7,
                    "sizemode": "diameter",
                    "symbol": "circle"
                  },
                  "mode": "markers",
                  "name": "Spain",
                  "orientation": "v",
                  "showlegend": true,
                  "type": "scatter",
                  "x": {
                    "bdata": "exSuR+F6pD8=",
                    "dtype": "f8"
                  },
                  "xaxis": "x",
                  "y": {
                    "bdata": "AAAAAAAAMUA=",
                    "dtype": "f8"
                  },
                  "yaxis": "y"
                },
                {
                  "hovertemplate": "<b>%{hovertext}</b><br><br>Country_Name=United Kingdom of Great Britain and Northern Ireland<br>BAC Limit (g/dl)=%{x}<br>Percentage of Deaths Due to Alcohol=%{y}<extra></extra>",
                  "hovertext": [
                    "United Kingdom of Great Britain and Northern Ireland"
                  ],
                  "legendgroup": "United Kingdom of Great Britain and Northern Ireland",
                  "marker": {
                    "color": "#ab63fa",
                    "line": {
                      "width": 1
                    },
                    "opacity": 0.7,
                    "sizemode": "diameter",
                    "symbol": "circle"
                  },
                  "mode": "markers",
                  "name": "United Kingdom of Great Britain and Northern Ireland",
                  "orientation": "v",
                  "showlegend": true,
                  "type": "scatter",
                  "x": {
                    "bdata": "exSuR+F6tD8=",
                    "dtype": "f8"
                  },
                  "xaxis": "x",
                  "y": {
                    "bdata": "AAAAAAAAKkA=",
                    "dtype": "f8"
                  },
                  "yaxis": "y"
                },
                {
                  "hovertemplate": "<b>%{hovertext}</b><br><br>Country_Name=Australia<br>BAC Limit (g/dl)=%{x}<br>Percentage of Deaths Due to Alcohol=%{y}<extra></extra>",
                  "hovertext": [
                    "Australia"
                  ],
                  "legendgroup": "Australia",
                  "marker": {
                    "color": "#FFA15A",
                    "line": {
                      "width": 1
                    },
                    "opacity": 0.7,
                    "sizemode": "diameter",
                    "symbol": "circle"
                  },
                  "mode": "markers",
                  "name": "Australia",
                  "orientation": "v",
                  "showlegend": true,
                  "type": "scatter",
                  "x": {
                    "bdata": "mpmZmZmZmT8=",
                    "dtype": "f8"
                  },
                  "xaxis": "x",
                  "y": {
                    "bdata": "AAAAAAAAMUA=",
                    "dtype": "f8"
                  },
                  "yaxis": "y"
                },
                {
                  "hovertemplate": "<b>%{hovertext}</b><br><br>Country_Name=Costa Rica<br>BAC Limit (g/dl)=%{x}<br>Percentage of Deaths Due to Alcohol=%{y}<extra></extra>",
                  "hovertext": [
                    "Costa Rica"
                  ],
                  "legendgroup": "Costa Rica",
                  "marker": {
                    "color": "#19d3f3",
                    "line": {
                      "width": 1
                    },
                    "opacity": 0.7,
                    "sizemode": "diameter",
                    "symbol": "circle"
                  },
                  "mode": "markers",
                  "name": "Costa Rica",
                  "orientation": "v",
                  "showlegend": true,
                  "type": "scatter",
                  "x": {
                    "bdata": "7FG4HoXroT8=",
                    "dtype": "f8"
                  },
                  "xaxis": "x",
                  "y": {
                    "bdata": "MzMzMzMzP0A=",
                    "dtype": "f8"
                  },
                  "yaxis": "y"
                },
                {
                  "hovertemplate": "<b>%{hovertext}</b><br><br>Country_Name=Greece<br>BAC Limit (g/dl)=%{x}<br>Percentage of Deaths Due to Alcohol=%{y}<extra></extra>",
                  "hovertext": [
                    "Greece"
                  ],
                  "legendgroup": "Greece",
                  "marker": {
                    "color": "#FF6692",
                    "line": {
                      "width": 1
                    },
                    "opacity": 0.7,
                    "sizemode": "diameter",
                    "symbol": "circle"
                  },
                  "mode": "markers",
                  "name": "Greece",
                  "orientation": "v",
                  "showlegend": true,
                  "type": "scatter",
                  "x": {
                    "bdata": "mpmZmZmZqT8=",
                    "dtype": "f8"
                  },
                  "xaxis": "x",
                  "y": {
                    "bdata": "zczMzMxMOUA=",
                    "dtype": "f8"
                  },
                  "yaxis": "y"
                },
                {
                  "hovertemplate": "<b>%{hovertext}</b><br><br>Country_Name=Portugal<br>BAC Limit (g/dl)=%{x}<br>Percentage of Deaths Due to Alcohol=%{y}<extra></extra>",
                  "hovertext": [
                    "Portugal"
                  ],
                  "legendgroup": "Portugal",
                  "marker": {
                    "color": "#B6E880",
                    "line": {
                      "width": 1
                    },
                    "opacity": 0.7,
                    "sizemode": "diameter",
                    "symbol": "circle"
                  },
                  "mode": "markers",
                  "name": "Portugal",
                  "orientation": "v",
                  "showlegend": true,
                  "type": "scatter",
                  "x": {
                    "bdata": "7FG4HoXroT8=",
                    "dtype": "f8"
                  },
                  "xaxis": "x",
                  "y": {
                    "bdata": "MzMzMzMzPUA=",
                    "dtype": "f8"
                  },
                  "yaxis": "y"
                },
                {
                  "hovertemplate": "<b>%{hovertext}</b><br><br>Country_Name=Hungary<br>BAC Limit (g/dl)=%{x}<br>Percentage of Deaths Due to Alcohol=%{y}<extra></extra>",
                  "hovertext": [
                    "Hungary"
                  ],
                  "legendgroup": "Hungary",
                  "marker": {
                    "color": "#FF97FF",
                    "line": {
                      "width": 1
                    },
                    "opacity": 0.7,
                    "sizemode": "diameter",
                    "symbol": "circle"
                  },
                  "mode": "markers",
                  "name": "Hungary",
                  "orientation": "v",
                  "showlegend": true,
                  "type": "scatter",
                  "x": {
                    "bdata": "AAAAAAAAAAA=",
                    "dtype": "f8"
                  },
                  "xaxis": "x",
                  "y": {
                    "bdata": "ZmZmZmZmHEA=",
                    "dtype": "f8"
                  },
                  "yaxis": "y"
                },
                {
                  "hovertemplate": "<b>%{hovertext}</b><br><br>Country_Name=Belarus<br>BAC Limit (g/dl)=%{x}<br>Percentage of Deaths Due to Alcohol=%{y}<extra></extra>",
                  "hovertext": [
                    "Belarus"
                  ],
                  "legendgroup": "Belarus",
                  "marker": {
                    "color": "#FECB52",
                    "line": {
                      "width": 1
                    },
                    "opacity": 0.7,
                    "sizemode": "diameter",
                    "symbol": "circle"
                  },
                  "mode": "markers",
                  "name": "Belarus",
                  "orientation": "v",
                  "showlegend": true,
                  "type": "scatter",
                  "x": {
                    "bdata": "uB6F61G4nj8=",
                    "dtype": "f8"
                  },
                  "xaxis": "x",
                  "y": {
                    "bdata": "mpmZmZmZLEA=",
                    "dtype": "f8"
                  },
                  "yaxis": "y"
                },
                {
                  "hovertemplate": "<b>%{hovertext}</b><br><br>Country_Name=Cuba<br>BAC Limit (g/dl)=%{x}<br>Percentage of Deaths Due to Alcohol=%{y}<extra></extra>",
                  "hovertext": [
                    "Cuba"
                  ],
                  "legendgroup": "Cuba",
                  "marker": {
                    "color": "#636efa",
                    "line": {
                      "width": 1
                    },
                    "opacity": 0.7,
                    "sizemode": "diameter",
                    "symbol": "circle"
                  },
                  "mode": "markers",
                  "name": "Cuba",
                  "orientation": "v",
                  "showlegend": true,
                  "type": "scatter",
                  "x": {
                    "bdata": "exSuR+F6dD8=",
                    "dtype": "f8"
                  },
                  "xaxis": "x",
                  "y": {
                    "bdata": "ZmZmZmamQEA=",
                    "dtype": "f8"
                  },
                  "yaxis": "y"
                },
                {
                  "hovertemplate": "<b>%{hovertext}</b><br><br>Country_Name=Netherlands (Kingdom of the)<br>BAC Limit (g/dl)=%{x}<br>Percentage of Deaths Due to Alcohol=%{y}<extra></extra>",
                  "hovertext": [
                    "Netherlands (Kingdom of the)"
                  ],
                  "legendgroup": "Netherlands (Kingdom of the)",
                  "marker": {
                    "color": "#EF553B",
                    "line": {
                      "width": 1
                    },
                    "opacity": 0.7,
                    "sizemode": "diameter",
                    "symbol": "circle"
                  },
                  "mode": "markers",
                  "name": "Netherlands (Kingdom of the)",
                  "orientation": "v",
                  "showlegend": true,
                  "type": "scatter",
                  "x": {
                    "bdata": "7FG4HoXroT8=",
                    "dtype": "f8"
                  },
                  "xaxis": "x",
                  "y": {
                    "bdata": "AAAAAAAAJkA=",
                    "dtype": "f8"
                  },
                  "yaxis": "y"
                },
                {
                  "hovertemplate": "<b>%{hovertext}</b><br><br>Country_Name=Bulgaria<br>BAC Limit (g/dl)=%{x}<br>Percentage of Deaths Due to Alcohol=%{y}<extra></extra>",
                  "hovertext": [
                    "Bulgaria"
                  ],
                  "legendgroup": "Bulgaria",
                  "marker": {
                    "color": "#00cc96",
                    "line": {
                      "width": 1
                    },
                    "opacity": 0.7,
                    "sizemode": "diameter",
                    "symbol": "circle"
                  },
                  "mode": "markers",
                  "name": "Bulgaria",
                  "orientation": "v",
                  "showlegend": true,
                  "type": "scatter",
                  "x": {
                    "bdata": "mpmZmZmZqT8=",
                    "dtype": "f8"
                  },
                  "xaxis": "x",
                  "y": {
                    "bdata": "zczMzMzM7D8=",
                    "dtype": "f8"
                  },
                  "yaxis": "y"
                },
                {
                  "hovertemplate": "<b>%{hovertext}</b><br><br>Country_Name=United Arab Emirates<br>BAC Limit (g/dl)=%{x}<br>Percentage of Deaths Due to Alcohol=%{y}<extra></extra>",
                  "hovertext": [
                    "United Arab Emirates"
                  ],
                  "legendgroup": "United Arab Emirates",
                  "marker": {
                    "color": "#ab63fa",
                    "line": {
                      "width": 1
                    },
                    "opacity": 0.7,
                    "sizemode": "diameter",
                    "symbol": "circle"
                  },
                  "mode": "markers",
                  "name": "United Arab Emirates",
                  "orientation": "v",
                  "showlegend": true,
                  "type": "scatter",
                  "x": {
                    "bdata": "exSuR+F6hD8=",
                    "dtype": "f8"
                  },
                  "xaxis": "x",
                  "y": {
                    "bdata": "zczMzMzM/D8=",
                    "dtype": "f8"
                  },
                  "yaxis": "y"
                },
                {
                  "hovertemplate": "<b>%{hovertext}</b><br><br>Country_Name=Namibia<br>BAC Limit (g/dl)=%{x}<br>Percentage of Deaths Due to Alcohol=%{y}<extra></extra>",
                  "hovertext": [
                    "Namibia"
                  ],
                  "legendgroup": "Namibia",
                  "marker": {
                    "color": "#FFA15A",
                    "line": {
                      "width": 1
                    },
                    "opacity": 0.7,
                    "sizemode": "diameter",
                    "symbol": "circle"
                  },
                  "mode": "markers",
                  "name": "Namibia",
                  "orientation": "v",
                  "showlegend": true,
                  "type": "scatter",
                  "x": {
                    "bdata": "001iEFg5tD8=",
                    "dtype": "f8"
                  },
                  "xaxis": "x",
                  "y": {
                    "bdata": "MzMzMzMzD0A=",
                    "dtype": "f8"
                  },
                  "yaxis": "y"
                },
                {
                  "hovertemplate": "<b>%{hovertext}</b><br><br>Country_Name=Czechia<br>BAC Limit (g/dl)=%{x}<br>Percentage of Deaths Due to Alcohol=%{y}<extra></extra>",
                  "hovertext": [
                    "Czechia"
                  ],
                  "legendgroup": "Czechia",
                  "marker": {
                    "color": "#19d3f3",
                    "line": {
                      "width": 1
                    },
                    "opacity": 0.7,
                    "sizemode": "diameter",
                    "symbol": "circle"
                  },
                  "mode": "markers",
                  "name": "Czechia",
                  "orientation": "v",
                  "showlegend": true,
                  "type": "scatter",
                  "x": {
                    "bdata": "uB6F61G4nj8=",
                    "dtype": "f8"
                  },
                  "xaxis": "x",
                  "y": {
                    "bdata": "AAAAAAAAI0A=",
                    "dtype": "f8"
                  },
                  "yaxis": "y"
                },
                {
                  "hovertemplate": "<b>%{hovertext}</b><br><br>Country_Name=Serbia<br>BAC Limit (g/dl)=%{x}<br>Percentage of Deaths Due to Alcohol=%{y}<extra></extra>",
                  "hovertext": [
                    "Serbia"
                  ],
                  "legendgroup": "Serbia",
                  "marker": {
                    "color": "#FF6692",
                    "line": {
                      "width": 1
                    },
                    "opacity": 0.7,
                    "sizemode": "diameter",
                    "symbol": "circle"
                  },
                  "mode": "markers",
                  "name": "Serbia",
                  "orientation": "v",
                  "showlegend": true,
                  "type": "scatter",
                  "x": {
                    "bdata": "uB6F61G4jj8=",
                    "dtype": "f8"
                  },
                  "xaxis": "x",
                  "y": {
                    "bdata": "AAAAAAAAMUA=",
                    "dtype": "f8"
                  },
                  "yaxis": "y"
                },
                {
                  "hovertemplate": "<b>%{hovertext}</b><br><br>Country_Name=Lesotho<br>BAC Limit (g/dl)=%{x}<br>Percentage of Deaths Due to Alcohol=%{y}<extra></extra>",
                  "hovertext": [
                    "Lesotho"
                  ],
                  "legendgroup": "Lesotho",
                  "marker": {
                    "color": "#B6E880",
                    "line": {
                      "width": 1
                    },
                    "opacity": 0.7,
                    "sizemode": "diameter",
                    "symbol": "circle"
                  },
                  "mode": "markers",
                  "name": "Lesotho",
                  "orientation": "v",
                  "showlegend": true,
                  "type": "scatter",
                  "x": {
                    "bdata": "exSuR+F6tD8=",
                    "dtype": "f8"
                  },
                  "xaxis": "x",
                  "y": {
                    "bdata": "AAAAAAAATkA=",
                    "dtype": "f8"
                  },
                  "yaxis": "y"
                },
                {
                  "hovertemplate": "<b>%{hovertext}</b><br><br>Country_Name=Georgia<br>BAC Limit (g/dl)=%{x}<br>Percentage of Deaths Due to Alcohol=%{y}<extra></extra>",
                  "hovertext": [
                    "Georgia"
                  ],
                  "legendgroup": "Georgia",
                  "marker": {
                    "color": "#FF97FF",
                    "line": {
                      "width": 1
                    },
                    "opacity": 0.7,
                    "sizemode": "diameter",
                    "symbol": "circle"
                  },
                  "mode": "markers",
                  "name": "Georgia",
                  "orientation": "v",
                  "showlegend": true,
                  "type": "scatter",
                  "x": {
                    "bdata": "uB6F61G4nj8=",
                    "dtype": "f8"
                  },
                  "xaxis": "x",
                  "y": {
                    "bdata": "AAAAAAAAIkA=",
                    "dtype": "f8"
                  },
                  "yaxis": "y"
                },
                {
                  "hovertemplate": "<b>%{hovertext}</b><br><br>Country_Name=Bosnia and Herzegovina<br>BAC Limit (g/dl)=%{x}<br>Percentage of Deaths Due to Alcohol=%{y}<extra></extra>",
                  "hovertext": [
                    "Bosnia and Herzegovina"
                  ],
                  "legendgroup": "Bosnia and Herzegovina",
                  "marker": {
                    "color": "#FECB52",
                    "line": {
                      "width": 1
                    },
                    "opacity": 0.7,
                    "sizemode": "diameter",
                    "symbol": "circle"
                  },
                  "mode": "markers",
                  "name": "Bosnia and Herzegovina",
                  "orientation": "v",
                  "showlegend": true,
                  "type": "scatter",
                  "x": {
                    "bdata": "uB6F61G4jj8=",
                    "dtype": "f8"
                  },
                  "xaxis": "x",
                  "y": {
                    "bdata": "zczMzMzMNEA=",
                    "dtype": "f8"
                  },
                  "yaxis": "y"
                },
                {
                  "hovertemplate": "<b>%{hovertext}</b><br><br>Country_Name=Botswana<br>BAC Limit (g/dl)=%{x}<br>Percentage of Deaths Due to Alcohol=%{y}<extra></extra>",
                  "hovertext": [
                    "Botswana"
                  ],
                  "legendgroup": "Botswana",
                  "marker": {
                    "color": "#636efa",
                    "line": {
                      "width": 1
                    },
                    "opacity": 0.7,
                    "sizemode": "diameter",
                    "symbol": "circle"
                  },
                  "mode": "markers",
                  "name": "Botswana",
                  "orientation": "v",
                  "showlegend": true,
                  "type": "scatter",
                  "x": {
                    "bdata": "mpmZmZmZqT8=",
                    "dtype": "f8"
                  },
                  "xaxis": "x",
                  "y": {
                    "bdata": "ZmZmZmZmDkA=",
                    "dtype": "f8"
                  },
                  "yaxis": "y"
                },
                {
                  "hovertemplate": "<b>%{hovertext}</b><br><br>Country_Name=Mongolia<br>BAC Limit (g/dl)=%{x}<br>Percentage of Deaths Due to Alcohol=%{y}<extra></extra>",
                  "hovertext": [
                    "Mongolia"
                  ],
                  "legendgroup": "Mongolia",
                  "marker": {
                    "color": "#EF553B",
                    "line": {
                      "width": 1
                    },
                    "opacity": 0.7,
                    "sizemode": "diameter",
                    "symbol": "circle"
                  },
                  "mode": "markers",
                  "name": "Mongolia",
                  "orientation": "v",
                  "showlegend": true,
                  "type": "scatter",
                  "x": {
                    "bdata": "exSuR+F6pD8=",
                    "dtype": "f8"
                  },
                  "xaxis": "x",
                  "y": {
                    "bdata": "AAAAAAAAOUA=",
                    "dtype": "f8"
                  },
                  "yaxis": "y"
                },
                {
                  "hovertemplate": "<b>%{hovertext}</b><br><br>Country_Name=Austria<br>BAC Limit (g/dl)=%{x}<br>Percentage of Deaths Due to Alcohol=%{y}<extra></extra>",
                  "hovertext": [
                    "Austria"
                  ],
                  "legendgroup": "Austria",
                  "marker": {
                    "color": "#00cc96",
                    "line": {
                      "width": 1
                    },
                    "opacity": 0.7,
                    "sizemode": "diameter",
                    "symbol": "circle"
                  },
                  "mode": "markers",
                  "name": "Austria",
                  "orientation": "v",
                  "showlegend": true,
                  "type": "scatter",
                  "x": {
                    "bdata": "uR6F61G4nj8=",
                    "dtype": "f8"
                  },
                  "xaxis": "x",
                  "y": {
                    "bdata": "ZmZmZmZmFEA=",
                    "dtype": "f8"
                  },
                  "yaxis": "y"
                },
                {
                  "hovertemplate": "<b>%{hovertext}</b><br><br>Country_Name=Armenia<br>BAC Limit (g/dl)=%{x}<br>Percentage of Deaths Due to Alcohol=%{y}<extra></extra>",
                  "hovertext": [
                    "Armenia"
                  ],
                  "legendgroup": "Armenia",
                  "marker": {
                    "color": "#ab63fa",
                    "line": {
                      "width": 1
                    },
                    "opacity": 0.7,
                    "sizemode": "diameter",
                    "symbol": "circle"
                  },
                  "mode": "markers",
                  "name": "Armenia",
                  "orientation": "v",
                  "showlegend": true,
                  "type": "scatter",
                  "x": {
                    "bdata": "exSuR+F6pD8=",
                    "dtype": "f8"
                  },
                  "xaxis": "x",
                  "y": {
                    "bdata": "ZmZmZmZm/j8=",
                    "dtype": "f8"
                  },
                  "yaxis": "y"
                },
                {
                  "hovertemplate": "<b>%{hovertext}</b><br><br>Country_Name=Israel<br>BAC Limit (g/dl)=%{x}<br>Percentage of Deaths Due to Alcohol=%{y}<extra></extra>",
                  "hovertext": [
                    "Israel"
                  ],
                  "legendgroup": "Israel",
                  "marker": {
                    "color": "#FFA15A",
                    "line": {
                      "width": 1
                    },
                    "opacity": 0.7,
                    "sizemode": "diameter",
                    "symbol": "circle"
                  },
                  "mode": "markers",
                  "name": "Israel",
                  "orientation": "v",
                  "showlegend": true,
                  "type": "scatter",
                  "x": {
                    "bdata": "uR6F61G4nj8=",
                    "dtype": "f8"
                  },
                  "xaxis": "x",
                  "y": {
                    "bdata": "zczMzMzMDEA=",
                    "dtype": "f8"
                  },
                  "yaxis": "y"
                },
                {
                  "hovertemplate": "<b>%{hovertext}</b><br><br>Country_Name=Slovakia<br>BAC Limit (g/dl)=%{x}<br>Percentage of Deaths Due to Alcohol=%{y}<extra></extra>",
                  "hovertext": [
                    "Slovakia"
                  ],
                  "legendgroup": "Slovakia",
                  "marker": {
                    "color": "#19d3f3",
                    "line": {
                      "width": 1
                    },
                    "opacity": 0.7,
                    "sizemode": "diameter",
                    "symbol": "circle"
                  },
                  "mode": "markers",
                  "name": "Slovakia",
                  "orientation": "v",
                  "showlegend": true,
                  "type": "scatter",
                  "x": {
                    "bdata": "AAAAAAAAAAA=",
                    "dtype": "f8"
                  },
                  "xaxis": "x",
                  "y": {
                    "bdata": "ZmZmZmZmGEA=",
                    "dtype": "f8"
                  },
                  "yaxis": "y"
                },
                {
                  "hovertemplate": "<b>%{hovertext}</b><br><br>Country_Name=New Zealand<br>BAC Limit (g/dl)=%{x}<br>Percentage of Deaths Due to Alcohol=%{y}<extra></extra>",
                  "hovertext": [
                    "New Zealand"
                  ],
                  "legendgroup": "New Zealand",
                  "marker": {
                    "color": "#FF6692",
                    "line": {
                      "width": 1
                    },
                    "opacity": 0.7,
                    "sizemode": "diameter",
                    "symbol": "circle"
                  },
                  "mode": "markers",
                  "name": "New Zealand",
                  "orientation": "v",
                  "showlegend": true,
                  "type": "scatter",
                  "x": {
                    "bdata": "mpmZmZmZmT8=",
                    "dtype": "f8"
                  },
                  "xaxis": "x",
                  "y": {
                    "bdata": "AAAAAAAAO0A=",
                    "dtype": "f8"
                  },
                  "yaxis": "y"
                },
                {
                  "hovertemplate": "<b>%{hovertext}</b><br><br>Country_Name=Croatia<br>BAC Limit (g/dl)=%{x}<br>Percentage of Deaths Due to Alcohol=%{y}<extra></extra>",
                  "hovertext": [
                    "Croatia"
                  ],
                  "legendgroup": "Croatia",
                  "marker": {
                    "color": "#B6E880",
                    "line": {
                      "width": 1
                    },
                    "opacity": 0.7,
                    "sizemode": "diameter",
                    "symbol": "circle"
                  },
                  "mode": "markers",
                  "name": "Croatia",
                  "orientation": "v",
                  "showlegend": true,
                  "type": "scatter",
                  "x": {
                    "bdata": "mpmZmZmZmT8=",
                    "dtype": "f8"
                  },
                  "xaxis": "x",
                  "y": {
                    "bdata": "zczMzMzMN0A=",
                    "dtype": "f8"
                  },
                  "yaxis": "y"
                },
                {
                  "hovertemplate": "<b>%{hovertext}</b><br><br>Country_Name=Albania<br>BAC Limit (g/dl)=%{x}<br>Percentage of Deaths Due to Alcohol=%{y}<extra></extra>",
                  "hovertext": [
                    "Albania"
                  ],
                  "legendgroup": "Albania",
                  "marker": {
                    "color": "#FF97FF",
                    "line": {
                      "width": 1
                    },
                    "opacity": 0.7,
                    "sizemode": "diameter",
                    "symbol": "circle"
                  },
                  "mode": "markers",
                  "name": "Albania",
                  "orientation": "v",
                  "showlegend": true,
                  "type": "scatter",
                  "x": {
                    "bdata": "mpmZmZmZqT8=",
                    "dtype": "f8"
                  },
                  "xaxis": "x",
                  "y": {
                    "bdata": "zczMzMzMFEA=",
                    "dtype": "f8"
                  },
                  "yaxis": "y"
                },
                {
                  "hovertemplate": "<b>%{hovertext}</b><br><br>Country_Name=Republic of Moldova<br>BAC Limit (g/dl)=%{x}<br>Percentage of Deaths Due to Alcohol=%{y}<extra></extra>",
                  "hovertext": [
                    "Republic of Moldova"
                  ],
                  "legendgroup": "Republic of Moldova",
                  "marker": {
                    "color": "#FECB52",
                    "line": {
                      "width": 1
                    },
                    "opacity": 0.7,
                    "sizemode": "diameter",
                    "symbol": "circle"
                  },
                  "mode": "markers",
                  "name": "Republic of Moldova",
                  "orientation": "v",
                  "showlegend": true,
                  "type": "scatter",
                  "x": {
                    "bdata": "uB6F61G4nj8=",
                    "dtype": "f8"
                  },
                  "xaxis": "x",
                  "y": {
                    "bdata": "zczMzMzMIkA=",
                    "dtype": "f8"
                  },
                  "yaxis": "y"
                },
                {
                  "hovertemplate": "<b>%{hovertext}</b><br><br>Country_Name=Finland<br>BAC Limit (g/dl)=%{x}<br>Percentage of Deaths Due to Alcohol=%{y}<extra></extra>",
                  "hovertext": [
                    "Finland"
                  ],
                  "legendgroup": "Finland",
                  "marker": {
                    "color": "#636efa",
                    "line": {
                      "width": 1
                    },
                    "opacity": 0.7,
                    "sizemode": "diameter",
                    "symbol": "circle"
                  },
                  "mode": "markers",
                  "name": "Finland",
                  "orientation": "v",
                  "showlegend": true,
                  "type": "scatter",
                  "x": {
                    "bdata": "mpmZmZmZqT8=",
                    "dtype": "f8"
                  },
                  "xaxis": "x",
                  "y": {
                    "bdata": "AAAAAAAAOEA=",
                    "dtype": "f8"
                  },
                  "yaxis": "y"
                },
                {
                  "hovertemplate": "<b>%{hovertext}</b><br><br>Country_Name=Sweden<br>BAC Limit (g/dl)=%{x}<br>Percentage of Deaths Due to Alcohol=%{y}<extra></extra>",
                  "hovertext": [
                    "Sweden"
                  ],
                  "legendgroup": "Sweden",
                  "marker": {
                    "color": "#EF553B",
                    "line": {
                      "width": 1
                    },
                    "opacity": 0.7,
                    "sizemode": "diameter",
                    "symbol": "circle"
                  },
                  "mode": "markers",
                  "name": "Sweden",
                  "orientation": "v",
                  "showlegend": true,
                  "type": "scatter",
                  "x": {
                    "bdata": "exSuR+F6lD8=",
                    "dtype": "f8"
                  },
                  "xaxis": "x",
                  "y": {
                    "bdata": "AAAAAAAAOEA=",
                    "dtype": "f8"
                  },
                  "yaxis": "y"
                },
                {
                  "hovertemplate": "<b>%{hovertext}</b><br><br>Country_Name=Switzerland<br>BAC Limit (g/dl)=%{x}<br>Percentage of Deaths Due to Alcohol=%{y}<extra></extra>",
                  "hovertext": [
                    "Switzerland"
                  ],
                  "legendgroup": "Switzerland",
                  "marker": {
                    "color": "#00cc96",
                    "line": {
                      "width": 1
                    },
                    "opacity": 0.7,
                    "sizemode": "diameter",
                    "symbol": "circle"
                  },
                  "mode": "markers",
                  "name": "Switzerland",
                  "orientation": "v",
                  "showlegend": true,
                  "type": "scatter",
                  "x": {
                    "bdata": "uR6F61G4nj8=",
                    "dtype": "f8"
                  },
                  "xaxis": "x",
                  "y": {
                    "bdata": "AAAAAAAAKkA=",
                    "dtype": "f8"
                  },
                  "yaxis": "y"
                },
                {
                  "hovertemplate": "<b>%{hovertext}</b><br><br>Country_Name=Latvia<br>BAC Limit (g/dl)=%{x}<br>Percentage of Deaths Due to Alcohol=%{y}<extra></extra>",
                  "hovertext": [
                    "Latvia"
                  ],
                  "legendgroup": "Latvia",
                  "marker": {
                    "color": "#ab63fa",
                    "line": {
                      "width": 1
                    },
                    "opacity": 0.7,
                    "sizemode": "diameter",
                    "symbol": "circle"
                  },
                  "mode": "markers",
                  "name": "Latvia",
                  "orientation": "v",
                  "showlegend": true,
                  "type": "scatter",
                  "x": {
                    "bdata": "7FG4HoXroT8=",
                    "dtype": "f8"
                  },
                  "xaxis": "x",
                  "y": {
                    "bdata": "mpmZmZmZJUA=",
                    "dtype": "f8"
                  },
                  "yaxis": "y"
                },
                {
                  "hovertemplate": "<b>%{hovertext}</b><br><br>Country_Name=Lithuania<br>BAC Limit (g/dl)=%{x}<br>Percentage of Deaths Due to Alcohol=%{y}<extra></extra>",
                  "hovertext": [
                    "Lithuania"
                  ],
                  "legendgroup": "Lithuania",
                  "marker": {
                    "color": "#FFA15A",
                    "line": {
                      "width": 1
                    },
                    "opacity": 0.7,
                    "sizemode": "diameter",
                    "symbol": "circle"
                  },
                  "mode": "markers",
                  "name": "Lithuania",
                  "orientation": "v",
                  "showlegend": true,
                  "type": "scatter",
                  "x": {
                    "bdata": "exSuR+F6lD8=",
                    "dtype": "f8"
                  },
                  "xaxis": "x",
                  "y": {
                    "bdata": "MzMzMzMzI0A=",
                    "dtype": "f8"
                  },
                  "yaxis": "y"
                },
                {
                  "hovertemplate": "<b>%{hovertext}</b><br><br>Country_Name=Ireland<br>BAC Limit (g/dl)=%{x}<br>Percentage of Deaths Due to Alcohol=%{y}<extra></extra>",
                  "hovertext": [
                    "Ireland"
                  ],
                  "legendgroup": "Ireland",
                  "marker": {
                    "color": "#19d3f3",
                    "line": {
                      "width": 1
                    },
                    "opacity": 0.7,
                    "sizemode": "diameter",
                    "symbol": "circle"
                  },
                  "mode": "markers",
                  "name": "Ireland",
                  "orientation": "v",
                  "showlegend": true,
                  "type": "scatter",
                  "x": {
                    "bdata": "7FG4HoXroT8=",
                    "dtype": "f8"
                  },
                  "xaxis": "x",
                  "y": {
                    "bdata": "AAAAAABAQ0A=",
                    "dtype": "f8"
                  },
                  "yaxis": "y"
                },
                {
                  "hovertemplate": "<b>%{hovertext}</b><br><br>Country_Name=Mauritius<br>BAC Limit (g/dl)=%{x}<br>Percentage of Deaths Due to Alcohol=%{y}<extra></extra>",
                  "hovertext": [
                    "Mauritius"
                  ],
                  "legendgroup": "Mauritius",
                  "marker": {
                    "color": "#FF6692",
                    "line": {
                      "width": 1
                    },
                    "opacity": 0.7,
                    "sizemode": "diameter",
                    "symbol": "circle"
                  },
                  "mode": "markers",
                  "name": "Mauritius",
                  "orientation": "v",
                  "showlegend": true,
                  "type": "scatter",
                  "x": {
                    "bdata": "mpmZmZmZqT8=",
                    "dtype": "f8"
                  },
                  "xaxis": "x",
                  "y": {
                    "bdata": "mpmZmZmZN0A=",
                    "dtype": "f8"
                  },
                  "yaxis": "y"
                },
                {
                  "hovertemplate": "<b>%{hovertext}</b><br><br>Country_Name=Guyana<br>BAC Limit (g/dl)=%{x}<br>Percentage of Deaths Due to Alcohol=%{y}<extra></extra>",
                  "hovertext": [
                    "Guyana"
                  ],
                  "legendgroup": "Guyana",
                  "marker": {
                    "color": "#B6E880",
                    "line": {
                      "width": 1
                    },
                    "opacity": 0.7,
                    "sizemode": "diameter",
                    "symbol": "circle"
                  },
                  "mode": "markers",
                  "name": "Guyana",
                  "orientation": "v",
                  "showlegend": true,
                  "type": "scatter",
                  "x": {
                    "bdata": "exSuR+F6tD8=",
                    "dtype": "f8"
                  },
                  "xaxis": "x",
                  "y": {
                    "bdata": "AAAAAAAAMUA=",
                    "dtype": "f8"
                  },
                  "yaxis": "y"
                },
                {
                  "hovertemplate": "<b>%{hovertext}</b><br><br>Country_Name=Slovenia<br>BAC Limit (g/dl)=%{x}<br>Percentage of Deaths Due to Alcohol=%{y}<extra></extra>",
                  "hovertext": [
                    "Slovenia"
                  ],
                  "legendgroup": "Slovenia",
                  "marker": {
                    "color": "#FF97FF",
                    "line": {
                      "width": 1
                    },
                    "opacity": 0.7,
                    "sizemode": "diameter",
                    "symbol": "circle"
                  },
                  "mode": "markers",
                  "name": "Slovenia",
                  "orientation": "v",
                  "showlegend": true,
                  "type": "scatter",
                  "x": {
                    "bdata": "mpmZmZmZmT8=",
                    "dtype": "f8"
                  },
                  "xaxis": "x",
                  "y": {
                    "bdata": "AAAAAAAAQEA=",
                    "dtype": "f8"
                  },
                  "yaxis": "y"
                },
                {
                  "hovertemplate": "<b>%{hovertext}</b><br><br>Country_Name=North Macedonia<br>BAC Limit (g/dl)=%{x}<br>Percentage of Deaths Due to Alcohol=%{y}<extra></extra>",
                  "hovertext": [
                    "North Macedonia"
                  ],
                  "legendgroup": "North Macedonia",
                  "marker": {
                    "color": "#FECB52",
                    "line": {
                      "width": 1
                    },
                    "opacity": 0.7,
                    "sizemode": "diameter",
                    "symbol": "circle"
                  },
                  "mode": "markers",
                  "name": "North Macedonia",
                  "orientation": "v",
                  "showlegend": true,
                  "type": "scatter",
                  "x": {
                    "bdata": "uR6F61G4nj8=",
                    "dtype": "f8"
                  },
                  "xaxis": "x",
                  "y": {
                    "bdata": "ZmZmZmZm9j8=",
                    "dtype": "f8"
                  },
                  "yaxis": "y"
                },
                {
                  "hovertemplate": "<b>%{hovertext}</b><br><br>Country_Name=Singapore<br>BAC Limit (g/dl)=%{x}<br>Percentage of Deaths Due to Alcohol=%{y}<extra></extra>",
                  "hovertext": [
                    "Singapore"
                  ],
                  "legendgroup": "Singapore",
                  "marker": {
                    "color": "#636efa",
                    "line": {
                      "width": 1
                    },
                    "opacity": 0.7,
                    "sizemode": "diameter",
                    "symbol": "circle"
                  },
                  "mode": "markers",
                  "name": "Singapore",
                  "orientation": "v",
                  "showlegend": true,
                  "type": "scatter",
                  "x": {
                    "bdata": "exSuR+F6tD8=",
                    "dtype": "f8"
                  },
                  "xaxis": "x",
                  "y": {
                    "bdata": "mpmZmZmZGUA=",
                    "dtype": "f8"
                  },
                  "yaxis": "y"
                },
                {
                  "hovertemplate": "<b>%{hovertext}</b><br><br>Country_Name=Norway<br>BAC Limit (g/dl)=%{x}<br>Percentage of Deaths Due to Alcohol=%{y}<extra></extra>",
                  "hovertext": [
                    "Norway"
                  ],
                  "legendgroup": "Norway",
                  "marker": {
                    "color": "#EF553B",
                    "line": {
                      "width": 1
                    },
                    "opacity": 0.7,
                    "sizemode": "diameter",
                    "symbol": "circle"
                  },
                  "mode": "markers",
                  "name": "Norway",
                  "orientation": "v",
                  "showlegend": true,
                  "type": "scatter",
                  "x": {
                    "bdata": "exSuR+F6lD8=",
                    "dtype": "f8"
                  },
                  "xaxis": "x",
                  "y": {
                    "bdata": "AAAAAAAAKkA=",
                    "dtype": "f8"
                  },
                  "yaxis": "y"
                },
                {
                  "hovertemplate": "<b>%{hovertext}</b><br><br>Country_Name=Estonia<br>BAC Limit (g/dl)=%{x}<br>Percentage of Deaths Due to Alcohol=%{y}<extra></extra>",
                  "hovertext": [
                    "Estonia"
                  ],
                  "legendgroup": "Estonia",
                  "marker": {
                    "color": "#00cc96",
                    "line": {
                      "width": 1
                    },
                    "opacity": 0.7,
                    "sizemode": "diameter",
                    "symbol": "circle"
                  },
                  "mode": "markers",
                  "name": "Estonia",
                  "orientation": "v",
                  "showlegend": true,
                  "type": "scatter",
                  "x": {
                    "bdata": "exSuR+F6lD8=",
                    "dtype": "f8"
                  },
                  "xaxis": "x",
                  "y": {
                    "bdata": "AAAAAAAAJEA=",
                    "dtype": "f8"
                  },
                  "yaxis": "y"
                },
                {
                  "hovertemplate": "<b>%{hovertext}</b><br><br>Country_Name=Cyprus<br>BAC Limit (g/dl)=%{x}<br>Percentage of Deaths Due to Alcohol=%{y}<extra></extra>",
                  "hovertext": [
                    "Cyprus"
                  ],
                  "legendgroup": "Cyprus",
                  "marker": {
                    "color": "#ab63fa",
                    "line": {
                      "width": 1
                    },
                    "opacity": 0.7,
                    "sizemode": "diameter",
                    "symbol": "circle"
                  },
                  "mode": "markers",
                  "name": "Cyprus",
                  "orientation": "v",
                  "showlegend": true,
                  "type": "scatter",
                  "x": {
                    "bdata": "7FG4HoXroT8=",
                    "dtype": "f8"
                  },
                  "xaxis": "x",
                  "y": {
                    "bdata": "ZmZmZmZmMUA=",
                    "dtype": "f8"
                  },
                  "yaxis": "y"
                },
                {
                  "hovertemplate": "<b>%{hovertext}</b><br><br>Country_Name=Fiji<br>BAC Limit (g/dl)=%{x}<br>Percentage of Deaths Due to Alcohol=%{y}<extra></extra>",
                  "hovertext": [
                    "Fiji"
                  ],
                  "legendgroup": "Fiji",
                  "marker": {
                    "color": "#FFA15A",
                    "line": {
                      "width": 1
                    },
                    "opacity": 0.7,
                    "sizemode": "diameter",
                    "symbol": "circle"
                  },
                  "mode": "markers",
                  "name": "Fiji",
                  "orientation": "v",
                  "showlegend": true,
                  "type": "scatter",
                  "x": {
                    "bdata": "exSuR+F6pD8=",
                    "dtype": "f8"
                  },
                  "xaxis": "x",
                  "y": {
                    "bdata": "AAAAAAAAFEA=",
                    "dtype": "f8"
                  },
                  "yaxis": "y"
                },
                {
                  "hovertemplate": "<b>%{hovertext}</b><br><br>Country_Name=Luxembourg<br>BAC Limit (g/dl)=%{x}<br>Percentage of Deaths Due to Alcohol=%{y}<extra></extra>",
                  "hovertext": [
                    "Luxembourg"
                  ],
                  "legendgroup": "Luxembourg",
                  "marker": {
                    "color": "#19d3f3",
                    "line": {
                      "width": 1
                    },
                    "opacity": 0.7,
                    "sizemode": "diameter",
                    "symbol": "circle"
                  },
                  "mode": "markers",
                  "name": "Luxembourg",
                  "orientation": "v",
                  "showlegend": true,
                  "type": "scatter",
                  "x": {
                    "bdata": "7FG4HoXroT8=",
                    "dtype": "f8"
                  },
                  "xaxis": "x",
                  "y": {
                    "bdata": "AAAAAAAALEA=",
                    "dtype": "f8"
                  },
                  "yaxis": "y"
                },
                {
                  "hovertemplate": "<b>%{hovertext}</b><br><br>Country_Name=Iceland<br>BAC Limit (g/dl)=%{x}<br>Percentage of Deaths Due to Alcohol=%{y}<extra></extra>",
                  "hovertext": [
                    "Iceland"
                  ],
                  "legendgroup": "Iceland",
                  "marker": {
                    "color": "#FF6692",
                    "line": {
                      "width": 1
                    },
                    "opacity": 0.7,
                    "sizemode": "diameter",
                    "symbol": "circle"
                  },
                  "mode": "markers",
                  "name": "Iceland",
                  "orientation": "v",
                  "showlegend": true,
                  "type": "scatter",
                  "x": {
                    "bdata": "mpmZmZmZqT8=",
                    "dtype": "f8"
                  },
                  "xaxis": "x",
                  "y": {
                    "bdata": "AAAAAAAALEA=",
                    "dtype": "f8"
                  },
                  "yaxis": "y"
                },
                {
                  "hovertemplate": "<b>%{hovertext}</b><br><br>Country_Name=Tonga<br>BAC Limit (g/dl)=%{x}<br>Percentage of Deaths Due to Alcohol=%{y}<extra></extra>",
                  "hovertext": [
                    "Tonga"
                  ],
                  "legendgroup": "Tonga",
                  "marker": {
                    "color": "#B6E880",
                    "line": {
                      "width": 1
                    },
                    "opacity": 0.7,
                    "sizemode": "diameter",
                    "symbol": "circle"
                  },
                  "mode": "markers",
                  "name": "Tonga",
                  "orientation": "v",
                  "showlegend": true,
                  "type": "scatter",
                  "x": {
                    "bdata": "uB6F61G4nj8=",
                    "dtype": "f8"
                  },
                  "xaxis": "x",
                  "y": {
                    "bdata": "AAAAAABAU0A=",
                    "dtype": "f8"
                  },
                  "yaxis": "y"
                },
                {
                  "hovertemplate": "<b>%{hovertext}</b><br><br>Country_Name=Cook Islands<br>BAC Limit (g/dl)=%{x}<br>Percentage of Deaths Due to Alcohol=%{y}<extra></extra>",
                  "hovertext": [
                    "Cook Islands"
                  ],
                  "legendgroup": "Cook Islands",
                  "marker": {
                    "color": "#FF97FF",
                    "line": {
                      "width": 1
                    },
                    "opacity": 0.7,
                    "sizemode": "diameter",
                    "symbol": "circle"
                  },
                  "mode": "markers",
                  "name": "Cook Islands",
                  "orientation": "v",
                  "showlegend": true,
                  "type": "scatter",
                  "x": {
                    "bdata": "exSuR+F6tD8=",
                    "dtype": "f8"
                  },
                  "xaxis": "x",
                  "y": {
                    "bdata": "AAAAAACAQ0A=",
                    "dtype": "f8"
                  },
                  "yaxis": "y"
                }
              ],
              "layout": {
                "height": 600,
                "legend": {
                  "title": {
                    "text": "Country"
                  },
                  "tracegroupgap": 0
                },
                "showlegend": true,
                "template": {
                  "data": {
                    "bar": [
                      {
                        "error_x": {
                          "color": "#2a3f5f"
                        },
                        "error_y": {
                          "color": "#2a3f5f"
                        },
                        "marker": {
                          "line": {
                            "color": "#E5ECF6",
                            "width": 0.5
                          },
                          "pattern": {
                            "fillmode": "overlay",
                            "size": 10,
                            "solidity": 0.2
                          }
                        },
                        "type": "bar"
                      }
                    ],
                    "barpolar": [
                      {
                        "marker": {
                          "line": {
                            "color": "#E5ECF6",
                            "width": 0.5
                          },
                          "pattern": {
                            "fillmode": "overlay",
                            "size": 10,
                            "solidity": 0.2
                          }
                        },
                        "type": "barpolar"
                      }
                    ],
                    "carpet": [
                      {
                        "aaxis": {
                          "endlinecolor": "#2a3f5f",
                          "gridcolor": "white",
                          "linecolor": "white",
                          "minorgridcolor": "white",
                          "startlinecolor": "#2a3f5f"
                        },
                        "baxis": {
                          "endlinecolor": "#2a3f5f",
                          "gridcolor": "white",
                          "linecolor": "white",
                          "minorgridcolor": "white",
                          "startlinecolor": "#2a3f5f"
                        },
                        "type": "carpet"
                      }
                    ],
                    "choropleth": [
                      {
                        "colorbar": {
                          "outlinewidth": 0,
                          "ticks": ""
                        },
                        "type": "choropleth"
                      }
                    ],
                    "contour": [
                      {
                        "colorbar": {
                          "outlinewidth": 0,
                          "ticks": ""
                        },
                        "colorscale": [
                          [
                            0,
                            "#0d0887"
                          ],
                          [
                            0.1111111111111111,
                            "#46039f"
                          ],
                          [
                            0.2222222222222222,
                            "#7201a8"
                          ],
                          [
                            0.3333333333333333,
                            "#9c179e"
                          ],
                          [
                            0.4444444444444444,
                            "#bd3786"
                          ],
                          [
                            0.5555555555555556,
                            "#d8576b"
                          ],
                          [
                            0.6666666666666666,
                            "#ed7953"
                          ],
                          [
                            0.7777777777777778,
                            "#fb9f3a"
                          ],
                          [
                            0.8888888888888888,
                            "#fdca26"
                          ],
                          [
                            1,
                            "#f0f921"
                          ]
                        ],
                        "type": "contour"
                      }
                    ],
                    "contourcarpet": [
                      {
                        "colorbar": {
                          "outlinewidth": 0,
                          "ticks": ""
                        },
                        "type": "contourcarpet"
                      }
                    ],
                    "heatmap": [
                      {
                        "colorbar": {
                          "outlinewidth": 0,
                          "ticks": ""
                        },
                        "colorscale": [
                          [
                            0,
                            "#0d0887"
                          ],
                          [
                            0.1111111111111111,
                            "#46039f"
                          ],
                          [
                            0.2222222222222222,
                            "#7201a8"
                          ],
                          [
                            0.3333333333333333,
                            "#9c179e"
                          ],
                          [
                            0.4444444444444444,
                            "#bd3786"
                          ],
                          [
                            0.5555555555555556,
                            "#d8576b"
                          ],
                          [
                            0.6666666666666666,
                            "#ed7953"
                          ],
                          [
                            0.7777777777777778,
                            "#fb9f3a"
                          ],
                          [
                            0.8888888888888888,
                            "#fdca26"
                          ],
                          [
                            1,
                            "#f0f921"
                          ]
                        ],
                        "type": "heatmap"
                      }
                    ],
                    "histogram": [
                      {
                        "marker": {
                          "pattern": {
                            "fillmode": "overlay",
                            "size": 10,
                            "solidity": 0.2
                          }
                        },
                        "type": "histogram"
                      }
                    ],
                    "histogram2d": [
                      {
                        "colorbar": {
                          "outlinewidth": 0,
                          "ticks": ""
                        },
                        "colorscale": [
                          [
                            0,
                            "#0d0887"
                          ],
                          [
                            0.1111111111111111,
                            "#46039f"
                          ],
                          [
                            0.2222222222222222,
                            "#7201a8"
                          ],
                          [
                            0.3333333333333333,
                            "#9c179e"
                          ],
                          [
                            0.4444444444444444,
                            "#bd3786"
                          ],
                          [
                            0.5555555555555556,
                            "#d8576b"
                          ],
                          [
                            0.6666666666666666,
                            "#ed7953"
                          ],
                          [
                            0.7777777777777778,
                            "#fb9f3a"
                          ],
                          [
                            0.8888888888888888,
                            "#fdca26"
                          ],
                          [
                            1,
                            "#f0f921"
                          ]
                        ],
                        "type": "histogram2d"
                      }
                    ],
                    "histogram2dcontour": [
                      {
                        "colorbar": {
                          "outlinewidth": 0,
                          "ticks": ""
                        },
                        "colorscale": [
                          [
                            0,
                            "#0d0887"
                          ],
                          [
                            0.1111111111111111,
                            "#46039f"
                          ],
                          [
                            0.2222222222222222,
                            "#7201a8"
                          ],
                          [
                            0.3333333333333333,
                            "#9c179e"
                          ],
                          [
                            0.4444444444444444,
                            "#bd3786"
                          ],
                          [
                            0.5555555555555556,
                            "#d8576b"
                          ],
                          [
                            0.6666666666666666,
                            "#ed7953"
                          ],
                          [
                            0.7777777777777778,
                            "#fb9f3a"
                          ],
                          [
                            0.8888888888888888,
                            "#fdca26"
                          ],
                          [
                            1,
                            "#f0f921"
                          ]
                        ],
                        "type": "histogram2dcontour"
                      }
                    ],
                    "mesh3d": [
                      {
                        "colorbar": {
                          "outlinewidth": 0,
                          "ticks": ""
                        },
                        "type": "mesh3d"
                      }
                    ],
                    "parcoords": [
                      {
                        "line": {
                          "colorbar": {
                            "outlinewidth": 0,
                            "ticks": ""
                          }
                        },
                        "type": "parcoords"
                      }
                    ],
                    "pie": [
                      {
                        "automargin": true,
                        "type": "pie"
                      }
                    ],
                    "scatter": [
                      {
                        "fillpattern": {
                          "fillmode": "overlay",
                          "size": 10,
                          "solidity": 0.2
                        },
                        "type": "scatter"
                      }
                    ],
                    "scatter3d": [
                      {
                        "line": {
                          "colorbar": {
                            "outlinewidth": 0,
                            "ticks": ""
                          }
                        },
                        "marker": {
                          "colorbar": {
                            "outlinewidth": 0,
                            "ticks": ""
                          }
                        },
                        "type": "scatter3d"
                      }
                    ],
                    "scattercarpet": [
                      {
                        "marker": {
                          "colorbar": {
                            "outlinewidth": 0,
                            "ticks": ""
                          }
                        },
                        "type": "scattercarpet"
                      }
                    ],
                    "scattergeo": [
                      {
                        "marker": {
                          "colorbar": {
                            "outlinewidth": 0,
                            "ticks": ""
                          }
                        },
                        "type": "scattergeo"
                      }
                    ],
                    "scattergl": [
                      {
                        "marker": {
                          "colorbar": {
                            "outlinewidth": 0,
                            "ticks": ""
                          }
                        },
                        "type": "scattergl"
                      }
                    ],
                    "scattermap": [
                      {
                        "marker": {
                          "colorbar": {
                            "outlinewidth": 0,
                            "ticks": ""
                          }
                        },
                        "type": "scattermap"
                      }
                    ],
                    "scattermapbox": [
                      {
                        "marker": {
                          "colorbar": {
                            "outlinewidth": 0,
                            "ticks": ""
                          }
                        },
                        "type": "scattermapbox"
                      }
                    ],
                    "scatterpolar": [
                      {
                        "marker": {
                          "colorbar": {
                            "outlinewidth": 0,
                            "ticks": ""
                          }
                        },
                        "type": "scatterpolar"
                      }
                    ],
                    "scatterpolargl": [
                      {
                        "marker": {
                          "colorbar": {
                            "outlinewidth": 0,
                            "ticks": ""
                          }
                        },
                        "type": "scatterpolargl"
                      }
                    ],
                    "scatterternary": [
                      {
                        "marker": {
                          "colorbar": {
                            "outlinewidth": 0,
                            "ticks": ""
                          }
                        },
                        "type": "scatterternary"
                      }
                    ],
                    "surface": [
                      {
                        "colorbar": {
                          "outlinewidth": 0,
                          "ticks": ""
                        },
                        "colorscale": [
                          [
                            0,
                            "#0d0887"
                          ],
                          [
                            0.1111111111111111,
                            "#46039f"
                          ],
                          [
                            0.2222222222222222,
                            "#7201a8"
                          ],
                          [
                            0.3333333333333333,
                            "#9c179e"
                          ],
                          [
                            0.4444444444444444,
                            "#bd3786"
                          ],
                          [
                            0.5555555555555556,
                            "#d8576b"
                          ],
                          [
                            0.6666666666666666,
                            "#ed7953"
                          ],
                          [
                            0.7777777777777778,
                            "#fb9f3a"
                          ],
                          [
                            0.8888888888888888,
                            "#fdca26"
                          ],
                          [
                            1,
                            "#f0f921"
                          ]
                        ],
                        "type": "surface"
                      }
                    ],
                    "table": [
                      {
                        "cells": {
                          "fill": {
                            "color": "#EBF0F8"
                          },
                          "line": {
                            "color": "white"
                          }
                        },
                        "header": {
                          "fill": {
                            "color": "#C8D4E3"
                          },
                          "line": {
                            "color": "white"
                          }
                        },
                        "type": "table"
                      }
                    ]
                  },
                  "layout": {
                    "annotationdefaults": {
                      "arrowcolor": "#2a3f5f",
                      "arrowhead": 0,
                      "arrowwidth": 1
                    },
                    "autotypenumbers": "strict",
                    "coloraxis": {
                      "colorbar": {
                        "outlinewidth": 0,
                        "ticks": ""
                      }
                    },
                    "colorscale": {
                      "diverging": [
                        [
                          0,
                          "#8e0152"
                        ],
                        [
                          0.1,
                          "#c51b7d"
                        ],
                        [
                          0.2,
                          "#de77ae"
                        ],
                        [
                          0.3,
                          "#f1b6da"
                        ],
                        [
                          0.4,
                          "#fde0ef"
                        ],
                        [
                          0.5,
                          "#f7f7f7"
                        ],
                        [
                          0.6,
                          "#e6f5d0"
                        ],
                        [
                          0.7,
                          "#b8e186"
                        ],
                        [
                          0.8,
                          "#7fbc41"
                        ],
                        [
                          0.9,
                          "#4d9221"
                        ],
                        [
                          1,
                          "#276419"
                        ]
                      ],
                      "sequential": [
                        [
                          0,
                          "#0d0887"
                        ],
                        [
                          0.1111111111111111,
                          "#46039f"
                        ],
                        [
                          0.2222222222222222,
                          "#7201a8"
                        ],
                        [
                          0.3333333333333333,
                          "#9c179e"
                        ],
                        [
                          0.4444444444444444,
                          "#bd3786"
                        ],
                        [
                          0.5555555555555556,
                          "#d8576b"
                        ],
                        [
                          0.6666666666666666,
                          "#ed7953"
                        ],
                        [
                          0.7777777777777778,
                          "#fb9f3a"
                        ],
                        [
                          0.8888888888888888,
                          "#fdca26"
                        ],
                        [
                          1,
                          "#f0f921"
                        ]
                      ],
                      "sequentialminus": [
                        [
                          0,
                          "#0d0887"
                        ],
                        [
                          0.1111111111111111,
                          "#46039f"
                        ],
                        [
                          0.2222222222222222,
                          "#7201a8"
                        ],
                        [
                          0.3333333333333333,
                          "#9c179e"
                        ],
                        [
                          0.4444444444444444,
                          "#bd3786"
                        ],
                        [
                          0.5555555555555556,
                          "#d8576b"
                        ],
                        [
                          0.6666666666666666,
                          "#ed7953"
                        ],
                        [
                          0.7777777777777778,
                          "#fb9f3a"
                        ],
                        [
                          0.8888888888888888,
                          "#fdca26"
                        ],
                        [
                          1,
                          "#f0f921"
                        ]
                      ]
                    },
                    "colorway": [
                      "#636efa",
                      "#EF553B",
                      "#00cc96",
                      "#ab63fa",
                      "#FFA15A",
                      "#19d3f3",
                      "#FF6692",
                      "#B6E880",
                      "#FF97FF",
                      "#FECB52"
                    ],
                    "font": {
                      "color": "#2a3f5f"
                    },
                    "geo": {
                      "bgcolor": "white",
                      "lakecolor": "white",
                      "landcolor": "#E5ECF6",
                      "showlakes": true,
                      "showland": true,
                      "subunitcolor": "white"
                    },
                    "hoverlabel": {
                      "align": "left"
                    },
                    "hovermode": "closest",
                    "mapbox": {
                      "style": "light"
                    },
                    "paper_bgcolor": "white",
                    "plot_bgcolor": "#E5ECF6",
                    "polar": {
                      "angularaxis": {
                        "gridcolor": "white",
                        "linecolor": "white",
                        "ticks": ""
                      },
                      "bgcolor": "#E5ECF6",
                      "radialaxis": {
                        "gridcolor": "white",
                        "linecolor": "white",
                        "ticks": ""
                      }
                    },
                    "scene": {
                      "xaxis": {
                        "backgroundcolor": "#E5ECF6",
                        "gridcolor": "white",
                        "gridwidth": 2,
                        "linecolor": "white",
                        "showbackground": true,
                        "ticks": "",
                        "zerolinecolor": "white"
                      },
                      "yaxis": {
                        "backgroundcolor": "#E5ECF6",
                        "gridcolor": "white",
                        "gridwidth": 2,
                        "linecolor": "white",
                        "showbackground": true,
                        "ticks": "",
                        "zerolinecolor": "white"
                      },
                      "zaxis": {
                        "backgroundcolor": "#E5ECF6",
                        "gridcolor": "white",
                        "gridwidth": 2,
                        "linecolor": "white",
                        "showbackground": true,
                        "ticks": "",
                        "zerolinecolor": "white"
                      }
                    },
                    "shapedefaults": {
                      "line": {
                        "color": "#2a3f5f"
                      }
                    },
                    "ternary": {
                      "aaxis": {
                        "gridcolor": "white",
                        "linecolor": "white",
                        "ticks": ""
                      },
                      "baxis": {
                        "gridcolor": "white",
                        "linecolor": "white",
                        "ticks": ""
                      },
                      "bgcolor": "#E5ECF6",
                      "caxis": {
                        "gridcolor": "white",
                        "linecolor": "white",
                        "ticks": ""
                      }
                    },
                    "title": {
                      "x": 0.05
                    },
                    "xaxis": {
                      "automargin": true,
                      "gridcolor": "white",
                      "linecolor": "white",
                      "ticks": "",
                      "title": {
                        "standoff": 15
                      },
                      "zerolinecolor": "white",
                      "zerolinewidth": 2
                    },
                    "yaxis": {
                      "automargin": true,
                      "gridcolor": "white",
                      "linecolor": "white",
                      "ticks": "",
                      "title": {
                        "standoff": 15
                      },
                      "zerolinecolor": "white",
                      "zerolinewidth": 2
                    }
                  }
                },
                "title": {
                  "text": "Bubble Chart: BAC Limit vs % Deaths Due to Alcohol",
                  "x": 0.5
                },
                "xaxis": {
                  "anchor": "y",
                  "domain": [
                    0,
                    1
                  ],
                  "title": {
                    "text": "BAC Limit (g/dl)"
                  }
                },
                "yaxis": {
                  "anchor": "x",
                  "domain": [
                    0,
                    1
                  ],
                  "title": {
                    "text": "Percentage of Deaths Due to Alcohol"
                  }
                }
              }
            }
          },
          "metadata": {},
          "output_type": "display_data"
        },
        {
          "data": {
            "application/vnd.plotly.v1+json": {
              "config": {
                "plotlyServerURL": "https://plot.ly"
              },
              "data": [
                {
                  "hovertemplate": "<b>%{hovertext}</b><br><br>Country_Name=China<br>BAC Limit (g/dl)=%{x}<br>Percentage of Deaths Due to Alcohol=%{y}<br>Scaled Deaths=%{marker.size}<extra></extra>",
                  "hovertext": [
                    "China"
                  ],
                  "legendgroup": "China",
                  "marker": {
                    "color": "#636efa",
                    "line": {
                      "width": 1
                    },
                    "opacity": 0.7,
                    "size": {
                      "bdata": "ukkMAisDb0A=",
                      "dtype": "f8"
                    },
                    "sizemode": "diameter",
                    "sizeref": 0.27566555555555555,
                    "symbol": "circle"
                  },
                  "mode": "markers",
                  "name": "China",
                  "orientation": "v",
                  "showlegend": true,
                  "type": "scatter",
                  "x": {
                    "bdata": "exSuR+F6lD8=",
                    "dtype": "f8"
                  },
                  "xaxis": "x",
                  "y": {
                    "bdata": "mpmZmZmZ2T8=",
                    "dtype": "f8"
                  },
                  "yaxis": "y"
                },
                {
                  "hovertemplate": "<b>%{hovertext}</b><br><br>Country_Name=India<br>BAC Limit (g/dl)=%{x}<br>Percentage of Deaths Due to Alcohol=%{y}<br>Scaled Deaths=%{marker.size}<extra></extra>",
                  "hovertext": [
                    "India"
                  ],
                  "legendgroup": "India",
                  "marker": {
                    "color": "#EF553B",
                    "line": {
                      "width": 1
                    },
                    "opacity": 0.7,
                    "size": {
                      "bdata": "+FPjpZu8aUA=",
                      "dtype": "f8"
                    },
                    "sizemode": "diameter",
                    "sizeref": 0.27566555555555555,
                    "symbol": "circle"
                  },
                  "mode": "markers",
                  "name": "India",
                  "orientation": "v",
                  "showlegend": true,
                  "type": "scatter",
                  "x": {
                    "bdata": "uB6F61G4nj8=",
                    "dtype": "f8"
                  },
                  "xaxis": "x",
                  "y": {
                    "bdata": "ZmZmZmZmEEA=",
                    "dtype": "f8"
                  },
                  "yaxis": "y"
                },
                {
                  "hovertemplate": "<b>%{hovertext}</b><br><br>Country_Name=United States of America<br>BAC Limit (g/dl)=%{x}<br>Percentage of Deaths Due to Alcohol=%{y}<br>Scaled Deaths=%{marker.size}<extra></extra>",
                  "hovertext": [
                    "United States of America"
                  ],
                  "legendgroup": "United States of America",
                  "marker": {
                    "color": "#00cc96",
                    "line": {
                      "width": 1
                    },
                    "opacity": 0.7,
                    "size": {
                      "bdata": "AAAAAADgR0A=",
                      "dtype": "f8"
                    },
                    "sizemode": "diameter",
                    "sizeref": 0.27566555555555555,
                    "symbol": "circle"
                  },
                  "mode": "markers",
                  "name": "United States of America",
                  "orientation": "v",
                  "showlegend": true,
                  "type": "scatter",
                  "x": {
                    "bdata": "exSuR+F6tD8=",
                    "dtype": "f8"
                  },
                  "xaxis": "x",
                  "y": {
                    "bdata": "AAAAAAAAPUA=",
                    "dtype": "f8"
                  },
                  "yaxis": "y"
                },
                {
                  "hovertemplate": "<b>%{hovertext}</b><br><br>Country_Name=Nigeria<br>BAC Limit (g/dl)=%{x}<br>Percentage of Deaths Due to Alcohol=%{y}<br>Scaled Deaths=%{marker.size}<extra></extra>",
                  "hovertext": [
                    "Nigeria"
                  ],
                  "legendgroup": "Nigeria",
                  "marker": {
                    "color": "#ab63fa",
                    "line": {
                      "width": 1
                    },
                    "opacity": 0.7,
                    "size": {
                      "bdata": "I9v5fmpcQkA=",
                      "dtype": "f8"
                    },
                    "sizemode": "diameter",
                    "sizeref": 0.27566555555555555,
                    "symbol": "circle"
                  },
                  "mode": "markers",
                  "name": "Nigeria",
                  "orientation": "v",
                  "showlegend": true,
                  "type": "scatter",
                  "x": {
                    "bdata": "OrTIdr6fmj8=",
                    "dtype": "f8"
                  },
                  "xaxis": "x",
                  "y": {
                    "bdata": "AAAAAAAA4D8=",
                    "dtype": "f8"
                  },
                  "yaxis": "y"
                },
                {
                  "hovertemplate": "<b>%{hovertext}</b><br><br>Country_Name=Ethiopia<br>BAC Limit (g/dl)=%{x}<br>Percentage of Deaths Due to Alcohol=%{y}<br>Scaled Deaths=%{marker.size}<extra></extra>",
                  "hovertext": [
                    "Ethiopia"
                  ],
                  "legendgroup": "Ethiopia",
                  "marker": {
                    "color": "#FFA15A",
                    "line": {
                      "width": 1
                    },
                    "opacity": 0.7,
                    "size": {
                      "bdata": "NV66SQxCNUA=",
                      "dtype": "f8"
                    },
                    "sizemode": "diameter",
                    "sizeref": 0.27566555555555555,
                    "symbol": "circle"
                  },
                  "mode": "markers",
                  "name": "Ethiopia",
                  "orientation": "v",
                  "showlegend": true,
                  "type": "scatter",
                  "x": {
                    "bdata": "exSuR+F6tD8=",
                    "dtype": "f8"
                  },
                  "xaxis": "x",
                  "y": {
                    "bdata": "MzMzMzMzEUA=",
                    "dtype": "f8"
                  },
                  "yaxis": "y"
                },
                {
                  "hovertemplate": "<b>%{hovertext}</b><br><br>Country_Name=Thailand<br>BAC Limit (g/dl)=%{x}<br>Percentage of Deaths Due to Alcohol=%{y}<br>Scaled Deaths=%{marker.size}<extra></extra>",
                  "hovertext": [
                    "Thailand"
                  ],
                  "legendgroup": "Thailand",
                  "marker": {
                    "color": "#19d3f3",
                    "line": {
                      "width": 1
                    },
                    "opacity": 0.7,
                    "size": {
                      "bdata": "K4cW2c43MkA=",
                      "dtype": "f8"
                    },
                    "sizemode": "diameter",
                    "sizeref": 0.27566555555555555,
                    "symbol": "circle"
                  },
                  "mode": "markers",
                  "name": "Thailand",
                  "orientation": "v",
                  "showlegend": true,
                  "type": "scatter",
                  "x": {
                    "bdata": "7FG4HoXroT8=",
                    "dtype": "f8"
                  },
                  "xaxis": "x",
                  "y": {
                    "bdata": "MzMzMzMzLEA=",
                    "dtype": "f8"
                  },
                  "yaxis": "y"
                },
                {
                  "hovertemplate": "<b>%{hovertext}</b><br><br>Country_Name=Russian Federation<br>BAC Limit (g/dl)=%{x}<br>Percentage of Deaths Due to Alcohol=%{y}<br>Scaled Deaths=%{marker.size}<extra></extra>",
                  "hovertext": [
                    "Russian Federation"
                  ],
                  "legendgroup": "Russian Federation",
                  "marker": {
                    "color": "#FF6692",
                    "line": {
                      "width": 1
                    },
                    "opacity": 0.7,
                    "size": {
                      "bdata": "7FG4HoWrLkA=",
                      "dtype": "f8"
                    },
                    "sizemode": "diameter",
                    "sizeref": 0.27566555555555555,
                    "symbol": "circle"
                  },
                  "mode": "markers",
                  "name": "Russian Federation",
                  "orientation": "v",
                  "showlegend": true,
                  "type": "scatter",
                  "x": {
                    "bdata": "uB6F61G4nj8=",
                    "dtype": "f8"
                  },
                  "xaxis": "x",
                  "y": {
                    "bdata": "ZmZmZmbmNkA=",
                    "dtype": "f8"
                  },
                  "yaxis": "y"
                },
                {
                  "hovertemplate": "<b>%{hovertext}</b><br><br>Country_Name=South Africa<br>BAC Limit (g/dl)=%{x}<br>Percentage of Deaths Due to Alcohol=%{y}<br>Scaled Deaths=%{marker.size}<extra></extra>",
                  "hovertext": [
                    "South Africa"
                  ],
                  "legendgroup": "South Africa",
                  "marker": {
                    "color": "#B6E880",
                    "line": {
                      "width": 1
                    },
                    "opacity": 0.7,
                    "size": {
                      "bdata": "dZMYBFYOLUA=",
                      "dtype": "f8"
                    },
                    "sizemode": "diameter",
                    "sizeref": 0.27566555555555555,
                    "symbol": "circle"
                  },
                  "mode": "markers",
                  "name": "South Africa",
                  "orientation": "v",
                  "showlegend": true,
                  "type": "scatter",
                  "x": {
                    "bdata": "mpmZmZmZqT8=",
                    "dtype": "f8"
                  },
                  "xaxis": "x",
                  "y": {
                    "bdata": "AAAAAADATEA=",
                    "dtype": "f8"
                  },
                  "yaxis": "y"
                },
                {
                  "hovertemplate": "<b>%{hovertext}</b><br><br>Country_Name=United Republic of Tanzania<br>BAC Limit (g/dl)=%{x}<br>Percentage of Deaths Due to Alcohol=%{y}<br>Scaled Deaths=%{marker.size}<extra></extra>",
                  "hovertext": [
                    "United Republic of Tanzania"
                  ],
                  "legendgroup": "United Republic of Tanzania",
                  "marker": {
                    "color": "#FF97FF",
                    "line": {
                      "width": 1
                    },
                    "opacity": 0.7,
                    "size": {
                      "bdata": "tMh2vp8aJEA=",
                      "dtype": "f8"
                    },
                    "sizemode": "diameter",
                    "sizeref": 0.27566555555555555,
                    "symbol": "circle"
                  },
                  "mode": "markers",
                  "name": "United Republic of Tanzania",
                  "orientation": "v",
                  "showlegend": true,
                  "type": "scatter",
                  "x": {
                    "bdata": "exSuR+F6tD8=",
                    "dtype": "f8"
                  },
                  "xaxis": "x",
                  "y": {
                    "bdata": "AAAAAAAA8D8=",
                    "dtype": "f8"
                  },
                  "yaxis": "y"
                },
                {
                  "hovertemplate": "<b>%{hovertext}</b><br><br>Country_Name=Uganda<br>BAC Limit (g/dl)=%{x}<br>Percentage of Deaths Due to Alcohol=%{y}<br>Scaled Deaths=%{marker.size}<extra></extra>",
                  "hovertext": [
                    "Uganda"
                  ],
                  "legendgroup": "Uganda",
                  "marker": {
                    "color": "#FECB52",
                    "line": {
                      "width": 1
                    },
                    "opacity": 0.7,
                    "size": {
                      "bdata": "w/UoXI9CHUA=",
                      "dtype": "f8"
                    },
                    "sizemode": "diameter",
                    "sizeref": 0.27566555555555555,
                    "symbol": "circle"
                  },
                  "mode": "markers",
                  "name": "Uganda",
                  "orientation": "v",
                  "showlegend": true,
                  "type": "scatter",
                  "x": {
                    "bdata": "exSuR+F6tD8=",
                    "dtype": "f8"
                  },
                  "xaxis": "x",
                  "y": {
                    "bdata": "mpmZmZmZ6T8=",
                    "dtype": "f8"
                  },
                  "yaxis": "y"
                },
                {
                  "hovertemplate": "<b>%{hovertext}</b><br><br>Country_Name=Morocco<br>BAC Limit (g/dl)=%{x}<br>Percentage of Deaths Due to Alcohol=%{y}<br>Scaled Deaths=%{marker.size}<extra></extra>",
                  "hovertext": [
                    "Morocco"
                  ],
                  "legendgroup": "Morocco",
                  "marker": {
                    "color": "#636efa",
                    "line": {
                      "width": 1
                    },
                    "opacity": 0.7,
                    "size": {
                      "bdata": "mpmZmZmZG0A=",
                      "dtype": "f8"
                    },
                    "sizemode": "diameter",
                    "sizeref": 0.27566555555555555,
                    "symbol": "circle"
                  },
                  "mode": "markers",
                  "name": "Morocco",
                  "orientation": "v",
                  "showlegend": true,
                  "type": "scatter",
                  "x": {
                    "bdata": "exSuR+F6lD8=",
                    "dtype": "f8"
                  },
                  "xaxis": "x",
                  "y": {
                    "bdata": "mpmZmZmZDUA=",
                    "dtype": "f8"
                  },
                  "yaxis": "y"
                },
                {
                  "hovertemplate": "<b>%{hovertext}</b><br><br>Country_Name=Türkiye<br>BAC Limit (g/dl)=%{x}<br>Percentage of Deaths Due to Alcohol=%{y}<br>Scaled Deaths=%{marker.size}<extra></extra>",
                  "hovertext": [
                    "Türkiye"
                  ],
                  "legendgroup": "Türkiye",
                  "marker": {
                    "color": "#EF553B",
                    "line": {
                      "width": 1
                    },
                    "opacity": 0.7,
                    "size": {
                      "bdata": "6SYxCKwcFkA=",
                      "dtype": "f8"
                    },
                    "sizemode": "diameter",
                    "sizeref": 0.27566555555555555,
                    "symbol": "circle"
                  },
                  "mode": "markers",
                  "name": "Türkiye",
                  "orientation": "v",
                  "showlegend": true,
                  "type": "scatter",
                  "x": {
                    "bdata": "mpmZmZmZqT8=",
                    "dtype": "f8"
                  },
                  "xaxis": "x",
                  "y": {
                    "bdata": "ZmZmZmZmCkA=",
                    "dtype": "f8"
                  },
                  "yaxis": "y"
                },
                {
                  "hovertemplate": "<b>%{hovertext}</b><br><br>Country_Name=Malaysia<br>BAC Limit (g/dl)=%{x}<br>Percentage of Deaths Due to Alcohol=%{y}<br>Scaled Deaths=%{marker.size}<extra></extra>",
                  "hovertext": [
                    "Malaysia"
                  ],
                  "legendgroup": "Malaysia",
                  "marker": {
                    "color": "#00cc96",
                    "line": {
                      "width": 1
                    },
                    "opacity": 0.7,
                    "size": {
                      "bdata": "uB6F61G4EkA=",
                      "dtype": "f8"
                    },
                    "sizemode": "diameter",
                    "sizeref": 0.27566555555555555,
                    "symbol": "circle"
                  },
                  "mode": "markers",
                  "name": "Malaysia",
                  "orientation": "v",
                  "showlegend": true,
                  "type": "scatter",
                  "x": {
                    "bdata": "exSuR+F6tD8=",
                    "dtype": "f8"
                  },
                  "xaxis": "x",
                  "y": {
                    "bdata": "mpmZmZmZuT8=",
                    "dtype": "f8"
                  },
                  "yaxis": "y"
                },
                {
                  "hovertemplate": "<b>%{hovertext}</b><br><br>Country_Name=Ukraine<br>BAC Limit (g/dl)=%{x}<br>Percentage of Deaths Due to Alcohol=%{y}<br>Scaled Deaths=%{marker.size}<extra></extra>",
                  "hovertext": [
                    "Ukraine"
                  ],
                  "legendgroup": "Ukraine",
                  "marker": {
                    "color": "#ab63fa",
                    "line": {
                      "width": 1
                    },
                    "opacity": 0.7,
                    "size": {
                      "bdata": "CKwcWmQ7EkA=",
                      "dtype": "f8"
                    },
                    "sizemode": "diameter",
                    "sizeref": 0.27566555555555555,
                    "symbol": "circle"
                  },
                  "mode": "markers",
                  "name": "Ukraine",
                  "orientation": "v",
                  "showlegend": true,
                  "type": "scatter",
                  "x": {
                    "bdata": "exSuR+F6lD8=",
                    "dtype": "f8"
                  },
                  "xaxis": "x",
                  "y": {
                    "bdata": "zczMzMzMGkA=",
                    "dtype": "f8"
                  },
                  "yaxis": "y"
                },
                {
                  "hovertemplate": "<b>%{hovertext}</b><br><br>Country_Name=Mali<br>BAC Limit (g/dl)=%{x}<br>Percentage of Deaths Due to Alcohol=%{y}<br>Scaled Deaths=%{marker.size}<extra></extra>",
                  "hovertext": [
                    "Mali"
                  ],
                  "legendgroup": "Mali",
                  "marker": {
                    "color": "#FFA15A",
                    "line": {
                      "width": 1
                    },
                    "opacity": 0.7,
                    "size": {
                      "bdata": "nu+nxku3EUA=",
                      "dtype": "f8"
                    },
                    "sizemode": "diameter",
                    "sizeref": 0.27566555555555555,
                    "symbol": "circle"
                  },
                  "mode": "markers",
                  "name": "Mali",
                  "orientation": "v",
                  "showlegend": true,
                  "type": "scatter",
                  "x": {
                    "bdata": "uB6F61G4nj8=",
                    "dtype": "f8"
                  },
                  "xaxis": "x",
                  "y": {
                    "bdata": "mpmZmZmZ2T8=",
                    "dtype": "f8"
                  },
                  "yaxis": "y"
                },
                {
                  "hovertemplate": "<b>%{hovertext}</b><br><br>Country_Name=Peru<br>BAC Limit (g/dl)=%{x}<br>Percentage of Deaths Due to Alcohol=%{y}<br>Scaled Deaths=%{marker.size}<extra></extra>",
                  "hovertext": [
                    "Peru"
                  ],
                  "legendgroup": "Peru",
                  "marker": {
                    "color": "#19d3f3",
                    "line": {
                      "width": 1
                    },
                    "opacity": 0.7,
                    "size": {
                      "bdata": "iUFg5dAiEUA=",
                      "dtype": "f8"
                    },
                    "sizemode": "diameter",
                    "sizeref": 0.27566555555555555,
                    "symbol": "circle"
                  },
                  "mode": "markers",
                  "name": "Peru",
                  "orientation": "v",
                  "showlegend": true,
                  "type": "scatter",
                  "x": {
                    "bdata": "mpmZmZmZqT8=",
                    "dtype": "f8"
                  },
                  "xaxis": "x",
                  "y": {
                    "bdata": "mpmZmZmZIkA=",
                    "dtype": "f8"
                  },
                  "yaxis": "y"
                },
                {
                  "hovertemplate": "<b>%{hovertext}</b><br><br>Country_Name=Ecuador<br>BAC Limit (g/dl)=%{x}<br>Percentage of Deaths Due to Alcohol=%{y}<br>Scaled Deaths=%{marker.size}<extra></extra>",
                  "hovertext": [
                    "Ecuador"
                  ],
                  "legendgroup": "Ecuador",
                  "marker": {
                    "color": "#FF6692",
                    "line": {
                      "width": 1
                    },
                    "opacity": 0.7,
                    "size": {
                      "bdata": "/tR46SaxEEA=",
                      "dtype": "f8"
                    },
                    "sizemode": "diameter",
                    "sizeref": 0.27566555555555555,
                    "symbol": "circle"
                  },
                  "mode": "markers",
                  "name": "Ecuador",
                  "orientation": "v",
                  "showlegend": true,
                  "type": "scatter",
                  "x": {
                    "bdata": "uB6F61G4nj8=",
                    "dtype": "f8"
                  },
                  "xaxis": "x",
                  "y": {
                    "bdata": "MzMzMzMzG0A=",
                    "dtype": "f8"
                  },
                  "yaxis": "y"
                },
                {
                  "hovertemplate": "<b>%{hovertext}</b><br><br>Country_Name=Argentina<br>BAC Limit (g/dl)=%{x}<br>Percentage of Deaths Due to Alcohol=%{y}<br>Scaled Deaths=%{marker.size}<extra></extra>",
                  "hovertext": [
                    "Argentina"
                  ],
                  "legendgroup": "Argentina",
                  "marker": {
                    "color": "#B6E880",
                    "line": {
                      "width": 1
                    },
                    "opacity": 0.7,
                    "size": {
                      "bdata": "d76fGi/dD0A=",
                      "dtype": "f8"
                    },
                    "sizemode": "diameter",
                    "sizeref": 0.27566555555555555,
                    "symbol": "circle"
                  },
                  "mode": "markers",
                  "name": "Argentina",
                  "orientation": "v",
                  "showlegend": true,
                  "type": "scatter",
                  "x": {
                    "bdata": "mpmZmZmZqT8=",
                    "dtype": "f8"
                  },
                  "xaxis": "x",
                  "y": {
                    "bdata": "AAAAAAAAMUA=",
                    "dtype": "f8"
                  },
                  "yaxis": "y"
                },
                {
                  "hovertemplate": "<b>%{hovertext}</b><br><br>Country_Name=Republic of Korea<br>BAC Limit (g/dl)=%{x}<br>Percentage of Deaths Due to Alcohol=%{y}<br>Scaled Deaths=%{marker.size}<extra></extra>",
                  "hovertext": [
                    "Republic of Korea"
                  ],
                  "legendgroup": "Republic of Korea",
                  "marker": {
                    "color": "#FF97FF",
                    "line": {
                      "width": 1
                    },
                    "opacity": 0.7,
                    "size": {
                      "bdata": "j8L1KFyPDEA=",
                      "dtype": "f8"
                    },
                    "sizemode": "diameter",
                    "sizeref": 0.27566555555555555,
                    "symbol": "circle"
                  },
                  "mode": "markers",
                  "name": "Republic of Korea",
                  "orientation": "v",
                  "showlegend": true,
                  "type": "scatter",
                  "x": {
                    "bdata": "mpmZmZmZqT8=",
                    "dtype": "f8"
                  },
                  "xaxis": "x",
                  "y": {
                    "bdata": "ZmZmZmZmJkA=",
                    "dtype": "f8"
                  },
                  "yaxis": "y"
                },
                {
                  "hovertemplate": "<b>%{hovertext}</b><br><br>Country_Name=Japan<br>BAC Limit (g/dl)=%{x}<br>Percentage of Deaths Due to Alcohol=%{y}<br>Scaled Deaths=%{marker.size}<extra></extra>",
                  "hovertext": [
                    "Japan"
                  ],
                  "legendgroup": "Japan",
                  "marker": {
                    "color": "#FECB52",
                    "line": {
                      "width": 1
                    },
                    "opacity": 0.7,
                    "size": {
                      "bdata": "O99PjZduCkA=",
                      "dtype": "f8"
                    },
                    "sizemode": "diameter",
                    "sizeref": 0.27566555555555555,
                    "symbol": "circle"
                  },
                  "mode": "markers",
                  "name": "Japan",
                  "orientation": "v",
                  "showlegend": true,
                  "type": "scatter",
                  "x": {
                    "bdata": "uB6F61G4nj8=",
                    "dtype": "f8"
                  },
                  "xaxis": "x",
                  "y": {
                    "bdata": "ZmZmZmZmFkA=",
                    "dtype": "f8"
                  },
                  "yaxis": "y"
                },
                {
                  "hovertemplate": "<b>%{hovertext}</b><br><br>Country_Name=Cambodia<br>BAC Limit (g/dl)=%{x}<br>Percentage of Deaths Due to Alcohol=%{y}<br>Scaled Deaths=%{marker.size}<extra></extra>",
                  "hovertext": [
                    "Cambodia"
                  ],
                  "legendgroup": "Cambodia",
                  "marker": {
                    "color": "#636efa",
                    "line": {
                      "width": 1
                    },
                    "opacity": 0.7,
                    "size": {
                      "bdata": "gZVDi2znCEA=",
                      "dtype": "f8"
                    },
                    "sizemode": "diameter",
                    "sizeref": 0.27566555555555555,
                    "symbol": "circle"
                  },
                  "mode": "markers",
                  "name": "Cambodia",
                  "orientation": "v",
                  "showlegend": true,
                  "type": "scatter",
                  "x": {
                    "bdata": "mpmZmZmZqT8=",
                    "dtype": "f8"
                  },
                  "xaxis": "x",
                  "y": {
                    "bdata": "AAAAAAAAKkA=",
                    "dtype": "f8"
                  },
                  "yaxis": "y"
                },
                {
                  "hovertemplate": "<b>%{hovertext}</b><br><br>Country_Name=France<br>BAC Limit (g/dl)=%{x}<br>Percentage of Deaths Due to Alcohol=%{y}<br>Scaled Deaths=%{marker.size}<extra></extra>",
                  "hovertext": [
                    "France"
                  ],
                  "legendgroup": "France",
                  "marker": {
                    "color": "#EF553B",
                    "line": {
                      "width": 1
                    },
                    "opacity": 0.7,
                    "size": {
                      "bdata": "SOF6FK5HCEA=",
                      "dtype": "f8"
                    },
                    "sizemode": "diameter",
                    "sizeref": 0.27566555555555555,
                    "symbol": "circle"
                  },
                  "mode": "markers",
                  "name": "France",
                  "orientation": "v",
                  "showlegend": true,
                  "type": "scatter",
                  "x": {
                    "bdata": "7FG4HoXroT8=",
                    "dtype": "f8"
                  },
                  "xaxis": "x",
                  "y": {
                    "bdata": "AAAAAAAAPUA=",
                    "dtype": "f8"
                  },
                  "yaxis": "y"
                },
                {
                  "hovertemplate": "<b>%{hovertext}</b><br><br>Country_Name=Italy<br>BAC Limit (g/dl)=%{x}<br>Percentage of Deaths Due to Alcohol=%{y}<br>Scaled Deaths=%{marker.size}<extra></extra>",
                  "hovertext": [
                    "Italy"
                  ],
                  "legendgroup": "Italy",
                  "marker": {
                    "color": "#00cc96",
                    "line": {
                      "width": 1
                    },
                    "opacity": 0.7,
                    "size": {
                      "bdata": "g8DKoUW2B0A=",
                      "dtype": "f8"
                    },
                    "sizemode": "diameter",
                    "sizeref": 0.27566555555555555,
                    "symbol": "circle"
                  },
                  "mode": "markers",
                  "name": "Italy",
                  "orientation": "v",
                  "showlegend": true,
                  "type": "scatter",
                  "x": {
                    "bdata": "mpmZmZmZmT8=",
                    "dtype": "f8"
                  },
                  "xaxis": "x",
                  "y": {
                    "bdata": "AAAAAAAANEA=",
                    "dtype": "f8"
                  },
                  "yaxis": "y"
                },
                {
                  "hovertemplate": "<b>%{hovertext}</b><br><br>Country_Name=Germany<br>BAC Limit (g/dl)=%{x}<br>Percentage of Deaths Due to Alcohol=%{y}<br>Scaled Deaths=%{marker.size}<extra></extra>",
                  "hovertext": [
                    "Germany"
                  ],
                  "legendgroup": "Germany",
                  "marker": {
                    "color": "#ab63fa",
                    "line": {
                      "width": 1
                    },
                    "opacity": 0.7,
                    "size": {
                      "bdata": "001iEFg5BkA=",
                      "dtype": "f8"
                    },
                    "sizemode": "diameter",
                    "sizeref": 0.27566555555555555,
                    "symbol": "circle"
                  },
                  "mode": "markers",
                  "name": "Germany",
                  "orientation": "v",
                  "showlegend": true,
                  "type": "scatter",
                  "x": {
                    "bdata": "mpmZmZmZmT8=",
                    "dtype": "f8"
                  },
                  "xaxis": "x",
                  "y": {
                    "bdata": "AAAAAAAAHEA=",
                    "dtype": "f8"
                  },
                  "yaxis": "y"
                },
                {
                  "hovertemplate": "<b>%{hovertext}</b><br><br>Country_Name=Poland<br>BAC Limit (g/dl)=%{x}<br>Percentage of Deaths Due to Alcohol=%{y}<br>Scaled Deaths=%{marker.size}<extra></extra>",
                  "hovertext": [
                    "Poland"
                  ],
                  "legendgroup": "Poland",
                  "marker": {
                    "color": "#FFA15A",
                    "line": {
                      "width": 1
                    },
                    "opacity": 0.7,
                    "size": {
                      "bdata": "mG4Sg8DKA0A=",
                      "dtype": "f8"
                    },
                    "sizemode": "diameter",
                    "sizeref": 0.27566555555555555,
                    "symbol": "circle"
                  },
                  "mode": "markers",
                  "name": "Poland",
                  "orientation": "v",
                  "showlegend": true,
                  "type": "scatter",
                  "x": {
                    "bdata": "exSuR+F6lD8=",
                    "dtype": "f8"
                  },
                  "xaxis": "x",
                  "y": {
                    "bdata": "ZmZmZmZmKUA=",
                    "dtype": "f8"
                  },
                  "yaxis": "y"
                },
                {
                  "hovertemplate": "<b>%{hovertext}</b><br><br>Country_Name=Kazakhstan<br>BAC Limit (g/dl)=%{x}<br>Percentage of Deaths Due to Alcohol=%{y}<br>Scaled Deaths=%{marker.size}<extra></extra>",
                  "hovertext": [
                    "Kazakhstan"
                  ],
                  "legendgroup": "Kazakhstan",
                  "marker": {
                    "color": "#19d3f3",
                    "line": {
                      "width": 1
                    },
                    "opacity": 0.7,
                    "size": {
                      "bdata": "uB6F61G4AkA=",
                      "dtype": "f8"
                    },
                    "sizemode": "diameter",
                    "sizeref": 0.27566555555555555,
                    "symbol": "circle"
                  },
                  "mode": "markers",
                  "name": "Kazakhstan",
                  "orientation": "v",
                  "showlegend": true,
                  "type": "scatter",
                  "x": {
                    "bdata": "mpmZmZmZqT8=",
                    "dtype": "f8"
                  },
                  "xaxis": "x",
                  "y": {
                    "bdata": "MzMzMzMz0z8=",
                    "dtype": "f8"
                  },
                  "yaxis": "y"
                },
                {
                  "hovertemplate": "<b>%{hovertext}</b><br><br>Country_Name=Bolivia (Plurinational State of)<br>BAC Limit (g/dl)=%{x}<br>Percentage of Deaths Due to Alcohol=%{y}<br>Scaled Deaths=%{marker.size}<extra></extra>",
                  "hovertext": [
                    "Bolivia (Plurinational State of)"
                  ],
                  "legendgroup": "Bolivia (Plurinational State of)",
                  "marker": {
                    "color": "#FF6692",
                    "line": {
                      "width": 1
                    },
                    "opacity": 0.7,
                    "size": {
                      "bdata": "arx0kxgEAUA=",
                      "dtype": "f8"
                    },
                    "sizemode": "diameter",
                    "sizeref": 0.27566555555555555,
                    "symbol": "circle"
                  },
                  "mode": "markers",
                  "name": "Bolivia (Plurinational State of)",
                  "orientation": "v",
                  "showlegend": true,
                  "type": "scatter",
                  "x": {
                    "bdata": "mpmZmZmZqT8=",
                    "dtype": "f8"
                  },
                  "xaxis": "x",
                  "y": {
                    "bdata": "mpmZmZmZGUA=",
                    "dtype": "f8"
                  },
                  "yaxis": "y"
                },
                {
                  "hovertemplate": "<b>%{hovertext}</b><br><br>Country_Name=Chile<br>BAC Limit (g/dl)=%{x}<br>Percentage of Deaths Due to Alcohol=%{y}<br>Scaled Deaths=%{marker.size}<extra></extra>",
                  "hovertext": [
                    "Chile"
                  ],
                  "legendgroup": "Chile",
                  "marker": {
                    "color": "#B6E880",
                    "line": {
                      "width": 1
                    },
                    "opacity": 0.7,
                    "size": {
                      "bdata": "30+Nl24SAEA=",
                      "dtype": "f8"
                    },
                    "sizemode": "diameter",
                    "sizeref": 0.27566555555555555,
                    "symbol": "circle"
                  },
                  "mode": "markers",
                  "name": "Chile",
                  "orientation": "v",
                  "showlegend": true,
                  "type": "scatter",
                  "x": {
                    "bdata": "uB6F61G4nj8=",
                    "dtype": "f8"
                  },
                  "xaxis": "x",
                  "y": {
                    "bdata": "AAAAAAAAKkA=",
                    "dtype": "f8"
                  },
                  "yaxis": "y"
                },
                {
                  "hovertemplate": "<b>%{hovertext}</b><br><br>Country_Name=Tunisia<br>BAC Limit (g/dl)=%{x}<br>Percentage of Deaths Due to Alcohol=%{y}<br>Scaled Deaths=%{marker.size}<extra></extra>",
                  "hovertext": [
                    "Tunisia"
                  ],
                  "legendgroup": "Tunisia",
                  "marker": {
                    "color": "#FF97FF",
                    "line": {
                      "width": 1
                    },
                    "opacity": 0.7,
                    "size": {
                      "bdata": "1XjpJjEIAEA=",
                      "dtype": "f8"
                    },
                    "sizemode": "diameter",
                    "sizeref": 0.27566555555555555,
                    "symbol": "circle"
                  },
                  "mode": "markers",
                  "name": "Tunisia",
                  "orientation": "v",
                  "showlegend": true,
                  "type": "scatter",
                  "x": {
                    "bdata": "uB6F61G4jj8=",
                    "dtype": "f8"
                  },
                  "xaxis": "x",
                  "y": {
                    "bdata": "mpmZmZmZ+T8=",
                    "dtype": "f8"
                  },
                  "yaxis": "y"
                },
                {
                  "hovertemplate": "<b>%{hovertext}</b><br><br>Country_Name=Honduras<br>BAC Limit (g/dl)=%{x}<br>Percentage of Deaths Due to Alcohol=%{y}<br>Scaled Deaths=%{marker.size}<extra></extra>",
                  "hovertext": [
                    "Honduras"
                  ],
                  "legendgroup": "Honduras",
                  "marker": {
                    "color": "#FECB52",
                    "line": {
                      "width": 1
                    },
                    "opacity": 0.7,
                    "size": {
                      "bdata": "EFg5tMh2/j8=",
                      "dtype": "f8"
                    },
                    "sizemode": "diameter",
                    "sizeref": 0.27566555555555555,
                    "symbol": "circle"
                  },
                  "mode": "markers",
                  "name": "Honduras",
                  "orientation": "v",
                  "showlegend": true,
                  "type": "scatter",
                  "x": {
                    "bdata": "7FG4HoXrsT8=",
                    "dtype": "f8"
                  },
                  "xaxis": "x",
                  "y": {
                    "bdata": "MzMzMzMzG0A=",
                    "dtype": "f8"
                  },
                  "yaxis": "y"
                },
                {
                  "hovertemplate": "<b>%{hovertext}</b><br><br>Country_Name=Romania<br>BAC Limit (g/dl)=%{x}<br>Percentage of Deaths Due to Alcohol=%{y}<br>Scaled Deaths=%{marker.size}<extra></extra>",
                  "hovertext": [
                    "Romania"
                  ],
                  "legendgroup": "Romania",
                  "marker": {
                    "color": "#636efa",
                    "line": {
                      "width": 1
                    },
                    "opacity": 0.7,
                    "size": {
                      "bdata": "GQRWDi2y/T8=",
                      "dtype": "f8"
                    },
                    "sizemode": "diameter",
                    "sizeref": 0.27566555555555555,
                    "symbol": "circle"
                  },
                  "mode": "markers",
                  "name": "Romania",
                  "orientation": "v",
                  "showlegend": true,
                  "type": "scatter",
                  "x": {
                    "bdata": "exSuR+F6tD8=",
                    "dtype": "f8"
                  },
                  "xaxis": "x",
                  "y": {
                    "bdata": "ZmZmZmZmFkA=",
                    "dtype": "f8"
                  },
                  "yaxis": "y"
                },
                {
                  "hovertemplate": "<b>%{hovertext}</b><br><br>Country_Name=Canada<br>BAC Limit (g/dl)=%{x}<br>Percentage of Deaths Due to Alcohol=%{y}<br>Scaled Deaths=%{marker.size}<extra></extra>",
                  "hovertext": [
                    "Canada"
                  ],
                  "legendgroup": "Canada",
                  "marker": {
                    "color": "#EF553B",
                    "line": {
                      "width": 1
                    },
                    "opacity": 0.7,
                    "size": {
                      "bdata": "4XoUrkfh/D8=",
                      "dtype": "f8"
                    },
                    "sizemode": "diameter",
                    "sizeref": 0.27566555555555555,
                    "symbol": "circle"
                  },
                  "mode": "markers",
                  "name": "Canada",
                  "orientation": "v",
                  "showlegend": true,
                  "type": "scatter",
                  "x": {
                    "bdata": "exSuR+F6tD8=",
                    "dtype": "f8"
                  },
                  "xaxis": "x",
                  "y": {
                    "bdata": "mpmZmZmZPUA=",
                    "dtype": "f8"
                  },
                  "yaxis": "y"
                },
                {
                  "hovertemplate": "<b>%{hovertext}</b><br><br>Country_Name=Spain<br>BAC Limit (g/dl)=%{x}<br>Percentage of Deaths Due to Alcohol=%{y}<br>Scaled Deaths=%{marker.size}<extra></extra>",
                  "hovertext": [
                    "Spain"
                  ],
                  "legendgroup": "Spain",
                  "marker": {
                    "color": "#00cc96",
                    "line": {
                      "width": 1
                    },
                    "opacity": 0.7,
                    "size": {
                      "bdata": "ppvEILBy+j8=",
                      "dtype": "f8"
                    },
                    "sizemode": "diameter",
                    "sizeref": 0.27566555555555555,
                    "symbol": "circle"
                  },
                  "mode": "markers",
                  "name": "Spain",
                  "orientation": "v",
                  "showlegend": true,
                  "type": "scatter",
                  "x": {
                    "bdata": "exSuR+F6pD8=",
                    "dtype": "f8"
                  },
                  "xaxis": "x",
                  "y": {
                    "bdata": "AAAAAAAAMUA=",
                    "dtype": "f8"
                  },
                  "yaxis": "y"
                },
                {
                  "hovertemplate": "<b>%{hovertext}</b><br><br>Country_Name=United Kingdom of Great Britain and Northern Ireland<br>BAC Limit (g/dl)=%{x}<br>Percentage of Deaths Due to Alcohol=%{y}<br>Scaled Deaths=%{marker.size}<extra></extra>",
                  "hovertext": [
                    "United Kingdom of Great Britain and Northern Ireland"
                  ],
                  "legendgroup": "United Kingdom of Great Britain and Northern Ireland",
                  "marker": {
                    "color": "#ab63fa",
                    "line": {
                      "width": 1
                    },
                    "opacity": 0.7,
                    "size": {
                      "bdata": "GQRWDi2y+T8=",
                      "dtype": "f8"
                    },
                    "sizemode": "diameter",
                    "sizeref": 0.27566555555555555,
                    "symbol": "circle"
                  },
                  "mode": "markers",
                  "name": "United Kingdom of Great Britain and Northern Ireland",
                  "orientation": "v",
                  "showlegend": true,
                  "type": "scatter",
                  "x": {
                    "bdata": "exSuR+F6tD8=",
                    "dtype": "f8"
                  },
                  "xaxis": "x",
                  "y": {
                    "bdata": "AAAAAAAAKkA=",
                    "dtype": "f8"
                  },
                  "yaxis": "y"
                },
                {
                  "hovertemplate": "<b>%{hovertext}</b><br><br>Country_Name=Australia<br>BAC Limit (g/dl)=%{x}<br>Percentage of Deaths Due to Alcohol=%{y}<br>Scaled Deaths=%{marker.size}<extra></extra>",
                  "hovertext": [
                    "Australia"
                  ],
                  "legendgroup": "Australia",
                  "marker": {
                    "color": "#FFA15A",
                    "line": {
                      "width": 1
                    },
                    "opacity": 0.7,
                    "size": {
                      "bdata": "z/dT46Wb8j8=",
                      "dtype": "f8"
                    },
                    "sizemode": "diameter",
                    "sizeref": 0.27566555555555555,
                    "symbol": "circle"
                  },
                  "mode": "markers",
                  "name": "Australia",
                  "orientation": "v",
                  "showlegend": true,
                  "type": "scatter",
                  "x": {
                    "bdata": "mpmZmZmZmT8=",
                    "dtype": "f8"
                  },
                  "xaxis": "x",
                  "y": {
                    "bdata": "AAAAAAAAMUA=",
                    "dtype": "f8"
                  },
                  "yaxis": "y"
                },
                {
                  "hovertemplate": "<b>%{hovertext}</b><br><br>Country_Name=Costa Rica<br>BAC Limit (g/dl)=%{x}<br>Percentage of Deaths Due to Alcohol=%{y}<br>Scaled Deaths=%{marker.size}<extra></extra>",
                  "hovertext": [
                    "Costa Rica"
                  ],
                  "legendgroup": "Costa Rica",
                  "marker": {
                    "color": "#19d3f3",
                    "line": {
                      "width": 1
                    },
                    "opacity": 0.7,
                    "size": {
                      "bdata": "8KfGSzeJ6T8=",
                      "dtype": "f8"
                    },
                    "sizemode": "diameter",
                    "sizeref": 0.27566555555555555,
                    "symbol": "circle"
                  },
                  "mode": "markers",
                  "name": "Costa Rica",
                  "orientation": "v",
                  "showlegend": true,
                  "type": "scatter",
                  "x": {
                    "bdata": "7FG4HoXroT8=",
                    "dtype": "f8"
                  },
                  "xaxis": "x",
                  "y": {
                    "bdata": "MzMzMzMzP0A=",
                    "dtype": "f8"
                  },
                  "yaxis": "y"
                },
                {
                  "hovertemplate": "<b>%{hovertext}</b><br><br>Country_Name=Greece<br>BAC Limit (g/dl)=%{x}<br>Percentage of Deaths Due to Alcohol=%{y}<br>Scaled Deaths=%{marker.size}<extra></extra>",
                  "hovertext": [
                    "Greece"
                  ],
                  "legendgroup": "Greece",
                  "marker": {
                    "color": "#FF6692",
                    "line": {
                      "width": 1
                    },
                    "opacity": 0.7,
                    "size": {
                      "bdata": "/Knx0k1i6D8=",
                      "dtype": "f8"
                    },
                    "sizemode": "diameter",
                    "sizeref": 0.27566555555555555,
                    "symbol": "circle"
                  },
                  "mode": "markers",
                  "name": "Greece",
                  "orientation": "v",
                  "showlegend": true,
                  "type": "scatter",
                  "x": {
                    "bdata": "mpmZmZmZqT8=",
                    "dtype": "f8"
                  },
                  "xaxis": "x",
                  "y": {
                    "bdata": "zczMzMxMOUA=",
                    "dtype": "f8"
                  },
                  "yaxis": "y"
                },
                {
                  "hovertemplate": "<b>%{hovertext}</b><br><br>Country_Name=Portugal<br>BAC Limit (g/dl)=%{x}<br>Percentage of Deaths Due to Alcohol=%{y}<br>Scaled Deaths=%{marker.size}<extra></extra>",
                  "hovertext": [
                    "Portugal"
                  ],
                  "legendgroup": "Portugal",
                  "marker": {
                    "color": "#B6E880",
                    "line": {
                      "width": 1
                    },
                    "opacity": 0.7,
                    "size": {
                      "bdata": "WmQ730+N5z8=",
                      "dtype": "f8"
                    },
                    "sizemode": "diameter",
                    "sizeref": 0.27566555555555555,
                    "symbol": "circle"
                  },
                  "mode": "markers",
                  "name": "Portugal",
                  "orientation": "v",
                  "showlegend": true,
                  "type": "scatter",
                  "x": {
                    "bdata": "7FG4HoXroT8=",
                    "dtype": "f8"
                  },
                  "xaxis": "x",
                  "y": {
                    "bdata": "MzMzMzMzPUA=",
                    "dtype": "f8"
                  },
                  "yaxis": "y"
                },
                {
                  "hovertemplate": "<b>%{hovertext}</b><br><br>Country_Name=Hungary<br>BAC Limit (g/dl)=%{x}<br>Percentage of Deaths Due to Alcohol=%{y}<br>Scaled Deaths=%{marker.size}<extra></extra>",
                  "hovertext": [
                    "Hungary"
                  ],
                  "legendgroup": "Hungary",
                  "marker": {
                    "color": "#FF97FF",
                    "line": {
                      "width": 1
                    },
                    "opacity": 0.7,
                    "size": {
                      "bdata": "YOXQItv55j8=",
                      "dtype": "f8"
                    },
                    "sizemode": "diameter",
                    "sizeref": 0.27566555555555555,
                    "symbol": "circle"
                  },
                  "mode": "markers",
                  "name": "Hungary",
                  "orientation": "v",
                  "showlegend": true,
                  "type": "scatter",
                  "x": {
                    "bdata": "AAAAAAAAAAA=",
                    "dtype": "f8"
                  },
                  "xaxis": "x",
                  "y": {
                    "bdata": "ZmZmZmZmHEA=",
                    "dtype": "f8"
                  },
                  "yaxis": "y"
                },
                {
                  "hovertemplate": "<b>%{hovertext}</b><br><br>Country_Name=Belarus<br>BAC Limit (g/dl)=%{x}<br>Percentage of Deaths Due to Alcohol=%{y}<br>Scaled Deaths=%{marker.size}<extra></extra>",
                  "hovertext": [
                    "Belarus"
                  ],
                  "legendgroup": "Belarus",
                  "marker": {
                    "color": "#FECB52",
                    "line": {
                      "width": 1
                    },
                    "opacity": 0.7,
                    "size": {
                      "bdata": "ZDvfT42X5j8=",
                      "dtype": "f8"
                    },
                    "sizemode": "diameter",
                    "sizeref": 0.27566555555555555,
                    "symbol": "circle"
                  },
                  "mode": "markers",
                  "name": "Belarus",
                  "orientation": "v",
                  "showlegend": true,
                  "type": "scatter",
                  "x": {
                    "bdata": "uB6F61G4nj8=",
                    "dtype": "f8"
                  },
                  "xaxis": "x",
                  "y": {
                    "bdata": "mpmZmZmZLEA=",
                    "dtype": "f8"
                  },
                  "yaxis": "y"
                },
                {
                  "hovertemplate": "<b>%{hovertext}</b><br><br>Country_Name=Cuba<br>BAC Limit (g/dl)=%{x}<br>Percentage of Deaths Due to Alcohol=%{y}<br>Scaled Deaths=%{marker.size}<extra></extra>",
                  "hovertext": [
                    "Cuba"
                  ],
                  "legendgroup": "Cuba",
                  "marker": {
                    "color": "#636efa",
                    "line": {
                      "width": 1
                    },
                    "opacity": 0.7,
                    "size": {
                      "bdata": "BFYOLbKd4z8=",
                      "dtype": "f8"
                    },
                    "sizemode": "diameter",
                    "sizeref": 0.27566555555555555,
                    "symbol": "circle"
                  },
                  "mode": "markers",
                  "name": "Cuba",
                  "orientation": "v",
                  "showlegend": true,
                  "type": "scatter",
                  "x": {
                    "bdata": "exSuR+F6dD8=",
                    "dtype": "f8"
                  },
                  "xaxis": "x",
                  "y": {
                    "bdata": "ZmZmZmamQEA=",
                    "dtype": "f8"
                  },
                  "yaxis": "y"
                },
                {
                  "hovertemplate": "<b>%{hovertext}</b><br><br>Country_Name=Netherlands (Kingdom of the)<br>BAC Limit (g/dl)=%{x}<br>Percentage of Deaths Due to Alcohol=%{y}<br>Scaled Deaths=%{marker.size}<extra></extra>",
                  "hovertext": [
                    "Netherlands (Kingdom of the)"
                  ],
                  "legendgroup": "Netherlands (Kingdom of the)",
                  "marker": {
                    "color": "#EF553B",
                    "line": {
                      "width": 1
                    },
                    "opacity": 0.7,
                    "size": {
                      "bdata": "MzMzMzMz4z8=",
                      "dtype": "f8"
                    },
                    "sizemode": "diameter",
                    "sizeref": 0.27566555555555555,
                    "symbol": "circle"
                  },
                  "mode": "markers",
                  "name": "Netherlands (Kingdom of the)",
                  "orientation": "v",
                  "showlegend": true,
                  "type": "scatter",
                  "x": {
                    "bdata": "7FG4HoXroT8=",
                    "dtype": "f8"
                  },
                  "xaxis": "x",
                  "y": {
                    "bdata": "AAAAAAAAJkA=",
                    "dtype": "f8"
                  },
                  "yaxis": "y"
                },
                {
                  "hovertemplate": "<b>%{hovertext}</b><br><br>Country_Name=Bulgaria<br>BAC Limit (g/dl)=%{x}<br>Percentage of Deaths Due to Alcohol=%{y}<br>Scaled Deaths=%{marker.size}<extra></extra>",
                  "hovertext": [
                    "Bulgaria"
                  ],
                  "legendgroup": "Bulgaria",
                  "marker": {
                    "color": "#00cc96",
                    "line": {
                      "width": 1
                    },
                    "opacity": 0.7,
                    "size": {
                      "bdata": "5dAi2/l+4j8=",
                      "dtype": "f8"
                    },
                    "sizemode": "diameter",
                    "sizeref": 0.27566555555555555,
                    "symbol": "circle"
                  },
                  "mode": "markers",
                  "name": "Bulgaria",
                  "orientation": "v",
                  "showlegend": true,
                  "type": "scatter",
                  "x": {
                    "bdata": "mpmZmZmZqT8=",
                    "dtype": "f8"
                  },
                  "xaxis": "x",
                  "y": {
                    "bdata": "zczMzMzM7D8=",
                    "dtype": "f8"
                  },
                  "yaxis": "y"
                },
                {
                  "hovertemplate": "<b>%{hovertext}</b><br><br>Country_Name=United Arab Emirates<br>BAC Limit (g/dl)=%{x}<br>Percentage of Deaths Due to Alcohol=%{y}<br>Scaled Deaths=%{marker.size}<extra></extra>",
                  "hovertext": [
                    "United Arab Emirates"
                  ],
                  "legendgroup": "United Arab Emirates",
                  "marker": {
                    "color": "#ab63fa",
                    "line": {
                      "width": 1
                    },
                    "opacity": 0.7,
                    "size": {
                      "bdata": "bef7qfHS4T8=",
                      "dtype": "f8"
                    },
                    "sizemode": "diameter",
                    "sizeref": 0.27566555555555555,
                    "symbol": "circle"
                  },
                  "mode": "markers",
                  "name": "United Arab Emirates",
                  "orientation": "v",
                  "showlegend": true,
                  "type": "scatter",
                  "x": {
                    "bdata": "exSuR+F6hD8=",
                    "dtype": "f8"
                  },
                  "xaxis": "x",
                  "y": {
                    "bdata": "zczMzMzM/D8=",
                    "dtype": "f8"
                  },
                  "yaxis": "y"
                },
                {
                  "hovertemplate": "<b>%{hovertext}</b><br><br>Country_Name=Namibia<br>BAC Limit (g/dl)=%{x}<br>Percentage of Deaths Due to Alcohol=%{y}<br>Scaled Deaths=%{marker.size}<extra></extra>",
                  "hovertext": [
                    "Namibia"
                  ],
                  "legendgroup": "Namibia",
                  "marker": {
                    "color": "#FFA15A",
                    "line": {
                      "width": 1
                    },
                    "opacity": 0.7,
                    "size": {
                      "bdata": "bef7qfHS4T8=",
                      "dtype": "f8"
                    },
                    "sizemode": "diameter",
                    "sizeref": 0.27566555555555555,
                    "symbol": "circle"
                  },
                  "mode": "markers",
                  "name": "Namibia",
                  "orientation": "v",
                  "showlegend": true,
                  "type": "scatter",
                  "x": {
                    "bdata": "001iEFg5tD8=",
                    "dtype": "f8"
                  },
                  "xaxis": "x",
                  "y": {
                    "bdata": "MzMzMzMzD0A=",
                    "dtype": "f8"
                  },
                  "yaxis": "y"
                },
                {
                  "hovertemplate": "<b>%{hovertext}</b><br><br>Country_Name=Czechia<br>BAC Limit (g/dl)=%{x}<br>Percentage of Deaths Due to Alcohol=%{y}<br>Scaled Deaths=%{marker.size}<extra></extra>",
                  "hovertext": [
                    "Czechia"
                  ],
                  "legendgroup": "Czechia",
                  "marker": {
                    "color": "#19d3f3",
                    "line": {
                      "width": 1
                    },
                    "opacity": 0.7,
                    "size": {
                      "bdata": "8KfGSzeJ4T8=",
                      "dtype": "f8"
                    },
                    "sizemode": "diameter",
                    "sizeref": 0.27566555555555555,
                    "symbol": "circle"
                  },
                  "mode": "markers",
                  "name": "Czechia",
                  "orientation": "v",
                  "showlegend": true,
                  "type": "scatter",
                  "x": {
                    "bdata": "uB6F61G4nj8=",
                    "dtype": "f8"
                  },
                  "xaxis": "x",
                  "y": {
                    "bdata": "AAAAAAAAI0A=",
                    "dtype": "f8"
                  },
                  "yaxis": "y"
                },
                {
                  "hovertemplate": "<b>%{hovertext}</b><br><br>Country_Name=Serbia<br>BAC Limit (g/dl)=%{x}<br>Percentage of Deaths Due to Alcohol=%{y}<br>Scaled Deaths=%{marker.size}<extra></extra>",
                  "hovertext": [
                    "Serbia"
                  ],
                  "legendgroup": "Serbia",
                  "marker": {
                    "color": "#FF6692",
                    "line": {
                      "width": 1
                    },
                    "opacity": 0.7,
                    "size": {
                      "bdata": "yXa+nxov4T8=",
                      "dtype": "f8"
                    },
                    "sizemode": "diameter",
                    "sizeref": 0.27566555555555555,
                    "symbol": "circle"
                  },
                  "mode": "markers",
                  "name": "Serbia",
                  "orientation": "v",
                  "showlegend": true,
                  "type": "scatter",
                  "x": {
                    "bdata": "uB6F61G4jj8=",
                    "dtype": "f8"
                  },
                  "xaxis": "x",
                  "y": {
                    "bdata": "AAAAAAAAMUA=",
                    "dtype": "f8"
                  },
                  "yaxis": "y"
                },
                {
                  "hovertemplate": "<b>%{hovertext}</b><br><br>Country_Name=Lesotho<br>BAC Limit (g/dl)=%{x}<br>Percentage of Deaths Due to Alcohol=%{y}<br>Scaled Deaths=%{marker.size}<extra></extra>",
                  "hovertext": [
                    "Lesotho"
                  ],
                  "legendgroup": "Lesotho",
                  "marker": {
                    "color": "#B6E880",
                    "line": {
                      "width": 1
                    },
                    "opacity": 0.7,
                    "size": {
                      "bdata": "sHJoke183z8=",
                      "dtype": "f8"
                    },
                    "sizemode": "diameter",
                    "sizeref": 0.27566555555555555,
                    "symbol": "circle"
                  },
                  "mode": "markers",
                  "name": "Lesotho",
                  "orientation": "v",
                  "showlegend": true,
                  "type": "scatter",
                  "x": {
                    "bdata": "exSuR+F6tD8=",
                    "dtype": "f8"
                  },
                  "xaxis": "x",
                  "y": {
                    "bdata": "AAAAAAAATkA=",
                    "dtype": "f8"
                  },
                  "yaxis": "y"
                },
                {
                  "hovertemplate": "<b>%{hovertext}</b><br><br>Country_Name=Georgia<br>BAC Limit (g/dl)=%{x}<br>Percentage of Deaths Due to Alcohol=%{y}<br>Scaled Deaths=%{marker.size}<extra></extra>",
                  "hovertext": [
                    "Georgia"
                  ],
                  "legendgroup": "Georgia",
                  "marker": {
                    "color": "#FF97FF",
                    "line": {
                      "width": 1
                    },
                    "opacity": 0.7,
                    "size": {
                      "bdata": "EFg5tMh23j8=",
                      "dtype": "f8"
                    },
                    "sizemode": "diameter",
                    "sizeref": 0.27566555555555555,
                    "symbol": "circle"
                  },
                  "mode": "markers",
                  "name": "Georgia",
                  "orientation": "v",
                  "showlegend": true,
                  "type": "scatter",
                  "x": {
                    "bdata": "uB6F61G4nj8=",
                    "dtype": "f8"
                  },
                  "xaxis": "x",
                  "y": {
                    "bdata": "AAAAAAAAIkA=",
                    "dtype": "f8"
                  },
                  "yaxis": "y"
                },
                {
                  "hovertemplate": "<b>%{hovertext}</b><br><br>Country_Name=Bosnia and Herzegovina<br>BAC Limit (g/dl)=%{x}<br>Percentage of Deaths Due to Alcohol=%{y}<br>Scaled Deaths=%{marker.size}<extra></extra>",
                  "hovertext": [
                    "Bosnia and Herzegovina"
                  ],
                  "legendgroup": "Bosnia and Herzegovina",
                  "marker": {
                    "color": "#FECB52",
                    "line": {
                      "width": 1
                    },
                    "opacity": 0.7,
                    "size": {
                      "bdata": "z/dT46Wb3D8=",
                      "dtype": "f8"
                    },
                    "sizemode": "diameter",
                    "sizeref": 0.27566555555555555,
                    "symbol": "circle"
                  },
                  "mode": "markers",
                  "name": "Bosnia and Herzegovina",
                  "orientation": "v",
                  "showlegend": true,
                  "type": "scatter",
                  "x": {
                    "bdata": "uB6F61G4jj8=",
                    "dtype": "f8"
                  },
                  "xaxis": "x",
                  "y": {
                    "bdata": "zczMzMzMNEA=",
                    "dtype": "f8"
                  },
                  "yaxis": "y"
                },
                {
                  "hovertemplate": "<b>%{hovertext}</b><br><br>Country_Name=Botswana<br>BAC Limit (g/dl)=%{x}<br>Percentage of Deaths Due to Alcohol=%{y}<br>Scaled Deaths=%{marker.size}<extra></extra>",
                  "hovertext": [
                    "Botswana"
                  ],
                  "legendgroup": "Botswana",
                  "marker": {
                    "color": "#636efa",
                    "line": {
                      "width": 1
                    },
                    "opacity": 0.7,
                    "size": {
                      "bdata": "3SQGgZVD2z8=",
                      "dtype": "f8"
                    },
                    "sizemode": "diameter",
                    "sizeref": 0.27566555555555555,
                    "symbol": "circle"
                  },
                  "mode": "markers",
                  "name": "Botswana",
                  "orientation": "v",
                  "showlegend": true,
                  "type": "scatter",
                  "x": {
                    "bdata": "mpmZmZmZqT8=",
                    "dtype": "f8"
                  },
                  "xaxis": "x",
                  "y": {
                    "bdata": "ZmZmZmZmDkA=",
                    "dtype": "f8"
                  },
                  "yaxis": "y"
                },
                {
                  "hovertemplate": "<b>%{hovertext}</b><br><br>Country_Name=Mongolia<br>BAC Limit (g/dl)=%{x}<br>Percentage of Deaths Due to Alcohol=%{y}<br>Scaled Deaths=%{marker.size}<extra></extra>",
                  "hovertext": [
                    "Mongolia"
                  ],
                  "legendgroup": "Mongolia",
                  "marker": {
                    "color": "#EF553B",
                    "line": {
                      "width": 1
                    },
                    "opacity": 0.7,
                    "size": {
                      "bdata": "5dAi2/l+2j8=",
                      "dtype": "f8"
                    },
                    "sizemode": "diameter",
                    "sizeref": 0.27566555555555555,
                    "symbol": "circle"
                  },
                  "mode": "markers",
                  "name": "Mongolia",
                  "orientation": "v",
                  "showlegend": true,
                  "type": "scatter",
                  "x": {
                    "bdata": "exSuR+F6pD8=",
                    "dtype": "f8"
                  },
                  "xaxis": "x",
                  "y": {
                    "bdata": "AAAAAAAAOUA=",
                    "dtype": "f8"
                  },
                  "yaxis": "y"
                },
                {
                  "hovertemplate": "<b>%{hovertext}</b><br><br>Country_Name=Austria<br>BAC Limit (g/dl)=%{x}<br>Percentage of Deaths Due to Alcohol=%{y}<br>Scaled Deaths=%{marker.size}<extra></extra>",
                  "hovertext": [
                    "Austria"
                  ],
                  "legendgroup": "Austria",
                  "marker": {
                    "color": "#00cc96",
                    "line": {
                      "width": 1
                    },
                    "opacity": 0.7,
                    "size": {
                      "bdata": "kxgEVg4t2j8=",
                      "dtype": "f8"
                    },
                    "sizemode": "diameter",
                    "sizeref": 0.27566555555555555,
                    "symbol": "circle"
                  },
                  "mode": "markers",
                  "name": "Austria",
                  "orientation": "v",
                  "showlegend": true,
                  "type": "scatter",
                  "x": {
                    "bdata": "uR6F61G4nj8=",
                    "dtype": "f8"
                  },
                  "xaxis": "x",
                  "y": {
                    "bdata": "ZmZmZmZmFEA=",
                    "dtype": "f8"
                  },
                  "yaxis": "y"
                },
                {
                  "hovertemplate": "<b>%{hovertext}</b><br><br>Country_Name=Armenia<br>BAC Limit (g/dl)=%{x}<br>Percentage of Deaths Due to Alcohol=%{y}<br>Scaled Deaths=%{marker.size}<extra></extra>",
                  "hovertext": [
                    "Armenia"
                  ],
                  "legendgroup": "Armenia",
                  "marker": {
                    "color": "#ab63fa",
                    "line": {
                      "width": 1
                    },
                    "opacity": 0.7,
                    "size": {
                      "bdata": "qMZLN4lB2D8=",
                      "dtype": "f8"
                    },
                    "sizemode": "diameter",
                    "sizeref": 0.27566555555555555,
                    "symbol": "circle"
                  },
                  "mode": "markers",
                  "name": "Armenia",
                  "orientation": "v",
                  "showlegend": true,
                  "type": "scatter",
                  "x": {
                    "bdata": "exSuR+F6pD8=",
                    "dtype": "f8"
                  },
                  "xaxis": "x",
                  "y": {
                    "bdata": "ZmZmZmZm/j8=",
                    "dtype": "f8"
                  },
                  "yaxis": "y"
                },
                {
                  "hovertemplate": "<b>%{hovertext}</b><br><br>Country_Name=Israel<br>BAC Limit (g/dl)=%{x}<br>Percentage of Deaths Due to Alcohol=%{y}<br>Scaled Deaths=%{marker.size}<extra></extra>",
                  "hovertext": [
                    "Israel"
                  ],
                  "legendgroup": "Israel",
                  "marker": {
                    "color": "#FFA15A",
                    "line": {
                      "width": 1
                    },
                    "opacity": 0.7,
                    "size": {
                      "bdata": "AAAAAAAA2D8=",
                      "dtype": "f8"
                    },
                    "sizemode": "diameter",
                    "sizeref": 0.27566555555555555,
                    "symbol": "circle"
                  },
                  "mode": "markers",
                  "name": "Israel",
                  "orientation": "v",
                  "showlegend": true,
                  "type": "scatter",
                  "x": {
                    "bdata": "uR6F61G4nj8=",
                    "dtype": "f8"
                  },
                  "xaxis": "x",
                  "y": {
                    "bdata": "zczMzMzMDEA=",
                    "dtype": "f8"
                  },
                  "yaxis": "y"
                },
                {
                  "hovertemplate": "<b>%{hovertext}</b><br><br>Country_Name=Slovakia<br>BAC Limit (g/dl)=%{x}<br>Percentage of Deaths Due to Alcohol=%{y}<br>Scaled Deaths=%{marker.size}<extra></extra>",
                  "hovertext": [
                    "Slovakia"
                  ],
                  "legendgroup": "Slovakia",
                  "marker": {
                    "color": "#19d3f3",
                    "line": {
                      "width": 1
                    },
                    "opacity": 0.7,
                    "size": {
                      "bdata": "vp8aL90k1j8=",
                      "dtype": "f8"
                    },
                    "sizemode": "diameter",
                    "sizeref": 0.27566555555555555,
                    "symbol": "circle"
                  },
                  "mode": "markers",
                  "name": "Slovakia",
                  "orientation": "v",
                  "showlegend": true,
                  "type": "scatter",
                  "x": {
                    "bdata": "AAAAAAAAAAA=",
                    "dtype": "f8"
                  },
                  "xaxis": "x",
                  "y": {
                    "bdata": "ZmZmZmZmGEA=",
                    "dtype": "f8"
                  },
                  "yaxis": "y"
                },
                {
                  "hovertemplate": "<b>%{hovertext}</b><br><br>Country_Name=New Zealand<br>BAC Limit (g/dl)=%{x}<br>Percentage of Deaths Due to Alcohol=%{y}<br>Scaled Deaths=%{marker.size}<extra></extra>",
                  "hovertext": [
                    "New Zealand"
                  ],
                  "legendgroup": "New Zealand",
                  "marker": {
                    "color": "#FF6692",
                    "line": {
                      "width": 1
                    },
                    "opacity": 0.7,
                    "size": {
                      "bdata": "bxKDwMqh1T8=",
                      "dtype": "f8"
                    },
                    "sizemode": "diameter",
                    "sizeref": 0.27566555555555555,
                    "symbol": "circle"
                  },
                  "mode": "markers",
                  "name": "New Zealand",
                  "orientation": "v",
                  "showlegend": true,
                  "type": "scatter",
                  "x": {
                    "bdata": "mpmZmZmZmT8=",
                    "dtype": "f8"
                  },
                  "xaxis": "x",
                  "y": {
                    "bdata": "AAAAAAAAO0A=",
                    "dtype": "f8"
                  },
                  "yaxis": "y"
                },
                {
                  "hovertemplate": "<b>%{hovertext}</b><br><br>Country_Name=Croatia<br>BAC Limit (g/dl)=%{x}<br>Percentage of Deaths Due to Alcohol=%{y}<br>Scaled Deaths=%{marker.size}<extra></extra>",
                  "hovertext": [
                    "Croatia"
                  ],
                  "legendgroup": "Croatia",
                  "marker": {
                    "color": "#B6E880",
                    "line": {
                      "width": 1
                    },
                    "opacity": 0.7,
                    "size": {
                      "bdata": "y6FFtvP91D8=",
                      "dtype": "f8"
                    },
                    "sizemode": "diameter",
                    "sizeref": 0.27566555555555555,
                    "symbol": "circle"
                  },
                  "mode": "markers",
                  "name": "Croatia",
                  "orientation": "v",
                  "showlegend": true,
                  "type": "scatter",
                  "x": {
                    "bdata": "mpmZmZmZmT8=",
                    "dtype": "f8"
                  },
                  "xaxis": "x",
                  "y": {
                    "bdata": "zczMzMzMN0A=",
                    "dtype": "f8"
                  },
                  "yaxis": "y"
                },
                {
                  "hovertemplate": "<b>%{hovertext}</b><br><br>Country_Name=Albania<br>BAC Limit (g/dl)=%{x}<br>Percentage of Deaths Due to Alcohol=%{y}<br>Scaled Deaths=%{marker.size}<extra></extra>",
                  "hovertext": [
                    "Albania"
                  ],
                  "legendgroup": "Albania",
                  "marker": {
                    "color": "#FF97FF",
                    "line": {
                      "width": 1
                    },
                    "opacity": 0.7,
                    "size": {
                      "bdata": "LbKd76fG0z8=",
                      "dtype": "f8"
                    },
                    "sizemode": "diameter",
                    "sizeref": 0.27566555555555555,
                    "symbol": "circle"
                  },
                  "mode": "markers",
                  "name": "Albania",
                  "orientation": "v",
                  "showlegend": true,
                  "type": "scatter",
                  "x": {
                    "bdata": "mpmZmZmZqT8=",
                    "dtype": "f8"
                  },
                  "xaxis": "x",
                  "y": {
                    "bdata": "zczMzMzMFEA=",
                    "dtype": "f8"
                  },
                  "yaxis": "y"
                },
                {
                  "hovertemplate": "<b>%{hovertext}</b><br><br>Country_Name=Republic of Moldova<br>BAC Limit (g/dl)=%{x}<br>Percentage of Deaths Due to Alcohol=%{y}<br>Scaled Deaths=%{marker.size}<extra></extra>",
                  "hovertext": [
                    "Republic of Moldova"
                  ],
                  "legendgroup": "Republic of Moldova",
                  "marker": {
                    "color": "#FECB52",
                    "line": {
                      "width": 1
                    },
                    "opacity": 0.7,
                    "size": {
                      "bdata": "mG4Sg8DK0T8=",
                      "dtype": "f8"
                    },
                    "sizemode": "diameter",
                    "sizeref": 0.27566555555555555,
                    "symbol": "circle"
                  },
                  "mode": "markers",
                  "name": "Republic of Moldova",
                  "orientation": "v",
                  "showlegend": true,
                  "type": "scatter",
                  "x": {
                    "bdata": "uB6F61G4nj8=",
                    "dtype": "f8"
                  },
                  "xaxis": "x",
                  "y": {
                    "bdata": "zczMzMzMIkA=",
                    "dtype": "f8"
                  },
                  "yaxis": "y"
                },
                {
                  "hovertemplate": "<b>%{hovertext}</b><br><br>Country_Name=Finland<br>BAC Limit (g/dl)=%{x}<br>Percentage of Deaths Due to Alcohol=%{y}<br>Scaled Deaths=%{marker.size}<extra></extra>",
                  "hovertext": [
                    "Finland"
                  ],
                  "legendgroup": "Finland",
                  "marker": {
                    "color": "#636efa",
                    "line": {
                      "width": 1
                    },
                    "opacity": 0.7,
                    "size": {
                      "bdata": "GQRWDi2yzT8=",
                      "dtype": "f8"
                    },
                    "sizemode": "diameter",
                    "sizeref": 0.27566555555555555,
                    "symbol": "circle"
                  },
                  "mode": "markers",
                  "name": "Finland",
                  "orientation": "v",
                  "showlegend": true,
                  "type": "scatter",
                  "x": {
                    "bdata": "mpmZmZmZqT8=",
                    "dtype": "f8"
                  },
                  "xaxis": "x",
                  "y": {
                    "bdata": "AAAAAAAAOEA=",
                    "dtype": "f8"
                  },
                  "yaxis": "y"
                },
                {
                  "hovertemplate": "<b>%{hovertext}</b><br><br>Country_Name=Sweden<br>BAC Limit (g/dl)=%{x}<br>Percentage of Deaths Due to Alcohol=%{y}<br>Scaled Deaths=%{marker.size}<extra></extra>",
                  "hovertext": [
                    "Sweden"
                  ],
                  "legendgroup": "Sweden",
                  "marker": {
                    "color": "#EF553B",
                    "line": {
                      "width": 1
                    },
                    "opacity": 0.7,
                    "size": {
                      "bdata": "LbKd76fGyz8=",
                      "dtype": "f8"
                    },
                    "sizemode": "diameter",
                    "sizeref": 0.27566555555555555,
                    "symbol": "circle"
                  },
                  "mode": "markers",
                  "name": "Sweden",
                  "orientation": "v",
                  "showlegend": true,
                  "type": "scatter",
                  "x": {
                    "bdata": "exSuR+F6lD8=",
                    "dtype": "f8"
                  },
                  "xaxis": "x",
                  "y": {
                    "bdata": "AAAAAAAAOEA=",
                    "dtype": "f8"
                  },
                  "yaxis": "y"
                },
                {
                  "hovertemplate": "<b>%{hovertext}</b><br><br>Country_Name=Switzerland<br>BAC Limit (g/dl)=%{x}<br>Percentage of Deaths Due to Alcohol=%{y}<br>Scaled Deaths=%{marker.size}<extra></extra>",
                  "hovertext": [
                    "Switzerland"
                  ],
                  "legendgroup": "Switzerland",
                  "marker": {
                    "color": "#00cc96",
                    "line": {
                      "width": 1
                    },
                    "opacity": 0.7,
                    "size": {
                      "bdata": "ke18PzVeyj8=",
                      "dtype": "f8"
                    },
                    "sizemode": "diameter",
                    "sizeref": 0.27566555555555555,
                    "symbol": "circle"
                  },
                  "mode": "markers",
                  "name": "Switzerland",
                  "orientation": "v",
                  "showlegend": true,
                  "type": "scatter",
                  "x": {
                    "bdata": "uR6F61G4nj8=",
                    "dtype": "f8"
                  },
                  "xaxis": "x",
                  "y": {
                    "bdata": "AAAAAAAAKkA=",
                    "dtype": "f8"
                  },
                  "yaxis": "y"
                },
                {
                  "hovertemplate": "<b>%{hovertext}</b><br><br>Country_Name=Latvia<br>BAC Limit (g/dl)=%{x}<br>Percentage of Deaths Due to Alcohol=%{y}<br>Scaled Deaths=%{marker.size}<extra></extra>",
                  "hovertext": [
                    "Latvia"
                  ],
                  "legendgroup": "Latvia",
                  "marker": {
                    "color": "#ab63fa",
                    "line": {
                      "width": 1
                    },
                    "opacity": 0.7,
                    "size": {
                      "bdata": "BoGVQ4tsxz8=",
                      "dtype": "f8"
                    },
                    "sizemode": "diameter",
                    "sizeref": 0.27566555555555555,
                    "symbol": "circle"
                  },
                  "mode": "markers",
                  "name": "Latvia",
                  "orientation": "v",
                  "showlegend": true,
                  "type": "scatter",
                  "x": {
                    "bdata": "7FG4HoXroT8=",
                    "dtype": "f8"
                  },
                  "xaxis": "x",
                  "y": {
                    "bdata": "mpmZmZmZJUA=",
                    "dtype": "f8"
                  },
                  "yaxis": "y"
                },
                {
                  "hovertemplate": "<b>%{hovertext}</b><br><br>Country_Name=Lithuania<br>BAC Limit (g/dl)=%{x}<br>Percentage of Deaths Due to Alcohol=%{y}<br>Scaled Deaths=%{marker.size}<extra></extra>",
                  "hovertext": [
                    "Lithuania"
                  ],
                  "legendgroup": "Lithuania",
                  "marker": {
                    "color": "#FFA15A",
                    "line": {
                      "width": 1
                    },
                    "opacity": 0.7,
                    "size": {
                      "bdata": "ZmZmZmZmxj8=",
                      "dtype": "f8"
                    },
                    "sizemode": "diameter",
                    "sizeref": 0.27566555555555555,
                    "symbol": "circle"
                  },
                  "mode": "markers",
                  "name": "Lithuania",
                  "orientation": "v",
                  "showlegend": true,
                  "type": "scatter",
                  "x": {
                    "bdata": "exSuR+F6lD8=",
                    "dtype": "f8"
                  },
                  "xaxis": "x",
                  "y": {
                    "bdata": "MzMzMzMzI0A=",
                    "dtype": "f8"
                  },
                  "yaxis": "y"
                },
                {
                  "hovertemplate": "<b>%{hovertext}</b><br><br>Country_Name=Ireland<br>BAC Limit (g/dl)=%{x}<br>Percentage of Deaths Due to Alcohol=%{y}<br>Scaled Deaths=%{marker.size}<extra></extra>",
                  "hovertext": [
                    "Ireland"
                  ],
                  "legendgroup": "Ireland",
                  "marker": {
                    "color": "#19d3f3",
                    "line": {
                      "width": 1
                    },
                    "opacity": 0.7,
                    "size": {
                      "bdata": "PzVeukkMwj8=",
                      "dtype": "f8"
                    },
                    "sizemode": "diameter",
                    "sizeref": 0.27566555555555555,
                    "symbol": "circle"
                  },
                  "mode": "markers",
                  "name": "Ireland",
                  "orientation": "v",
                  "showlegend": true,
                  "type": "scatter",
                  "x": {
                    "bdata": "7FG4HoXroT8=",
                    "dtype": "f8"
                  },
                  "xaxis": "x",
                  "y": {
                    "bdata": "AAAAAABAQ0A=",
                    "dtype": "f8"
                  },
                  "yaxis": "y"
                },
                {
                  "hovertemplate": "<b>%{hovertext}</b><br><br>Country_Name=Mauritius<br>BAC Limit (g/dl)=%{x}<br>Percentage of Deaths Due to Alcohol=%{y}<br>Scaled Deaths=%{marker.size}<extra></extra>",
                  "hovertext": [
                    "Mauritius"
                  ],
                  "legendgroup": "Mauritius",
                  "marker": {
                    "color": "#FF6692",
                    "line": {
                      "width": 1
                    },
                    "opacity": 0.7,
                    "size": {
                      "bdata": "VOOlm8QgwD8=",
                      "dtype": "f8"
                    },
                    "sizemode": "diameter",
                    "sizeref": 0.27566555555555555,
                    "symbol": "circle"
                  },
                  "mode": "markers",
                  "name": "Mauritius",
                  "orientation": "v",
                  "showlegend": true,
                  "type": "scatter",
                  "x": {
                    "bdata": "mpmZmZmZqT8=",
                    "dtype": "f8"
                  },
                  "xaxis": "x",
                  "y": {
                    "bdata": "mpmZmZmZN0A=",
                    "dtype": "f8"
                  },
                  "yaxis": "y"
                },
                {
                  "hovertemplate": "<b>%{hovertext}</b><br><br>Country_Name=Guyana<br>BAC Limit (g/dl)=%{x}<br>Percentage of Deaths Due to Alcohol=%{y}<br>Scaled Deaths=%{marker.size}<extra></extra>",
                  "hovertext": [
                    "Guyana"
                  ],
                  "legendgroup": "Guyana",
                  "marker": {
                    "color": "#B6E880",
                    "line": {
                      "width": 1
                    },
                    "opacity": 0.7,
                    "size": {
                      "bdata": "CKwcWmQ7vz8=",
                      "dtype": "f8"
                    },
                    "sizemode": "diameter",
                    "sizeref": 0.27566555555555555,
                    "symbol": "circle"
                  },
                  "mode": "markers",
                  "name": "Guyana",
                  "orientation": "v",
                  "showlegend": true,
                  "type": "scatter",
                  "x": {
                    "bdata": "exSuR+F6tD8=",
                    "dtype": "f8"
                  },
                  "xaxis": "x",
                  "y": {
                    "bdata": "AAAAAAAAMUA=",
                    "dtype": "f8"
                  },
                  "yaxis": "y"
                },
                {
                  "hovertemplate": "<b>%{hovertext}</b><br><br>Country_Name=Slovenia<br>BAC Limit (g/dl)=%{x}<br>Percentage of Deaths Due to Alcohol=%{y}<br>Scaled Deaths=%{marker.size}<extra></extra>",
                  "hovertext": [
                    "Slovenia"
                  ],
                  "legendgroup": "Slovenia",
                  "marker": {
                    "color": "#FF97FF",
                    "line": {
                      "width": 1
                    },
                    "opacity": 0.7,
                    "size": {
                      "bdata": "CKwcWmQ7vz8=",
                      "dtype": "f8"
                    },
                    "sizemode": "diameter",
                    "sizeref": 0.27566555555555555,
                    "symbol": "circle"
                  },
                  "mode": "markers",
                  "name": "Slovenia",
                  "orientation": "v",
                  "showlegend": true,
                  "type": "scatter",
                  "x": {
                    "bdata": "mpmZmZmZmT8=",
                    "dtype": "f8"
                  },
                  "xaxis": "x",
                  "y": {
                    "bdata": "AAAAAAAAQEA=",
                    "dtype": "f8"
                  },
                  "yaxis": "y"
                },
                {
                  "hovertemplate": "<b>%{hovertext}</b><br><br>Country_Name=North Macedonia<br>BAC Limit (g/dl)=%{x}<br>Percentage of Deaths Due to Alcohol=%{y}<br>Scaled Deaths=%{marker.size}<extra></extra>",
                  "hovertext": [
                    "North Macedonia"
                  ],
                  "legendgroup": "North Macedonia",
                  "marker": {
                    "color": "#FECB52",
                    "line": {
                      "width": 1
                    },
                    "opacity": 0.7,
                    "size": {
                      "bdata": "uB6F61G4vj8=",
                      "dtype": "f8"
                    },
                    "sizemode": "diameter",
                    "sizeref": 0.27566555555555555,
                    "symbol": "circle"
                  },
                  "mode": "markers",
                  "name": "North Macedonia",
                  "orientation": "v",
                  "showlegend": true,
                  "type": "scatter",
                  "x": {
                    "bdata": "uR6F61G4nj8=",
                    "dtype": "f8"
                  },
                  "xaxis": "x",
                  "y": {
                    "bdata": "ZmZmZmZm9j8=",
                    "dtype": "f8"
                  },
                  "yaxis": "y"
                },
                {
                  "hovertemplate": "<b>%{hovertext}</b><br><br>Country_Name=Singapore<br>BAC Limit (g/dl)=%{x}<br>Percentage of Deaths Due to Alcohol=%{y}<br>Scaled Deaths=%{marker.size}<extra></extra>",
                  "hovertext": [
                    "Singapore"
                  ],
                  "legendgroup": "Singapore",
                  "marker": {
                    "color": "#636efa",
                    "line": {
                      "width": 1
                    },
                    "opacity": 0.7,
                    "size": {
                      "bdata": "KVyPwvUovD8=",
                      "dtype": "f8"
                    },
                    "sizemode": "diameter",
                    "sizeref": 0.27566555555555555,
                    "symbol": "circle"
                  },
                  "mode": "markers",
                  "name": "Singapore",
                  "orientation": "v",
                  "showlegend": true,
                  "type": "scatter",
                  "x": {
                    "bdata": "exSuR+F6tD8=",
                    "dtype": "f8"
                  },
                  "xaxis": "x",
                  "y": {
                    "bdata": "mpmZmZmZGUA=",
                    "dtype": "f8"
                  },
                  "yaxis": "y"
                },
                {
                  "hovertemplate": "<b>%{hovertext}</b><br><br>Country_Name=Norway<br>BAC Limit (g/dl)=%{x}<br>Percentage of Deaths Due to Alcohol=%{y}<br>Scaled Deaths=%{marker.size}<extra></extra>",
                  "hovertext": [
                    "Norway"
                  ],
                  "legendgroup": "Norway",
                  "marker": {
                    "color": "#EF553B",
                    "line": {
                      "width": 1
                    },
                    "opacity": 0.7,
                    "size": {
                      "bdata": "y6FFtvP9tD8=",
                      "dtype": "f8"
                    },
                    "sizemode": "diameter",
                    "sizeref": 0.27566555555555555,
                    "symbol": "circle"
                  },
                  "mode": "markers",
                  "name": "Norway",
                  "orientation": "v",
                  "showlegend": true,
                  "type": "scatter",
                  "x": {
                    "bdata": "exSuR+F6lD8=",
                    "dtype": "f8"
                  },
                  "xaxis": "x",
                  "y": {
                    "bdata": "AAAAAAAAKkA=",
                    "dtype": "f8"
                  },
                  "yaxis": "y"
                },
                {
                  "hovertemplate": "<b>%{hovertext}</b><br><br>Country_Name=Estonia<br>BAC Limit (g/dl)=%{x}<br>Percentage of Deaths Due to Alcohol=%{y}<br>Scaled Deaths=%{marker.size}<extra></extra>",
                  "hovertext": [
                    "Estonia"
                  ],
                  "legendgroup": "Estonia",
                  "marker": {
                    "color": "#00cc96",
                    "line": {
                      "width": 1
                    },
                    "opacity": 0.7,
                    "size": {
                      "bdata": "aJHtfD81rj8=",
                      "dtype": "f8"
                    },
                    "sizemode": "diameter",
                    "sizeref": 0.27566555555555555,
                    "symbol": "circle"
                  },
                  "mode": "markers",
                  "name": "Estonia",
                  "orientation": "v",
                  "showlegend": true,
                  "type": "scatter",
                  "x": {
                    "bdata": "exSuR+F6lD8=",
                    "dtype": "f8"
                  },
                  "xaxis": "x",
                  "y": {
                    "bdata": "AAAAAAAAJEA=",
                    "dtype": "f8"
                  },
                  "yaxis": "y"
                },
                {
                  "hovertemplate": "<b>%{hovertext}</b><br><br>Country_Name=Cyprus<br>BAC Limit (g/dl)=%{x}<br>Percentage of Deaths Due to Alcohol=%{y}<br>Scaled Deaths=%{marker.size}<extra></extra>",
                  "hovertext": [
                    "Cyprus"
                  ],
                  "legendgroup": "Cyprus",
                  "marker": {
                    "color": "#ab63fa",
                    "line": {
                      "width": 1
                    },
                    "opacity": 0.7,
                    "size": {
                      "bdata": "SgwCK4cWqT8=",
                      "dtype": "f8"
                    },
                    "sizemode": "diameter",
                    "sizeref": 0.27566555555555555,
                    "symbol": "circle"
                  },
                  "mode": "markers",
                  "name": "Cyprus",
                  "orientation": "v",
                  "showlegend": true,
                  "type": "scatter",
                  "x": {
                    "bdata": "7FG4HoXroT8=",
                    "dtype": "f8"
                  },
                  "xaxis": "x",
                  "y": {
                    "bdata": "ZmZmZmZmMUA=",
                    "dtype": "f8"
                  },
                  "yaxis": "y"
                },
                {
                  "hovertemplate": "<b>%{hovertext}</b><br><br>Country_Name=Fiji<br>BAC Limit (g/dl)=%{x}<br>Percentage of Deaths Due to Alcohol=%{y}<br>Scaled Deaths=%{marker.size}<extra></extra>",
                  "hovertext": [
                    "Fiji"
                  ],
                  "legendgroup": "Fiji",
                  "marker": {
                    "color": "#FFA15A",
                    "line": {
                      "width": 1
                    },
                    "opacity": 0.7,
                    "size": {
                      "bdata": "SgwCK4cWqT8=",
                      "dtype": "f8"
                    },
                    "sizemode": "diameter",
                    "sizeref": 0.27566555555555555,
                    "symbol": "circle"
                  },
                  "mode": "markers",
                  "name": "Fiji",
                  "orientation": "v",
                  "showlegend": true,
                  "type": "scatter",
                  "x": {
                    "bdata": "exSuR+F6pD8=",
                    "dtype": "f8"
                  },
                  "xaxis": "x",
                  "y": {
                    "bdata": "AAAAAAAAFEA=",
                    "dtype": "f8"
                  },
                  "yaxis": "y"
                },
                {
                  "hovertemplate": "<b>%{hovertext}</b><br><br>Country_Name=Luxembourg<br>BAC Limit (g/dl)=%{x}<br>Percentage of Deaths Due to Alcohol=%{y}<br>Scaled Deaths=%{marker.size}<extra></extra>",
                  "hovertext": [
                    "Luxembourg"
                  ],
                  "legendgroup": "Luxembourg",
                  "marker": {
                    "color": "#19d3f3",
                    "line": {
                      "width": 1
                    },
                    "opacity": 0.7,
                    "size": {
                      "bdata": "mpmZmZmZmT8=",
                      "dtype": "f8"
                    },
                    "sizemode": "diameter",
                    "sizeref": 0.27566555555555555,
                    "symbol": "circle"
                  },
                  "mode": "markers",
                  "name": "Luxembourg",
                  "orientation": "v",
                  "showlegend": true,
                  "type": "scatter",
                  "x": {
                    "bdata": "7FG4HoXroT8=",
                    "dtype": "f8"
                  },
                  "xaxis": "x",
                  "y": {
                    "bdata": "AAAAAAAALEA=",
                    "dtype": "f8"
                  },
                  "yaxis": "y"
                },
                {
                  "hovertemplate": "<b>%{hovertext}</b><br><br>Country_Name=Iceland<br>BAC Limit (g/dl)=%{x}<br>Percentage of Deaths Due to Alcohol=%{y}<br>Scaled Deaths=%{marker.size}<extra></extra>",
                  "hovertext": [
                    "Iceland"
                  ],
                  "legendgroup": "Iceland",
                  "marker": {
                    "color": "#FF6692",
                    "line": {
                      "width": 1
                    },
                    "opacity": 0.7,
                    "size": {
                      "bdata": "O99PjZdugj8=",
                      "dtype": "f8"
                    },
                    "sizemode": "diameter",
                    "sizeref": 0.27566555555555555,
                    "symbol": "circle"
                  },
                  "mode": "markers",
                  "name": "Iceland",
                  "orientation": "v",
                  "showlegend": true,
                  "type": "scatter",
                  "x": {
                    "bdata": "mpmZmZmZqT8=",
                    "dtype": "f8"
                  },
                  "xaxis": "x",
                  "y": {
                    "bdata": "AAAAAAAALEA=",
                    "dtype": "f8"
                  },
                  "yaxis": "y"
                },
                {
                  "hovertemplate": "<b>%{hovertext}</b><br><br>Country_Name=Tonga<br>BAC Limit (g/dl)=%{x}<br>Percentage of Deaths Due to Alcohol=%{y}<br>Scaled Deaths=%{marker.size}<extra></extra>",
                  "hovertext": [
                    "Tonga"
                  ],
                  "legendgroup": "Tonga",
                  "marker": {
                    "color": "#B6E880",
                    "line": {
                      "width": 1
                    },
                    "opacity": 0.7,
                    "size": {
                      "bdata": "O99PjZdugj8=",
                      "dtype": "f8"
                    },
                    "sizemode": "diameter",
                    "sizeref": 0.27566555555555555,
                    "symbol": "circle"
                  },
                  "mode": "markers",
                  "name": "Tonga",
                  "orientation": "v",
                  "showlegend": true,
                  "type": "scatter",
                  "x": {
                    "bdata": "uB6F61G4nj8=",
                    "dtype": "f8"
                  },
                  "xaxis": "x",
                  "y": {
                    "bdata": "AAAAAABAU0A=",
                    "dtype": "f8"
                  },
                  "yaxis": "y"
                },
                {
                  "hovertemplate": "<b>%{hovertext}</b><br><br>Country_Name=Cook Islands<br>BAC Limit (g/dl)=%{x}<br>Percentage of Deaths Due to Alcohol=%{y}<br>Scaled Deaths=%{marker.size}<extra></extra>",
                  "hovertext": [
                    "Cook Islands"
                  ],
                  "legendgroup": "Cook Islands",
                  "marker": {
                    "color": "#FF97FF",
                    "line": {
                      "width": 1
                    },
                    "opacity": 0.7,
                    "size": {
                      "bdata": "+n5qvHSTaD8=",
                      "dtype": "f8"
                    },
                    "sizemode": "diameter",
                    "sizeref": 0.27566555555555555,
                    "symbol": "circle"
                  },
                  "mode": "markers",
                  "name": "Cook Islands",
                  "orientation": "v",
                  "showlegend": true,
                  "type": "scatter",
                  "x": {
                    "bdata": "exSuR+F6tD8=",
                    "dtype": "f8"
                  },
                  "xaxis": "x",
                  "y": {
                    "bdata": "AAAAAACAQ0A=",
                    "dtype": "f8"
                  },
                  "yaxis": "y"
                }
              ],
              "layout": {
                "height": 600,
                "legend": {
                  "itemsizing": "constant",
                  "title": {
                    "text": "Country"
                  },
                  "tracegroupgap": 0
                },
                "showlegend": true,
                "template": {
                  "data": {
                    "bar": [
                      {
                        "error_x": {
                          "color": "#2a3f5f"
                        },
                        "error_y": {
                          "color": "#2a3f5f"
                        },
                        "marker": {
                          "line": {
                            "color": "#E5ECF6",
                            "width": 0.5
                          },
                          "pattern": {
                            "fillmode": "overlay",
                            "size": 10,
                            "solidity": 0.2
                          }
                        },
                        "type": "bar"
                      }
                    ],
                    "barpolar": [
                      {
                        "marker": {
                          "line": {
                            "color": "#E5ECF6",
                            "width": 0.5
                          },
                          "pattern": {
                            "fillmode": "overlay",
                            "size": 10,
                            "solidity": 0.2
                          }
                        },
                        "type": "barpolar"
                      }
                    ],
                    "carpet": [
                      {
                        "aaxis": {
                          "endlinecolor": "#2a3f5f",
                          "gridcolor": "white",
                          "linecolor": "white",
                          "minorgridcolor": "white",
                          "startlinecolor": "#2a3f5f"
                        },
                        "baxis": {
                          "endlinecolor": "#2a3f5f",
                          "gridcolor": "white",
                          "linecolor": "white",
                          "minorgridcolor": "white",
                          "startlinecolor": "#2a3f5f"
                        },
                        "type": "carpet"
                      }
                    ],
                    "choropleth": [
                      {
                        "colorbar": {
                          "outlinewidth": 0,
                          "ticks": ""
                        },
                        "type": "choropleth"
                      }
                    ],
                    "contour": [
                      {
                        "colorbar": {
                          "outlinewidth": 0,
                          "ticks": ""
                        },
                        "colorscale": [
                          [
                            0,
                            "#0d0887"
                          ],
                          [
                            0.1111111111111111,
                            "#46039f"
                          ],
                          [
                            0.2222222222222222,
                            "#7201a8"
                          ],
                          [
                            0.3333333333333333,
                            "#9c179e"
                          ],
                          [
                            0.4444444444444444,
                            "#bd3786"
                          ],
                          [
                            0.5555555555555556,
                            "#d8576b"
                          ],
                          [
                            0.6666666666666666,
                            "#ed7953"
                          ],
                          [
                            0.7777777777777778,
                            "#fb9f3a"
                          ],
                          [
                            0.8888888888888888,
                            "#fdca26"
                          ],
                          [
                            1,
                            "#f0f921"
                          ]
                        ],
                        "type": "contour"
                      }
                    ],
                    "contourcarpet": [
                      {
                        "colorbar": {
                          "outlinewidth": 0,
                          "ticks": ""
                        },
                        "type": "contourcarpet"
                      }
                    ],
                    "heatmap": [
                      {
                        "colorbar": {
                          "outlinewidth": 0,
                          "ticks": ""
                        },
                        "colorscale": [
                          [
                            0,
                            "#0d0887"
                          ],
                          [
                            0.1111111111111111,
                            "#46039f"
                          ],
                          [
                            0.2222222222222222,
                            "#7201a8"
                          ],
                          [
                            0.3333333333333333,
                            "#9c179e"
                          ],
                          [
                            0.4444444444444444,
                            "#bd3786"
                          ],
                          [
                            0.5555555555555556,
                            "#d8576b"
                          ],
                          [
                            0.6666666666666666,
                            "#ed7953"
                          ],
                          [
                            0.7777777777777778,
                            "#fb9f3a"
                          ],
                          [
                            0.8888888888888888,
                            "#fdca26"
                          ],
                          [
                            1,
                            "#f0f921"
                          ]
                        ],
                        "type": "heatmap"
                      }
                    ],
                    "histogram": [
                      {
                        "marker": {
                          "pattern": {
                            "fillmode": "overlay",
                            "size": 10,
                            "solidity": 0.2
                          }
                        },
                        "type": "histogram"
                      }
                    ],
                    "histogram2d": [
                      {
                        "colorbar": {
                          "outlinewidth": 0,
                          "ticks": ""
                        },
                        "colorscale": [
                          [
                            0,
                            "#0d0887"
                          ],
                          [
                            0.1111111111111111,
                            "#46039f"
                          ],
                          [
                            0.2222222222222222,
                            "#7201a8"
                          ],
                          [
                            0.3333333333333333,
                            "#9c179e"
                          ],
                          [
                            0.4444444444444444,
                            "#bd3786"
                          ],
                          [
                            0.5555555555555556,
                            "#d8576b"
                          ],
                          [
                            0.6666666666666666,
                            "#ed7953"
                          ],
                          [
                            0.7777777777777778,
                            "#fb9f3a"
                          ],
                          [
                            0.8888888888888888,
                            "#fdca26"
                          ],
                          [
                            1,
                            "#f0f921"
                          ]
                        ],
                        "type": "histogram2d"
                      }
                    ],
                    "histogram2dcontour": [
                      {
                        "colorbar": {
                          "outlinewidth": 0,
                          "ticks": ""
                        },
                        "colorscale": [
                          [
                            0,
                            "#0d0887"
                          ],
                          [
                            0.1111111111111111,
                            "#46039f"
                          ],
                          [
                            0.2222222222222222,
                            "#7201a8"
                          ],
                          [
                            0.3333333333333333,
                            "#9c179e"
                          ],
                          [
                            0.4444444444444444,
                            "#bd3786"
                          ],
                          [
                            0.5555555555555556,
                            "#d8576b"
                          ],
                          [
                            0.6666666666666666,
                            "#ed7953"
                          ],
                          [
                            0.7777777777777778,
                            "#fb9f3a"
                          ],
                          [
                            0.8888888888888888,
                            "#fdca26"
                          ],
                          [
                            1,
                            "#f0f921"
                          ]
                        ],
                        "type": "histogram2dcontour"
                      }
                    ],
                    "mesh3d": [
                      {
                        "colorbar": {
                          "outlinewidth": 0,
                          "ticks": ""
                        },
                        "type": "mesh3d"
                      }
                    ],
                    "parcoords": [
                      {
                        "line": {
                          "colorbar": {
                            "outlinewidth": 0,
                            "ticks": ""
                          }
                        },
                        "type": "parcoords"
                      }
                    ],
                    "pie": [
                      {
                        "automargin": true,
                        "type": "pie"
                      }
                    ],
                    "scatter": [
                      {
                        "fillpattern": {
                          "fillmode": "overlay",
                          "size": 10,
                          "solidity": 0.2
                        },
                        "type": "scatter"
                      }
                    ],
                    "scatter3d": [
                      {
                        "line": {
                          "colorbar": {
                            "outlinewidth": 0,
                            "ticks": ""
                          }
                        },
                        "marker": {
                          "colorbar": {
                            "outlinewidth": 0,
                            "ticks": ""
                          }
                        },
                        "type": "scatter3d"
                      }
                    ],
                    "scattercarpet": [
                      {
                        "marker": {
                          "colorbar": {
                            "outlinewidth": 0,
                            "ticks": ""
                          }
                        },
                        "type": "scattercarpet"
                      }
                    ],
                    "scattergeo": [
                      {
                        "marker": {
                          "colorbar": {
                            "outlinewidth": 0,
                            "ticks": ""
                          }
                        },
                        "type": "scattergeo"
                      }
                    ],
                    "scattergl": [
                      {
                        "marker": {
                          "colorbar": {
                            "outlinewidth": 0,
                            "ticks": ""
                          }
                        },
                        "type": "scattergl"
                      }
                    ],
                    "scattermap": [
                      {
                        "marker": {
                          "colorbar": {
                            "outlinewidth": 0,
                            "ticks": ""
                          }
                        },
                        "type": "scattermap"
                      }
                    ],
                    "scattermapbox": [
                      {
                        "marker": {
                          "colorbar": {
                            "outlinewidth": 0,
                            "ticks": ""
                          }
                        },
                        "type": "scattermapbox"
                      }
                    ],
                    "scatterpolar": [
                      {
                        "marker": {
                          "colorbar": {
                            "outlinewidth": 0,
                            "ticks": ""
                          }
                        },
                        "type": "scatterpolar"
                      }
                    ],
                    "scatterpolargl": [
                      {
                        "marker": {
                          "colorbar": {
                            "outlinewidth": 0,
                            "ticks": ""
                          }
                        },
                        "type": "scatterpolargl"
                      }
                    ],
                    "scatterternary": [
                      {
                        "marker": {
                          "colorbar": {
                            "outlinewidth": 0,
                            "ticks": ""
                          }
                        },
                        "type": "scatterternary"
                      }
                    ],
                    "surface": [
                      {
                        "colorbar": {
                          "outlinewidth": 0,
                          "ticks": ""
                        },
                        "colorscale": [
                          [
                            0,
                            "#0d0887"
                          ],
                          [
                            0.1111111111111111,
                            "#46039f"
                          ],
                          [
                            0.2222222222222222,
                            "#7201a8"
                          ],
                          [
                            0.3333333333333333,
                            "#9c179e"
                          ],
                          [
                            0.4444444444444444,
                            "#bd3786"
                          ],
                          [
                            0.5555555555555556,
                            "#d8576b"
                          ],
                          [
                            0.6666666666666666,
                            "#ed7953"
                          ],
                          [
                            0.7777777777777778,
                            "#fb9f3a"
                          ],
                          [
                            0.8888888888888888,
                            "#fdca26"
                          ],
                          [
                            1,
                            "#f0f921"
                          ]
                        ],
                        "type": "surface"
                      }
                    ],
                    "table": [
                      {
                        "cells": {
                          "fill": {
                            "color": "#EBF0F8"
                          },
                          "line": {
                            "color": "white"
                          }
                        },
                        "header": {
                          "fill": {
                            "color": "#C8D4E3"
                          },
                          "line": {
                            "color": "white"
                          }
                        },
                        "type": "table"
                      }
                    ]
                  },
                  "layout": {
                    "annotationdefaults": {
                      "arrowcolor": "#2a3f5f",
                      "arrowhead": 0,
                      "arrowwidth": 1
                    },
                    "autotypenumbers": "strict",
                    "coloraxis": {
                      "colorbar": {
                        "outlinewidth": 0,
                        "ticks": ""
                      }
                    },
                    "colorscale": {
                      "diverging": [
                        [
                          0,
                          "#8e0152"
                        ],
                        [
                          0.1,
                          "#c51b7d"
                        ],
                        [
                          0.2,
                          "#de77ae"
                        ],
                        [
                          0.3,
                          "#f1b6da"
                        ],
                        [
                          0.4,
                          "#fde0ef"
                        ],
                        [
                          0.5,
                          "#f7f7f7"
                        ],
                        [
                          0.6,
                          "#e6f5d0"
                        ],
                        [
                          0.7,
                          "#b8e186"
                        ],
                        [
                          0.8,
                          "#7fbc41"
                        ],
                        [
                          0.9,
                          "#4d9221"
                        ],
                        [
                          1,
                          "#276419"
                        ]
                      ],
                      "sequential": [
                        [
                          0,
                          "#0d0887"
                        ],
                        [
                          0.1111111111111111,
                          "#46039f"
                        ],
                        [
                          0.2222222222222222,
                          "#7201a8"
                        ],
                        [
                          0.3333333333333333,
                          "#9c179e"
                        ],
                        [
                          0.4444444444444444,
                          "#bd3786"
                        ],
                        [
                          0.5555555555555556,
                          "#d8576b"
                        ],
                        [
                          0.6666666666666666,
                          "#ed7953"
                        ],
                        [
                          0.7777777777777778,
                          "#fb9f3a"
                        ],
                        [
                          0.8888888888888888,
                          "#fdca26"
                        ],
                        [
                          1,
                          "#f0f921"
                        ]
                      ],
                      "sequentialminus": [
                        [
                          0,
                          "#0d0887"
                        ],
                        [
                          0.1111111111111111,
                          "#46039f"
                        ],
                        [
                          0.2222222222222222,
                          "#7201a8"
                        ],
                        [
                          0.3333333333333333,
                          "#9c179e"
                        ],
                        [
                          0.4444444444444444,
                          "#bd3786"
                        ],
                        [
                          0.5555555555555556,
                          "#d8576b"
                        ],
                        [
                          0.6666666666666666,
                          "#ed7953"
                        ],
                        [
                          0.7777777777777778,
                          "#fb9f3a"
                        ],
                        [
                          0.8888888888888888,
                          "#fdca26"
                        ],
                        [
                          1,
                          "#f0f921"
                        ]
                      ]
                    },
                    "colorway": [
                      "#636efa",
                      "#EF553B",
                      "#00cc96",
                      "#ab63fa",
                      "#FFA15A",
                      "#19d3f3",
                      "#FF6692",
                      "#B6E880",
                      "#FF97FF",
                      "#FECB52"
                    ],
                    "font": {
                      "color": "#2a3f5f"
                    },
                    "geo": {
                      "bgcolor": "white",
                      "lakecolor": "white",
                      "landcolor": "#E5ECF6",
                      "showlakes": true,
                      "showland": true,
                      "subunitcolor": "white"
                    },
                    "hoverlabel": {
                      "align": "left"
                    },
                    "hovermode": "closest",
                    "mapbox": {
                      "style": "light"
                    },
                    "paper_bgcolor": "white",
                    "plot_bgcolor": "#E5ECF6",
                    "polar": {
                      "angularaxis": {
                        "gridcolor": "white",
                        "linecolor": "white",
                        "ticks": ""
                      },
                      "bgcolor": "#E5ECF6",
                      "radialaxis": {
                        "gridcolor": "white",
                        "linecolor": "white",
                        "ticks": ""
                      }
                    },
                    "scene": {
                      "xaxis": {
                        "backgroundcolor": "#E5ECF6",
                        "gridcolor": "white",
                        "gridwidth": 2,
                        "linecolor": "white",
                        "showbackground": true,
                        "ticks": "",
                        "zerolinecolor": "white"
                      },
                      "yaxis": {
                        "backgroundcolor": "#E5ECF6",
                        "gridcolor": "white",
                        "gridwidth": 2,
                        "linecolor": "white",
                        "showbackground": true,
                        "ticks": "",
                        "zerolinecolor": "white"
                      },
                      "zaxis": {
                        "backgroundcolor": "#E5ECF6",
                        "gridcolor": "white",
                        "gridwidth": 2,
                        "linecolor": "white",
                        "showbackground": true,
                        "ticks": "",
                        "zerolinecolor": "white"
                      }
                    },
                    "shapedefaults": {
                      "line": {
                        "color": "#2a3f5f"
                      }
                    },
                    "ternary": {
                      "aaxis": {
                        "gridcolor": "white",
                        "linecolor": "white",
                        "ticks": ""
                      },
                      "baxis": {
                        "gridcolor": "white",
                        "linecolor": "white",
                        "ticks": ""
                      },
                      "bgcolor": "#E5ECF6",
                      "caxis": {
                        "gridcolor": "white",
                        "linecolor": "white",
                        "ticks": ""
                      }
                    },
                    "title": {
                      "x": 0.05
                    },
                    "xaxis": {
                      "automargin": true,
                      "gridcolor": "white",
                      "linecolor": "white",
                      "ticks": "",
                      "title": {
                        "standoff": 15
                      },
                      "zerolinecolor": "white",
                      "zerolinewidth": 2
                    },
                    "yaxis": {
                      "automargin": true,
                      "gridcolor": "white",
                      "linecolor": "white",
                      "ticks": "",
                      "title": {
                        "standoff": 15
                      },
                      "zerolinecolor": "white",
                      "zerolinewidth": 2
                    }
                  }
                },
                "title": {
                  "text": "Bubble Chart: BAC Limit vs % Deaths Due to Alcohol (with size of bubble as Total Deaths)",
                  "x": 0.5
                },
                "xaxis": {
                  "anchor": "y",
                  "domain": [
                    0,
                    1
                  ],
                  "title": {
                    "text": "BAC Limit (g/dl)"
                  }
                },
                "yaxis": {
                  "anchor": "x",
                  "domain": [
                    0,
                    1
                  ],
                  "title": {
                    "text": "Percentage of Deaths Due to Alcohol"
                  }
                }
              }
            }
          },
          "metadata": {},
          "output_type": "display_data"
        }
      ],
      "source": [
        "# Bubble chart:\n",
        "#X-axis: BAC limit (lower = stricter)\n",
        "#Y-axis: % of deaths due to alcohol\n",
        "#Size: total traffic deaths\n",
        "#Color: Country\n",
        "\n",
        "import plotly.express as px\n",
        "import pandas as pd\n",
        "import numpy as np\n",
        "\n",
        "# Using % deaths due to alcohol from the previous dfap dataframe\n",
        "# Using size of total traffic deaths from the dfe dataframe\n",
        "\n",
        "# Using BAC limit from the df dataframe\n",
        "# Filter the dataset for relevant types\n",
        "dfbac = df[df['Type'].isin(['Blood Alcohol Concentration (BAC) limit for drivers'])]\n",
        "# The data is in the form: - if there is no limit\n",
        "# Of the form <0.05 g/dl if there is a limit (< can also be <=)\n",
        "# There is no < or <= if limit is 0 g/dl\n",
        "# Some are of the form: 0.00 - 0.08 g/dl\n",
        "\n",
        "# We will use the upper limit for the BAC limit\n",
        "\n",
        "def extract_value(value):\n",
        "    if value == '-':\n",
        "        value = np.nan\n",
        "    elif '=' in value:\n",
        "        value = value.split('=')[1].strip()\n",
        "        value = value.replace('g/dl', '').replace(' ', '').replace(',', '')\n",
        "    elif '<' in value:\n",
        "        value = value.split('<')[1].strip()\n",
        "        value = value.replace('g/dl', '').replace(' ', '').replace(',', '')\n",
        "    elif '-' in value:\n",
        "        value = value.split('-')[1].strip()\n",
        "        value = value.replace('g/dl', '').replace(' ', '').replace(',', '')\n",
        "    else:\n",
        "        value = value.split(' ')[0].strip()\n",
        "        value = value.replace('g/dl', '').replace(' ', '').replace(',', '')\n",
        "\n",
        "    return float(value)\n",
        "\n",
        "# Apply the function to the 'Blood Alcohol Concentration (BAC) limit for drivers' values\n",
        "dfbac['Value'] = dfbac['Value'].apply(extract_value)\n",
        "# Drop nan\n",
        "dfbac.dropna(subset=['Value'], inplace=True)\n",
        "# reset index\n",
        "dfbac.reset_index(drop=True, inplace=True)\n",
        "#display(dfbac.head())\n",
        "\n",
        "# Create a pivot table to get the values for each country/region\n",
        "pivot_table_bac = dfbac.pivot_table(index=['Country_Code', 'Country_Name'], columns='Type', values='Value', aggfunc='mean').reset_index()\n",
        "#display(pivot_table_bac.head())  # Display the first few rows of the pivot table\n",
        "\n",
        "# Merge the dataframes to get the BAC limit, % deaths due to alcohol and total traffic deaths in one dataframe\n",
        "# Merge the dataframes on Country_Code and Country_Name\n",
        "\n",
        "merged_df = pd.merge(pivot_table_ap, pivot_table_bac, on=['Country_Code', 'Country_Name'], how='inner')\n",
        "merged_df = pd.merge(merged_df, pivot_table_e, on=['Country_Code', 'Country_Name'], how='inner')\n",
        "display(merged_df.head())  # Display the first few rows of the merged dataframe\n",
        "\n",
        "# Make the bubble chart using plotly express\n",
        "\n",
        "# scale the size of the bubbles to be more manageable\n",
        "merged_df['Scaled Deaths'] = merged_df['Estimated number of road traffic deaths'] / 1000\n",
        "\n",
        "# Sort so that large bubbles go behind\n",
        "merged_df = merged_df.sort_values('Scaled Deaths', ascending=False)\n",
        "fig1 = px.scatter(\n",
        "    merged_df,\n",
        "    x='Blood Alcohol Concentration (BAC) limit for drivers',\n",
        "    y='Attribution of road traffic deaths to alcohol (%)',\n",
        "    #size='Scaled Deaths',  # scaled size\n",
        "    color='Country_Name',  # each country gets a unique color\n",
        "    hover_name='Country_Name',\n",
        "    title='Bubble Chart: BAC Limit vs % Deaths Due to Alcohol',\n",
        "    labels={\n",
        "        'Blood Alcohol Concentration (BAC) limit for drivers': 'BAC Limit (g/dl)',\n",
        "        'Attribution of road traffic deaths to alcohol (%)': 'Percentage of Deaths Due to Alcohol'\n",
        "    },\n",
        "    size_max=30,  # reduce max size\n",
        "    height=600,\n",
        ")\n",
        "\n",
        "fig1.update_traces(marker=dict(sizemode='diameter', opacity=0.7, line_width=1))\n",
        "fig1.update_layout(\n",
        "    title_x=0.5,\n",
        "    legend_title_text='Country',\n",
        "    showlegend=True  # set True if you want a clickable color legend\n",
        ")\n",
        "\n",
        "fig1.show()\n",
        "\n",
        "fig = px.scatter(\n",
        "    merged_df,\n",
        "    x='Blood Alcohol Concentration (BAC) limit for drivers',\n",
        "    y='Attribution of road traffic deaths to alcohol (%)',\n",
        "    size='Scaled Deaths',  # scaled size\n",
        "    color='Country_Name',  # each country gets a unique color\n",
        "    hover_name='Country_Name',\n",
        "    title='Bubble Chart: BAC Limit vs % Deaths Due to Alcohol (with size of bubble as Total Deaths)',\n",
        "    labels={\n",
        "        'Blood Alcohol Concentration (BAC) limit for drivers': 'BAC Limit (g/dl)',\n",
        "        'Attribution of road traffic deaths to alcohol (%)': 'Percentage of Deaths Due to Alcohol'\n",
        "    },\n",
        "    size_max=30,  # reduce max size\n",
        "    height=600,\n",
        ")\n",
        "\n",
        "fig.update_traces(marker=dict(sizemode='diameter', opacity=0.7, line_width=1))\n",
        "fig.update_layout(\n",
        "    title_x=0.5,\n",
        "    legend_title_text='Country',\n",
        "    showlegend=True  # set True if you want a clickable color legend\n",
        ")\n",
        "\n",
        "fig.show()"
      ]
    },
    {
      "cell_type": "markdown",
      "id": "bb15e514",
      "metadata": {},
      "source": [
        "Our eyes search for a pattern. Is stricter better? Are countries with tighter BAC limits safer?\n",
        "\n",
        "Surprisingly… no clear trend. Big or small, strict or lenient — countries seem scattered. Some with high BAC limits have low alcohol-related deaths, while others with low limits have high deaths. Even the countries with the highest death rate due to alcohol (like South Africa, Lesotho, and Papua New Guinea) have a wide range of BAC limits. This suggests that the relationship between BAC limits and alcohol-related deaths is not straightforward.\n",
        "\n",
        "In order to test this hypothesis, we can use a linear regression model to see if there is any correlation between the two variables."
      ]
    },
    {
      "cell_type": "markdown",
      "id": "accbe41e",
      "metadata": {},
      "source": [
        "### The Linear Lie\n",
        "To test our intuition, we tried to fit a regression line between BAC limit and alcohol-related deaths."
      ]
    },
    {
      "cell_type": "code",
      "execution_count": 26,
      "id": "1cdd211d",
      "metadata": {
        "colab": {
          "base_uri": "https://localhost:8080/",
          "height": 573
        },
        "id": "1cdd211d",
        "outputId": "c292648e-12b8-44a6-910d-eaf6a0e6189e"
      },
      "outputs": [
        {
          "data": {
            "image/png": "[encoded data removed]",
            "text/plain": [
              "<Figure size 1000x600 with 1 Axes>"
            ]
          },
          "metadata": {},
          "output_type": "display_data"
        }
      ],
      "source": [
        "# regression line for the bubble chart\n",
        "import statsmodels.api as sm\n",
        "import matplotlib.pyplot as plt\n",
        "\n",
        "# Data for regression: merged_df dataframe\n",
        "# X: BAC limit (g/dl)\n",
        "# Y: % deaths due to alcohol\n",
        "# Size: total traffic deaths (scaled)\n",
        "# Color: Country\n",
        "# We will use the scaled size for the regression line\n",
        "\n",
        "# Create a new dataframe with the relevant columns\n",
        "regression_df = merged_df[['Blood Alcohol Concentration (BAC) limit for drivers',\n",
        "                             'Attribution of road traffic deaths to alcohol (%)',\n",
        "                             'Scaled Deaths']].copy()\n",
        "regression_df.rename(columns={'Blood Alcohol Concentration (BAC) limit for drivers': 'BAC Limit',\n",
        "                               'Attribution of road traffic deaths to alcohol (%)': 'Deaths Due to Alcohol (%)',\n",
        "                               'Scaled Deaths': 'Total Deaths'}, inplace=True)\n",
        "# Drop rows with NaN values\n",
        "regression_df.dropna(inplace=True)\n",
        "# Reset index\n",
        "regression_df.reset_index(drop=True, inplace=True)\n",
        "#display(regression_df.head())\n",
        "\n",
        "# Create a linear regression model\n",
        "X = regression_df['BAC Limit']\n",
        "Y = regression_df['Deaths Due to Alcohol (%)']\n",
        "X = sm.add_constant(X)  # Add a constant term to the predictor\n",
        "\n",
        "model = sm.OLS(Y, X).fit()  # Fit the model\n",
        "predictions = model.predict(X)  # Make predictions\n",
        "\n",
        "# Print the summary of the model\n",
        "#print(model.summary())\n",
        "\n",
        "# Plot the regression line\n",
        "plt.figure(figsize=(10, 6))\n",
        "plt.scatter(X['BAC Limit'], Y, s=regression_df['Total Deaths'], alpha=0.5)\n",
        "plt.plot(X['BAC Limit'], predictions, color='red', linewidth=2)\n",
        "plt.xlabel('BAC Limit (g/dl)')\n",
        "plt.ylabel('Deaths Due to Alcohol (%)')\n",
        "plt.title('Linear Regression: BAC Limit vs Deaths Due to Alcohol (%)')\n",
        "plt.grid()\n",
        "plt.show()"
      ]
    },
    {
      "cell_type": "markdown",
      "id": "bd55fbe4",
      "metadata": {},
      "source": [
        "But the line is nearly flat — like a car that just won’t start.\n",
        "\n",
        "This suggests that BAC limit alone isn’t a silver bullet. There might be other factors at play. \n",
        "\n",
        "Maybe it’s not just about the laws, but how they’re enforced. Or perhaps it’s about the funding for road safety strategies. Maybe the countries with the most deaths have the least funding for road safety and the countries with the least deaths have the most funding. "
      ]
    },
    {
      "cell_type": "markdown",
      "id": "c428c9f3",
      "metadata": {},
      "source": [
        "### Money Matters?\n",
        "\n",
        "Maybe it’s money that matters.\n",
        "\n",
        "We first find the percentage of countries that have recieve fundings for road safety strategies. \n",
        "- 18% of countries have full funding for road safety strategies.\n",
        "- 74% of countries have partial funding for road safety strategies.\n",
        "- 8% of countries have no funding for road safety strategies.\n",
        "\n",
        "Then, we make a similar bubble plot with the funding for road safety strategies as the colour of the bubble."
      ]
    },
    {
      "cell_type": "code",
      "execution_count": 28,
      "id": "2ed69b26",
      "metadata": {
        "colab": {
          "base_uri": "https://localhost:8080/",
          "height": 1000
        },
        "id": "2ed69b26",
        "outputId": "2d9a9696-e5c1-478e-c1f7-194980b066e9"
      },
      "outputs": [
        {
          "data": {
            "application/vnd.plotly.v1+json": {
              "config": {
                "plotlyServerURL": "https://plot.ly"
              },
              "data": [
                {
                  "hovertemplate": "Availability of Funding=%{x}<br>Number of Countries=%{y}<extra></extra>",
                  "legendgroup": "Partially funded",
                  "marker": {
                    "color": "#636EFA",
                    "pattern": {
                      "shape": ""
                    }
                  },
                  "name": "Partially funded",
                  "orientation": "v",
                  "showlegend": true,
                  "textposition": "auto",
                  "type": "bar",
                  "x": [
                    "Partially funded"
                  ],
                  "xaxis": "x",
                  "y": {
                    "bdata": "bg==",
                    "dtype": "i1"
                  },
                  "yaxis": "y"
                },
                {
                  "hovertemplate": "Availability of Funding=%{x}<br>Number of Countries=%{y}<extra></extra>",
                  "legendgroup": "Fully funded",
                  "marker": {
                    "color": "#EF553B",
                    "pattern": {
                      "shape": ""
                    }
                  },
                  "name": "Fully funded",
                  "orientation": "v",
                  "showlegend": true,
                  "textposition": "auto",
                  "type": "bar",
                  "x": [
                    "Fully funded"
                  ],
                  "xaxis": "x",
                  "y": {
                    "bdata": "Gw==",
                    "dtype": "i1"
                  },
                  "yaxis": "y"
                },
                {
                  "hovertemplate": "Availability of Funding=%{x}<br>Number of Countries=%{y}<extra></extra>",
                  "legendgroup": "Not funded",
                  "marker": {
                    "color": "#00CC96",
                    "pattern": {
                      "shape": ""
                    }
                  },
                  "name": "Not funded",
                  "orientation": "v",
                  "showlegend": true,
                  "textposition": "auto",
                  "type": "bar",
                  "x": [
                    "Not funded"
                  ],
                  "xaxis": "x",
                  "y": {
                    "bdata": "DA==",
                    "dtype": "i1"
                  },
                  "yaxis": "y"
                }
              ],
              "layout": {
                "barmode": "relative",
                "legend": {
                  "title": {
                    "text": "Availability of Funding"
                  },
                  "tracegroupgap": 0
                },
                "template": {
                  "data": {
                    "bar": [
                      {
                        "error_x": {
                          "color": "#2a3f5f"
                        },
                        "error_y": {
                          "color": "#2a3f5f"
                        },
                        "marker": {
                          "line": {
                            "color": "#E5ECF6",
                            "width": 0.5
                          },
                          "pattern": {
                            "fillmode": "overlay",
                            "size": 10,
                            "solidity": 0.2
                          }
                        },
                        "type": "bar"
                      }
                    ],
                    "barpolar": [
                      {
                        "marker": {
                          "line": {
                            "color": "#E5ECF6",
                            "width": 0.5
                          },
                          "pattern": {
                            "fillmode": "overlay",
                            "size": 10,
                            "solidity": 0.2
                          }
                        },
                        "type": "barpolar"
                      }
                    ],
                    "carpet": [
                      {
                        "aaxis": {
                          "endlinecolor": "#2a3f5f",
                          "gridcolor": "white",
                          "linecolor": "white",
                          "minorgridcolor": "white",
                          "startlinecolor": "#2a3f5f"
                        },
                        "baxis": {
                          "endlinecolor": "#2a3f5f",
                          "gridcolor": "white",
                          "linecolor": "white",
                          "minorgridcolor": "white",
                          "startlinecolor": "#2a3f5f"
                        },
                        "type": "carpet"
                      }
                    ],
                    "choropleth": [
                      {
                        "colorbar": {
                          "outlinewidth": 0,
                          "ticks": ""
                        },
                        "type": "choropleth"
                      }
                    ],
                    "contour": [
                      {
                        "colorbar": {
                          "outlinewidth": 0,
                          "ticks": ""
                        },
                        "colorscale": [
                          [
                            0,
                            "#0d0887"
                          ],
                          [
                            0.1111111111111111,
                            "#46039f"
                          ],
                          [
                            0.2222222222222222,
                            "#7201a8"
                          ],
                          [
                            0.3333333333333333,
                            "#9c179e"
                          ],
                          [
                            0.4444444444444444,
                            "#bd3786"
                          ],
                          [
                            0.5555555555555556,
                            "#d8576b"
                          ],
                          [
                            0.6666666666666666,
                            "#ed7953"
                          ],
                          [
                            0.7777777777777778,
                            "#fb9f3a"
                          ],
                          [
                            0.8888888888888888,
                            "#fdca26"
                          ],
                          [
                            1,
                            "#f0f921"
                          ]
                        ],
                        "type": "contour"
                      }
                    ],
                    "contourcarpet": [
                      {
                        "colorbar": {
                          "outlinewidth": 0,
                          "ticks": ""
                        },
                        "type": "contourcarpet"
                      }
                    ],
                    "heatmap": [
                      {
                        "colorbar": {
                          "outlinewidth": 0,
                          "ticks": ""
                        },
                        "colorscale": [
                          [
                            0,
                            "#0d0887"
                          ],
                          [
                            0.1111111111111111,
                            "#46039f"
                          ],
                          [
                            0.2222222222222222,
                            "#7201a8"
                          ],
                          [
                            0.3333333333333333,
                            "#9c179e"
                          ],
                          [
                            0.4444444444444444,
                            "#bd3786"
                          ],
                          [
                            0.5555555555555556,
                            "#d8576b"
                          ],
                          [
                            0.6666666666666666,
                            "#ed7953"
                          ],
                          [
                            0.7777777777777778,
                            "#fb9f3a"
                          ],
                          [
                            0.8888888888888888,
                            "#fdca26"
                          ],
                          [
                            1,
                            "#f0f921"
                          ]
                        ],
                        "type": "heatmap"
                      }
                    ],
                    "histogram": [
                      {
                        "marker": {
                          "pattern": {
                            "fillmode": "overlay",
                            "size": 10,
                            "solidity": 0.2
                          }
                        },
                        "type": "histogram"
                      }
                    ],
                    "histogram2d": [
                      {
                        "colorbar": {
                          "outlinewidth": 0,
                          "ticks": ""
                        },
                        "colorscale": [
                          [
                            0,
                            "#0d0887"
                          ],
                          [
                            0.1111111111111111,
                            "#46039f"
                          ],
                          [
                            0.2222222222222222,
                            "#7201a8"
                          ],
                          [
                            0.3333333333333333,
                            "#9c179e"
                          ],
                          [
                            0.4444444444444444,
                            "#bd3786"
                          ],
                          [
                            0.5555555555555556,
                            "#d8576b"
                          ],
                          [
                            0.6666666666666666,
                            "#ed7953"
                          ],
                          [
                            0.7777777777777778,
                            "#fb9f3a"
                          ],
                          [
                            0.8888888888888888,
                            "#fdca26"
                          ],
                          [
                            1,
                            "#f0f921"
                          ]
                        ],
                        "type": "histogram2d"
                      }
                    ],
                    "histogram2dcontour": [
                      {
                        "colorbar": {
                          "outlinewidth": 0,
                          "ticks": ""
                        },
                        "colorscale": [
                          [
                            0,
                            "#0d0887"
                          ],
                          [
                            0.1111111111111111,
                            "#46039f"
                          ],
                          [
                            0.2222222222222222,
                            "#7201a8"
                          ],
                          [
                            0.3333333333333333,
                            "#9c179e"
                          ],
                          [
                            0.4444444444444444,
                            "#bd3786"
                          ],
                          [
                            0.5555555555555556,
                            "#d8576b"
                          ],
                          [
                            0.6666666666666666,
                            "#ed7953"
                          ],
                          [
                            0.7777777777777778,
                            "#fb9f3a"
                          ],
                          [
                            0.8888888888888888,
                            "#fdca26"
                          ],
                          [
                            1,
                            "#f0f921"
                          ]
                        ],
                        "type": "histogram2dcontour"
                      }
                    ],
                    "mesh3d": [
                      {
                        "colorbar": {
                          "outlinewidth": 0,
                          "ticks": ""
                        },
                        "type": "mesh3d"
                      }
                    ],
                    "parcoords": [
                      {
                        "line": {
                          "colorbar": {
                            "outlinewidth": 0,
                            "ticks": ""
                          }
                        },
                        "type": "parcoords"
                      }
                    ],
                    "pie": [
                      {
                        "automargin": true,
                        "type": "pie"
                      }
                    ],
                    "scatter": [
                      {
                        "fillpattern": {
                          "fillmode": "overlay",
                          "size": 10,
                          "solidity": 0.2
                        },
                        "type": "scatter"
                      }
                    ],
                    "scatter3d": [
                      {
                        "line": {
                          "colorbar": {
                            "outlinewidth": 0,
                            "ticks": ""
                          }
                        },
                        "marker": {
                          "colorbar": {
                            "outlinewidth": 0,
                            "ticks": ""
                          }
                        },
                        "type": "scatter3d"
                      }
                    ],
                    "scattercarpet": [
                      {
                        "marker": {
                          "colorbar": {
                            "outlinewidth": 0,
                            "ticks": ""
                          }
                        },
                        "type": "scattercarpet"
                      }
                    ],
                    "scattergeo": [
                      {
                        "marker": {
                          "colorbar": {
                            "outlinewidth": 0,
                            "ticks": ""
                          }
                        },
                        "type": "scattergeo"
                      }
                    ],
                    "scattergl": [
                      {
                        "marker": {
                          "colorbar": {
                            "outlinewidth": 0,
                            "ticks": ""
                          }
                        },
                        "type": "scattergl"
                      }
                    ],
                    "scattermap": [
                      {
                        "marker": {
                          "colorbar": {
                            "outlinewidth": 0,
                            "ticks": ""
                          }
                        },
                        "type": "scattermap"
                      }
                    ],
                    "scattermapbox": [
                      {
                        "marker": {
                          "colorbar": {
                            "outlinewidth": 0,
                            "ticks": ""
                          }
                        },
                        "type": "scattermapbox"
                      }
                    ],
                    "scatterpolar": [
                      {
                        "marker": {
                          "colorbar": {
                            "outlinewidth": 0,
                            "ticks": ""
                          }
                        },
                        "type": "scatterpolar"
                      }
                    ],
                    "scatterpolargl": [
                      {
                        "marker": {
                          "colorbar": {
                            "outlinewidth": 0,
                            "ticks": ""
                          }
                        },
                        "type": "scatterpolargl"
                      }
                    ],
                    "scatterternary": [
                      {
                        "marker": {
                          "colorbar": {
                            "outlinewidth": 0,
                            "ticks": ""
                          }
                        },
                        "type": "scatterternary"
                      }
                    ],
                    "surface": [
                      {
                        "colorbar": {
                          "outlinewidth": 0,
                          "ticks": ""
                        },
                        "colorscale": [
                          [
                            0,
                            "#0d0887"
                          ],
                          [
                            0.1111111111111111,
                            "#46039f"
                          ],
                          [
                            0.2222222222222222,
                            "#7201a8"
                          ],
                          [
                            0.3333333333333333,
                            "#9c179e"
                          ],
                          [
                            0.4444444444444444,
                            "#bd3786"
                          ],
                          [
                            0.5555555555555556,
                            "#d8576b"
                          ],
                          [
                            0.6666666666666666,
                            "#ed7953"
                          ],
                          [
                            0.7777777777777778,
                            "#fb9f3a"
                          ],
                          [
                            0.8888888888888888,
                            "#fdca26"
                          ],
                          [
                            1,
                            "#f0f921"
                          ]
                        ],
                        "type": "surface"
                      }
                    ],
                    "table": [
                      {
                        "cells": {
                          "fill": {
                            "color": "#EBF0F8"
                          },
                          "line": {
                            "color": "white"
                          }
                        },
                        "header": {
                          "fill": {
                            "color": "#C8D4E3"
                          },
                          "line": {
                            "color": "white"
                          }
                        },
                        "type": "table"
                      }
                    ]
                  },
                  "layout": {
                    "annotationdefaults": {
                      "arrowcolor": "#2a3f5f",
                      "arrowhead": 0,
                      "arrowwidth": 1
                    },
                    "autotypenumbers": "strict",
                    "coloraxis": {
                      "colorbar": {
                        "outlinewidth": 0,
                        "ticks": ""
                      }
                    },
                    "colorscale": {
                      "diverging": [
                        [
                          0,
                          "#8e0152"
                        ],
                        [
                          0.1,
                          "#c51b7d"
                        ],
                        [
                          0.2,
                          "#de77ae"
                        ],
                        [
                          0.3,
                          "#f1b6da"
                        ],
                        [
                          0.4,
                          "#fde0ef"
                        ],
                        [
                          0.5,
                          "#f7f7f7"
                        ],
                        [
                          0.6,
                          "#e6f5d0"
                        ],
                        [
                          0.7,
                          "#b8e186"
                        ],
                        [
                          0.8,
                          "#7fbc41"
                        ],
                        [
                          0.9,
                          "#4d9221"
                        ],
                        [
                          1,
                          "#276419"
                        ]
                      ],
                      "sequential": [
                        [
                          0,
                          "#0d0887"
                        ],
                        [
                          0.1111111111111111,
                          "#46039f"
                        ],
                        [
                          0.2222222222222222,
                          "#7201a8"
                        ],
                        [
                          0.3333333333333333,
                          "#9c179e"
                        ],
                        [
                          0.4444444444444444,
                          "#bd3786"
                        ],
                        [
                          0.5555555555555556,
                          "#d8576b"
                        ],
                        [
                          0.6666666666666666,
                          "#ed7953"
                        ],
                        [
                          0.7777777777777778,
                          "#fb9f3a"
                        ],
                        [
                          0.8888888888888888,
                          "#fdca26"
                        ],
                        [
                          1,
                          "#f0f921"
                        ]
                      ],
                      "sequentialminus": [
                        [
                          0,
                          "#0d0887"
                        ],
                        [
                          0.1111111111111111,
                          "#46039f"
                        ],
                        [
                          0.2222222222222222,
                          "#7201a8"
                        ],
                        [
                          0.3333333333333333,
                          "#9c179e"
                        ],
                        [
                          0.4444444444444444,
                          "#bd3786"
                        ],
                        [
                          0.5555555555555556,
                          "#d8576b"
                        ],
                        [
                          0.6666666666666666,
                          "#ed7953"
                        ],
                        [
                          0.7777777777777778,
                          "#fb9f3a"
                        ],
                        [
                          0.8888888888888888,
                          "#fdca26"
                        ],
                        [
                          1,
                          "#f0f921"
                        ]
                      ]
                    },
                    "colorway": [
                      "#636efa",
                      "#EF553B",
                      "#00cc96",
                      "#ab63fa",
                      "#FFA15A",
                      "#19d3f3",
                      "#FF6692",
                      "#B6E880",
                      "#FF97FF",
                      "#FECB52"
                    ],
                    "font": {
                      "color": "#2a3f5f"
                    },
                    "geo": {
                      "bgcolor": "white",
                      "lakecolor": "white",
                      "landcolor": "#E5ECF6",
                      "showlakes": true,
                      "showland": true,
                      "subunitcolor": "white"
                    },
                    "hoverlabel": {
                      "align": "left"
                    },
                    "hovermode": "closest",
                    "mapbox": {
                      "style": "light"
                    },
                    "paper_bgcolor": "white",
                    "plot_bgcolor": "#E5ECF6",
                    "polar": {
                      "angularaxis": {
                        "gridcolor": "white",
                        "linecolor": "white",
                        "ticks": ""
                      },
                      "bgcolor": "#E5ECF6",
                      "radialaxis": {
                        "gridcolor": "white",
                        "linecolor": "white",
                        "ticks": ""
                      }
                    },
                    "scene": {
                      "xaxis": {
                        "backgroundcolor": "#E5ECF6",
                        "gridcolor": "white",
                        "gridwidth": 2,
                        "linecolor": "white",
                        "showbackground": true,
                        "ticks": "",
                        "zerolinecolor": "white"
                      },
                      "yaxis": {
                        "backgroundcolor": "#E5ECF6",
                        "gridcolor": "white",
                        "gridwidth": 2,
                        "linecolor": "white",
                        "showbackground": true,
                        "ticks": "",
                        "zerolinecolor": "white"
                      },
                      "zaxis": {
                        "backgroundcolor": "#E5ECF6",
                        "gridcolor": "white",
                        "gridwidth": 2,
                        "linecolor": "white",
                        "showbackground": true,
                        "ticks": "",
                        "zerolinecolor": "white"
                      }
                    },
                    "shapedefaults": {
                      "line": {
                        "color": "#2a3f5f"
                      }
                    },
                    "ternary": {
                      "aaxis": {
                        "gridcolor": "white",
                        "linecolor": "white",
                        "ticks": ""
                      },
                      "baxis": {
                        "gridcolor": "white",
                        "linecolor": "white",
                        "ticks": ""
                      },
                      "bgcolor": "#E5ECF6",
                      "caxis": {
                        "gridcolor": "white",
                        "linecolor": "white",
                        "ticks": ""
                      }
                    },
                    "title": {
                      "x": 0.05
                    },
                    "xaxis": {
                      "automargin": true,
                      "gridcolor": "white",
                      "linecolor": "white",
                      "ticks": "",
                      "title": {
                        "standoff": 15
                      },
                      "zerolinecolor": "white",
                      "zerolinewidth": 2
                    },
                    "yaxis": {
                      "automargin": true,
                      "gridcolor": "white",
                      "linecolor": "white",
                      "ticks": "",
                      "title": {
                        "standoff": 15
                      },
                      "zerolinecolor": "white",
                      "zerolinewidth": 2
                    }
                  }
                },
                "title": {
                  "text": "Number of Countries vs Availability of Funding for National Road Safety Strategy",
                  "x": 0.5
                },
                "xaxis": {
                  "anchor": "y",
                  "categoryarray": [
                    "Partially funded",
                    "Fully funded",
                    "Not funded"
                  ],
                  "categoryorder": "array",
                  "domain": [
                    0,
                    1
                  ],
                  "title": {
                    "text": "Availability of Funding"
                  }
                },
                "yaxis": {
                  "anchor": "x",
                  "domain": [
                    0,
                    1
                  ],
                  "title": {
                    "text": "Number of Countries"
                  }
                }
              }
            }
          },
          "metadata": {},
          "output_type": "display_data"
        },
        {
          "name": "stdout",
          "output_type": "stream",
          "text": [
            "            Funding  Count  Percentage\n",
            "0  Partially funded    110   73.825503\n",
            "1      Fully funded     27   18.120805\n",
            "2        Not funded     12    8.053691\n"
          ]
        },
        {
          "data": {
            "application/vnd.plotly.v1+json": {
              "config": {
                "plotlyServerURL": "https://plot.ly"
              },
              "data": [
                {
                  "hovertemplate": "<b>%{hovertext}</b><br><br>Funding=Partially funded<br>BAC Limit (g/dl)=%{x}<br>Percentage of Deaths Due to Alcohol=%{y}<extra></extra>",
                  "hovertext": [
                    "China",
                    "India",
                    "Ethiopia",
                    "Thailand",
                    "Russian Federation",
                    "South Africa",
                    "United Republic of Tanzania",
                    "Uganda",
                    "Malaysia",
                    "Mali",
                    "Peru",
                    "Ecuador",
                    "Republic of Korea",
                    "Cambodia",
                    "Italy",
                    "Germany",
                    "Poland",
                    "Kazakhstan",
                    "Bolivia (Plurinational State of)",
                    "Chile",
                    "Honduras",
                    "Romania",
                    "Canada",
                    "United Kingdom of Great Britain and Northern Ireland",
                    "Greece",
                    "Portugal",
                    "Hungary",
                    "Belarus",
                    "Netherlands (Kingdom of the)",
                    "Bulgaria",
                    "United Arab Emirates",
                    "Namibia",
                    "Czechia",
                    "Serbia",
                    "Georgia",
                    "Bosnia and Herzegovina",
                    "Mongolia",
                    "Austria",
                    "Slovakia",
                    "Albania",
                    "Republic of Moldova",
                    "Finland",
                    "Sweden",
                    "Lithuania",
                    "Guyana",
                    "Slovenia",
                    "North Macedonia",
                    "Singapore",
                    "Estonia",
                    "Cyprus",
                    "Fiji",
                    "Luxembourg",
                    "Iceland",
                    "Tonga",
                    "Cook Islands"
                  ],
                  "legendgroup": "Partially funded",
                  "marker": {
                    "color": "#636efa",
                    "line": {
                      "width": 1
                    },
                    "opacity": 0.7,
                    "sizemode": "diameter",
                    "symbol": "circle"
                  },
                  "mode": "markers",
                  "name": "Partially funded",
                  "orientation": "v",
                  "showlegend": true,
                  "type": "scatter",
                  "x": {
                    "bdata": "exSuR+F6lD+4HoXrUbieP3sUrkfherQ/7FG4HoXroT+4HoXrUbieP5qZmZmZmak/exSuR+F6tD97FK5H4Xq0P3sUrkfherQ/uB6F61G4nj+amZmZmZmpP7gehetRuJ4/mpmZmZmZqT+amZmZmZmpP5qZmZmZmZk/mpmZmZmZmT97FK5H4XqUP5qZmZmZmak/mpmZmZmZqT+4HoXrUbieP+xRuB6F67E/exSuR+F6tD97FK5H4Xq0P3sUrkfherQ/mpmZmZmZqT/sUbgeheuhPwAAAAAAAAAAuB6F61G4nj/sUbgeheuhP5qZmZmZmak/exSuR+F6hD/TTWIQWDm0P7gehetRuJ4/uB6F61G4jj+4HoXrUbieP7gehetRuI4/exSuR+F6pD+5HoXrUbiePwAAAAAAAAAAmpmZmZmZqT+4HoXrUbieP5qZmZmZmak/exSuR+F6lD97FK5H4XqUP3sUrkfherQ/mpmZmZmZmT+5HoXrUbieP3sUrkfherQ/exSuR+F6lD/sUbgeheuhP3sUrkfheqQ/7FG4HoXroT+amZmZmZmpP7gehetRuJ4/exSuR+F6tD8=",
                    "dtype": "f8"
                  },
                  "xaxis": "x",
                  "y": {
                    "bdata": "mpmZmZmZ2T9mZmZmZmYQQDMzMzMzMxFAMzMzMzMzLEBmZmZmZuY2QAAAAAAAwExAAAAAAAAA8D+amZmZmZnpP5qZmZmZmbk/mpmZmZmZ2T+amZmZmZkiQDMzMzMzMxtAZmZmZmZmJkAAAAAAAAAqQAAAAAAAADRAAAAAAAAAHEBmZmZmZmYpQDMzMzMzM9M/mpmZmZmZGUAAAAAAAAAqQDMzMzMzMxtAZmZmZmZmFkCamZmZmZk9QAAAAAAAACpAzczMzMxMOUAzMzMzMzM9QGZmZmZmZhxAmpmZmZmZLEAAAAAAAAAmQM3MzMzMzOw/zczMzMzM/D8zMzMzMzMPQAAAAAAAACNAAAAAAAAAMUAAAAAAAAAiQM3MzMzMzDRAAAAAAAAAOUBmZmZmZmYUQGZmZmZmZhhAzczMzMzMFEDNzMzMzMwiQAAAAAAAADhAAAAAAAAAOEAzMzMzMzMjQAAAAAAAADFAAAAAAAAAQEBmZmZmZmb2P5qZmZmZmRlAAAAAAAAAJEBmZmZmZmYxQAAAAAAAABRAAAAAAAAALEAAAAAAAAAsQAAAAAAAQFNAAAAAAACAQ0A=",
                    "dtype": "f8"
                  },
                  "yaxis": "y"
                },
                {
                  "hovertemplate": "<b>%{hovertext}</b><br><br>Funding=Fully funded<br>BAC Limit (g/dl)=%{x}<br>Percentage of Deaths Due to Alcohol=%{y}<extra></extra>",
                  "hovertext": [
                    "United States of America",
                    "Nigeria",
                    "Morocco",
                    "Türkiye",
                    "Argentina",
                    "Japan",
                    "France",
                    "Spain",
                    "Costa Rica",
                    "Cuba",
                    "Botswana",
                    "Israel",
                    "New Zealand",
                    "Croatia",
                    "Ireland",
                    "Mauritius",
                    "Norway"
                  ],
                  "legendgroup": "Fully funded",
                  "marker": {
                    "color": "#EF553B",
                    "line": {
                      "width": 1
                    },
                    "opacity": 0.7,
                    "sizemode": "diameter",
                    "symbol": "circle"
                  },
                  "mode": "markers",
                  "name": "Fully funded",
                  "orientation": "v",
                  "showlegend": true,
                  "type": "scatter",
                  "x": {
                    "bdata": "exSuR+F6tD86tMh2vp+aP3sUrkfhepQ/mpmZmZmZqT+amZmZmZmpP7gehetRuJ4/7FG4HoXroT97FK5H4XqkP+xRuB6F66E/exSuR+F6dD+amZmZmZmpP7kehetRuJ4/mpmZmZmZmT+amZmZmZmZP+xRuB6F66E/mpmZmZmZqT97FK5H4XqUPw==",
                    "dtype": "f8"
                  },
                  "xaxis": "x",
                  "y": {
                    "bdata": "AAAAAAAAPUAAAAAAAADgP5qZmZmZmQ1AZmZmZmZmCkAAAAAAAAAxQGZmZmZmZhZAAAAAAAAAPUAAAAAAAAAxQDMzMzMzMz9AZmZmZmamQEBmZmZmZmYOQM3MzMzMzAxAAAAAAAAAO0DNzMzMzMw3QAAAAAAAQENAmpmZmZmZN0AAAAAAAAAqQA==",
                    "dtype": "f8"
                  },
                  "yaxis": "y"
                },
                {
                  "hovertemplate": "<b>%{hovertext}</b><br><br>Funding=Not funded<br>BAC Limit (g/dl)=%{x}<br>Percentage of Deaths Due to Alcohol=%{y}<extra></extra>",
                  "hovertext": [
                    "Australia",
                    "Latvia"
                  ],
                  "legendgroup": "Not funded",
                  "marker": {
                    "color": "#00cc96",
                    "line": {
                      "width": 1
                    },
                    "opacity": 0.7,
                    "sizemode": "diameter",
                    "symbol": "circle"
                  },
                  "mode": "markers",
                  "name": "Not funded",
                  "orientation": "v",
                  "showlegend": true,
                  "type": "scatter",
                  "x": {
                    "bdata": "mpmZmZmZmT/sUbgeheuhPw==",
                    "dtype": "f8"
                  },
                  "xaxis": "x",
                  "y": {
                    "bdata": "AAAAAAAAMUCamZmZmZklQA==",
                    "dtype": "f8"
                  },
                  "yaxis": "y"
                }
              ],
              "layout": {
                "height": 600,
                "legend": {
                  "title": {
                    "text": "Country"
                  },
                  "tracegroupgap": 0
                },
                "showlegend": true,
                "template": {
                  "data": {
                    "bar": [
                      {
                        "error_x": {
                          "color": "#2a3f5f"
                        },
                        "error_y": {
                          "color": "#2a3f5f"
                        },
                        "marker": {
                          "line": {
                            "color": "#E5ECF6",
                            "width": 0.5
                          },
                          "pattern": {
                            "fillmode": "overlay",
                            "size": 10,
                            "solidity": 0.2
                          }
                        },
                        "type": "bar"
                      }
                    ],
                    "barpolar": [
                      {
                        "marker": {
                          "line": {
                            "color": "#E5ECF6",
                            "width": 0.5
                          },
                          "pattern": {
                            "fillmode": "overlay",
                            "size": 10,
                            "solidity": 0.2
                          }
                        },
                        "type": "barpolar"
                      }
                    ],
                    "carpet": [
                      {
                        "aaxis": {
                          "endlinecolor": "#2a3f5f",
                          "gridcolor": "white",
                          "linecolor": "white",
                          "minorgridcolor": "white",
                          "startlinecolor": "#2a3f5f"
                        },
                        "baxis": {
                          "endlinecolor": "#2a3f5f",
                          "gridcolor": "white",
                          "linecolor": "white",
                          "minorgridcolor": "white",
                          "startlinecolor": "#2a3f5f"
                        },
                        "type": "carpet"
                      }
                    ],
                    "choropleth": [
                      {
                        "colorbar": {
                          "outlinewidth": 0,
                          "ticks": ""
                        },
                        "type": "choropleth"
                      }
                    ],
                    "contour": [
                      {
                        "colorbar": {
                          "outlinewidth": 0,
                          "ticks": ""
                        },
                        "colorscale": [
                          [
                            0,
                            "#0d0887"
                          ],
                          [
                            0.1111111111111111,
                            "#46039f"
                          ],
                          [
                            0.2222222222222222,
                            "#7201a8"
                          ],
                          [
                            0.3333333333333333,
                            "#9c179e"
                          ],
                          [
                            0.4444444444444444,
                            "#bd3786"
                          ],
                          [
                            0.5555555555555556,
                            "#d8576b"
                          ],
                          [
                            0.6666666666666666,
                            "#ed7953"
                          ],
                          [
                            0.7777777777777778,
                            "#fb9f3a"
                          ],
                          [
                            0.8888888888888888,
                            "#fdca26"
                          ],
                          [
                            1,
                            "#f0f921"
                          ]
                        ],
                        "type": "contour"
                      }
                    ],
                    "contourcarpet": [
                      {
                        "colorbar": {
                          "outlinewidth": 0,
                          "ticks": ""
                        },
                        "type": "contourcarpet"
                      }
                    ],
                    "heatmap": [
                      {
                        "colorbar": {
                          "outlinewidth": 0,
                          "ticks": ""
                        },
                        "colorscale": [
                          [
                            0,
                            "#0d0887"
                          ],
                          [
                            0.1111111111111111,
                            "#46039f"
                          ],
                          [
                            0.2222222222222222,
                            "#7201a8"
                          ],
                          [
                            0.3333333333333333,
                            "#9c179e"
                          ],
                          [
                            0.4444444444444444,
                            "#bd3786"
                          ],
                          [
                            0.5555555555555556,
                            "#d8576b"
                          ],
                          [
                            0.6666666666666666,
                            "#ed7953"
                          ],
                          [
                            0.7777777777777778,
                            "#fb9f3a"
                          ],
                          [
                            0.8888888888888888,
                            "#fdca26"
                          ],
                          [
                            1,
                            "#f0f921"
                          ]
                        ],
                        "type": "heatmap"
                      }
                    ],
                    "histogram": [
                      {
                        "marker": {
                          "pattern": {
                            "fillmode": "overlay",
                            "size": 10,
                            "solidity": 0.2
                          }
                        },
                        "type": "histogram"
                      }
                    ],
                    "histogram2d": [
                      {
                        "colorbar": {
                          "outlinewidth": 0,
                          "ticks": ""
                        },
                        "colorscale": [
                          [
                            0,
                            "#0d0887"
                          ],
                          [
                            0.1111111111111111,
                            "#46039f"
                          ],
                          [
                            0.2222222222222222,
                            "#7201a8"
                          ],
                          [
                            0.3333333333333333,
                            "#9c179e"
                          ],
                          [
                            0.4444444444444444,
                            "#bd3786"
                          ],
                          [
                            0.5555555555555556,
                            "#d8576b"
                          ],
                          [
                            0.6666666666666666,
                            "#ed7953"
                          ],
                          [
                            0.7777777777777778,
                            "#fb9f3a"
                          ],
                          [
                            0.8888888888888888,
                            "#fdca26"
                          ],
                          [
                            1,
                            "#f0f921"
                          ]
                        ],
                        "type": "histogram2d"
                      }
                    ],
                    "histogram2dcontour": [
                      {
                        "colorbar": {
                          "outlinewidth": 0,
                          "ticks": ""
                        },
                        "colorscale": [
                          [
                            0,
                            "#0d0887"
                          ],
                          [
                            0.1111111111111111,
                            "#46039f"
                          ],
                          [
                            0.2222222222222222,
                            "#7201a8"
                          ],
                          [
                            0.3333333333333333,
                            "#9c179e"
                          ],
                          [
                            0.4444444444444444,
                            "#bd3786"
                          ],
                          [
                            0.5555555555555556,
                            "#d8576b"
                          ],
                          [
                            0.6666666666666666,
                            "#ed7953"
                          ],
                          [
                            0.7777777777777778,
                            "#fb9f3a"
                          ],
                          [
                            0.8888888888888888,
                            "#fdca26"
                          ],
                          [
                            1,
                            "#f0f921"
                          ]
                        ],
                        "type": "histogram2dcontour"
                      }
                    ],
                    "mesh3d": [
                      {
                        "colorbar": {
                          "outlinewidth": 0,
                          "ticks": ""
                        },
                        "type": "mesh3d"
                      }
                    ],
                    "parcoords": [
                      {
                        "line": {
                          "colorbar": {
                            "outlinewidth": 0,
                            "ticks": ""
                          }
                        },
                        "type": "parcoords"
                      }
                    ],
                    "pie": [
                      {
                        "automargin": true,
                        "type": "pie"
                      }
                    ],
                    "scatter": [
                      {
                        "fillpattern": {
                          "fillmode": "overlay",
                          "size": 10,
                          "solidity": 0.2
                        },
                        "type": "scatter"
                      }
                    ],
                    "scatter3d": [
                      {
                        "line": {
                          "colorbar": {
                            "outlinewidth": 0,
                            "ticks": ""
                          }
                        },
                        "marker": {
                          "colorbar": {
                            "outlinewidth": 0,
                            "ticks": ""
                          }
                        },
                        "type": "scatter3d"
                      }
                    ],
                    "scattercarpet": [
                      {
                        "marker": {
                          "colorbar": {
                            "outlinewidth": 0,
                            "ticks": ""
                          }
                        },
                        "type": "scattercarpet"
                      }
                    ],
                    "scattergeo": [
                      {
                        "marker": {
                          "colorbar": {
                            "outlinewidth": 0,
                            "ticks": ""
                          }
                        },
                        "type": "scattergeo"
                      }
                    ],
                    "scattergl": [
                      {
                        "marker": {
                          "colorbar": {
                            "outlinewidth": 0,
                            "ticks": ""
                          }
                        },
                        "type": "scattergl"
                      }
                    ],
                    "scattermap": [
                      {
                        "marker": {
                          "colorbar": {
                            "outlinewidth": 0,
                            "ticks": ""
                          }
                        },
                        "type": "scattermap"
                      }
                    ],
                    "scattermapbox": [
                      {
                        "marker": {
                          "colorbar": {
                            "outlinewidth": 0,
                            "ticks": ""
                          }
                        },
                        "type": "scattermapbox"
                      }
                    ],
                    "scatterpolar": [
                      {
                        "marker": {
                          "colorbar": {
                            "outlinewidth": 0,
                            "ticks": ""
                          }
                        },
                        "type": "scatterpolar"
                      }
                    ],
                    "scatterpolargl": [
                      {
                        "marker": {
                          "colorbar": {
                            "outlinewidth": 0,
                            "ticks": ""
                          }
                        },
                        "type": "scatterpolargl"
                      }
                    ],
                    "scatterternary": [
                      {
                        "marker": {
                          "colorbar": {
                            "outlinewidth": 0,
                            "ticks": ""
                          }
                        },
                        "type": "scatterternary"
                      }
                    ],
                    "surface": [
                      {
                        "colorbar": {
                          "outlinewidth": 0,
                          "ticks": ""
                        },
                        "colorscale": [
                          [
                            0,
                            "#0d0887"
                          ],
                          [
                            0.1111111111111111,
                            "#46039f"
                          ],
                          [
                            0.2222222222222222,
                            "#7201a8"
                          ],
                          [
                            0.3333333333333333,
                            "#9c179e"
                          ],
                          [
                            0.4444444444444444,
                            "#bd3786"
                          ],
                          [
                            0.5555555555555556,
                            "#d8576b"
                          ],
                          [
                            0.6666666666666666,
                            "#ed7953"
                          ],
                          [
                            0.7777777777777778,
                            "#fb9f3a"
                          ],
                          [
                            0.8888888888888888,
                            "#fdca26"
                          ],
                          [
                            1,
                            "#f0f921"
                          ]
                        ],
                        "type": "surface"
                      }
                    ],
                    "table": [
                      {
                        "cells": {
                          "fill": {
                            "color": "#EBF0F8"
                          },
                          "line": {
                            "color": "white"
                          }
                        },
                        "header": {
                          "fill": {
                            "color": "#C8D4E3"
                          },
                          "line": {
                            "color": "white"
                          }
                        },
                        "type": "table"
                      }
                    ]
                  },
                  "layout": {
                    "annotationdefaults": {
                      "arrowcolor": "#2a3f5f",
                      "arrowhead": 0,
                      "arrowwidth": 1
                    },
                    "autotypenumbers": "strict",
                    "coloraxis": {
                      "colorbar": {
                        "outlinewidth": 0,
                        "ticks": ""
                      }
                    },
                    "colorscale": {
                      "diverging": [
                        [
                          0,
                          "#8e0152"
                        ],
                        [
                          0.1,
                          "#c51b7d"
                        ],
                        [
                          0.2,
                          "#de77ae"
                        ],
                        [
                          0.3,
                          "#f1b6da"
                        ],
                        [
                          0.4,
                          "#fde0ef"
                        ],
                        [
                          0.5,
                          "#f7f7f7"
                        ],
                        [
                          0.6,
                          "#e6f5d0"
                        ],
                        [
                          0.7,
                          "#b8e186"
                        ],
                        [
                          0.8,
                          "#7fbc41"
                        ],
                        [
                          0.9,
                          "#4d9221"
                        ],
                        [
                          1,
                          "#276419"
                        ]
                      ],
                      "sequential": [
                        [
                          0,
                          "#0d0887"
                        ],
                        [
                          0.1111111111111111,
                          "#46039f"
                        ],
                        [
                          0.2222222222222222,
                          "#7201a8"
                        ],
                        [
                          0.3333333333333333,
                          "#9c179e"
                        ],
                        [
                          0.4444444444444444,
                          "#bd3786"
                        ],
                        [
                          0.5555555555555556,
                          "#d8576b"
                        ],
                        [
                          0.6666666666666666,
                          "#ed7953"
                        ],
                        [
                          0.7777777777777778,
                          "#fb9f3a"
                        ],
                        [
                          0.8888888888888888,
                          "#fdca26"
                        ],
                        [
                          1,
                          "#f0f921"
                        ]
                      ],
                      "sequentialminus": [
                        [
                          0,
                          "#0d0887"
                        ],
                        [
                          0.1111111111111111,
                          "#46039f"
                        ],
                        [
                          0.2222222222222222,
                          "#7201a8"
                        ],
                        [
                          0.3333333333333333,
                          "#9c179e"
                        ],
                        [
                          0.4444444444444444,
                          "#bd3786"
                        ],
                        [
                          0.5555555555555556,
                          "#d8576b"
                        ],
                        [
                          0.6666666666666666,
                          "#ed7953"
                        ],
                        [
                          0.7777777777777778,
                          "#fb9f3a"
                        ],
                        [
                          0.8888888888888888,
                          "#fdca26"
                        ],
                        [
                          1,
                          "#f0f921"
                        ]
                      ]
                    },
                    "colorway": [
                      "#636efa",
                      "#EF553B",
                      "#00cc96",
                      "#ab63fa",
                      "#FFA15A",
                      "#19d3f3",
                      "#FF6692",
                      "#B6E880",
                      "#FF97FF",
                      "#FECB52"
                    ],
                    "font": {
                      "color": "#2a3f5f"
                    },
                    "geo": {
                      "bgcolor": "white",
                      "lakecolor": "white",
                      "landcolor": "#E5ECF6",
                      "showlakes": true,
                      "showland": true,
                      "subunitcolor": "white"
                    },
                    "hoverlabel": {
                      "align": "left"
                    },
                    "hovermode": "closest",
                    "mapbox": {
                      "style": "light"
                    },
                    "paper_bgcolor": "white",
                    "plot_bgcolor": "#E5ECF6",
                    "polar": {
                      "angularaxis": {
                        "gridcolor": "white",
                        "linecolor": "white",
                        "ticks": ""
                      },
                      "bgcolor": "#E5ECF6",
                      "radialaxis": {
                        "gridcolor": "white",
                        "linecolor": "white",
                        "ticks": ""
                      }
                    },
                    "scene": {
                      "xaxis": {
                        "backgroundcolor": "#E5ECF6",
                        "gridcolor": "white",
                        "gridwidth": 2,
                        "linecolor": "white",
                        "showbackground": true,
                        "ticks": "",
                        "zerolinecolor": "white"
                      },
                      "yaxis": {
                        "backgroundcolor": "#E5ECF6",
                        "gridcolor": "white",
                        "gridwidth": 2,
                        "linecolor": "white",
                        "showbackground": true,
                        "ticks": "",
                        "zerolinecolor": "white"
                      },
                      "zaxis": {
                        "backgroundcolor": "#E5ECF6",
                        "gridcolor": "white",
                        "gridwidth": 2,
                        "linecolor": "white",
                        "showbackground": true,
                        "ticks": "",
                        "zerolinecolor": "white"
                      }
                    },
                    "shapedefaults": {
                      "line": {
                        "color": "#2a3f5f"
                      }
                    },
                    "ternary": {
                      "aaxis": {
                        "gridcolor": "white",
                        "linecolor": "white",
                        "ticks": ""
                      },
                      "baxis": {
                        "gridcolor": "white",
                        "linecolor": "white",
                        "ticks": ""
                      },
                      "bgcolor": "#E5ECF6",
                      "caxis": {
                        "gridcolor": "white",
                        "linecolor": "white",
                        "ticks": ""
                      }
                    },
                    "title": {
                      "x": 0.05
                    },
                    "xaxis": {
                      "automargin": true,
                      "gridcolor": "white",
                      "linecolor": "white",
                      "ticks": "",
                      "title": {
                        "standoff": 15
                      },
                      "zerolinecolor": "white",
                      "zerolinewidth": 2
                    },
                    "yaxis": {
                      "automargin": true,
                      "gridcolor": "white",
                      "linecolor": "white",
                      "ticks": "",
                      "title": {
                        "standoff": 15
                      },
                      "zerolinecolor": "white",
                      "zerolinewidth": 2
                    }
                  }
                },
                "title": {
                  "text": "Bubble Chart: BAC Limit vs % Deaths Due to Alcohol (with size of bubble as Total Deaths)",
                  "x": 0.5
                },
                "xaxis": {
                  "anchor": "y",
                  "domain": [
                    0,
                    1
                  ],
                  "title": {
                    "text": "BAC Limit (g/dl)"
                  }
                },
                "yaxis": {
                  "anchor": "x",
                  "domain": [
                    0,
                    1
                  ],
                  "title": {
                    "text": "Percentage of Deaths Due to Alcohol"
                  }
                }
              }
            }
          },
          "metadata": {},
          "output_type": "display_data"
        }
      ],
      "source": [
        "# Bar plot for Number of countries vs Availability of funding for national road safety strategy\n",
        "import plotly.express as px\n",
        "import pandas as pd\n",
        "import numpy as np\n",
        "\n",
        "# The data is the rows with Type: Availability of funding for national road safety strategy\n",
        "# The data is in the form: - if there is no data\n",
        "# the rest are in the 3 class: - Not funded, - Partially funded, - Fully funded\n",
        "\n",
        "# We will use the number of countries in each class to make the bar plot\n",
        "# Filter the dataset for relevant types\n",
        "df_funding = df[df['Type'].isin(['Availability of funding for national road safety strategy'])]\n",
        "\n",
        "def extract_value(value):\n",
        "    if value == '−':\n",
        "        value = np.nan\n",
        "    else:\n",
        "        value = value\n",
        "\n",
        "    return value\n",
        "\n",
        "# Apply the function to the 'Availability of funding for national road safety strategy' values\n",
        "df_funding['Value'] = df_funding['Value'].apply(extract_value)\n",
        "# Drop nan\n",
        "df_funding.dropna(subset=['Value'], inplace=True)\n",
        "# reset index\n",
        "df_funding.reset_index(drop=True, inplace=True)\n",
        "#display(df_funding.head())\n",
        "\n",
        "# Bar plot for Number of countries vs Availability of funding for national road safety strategy\n",
        "# Create a new dataframe with the relevant columns\n",
        "funding_df = df_funding[['Country_Code', 'Country_Name', 'Value']].copy()\n",
        "funding_df.rename(columns={'Value': 'Funding'}, inplace=True)\n",
        "\n",
        "# Count the number of countries in each class\n",
        "funding_count = funding_df['Funding'].value_counts().reset_index()\n",
        "funding_count.columns = ['Funding', 'Count']\n",
        "\n",
        "# Make the bar plot using plotly express\n",
        "fig = px.bar(funding_count,\n",
        "             x='Funding',\n",
        "             y='Count',\n",
        "             title='Number of Countries vs Availability of Funding for National Road Safety Strategy',\n",
        "             labels={'Funding': 'Availability of Funding', 'Count': 'Number of Countries'},\n",
        "             color='Funding',\n",
        "             color_discrete_sequence=px.colors.qualitative.Plotly)\n",
        "fig.update_layout(title_x=0.5)  # Center the title\n",
        "fig.show()\n",
        "\n",
        "# Calculate the percentage of countries in each class\n",
        "funding_count['Percentage'] = (funding_count['Count'] / funding_count['Count'].sum()) * 100\n",
        "print(funding_count)\n",
        "\n",
        "# Using fig 1 but with color as funding\n",
        "\n",
        "# Modify the dataframe to include the funding information\n",
        "merged_df2 = merged_df.copy()\n",
        "merged_df2 = pd.merge(merged_df2, funding_df, on=['Country_Code', 'Country_Name'], how='inner')\n",
        "#display(merged_df2.head())  # Display the first few rows of the merged dataframe\n",
        "\n",
        "fig1 = px.scatter(\n",
        "    merged_df2,\n",
        "    x='Blood Alcohol Concentration (BAC) limit for drivers',\n",
        "    y='Attribution of road traffic deaths to alcohol (%)',\n",
        "    #size='Scaled Deaths',  # scaled size\n",
        "    color='Funding',  # each country gets a unique color\n",
        "    hover_name='Country_Name',\n",
        "    title='Bubble Chart: BAC Limit vs % Deaths Due to Alcohol (with size of bubble as Total Deaths)',\n",
        "    labels={\n",
        "        'Blood Alcohol Concentration (BAC) limit for drivers': 'BAC Limit (g/dl)',\n",
        "        'Attribution of road traffic deaths to alcohol (%)': 'Percentage of Deaths Due to Alcohol'\n",
        "    },\n",
        "    size_max=30,  # reduce max size\n",
        "    height=600,\n",
        ")\n",
        "fig1.update_traces(marker=dict(sizemode='diameter', opacity=0.7, line_width=1))\n",
        "fig1.update_layout(\n",
        "    title_x=0.5,\n",
        "    legend_title_text='Country',\n",
        "    showlegend=True  # set True if you want a clickable color legend\n",
        ")\n",
        "fig1.show()"
      ]
    },
    {
      "cell_type": "markdown",
      "id": "af6003f7",
      "metadata": {},
      "source": [
        "Again, we find no strong correlation between funding and alcohol-death percentage. Some funded countries do well, some don’t.\n",
        "\n",
        "This suggests that funding alone may not be the answer. Or maybe the funding is not being used effectively. "
      ]
    },
    {
      "cell_type": "markdown",
      "id": "6e504128",
      "metadata": {},
      "source": [
        "### Conclusion: Complexity on the Road\n",
        "\n",
        "Our journey reveals one thing clearly: there’s no one-size-fits-all answer.\n",
        "\n",
        "Laws, funding, and limits matter — but only as part of a broader, enforced, and culturally sensitive system.\n",
        "\n",
        "The road to safety is winding. But with data as our map, we’re one step closer to getting there."
      ]
    },
    {
      "cell_type": "code",
      "execution_count": null,
      "id": "754bbcd8",
      "metadata": {
        "id": "754bbcd8"
      },
      "outputs": [],
      "source": []
    }
  ],
  "metadata": {
    "colab": {
      "include_colab_link": true,
      "provenance": []
    },
    "kernelspec": {
      "display_name": "Python 3",
      "language": "python",
      "name": "python3"
    },
    "language_info": {
      "codemirror_mode": {
        "name": "ipython",
        "version": 3
      },
      "file_extension": ".py",
      "mimetype": "text/x-python",
      "name": "python",
      "nbconvert_exporter": "python",
      "pygments_lexer": "ipython3",
      "version": "3.12.2"
    }
  },
  "nbformat": 4,
  "nbformat_minor": 5
}
